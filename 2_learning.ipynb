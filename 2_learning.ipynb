{
  "nbformat": 4,
  "nbformat_minor": 0,
  "metadata": {
    "colab": {
      "name": "2_learning.ipynb",
      "provenance": [],
      "collapsed_sections": [],
      "authorship_tag": "ABX9TyNCNgmNgwyZRXGLDYRsz8He",
      "include_colab_link": true
    },
    "kernelspec": {
      "name": "python3",
      "display_name": "Python 3"
    },
    "language_info": {
      "name": "python"
    },
    "accelerator": "GPU"
  },
  "cells": [
    {
      "cell_type": "markdown",
      "metadata": {
        "id": "view-in-github",
        "colab_type": "text"
      },
      "source": [
        "<a href=\"https://colab.research.google.com/github/rusamentiaga/pytorch-test/blob/main/2_learning.ipynb\" target=\"_parent\"><img src=\"https://colab.research.google.com/assets/colab-badge.svg\" alt=\"Open In Colab\"/></a>"
      ]
    },
    {
      "cell_type": "code",
      "metadata": {
        "colab": {
          "base_uri": "https://localhost:8080/",
          "height": 36
        },
        "id": "liAYc8UFNlOY",
        "outputId": "979719c4-d7cf-443a-a13b-d61b0eee5c33"
      },
      "source": [
        "import matplotlib.pyplot as plt\n",
        "import torch\n",
        "torch.version.__version__"
      ],
      "execution_count": 92,
      "outputs": [
        {
          "output_type": "execute_result",
          "data": {
            "application/vnd.google.colaboratory.intrinsic+json": {
              "type": "string"
            },
            "text/plain": [
              "'1.8.0+cu101'"
            ]
          },
          "metadata": {
            "tags": []
          },
          "execution_count": 92
        }
      ]
    },
    {
      "cell_type": "code",
      "metadata": {
        "colab": {
          "base_uri": "https://localhost:8080/"
        },
        "id": "L1woY6pkNr4B",
        "outputId": "f9e97594-0cae-41d0-9d1e-8af4b7e4047b"
      },
      "source": [
        "torch.cuda.is_available()"
      ],
      "execution_count": 93,
      "outputs": [
        {
          "output_type": "execute_result",
          "data": {
            "text/plain": [
              "True"
            ]
          },
          "metadata": {
            "tags": []
          },
          "execution_count": 93
        }
      ]
    },
    {
      "cell_type": "code",
      "metadata": {
        "colab": {
          "base_uri": "https://localhost:8080/",
          "height": 283
        },
        "id": "wvu5JHu5OW5k",
        "outputId": "4150f59e-2a7d-4d76-cd1a-98a2a9c1c48a"
      },
      "source": [
        "torch.manual_seed(0)\n",
        "\n",
        "x = torch.tensor(range(100))\n",
        "W = 2\n",
        "B = 3\n",
        "y = W*x + B\n",
        "y = y + 10*(torch.rand(x.shape[0]) - 0.5)\n",
        "plt.plot(x,y)"
      ],
      "execution_count": 94,
      "outputs": [
        {
          "output_type": "execute_result",
          "data": {
            "text/plain": [
              "[<matplotlib.lines.Line2D at 0x7fa077dee090>]"
            ]
          },
          "metadata": {
            "tags": []
          },
          "execution_count": 94
        },
        {
          "output_type": "display_data",
          "data": {
            "image/png": "[encoded data removed]",
            "text/plain": [
              "<Figure size 432x288 with 1 Axes>"
            ]
          },
          "metadata": {
            "tags": [],
            "needs_background": "light"
          }
        }
      ]
    },
    {
      "cell_type": "code",
      "metadata": {
        "id": "ykMGY2H1PC3G"
      },
      "source": [
        "def model(x, w, b):\n",
        "  return w * x + b"
      ],
      "execution_count": 95,
      "outputs": []
    },
    {
      "cell_type": "code",
      "metadata": {
        "colab": {
          "base_uri": "https://localhost:8080/",
          "height": 283
        },
        "id": "9qDCg5sOPIgD",
        "outputId": "1a684db6-ed14-4a86-e63c-c0177135a85c"
      },
      "source": [
        "plt.plot(x,y)\n",
        "\n",
        "yp = model(x, W, B)\n",
        "plt.plot(x,yp)"
      ],
      "execution_count": 96,
      "outputs": [
        {
          "output_type": "execute_result",
          "data": {
            "text/plain": [
              "[<matplotlib.lines.Line2D at 0x7fa077bd6ed0>]"
            ]
          },
          "metadata": {
            "tags": []
          },
          "execution_count": 96
        },
        {
          "output_type": "display_data",
          "data": {
            "image/png": "[encoded data removed]",
            "text/plain": [
              "<Figure size 432x288 with 1 Axes>"
            ]
          },
          "metadata": {
            "tags": [],
            "needs_background": "light"
          }
        }
      ]
    },
    {
      "cell_type": "code",
      "metadata": {
        "id": "FImDcO4aPQbp"
      },
      "source": [
        "def loss_fn(yp, y):\n",
        "  squared_diffs = (yp - y)**2\n",
        "  return squared_diffs.mean()"
      ],
      "execution_count": 97,
      "outputs": []
    },
    {
      "cell_type": "code",
      "metadata": {
        "colab": {
          "base_uri": "https://localhost:8080/"
        },
        "id": "mgYTnjq-PbUl",
        "outputId": "5352c8c1-d6b5-489e-8181-38c0614b9a1a"
      },
      "source": [
        "loss_fn(yp, y)"
      ],
      "execution_count": 98,
      "outputs": [
        {
          "output_type": "execute_result",
          "data": {
            "text/plain": [
              "tensor(8.6010)"
            ]
          },
          "metadata": {
            "tags": []
          },
          "execution_count": 98
        }
      ]
    },
    {
      "cell_type": "code",
      "metadata": {
        "colab": {
          "base_uri": "https://localhost:8080/"
        },
        "id": "tOr6U6uDPnGW",
        "outputId": "49648552-b466-4259-c7f5-6a895f4fd7e0"
      },
      "source": [
        "y3 = model(x, W, B + .3)\n",
        "loss_fn(y3, y)"
      ],
      "execution_count": 99,
      "outputs": [
        {
          "output_type": "execute_result",
          "data": {
            "text/plain": [
              "tensor(8.7605)"
            ]
          },
          "metadata": {
            "tags": []
          },
          "execution_count": 99
        }
      ]
    },
    {
      "cell_type": "markdown",
      "metadata": {
        "id": "FIlzlQ_wSV8t"
      },
      "source": [
        "*   y = wx + b\n",
        "*   dy/dw = x\n",
        "*   dy/db = 1\n",
        "*   dloss/dw = dloss/dy * dy/dw\n",
        "*   dloss/db = dloss/dy * dy/db\n",
        "\n",
        "\n"
      ]
    },
    {
      "cell_type": "code",
      "metadata": {
        "id": "r-qU7ytFRnWL"
      },
      "source": [
        "def dy_dw(x, w, b):\n",
        "  return x\n",
        "\n",
        "def dy_db(x, w, b):\n",
        "  return 1.0\n",
        "\n",
        "def dloss_fn(yp, y):\n",
        "  dsq_diffs = 2 * (yp - y) / yp.size(0)\n",
        "  return dsq_diffs\n",
        "\n",
        "def grad_fn(x, y, yp, w, b):\n",
        "  dloss_dy = dloss_fn(yp, y)\n",
        "  dloss_dw = dloss_dy * dy_dw(x, w, b)\n",
        "  dloss_db = dloss_dy * dy_db(x, w, b)\n",
        "  return (dloss_dw.sum(), dloss_db.sum())"
      ],
      "execution_count": 100,
      "outputs": []
    },
    {
      "cell_type": "code",
      "metadata": {
        "id": "aFkQyAanQxHn"
      },
      "source": [
        "def training_loop(n_epochs, learning_rate, wp, bp, x, y):\n",
        "\n",
        "  loss_epochs = []\n",
        "  for epoch in range(n_epochs):\n",
        "      # Computes our model's predicted output\n",
        "      yp = model(x, wp, bp)\n",
        "      \n",
        "      # How wrong is our model? That's the error! \n",
        "      loss = loss_fn(yp, y)\n",
        "      loss_epochs.append(loss)\n",
        "\n",
        "      (wp_grad, bp_grad) = grad_fn(x, y, yp, wp, bp)\n",
        "    \n",
        "      # Updates parameters using gradients and the learning rate\n",
        "      wp = wp - learning_rate * wp_grad\n",
        "      bp = bp - learning_rate * bp_grad\n",
        "\n",
        "      if epoch+1 in (1, 2, 3, 4, 5, 10, 100, 500, 1000, 5000, 10000):\n",
        "        print(f'Epoch {epoch+1}, Loss {loss}, wp_grad: {wp_grad}, bp_grad: {bp_grad}')\n",
        "    \n",
        "  return (wp, bp, loss_epochs)"
      ],
      "execution_count": 101,
      "outputs": []
    },
    {
      "cell_type": "code",
      "metadata": {
        "colab": {
          "base_uri": "https://localhost:8080/"
        },
        "id": "xwGpwYHzp0Me",
        "outputId": "c05b3d32-beb6-45e9-9588-394644fbbae5"
      },
      "source": [
        "(wp, bp, loss) = training_loop(n_epochs = 1000, \n",
        "              learning_rate = 1e-2,\n",
        "              wp = 1,\n",
        "              bp = 1,\n",
        "              x = x,\n",
        "              y = y)"
      ],
      "execution_count": 102,
      "outputs": [
        {
          "output_type": "stream",
          "text": [
            "Epoch 1, Loss 3491.89306640625, wp_grad: -6763.255859375, bp_grad: -102.76838684082031\n",
            "Epoch 2, Loss 14572118.0, wp_grad: 437481.5, bp_grad: 6594.91015625\n",
            "Epoch 3, Loss 60971732992.0, wp_grad: -28298460.0, bp_grad: -426643.625\n",
            "Epoch 4, Loss 255114279387136.0, wp_grad: 1830483712.0, bp_grad: 27597362.0\n",
            "Epoch 5, Loss 1.0674335821940654e+18, wp_grad: -118404694016.0, bp_grad: -1785133312.0\n",
            "Epoch 10, Loss 1.3688997551443584e+36, wp_grad: 1.3408626104393427e+20, bp_grad: 2.0215571310266286e+18\n",
            "Epoch 100, Loss nan, wp_grad: nan, bp_grad: nan\n",
            "Epoch 500, Loss nan, wp_grad: nan, bp_grad: nan\n",
            "Epoch 1000, Loss nan, wp_grad: nan, bp_grad: nan\n"
          ],
          "name": "stdout"
        }
      ]
    },
    {
      "cell_type": "code",
      "metadata": {
        "colab": {
          "base_uri": "https://localhost:8080/"
        },
        "id": "3LIctvJfoapr",
        "outputId": "6b307765-0f7d-4b75-e173-1238843997a8"
      },
      "source": [
        "(wp, bp, loss) = training_loop(n_epochs = 10000, \n",
        "              learning_rate = 1e-4,\n",
        "              wp = 1,\n",
        "              bp = 1,\n",
        "              x = x,\n",
        "              y = y)"
      ],
      "execution_count": 103,
      "outputs": [
        {
          "output_type": "stream",
          "text": [
            "Epoch 1, Loss 3491.89306640625, wp_grad: -6763.255859375, bp_grad: -102.76838684082031\n",
            "Epoch 2, Loss 419.2891540527344, wp_grad: -2320.80859375, bp_grad: -35.79161071777344\n",
            "Epoch 3, Loss 57.482444763183594, wp_grad: -796.37939453125, bp_grad: -12.808448791503906\n",
            "Epoch 4, Loss 14.878763198852539, wp_grad: -273.2704162597656, bp_grad: -4.921734809875488\n",
            "Epoch 5, Loss 9.862009048461914, wp_grad: -93.76502227783203, bp_grad: -2.215372085571289\n",
            "Epoch 10, Loss 9.192130088806152, wp_grad: -0.43365478515625, bp_grad: -0.8080571889877319\n",
            "Epoch 100, Loss 9.186361312866211, wp_grad: 0.01206207275390625, bp_grad: -0.7976835370063782\n",
            "Epoch 500, Loss 9.16141414642334, wp_grad: 0.010945320129394531, bp_grad: -0.781667947769165\n",
            "Epoch 1000, Loss 9.131614685058594, wp_grad: 0.01105499267578125, bp_grad: -0.7620790004730225\n",
            "Epoch 5000, Loss 8.940637588500977, wp_grad: 0.009258270263671875, bp_grad: -0.6220826506614685\n",
            "Epoch 10000, Loss 8.788850784301758, wp_grad: 0.008399009704589844, bp_grad: -0.48266398906707764\n"
          ],
          "name": "stdout"
        }
      ]
    },
    {
      "cell_type": "code",
      "metadata": {
        "colab": {
          "base_uri": "https://localhost:8080/",
          "height": 283
        },
        "id": "8tTh1ZBw6jzN",
        "outputId": "7cdd61df-52db-4f26-b99c-6cc61c5ed426"
      },
      "source": [
        "plt.semilogy(loss[1:50])"
      ],
      "execution_count": 104,
      "outputs": [
        {
          "output_type": "execute_result",
          "data": {
            "text/plain": [
              "[<matplotlib.lines.Line2D at 0x7fa077a9da50>]"
            ]
          },
          "metadata": {
            "tags": []
          },
          "execution_count": 104
        },
        {
          "output_type": "display_data",
          "data": {
            "image/png": "[encoded data removed]",
            "text/plain": [
              "<Figure size 432x288 with 1 Axes>"
            ]
          },
          "metadata": {
            "tags": [],
            "needs_background": "light"
          }
        }
      ]
    },
    {
      "cell_type": "code",
      "metadata": {
        "colab": {
          "base_uri": "https://localhost:8080/",
          "height": 283
        },
        "id": "2TICsyVve0T9",
        "outputId": "7833b7b2-437c-476e-d4a6-9b18b1ac4c7a"
      },
      "source": [
        "plt.plot(x,y)\n",
        "\n",
        "yp = model(x, wp, bp)\n",
        "plt.plot(x, yp)"
      ],
      "execution_count": 105,
      "outputs": [
        {
          "output_type": "execute_result",
          "data": {
            "text/plain": [
              "[<matplotlib.lines.Line2D at 0x7fa0779dde10>]"
            ]
          },
          "metadata": {
            "tags": []
          },
          "execution_count": 105
        },
        {
          "output_type": "display_data",
          "data": {
            "image/png": "[encoded data removed]",
            "text/plain": [
              "<Figure size 432x288 with 1 Axes>"
            ]
          },
          "metadata": {
            "tags": [],
            "needs_background": "light"
          }
        }
      ]
    },
    {
      "cell_type": "code",
      "metadata": {
        "colab": {
          "base_uri": "https://localhost:8080/"
        },
        "id": "A8L4FKLggymY",
        "outputId": "3cff6c70-1843-4112-bc4b-6fe86c071659"
      },
      "source": [
        "(wp, bp, loss) = training_loop(n_epochs = 1000, \n",
        "              learning_rate = 1e-2,\n",
        "              wp = 1,\n",
        "              bp = 1,\n",
        "              x = x*0.1,\n",
        "              y = y)"
      ],
      "execution_count": 106,
      "outputs": [
        {
          "output_type": "stream",
          "text": [
            "Epoch 1, Loss 12238.45703125, wp_grad: -1267.3555908203125, bp_grad: -191.86839294433594\n",
            "Epoch 2, Loss 1326.7628173828125, wp_grad: -416.088134765625, bp_grad: -62.56282043457031\n",
            "Epoch 3, Loss 150.96116638183594, wp_grad: -136.6494140625, bp_grad: -20.11884117126465\n",
            "Epoch 4, Loss 24.25811195373535, wp_grad: -44.9200439453125, bp_grad: -6.188183307647705\n",
            "Epoch 5, Loss 10.60157585144043, wp_grad: -14.808431625366211, bp_grad: -1.6173384189605713\n",
            "Epoch 10, Loss 8.933691024780273, wp_grad: -0.14766216278076172, bp_grad: 0.5941300392150879\n",
            "Epoch 100, Loss 8.712175369262695, wp_grad: -0.05856895446777344, bp_grad: 0.38515758514404297\n",
            "Epoch 500, Loss 8.56208610534668, wp_grad: -0.00793468952178955, bp_grad: 0.05267852544784546\n",
            "Epoch 1000, Loss 8.559248924255371, wp_grad: -0.0006420016288757324, bp_grad: 0.004382655024528503\n"
          ],
          "name": "stdout"
        }
      ]
    },
    {
      "cell_type": "code",
      "metadata": {
        "colab": {
          "base_uri": "https://localhost:8080/"
        },
        "id": "F-sPfbgFrkBL",
        "outputId": "d14ecb0d-78b1-4e4e-f3b1-5f7b876eaf00"
      },
      "source": [
        "from sklearn.linear_model import LinearRegression\n",
        "import numpy\n",
        "linr = LinearRegression()\n",
        "xnp = x.numpy().reshape((-1, 1))\n",
        "ynp = y.numpy()\n",
        "linr.fit(xnp, ynp)\n",
        "print(linr.intercept_, linr.coef_[0])\n",
        "\n",
        "yp = model(x, linr.coef_[0], linr.intercept_)\n",
        "     \n",
        "# How wrong is our model? That's the error! \n",
        "loss = loss_fn(yp, y)\n",
        "\n",
        "print(loss)"
      ],
      "execution_count": 107,
      "outputs": [
        {
          "output_type": "stream",
          "text": [
            "2.5954728104808567 2.005832774851582\n",
            "tensor(8.5592)\n"
          ],
          "name": "stdout"
        }
      ]
    },
    {
      "cell_type": "code",
      "metadata": {
        "colab": {
          "base_uri": "https://localhost:8080/"
        },
        "id": "It6c0WdXr21M",
        "outputId": "10af3e74-73b2-4f37-8466-29ddcf464a08"
      },
      "source": [
        "def training_loop_grad(n_epochs, learning_rate, wp, bp, x, y):\n",
        "\n",
        "  wp = torch.tensor(wp, requires_grad=True, dtype=torch.float)\n",
        "  bp = torch.tensor(bp, requires_grad=True, dtype=torch.float)\n",
        "\n",
        "  for epoch in range(n_epochs):\n",
        "      # Computes our model's predicted output\n",
        "      yp = model(x, wp, bp)\n",
        "      \n",
        "      # How wrong is our model? That's the error! \n",
        "      loss = loss_fn(yp, y)\n",
        "      loss.backward()\n",
        "\n",
        "      # no_grad sirve para que pytorch no tenga en cuenta esta operación en el cáluclo del gradiente\n",
        "      with torch.no_grad():\n",
        "        wp -= learning_rate * wp.grad\n",
        "        bp -= learning_rate * bp.grad\n",
        "\n",
        "      if epoch+1 in (1, 2, 3, 4, 5, 10, 100, 500, 1000, 5000, 10000):\n",
        "        print(f'Epoch {epoch+1}, Loss {loss}, wp_grad: {wp.grad}, bp_grad: {bp.grad}')\n",
        "\n",
        "      wp.grad.zero_()\n",
        "      bp.grad.zero_()\n",
        "    \n",
        "  return (wp, bp)\n",
        "\n",
        "\n",
        "(wp, bp) = training_loop_grad(n_epochs = 1000, \n",
        "              learning_rate = 1e-4,\n",
        "              wp = 1.0,\n",
        "              bp = 1.0,\n",
        "              x = x,\n",
        "              y = y)"
      ],
      "execution_count": 108,
      "outputs": [
        {
          "output_type": "stream",
          "text": [
            "Epoch 1, Loss 3491.89306640625, wp_grad: -6763.25537109375, bp_grad: -102.76837921142578\n",
            "Epoch 2, Loss 419.2891540527344, wp_grad: -2320.808349609375, bp_grad: -35.791603088378906\n",
            "Epoch 3, Loss 57.482444763183594, wp_grad: -796.3792724609375, bp_grad: -12.808448791503906\n",
            "Epoch 4, Loss 14.878763198852539, wp_grad: -273.2704162597656, bp_grad: -4.921734809875488\n",
            "Epoch 5, Loss 9.862009048461914, wp_grad: -93.76502227783203, bp_grad: -2.215372085571289\n",
            "Epoch 10, Loss 9.192130088806152, wp_grad: -0.43365478515625, bp_grad: -0.8080571889877319\n",
            "Epoch 100, Loss 9.186361312866211, wp_grad: 0.012063980102539062, bp_grad: -0.7976834774017334\n",
            "Epoch 500, Loss 9.16141414642334, wp_grad: 0.010945320129394531, bp_grad: -0.7816678881645203\n",
            "Epoch 1000, Loss 9.131614685058594, wp_grad: 0.011056900024414062, bp_grad: -0.7620788812637329\n"
          ],
          "name": "stdout"
        }
      ]
    },
    {
      "cell_type": "code",
      "metadata": {
        "colab": {
          "base_uri": "https://localhost:8080/"
        },
        "id": "ZwC2WlOszlli",
        "outputId": "834d5f2d-cdae-4dec-fc6d-a865a05cc37e"
      },
      "source": [
        "!pip install torchviz"
      ],
      "execution_count": 109,
      "outputs": [
        {
          "output_type": "stream",
          "text": [
            "Requirement already satisfied: torchviz in /usr/local/lib/python3.7/dist-packages (0.0.1)\n",
            "Requirement already satisfied: torch in /usr/local/lib/python3.7/dist-packages (from torchviz) (1.8.0+cu101)\n",
            "Requirement already satisfied: graphviz in /usr/local/lib/python3.7/dist-packages (from torchviz) (0.10.1)\n",
            "Requirement already satisfied: numpy in /usr/local/lib/python3.7/dist-packages (from torch->torchviz) (1.19.5)\n",
            "Requirement already satisfied: typing-extensions in /usr/local/lib/python3.7/dist-packages (from torch->torchviz) (3.7.4.3)\n"
          ],
          "name": "stdout"
        }
      ]
    },
    {
      "cell_type": "code",
      "metadata": {
        "colab": {
          "base_uri": "https://localhost:8080/",
          "height": 477
        },
        "id": "_9ecUYzO1LsQ",
        "outputId": "ced9adca-9d20-428f-b828-6cc5ac60383c"
      },
      "source": [
        "import torchviz\n",
        "\n",
        "w = torch.randn(1, requires_grad=True, dtype=torch.float)\n",
        "b = torch.randn(1, requires_grad=True, dtype=torch.float)\n",
        "\n",
        "yp = x * w + b\n",
        "error = yp - y\n",
        "loss = (error ** 2).mean()\n",
        "\n",
        "torchviz.make_dot(loss)"
      ],
      "execution_count": 110,
      "outputs": [
        {
          "output_type": "execute_result",
          "data": {
            "text/plain": [
              "<graphviz.dot.Digraph at 0x7fa0779d5710>"
            ],
            "image/svg+xml": "<?xml version=\"1.0\" encoding=\"UTF-8\" standalone=\"no\"?>\n<!DOCTYPE svg PUBLIC \"-//W3C//DTD SVG 1.1//EN\"\n \"http://www.w3.org/Graphics/SVG/1.1/DTD/svg11.dtd\">\n<!-- Generated by graphviz version 2.40.1 (20161225.0304)\n -->\n<!-- Title: %3 Pages: 1 -->\n<svg width=\"172pt\" height=\"342pt\"\n viewBox=\"0.00 0.00 171.50 342.00\" xmlns=\"http://www.w3.org/2000/svg\" xmlns:xlink=\"http://www.w3.org/1999/xlink\">\n<g id=\"graph0\" class=\"graph\" transform=\"scale(1 1) rotate(0) translate(4 338)\">\n<title>%3</title>\n<polygon fill=\"#ffffff\" stroke=\"transparent\" points=\"-4,4 -4,-338 167.5,-338 167.5,4 -4,4\"/>\n<!-- 140327178295504 -->\n<g id=\"node1\" class=\"node\">\n<title>140327178295504</title>\n<polygon fill=\"#caff70\" stroke=\"#000000\" points=\"139.5,-21 41.5,-21 41.5,0 139.5,0 139.5,-21\"/>\n<text text-anchor=\"middle\" x=\"90.5\" y=\"-7.4\" font-family=\"Times,serif\" font-size=\"12.00\" fill=\"#000000\">MeanBackward0</text>\n</g>\n<!-- 140327178295760 -->\n<g id=\"node2\" class=\"node\">\n<title>140327178295760</title>\n<polygon fill=\"#d3d3d3\" stroke=\"#000000\" points=\"137,-78 44,-78 44,-57 137,-57 137,-78\"/>\n<text text-anchor=\"middle\" x=\"90.5\" y=\"-64.4\" font-family=\"Times,serif\" font-size=\"12.00\" fill=\"#000000\">PowBackward0</text>\n</g>\n<!-- 140327178295760&#45;&gt;140327178295504 -->\n<g id=\"edge1\" class=\"edge\">\n<title>140327178295760&#45;&gt;140327178295504</title>\n<path fill=\"none\" stroke=\"#000000\" d=\"M90.5,-56.7787C90.5,-49.6134 90.5,-39.9517 90.5,-31.3097\"/>\n<polygon fill=\"#000000\" stroke=\"#000000\" points=\"94.0001,-31.1732 90.5,-21.1732 87.0001,-31.1732 94.0001,-31.1732\"/>\n</g>\n<!-- 140327178293904 -->\n<g id=\"node3\" class=\"node\">\n<title>140327178293904</title>\n<polygon fill=\"#d3d3d3\" stroke=\"#000000\" points=\"135.5,-135 45.5,-135 45.5,-114 135.5,-114 135.5,-135\"/>\n<text text-anchor=\"middle\" x=\"90.5\" y=\"-121.4\" font-family=\"Times,serif\" font-size=\"12.00\" fill=\"#000000\">SubBackward0</text>\n</g>\n<!-- 140327178293904&#45;&gt;140327178295760 -->\n<g id=\"edge2\" class=\"edge\">\n<title>140327178293904&#45;&gt;140327178295760</title>\n<path fill=\"none\" stroke=\"#000000\" d=\"M90.5,-113.7787C90.5,-106.6134 90.5,-96.9517 90.5,-88.3097\"/>\n<polygon fill=\"#000000\" stroke=\"#000000\" points=\"94.0001,-88.1732 90.5,-78.1732 87.0001,-88.1732 94.0001,-88.1732\"/>\n</g>\n<!-- 140327178294544 -->\n<g id=\"node4\" class=\"node\">\n<title>140327178294544</title>\n<polygon fill=\"#d3d3d3\" stroke=\"#000000\" points=\"136.5,-192 44.5,-192 44.5,-171 136.5,-171 136.5,-192\"/>\n<text text-anchor=\"middle\" x=\"90.5\" y=\"-178.4\" font-family=\"Times,serif\" font-size=\"12.00\" fill=\"#000000\">AddBackward0</text>\n</g>\n<!-- 140327178294544&#45;&gt;140327178293904 -->\n<g id=\"edge3\" class=\"edge\">\n<title>140327178294544&#45;&gt;140327178293904</title>\n<path fill=\"none\" stroke=\"#000000\" d=\"M90.5,-170.7787C90.5,-163.6134 90.5,-153.9517 90.5,-145.3097\"/>\n<polygon fill=\"#000000\" stroke=\"#000000\" points=\"94.0001,-145.1732 90.5,-135.1732 87.0001,-145.1732 94.0001,-145.1732\"/>\n</g>\n<!-- 140327180583248 -->\n<g id=\"node5\" class=\"node\">\n<title>140327180583248</title>\n<polygon fill=\"#d3d3d3\" stroke=\"#000000\" points=\"91,-256 0,-256 0,-235 91,-235 91,-256\"/>\n<text text-anchor=\"middle\" x=\"45.5\" y=\"-242.4\" font-family=\"Times,serif\" font-size=\"12.00\" fill=\"#000000\">MulBackward0</text>\n</g>\n<!-- 140327180583248&#45;&gt;140327178294544 -->\n<g id=\"edge4\" class=\"edge\">\n<title>140327180583248&#45;&gt;140327178294544</title>\n<path fill=\"none\" stroke=\"#000000\" d=\"M52.9308,-234.9317C59.4705,-225.6309 69.1534,-211.8597 77.0509,-200.6276\"/>\n<polygon fill=\"#000000\" stroke=\"#000000\" points=\"80.019,-202.4914 82.9077,-192.2979 74.2928,-198.4651 80.019,-202.4914\"/>\n</g>\n<!-- 140327184014544 -->\n<g id=\"node6\" class=\"node\">\n<title>140327184014544</title>\n<polygon fill=\"#add8e6\" stroke=\"#000000\" points=\"72.5,-334 18.5,-334 18.5,-299 72.5,-299 72.5,-334\"/>\n<text text-anchor=\"middle\" x=\"45.5\" y=\"-306.4\" font-family=\"Times,serif\" font-size=\"12.00\" fill=\"#000000\"> (1)</text>\n</g>\n<!-- 140327184014544&#45;&gt;140327180583248 -->\n<g id=\"edge5\" class=\"edge\">\n<title>140327184014544&#45;&gt;140327180583248</title>\n<path fill=\"none\" stroke=\"#000000\" d=\"M45.5,-298.9494C45.5,-289.058 45.5,-276.6435 45.5,-266.2693\"/>\n<polygon fill=\"#000000\" stroke=\"#000000\" points=\"49.0001,-266.0288 45.5,-256.0288 42.0001,-266.0289 49.0001,-266.0288\"/>\n</g>\n<!-- 140327178541648 -->\n<g id=\"node7\" class=\"node\">\n<title>140327178541648</title>\n<polygon fill=\"#add8e6\" stroke=\"#000000\" points=\"163.5,-263 109.5,-263 109.5,-228 163.5,-228 163.5,-263\"/>\n<text text-anchor=\"middle\" x=\"136.5\" y=\"-235.4\" font-family=\"Times,serif\" font-size=\"12.00\" fill=\"#000000\"> (1)</text>\n</g>\n<!-- 140327178541648&#45;&gt;140327178294544 -->\n<g id=\"edge6\" class=\"edge\">\n<title>140327178541648&#45;&gt;140327178294544</title>\n<path fill=\"none\" stroke=\"#000000\" d=\"M123.6864,-227.6724C117.6095,-219.2176 110.3436,-209.1085 104.1618,-200.5078\"/>\n<polygon fill=\"#000000\" stroke=\"#000000\" points=\"106.8859,-198.3009 98.2075,-192.2234 101.2018,-202.3863 106.8859,-198.3009\"/>\n</g>\n</g>\n</svg>\n"
          },
          "metadata": {
            "tags": []
          },
          "execution_count": 110
        }
      ]
    },
    {
      "cell_type": "code",
      "metadata": {
        "colab": {
          "base_uri": "https://localhost:8080/"
        },
        "id": "j2GAOsAZ2av6",
        "outputId": "820c2318-8717-4819-9593-fca0940b5083"
      },
      "source": [
        "def training_loop_optim(n_epochs, optimizer, wp, bp, x, y):\n",
        "\n",
        "  for epoch in range(n_epochs):\n",
        "      # Computes our model's predicted output\n",
        "      yp = model(x, wp, bp)\n",
        "      \n",
        "      # How wrong is our model? That's the error! \n",
        "      loss = loss_fn(yp, y)\n",
        "      loss.backward()\n",
        "\n",
        "      optimizer.step()\n",
        "\n",
        "      if epoch+1 in (1, 2, 3, 4, 5, 10, 100, 500, 1000, 5000, 10000):\n",
        "        print(f'Epoch {epoch+1}, Loss {loss}, wp_grad: {wp.grad}, bp_grad: {bp.grad}')\n",
        "\n",
        "      optimizer.zero_grad()\n",
        "    \n",
        "  return (wp, bp)\n",
        "\n",
        "learning_rate = 1e-4\n",
        "\n",
        "wp = torch.tensor(1, requires_grad=True, dtype=torch.float)\n",
        "bp = torch.tensor(1, requires_grad=True, dtype=torch.float)\n",
        "\n",
        "optimizer = torch.optim.SGD([wp, bp], lr=learning_rate)\n",
        "\n",
        "(wp, bp) = training_loop_optim(n_epochs = 1000, \n",
        "              optimizer = optimizer,\n",
        "              wp = wp,\n",
        "              bp = bp,\n",
        "              x = x,\n",
        "              y = y)"
      ],
      "execution_count": 111,
      "outputs": [
        {
          "output_type": "stream",
          "text": [
            "Epoch 1, Loss 3491.89306640625, wp_grad: -6763.25537109375, bp_grad: -102.76837921142578\n",
            "Epoch 2, Loss 419.2891540527344, wp_grad: -2320.808349609375, bp_grad: -35.791603088378906\n",
            "Epoch 3, Loss 57.482444763183594, wp_grad: -796.3792724609375, bp_grad: -12.808448791503906\n",
            "Epoch 4, Loss 14.878763198852539, wp_grad: -273.2704162597656, bp_grad: -4.921734809875488\n",
            "Epoch 5, Loss 9.862009048461914, wp_grad: -93.76502227783203, bp_grad: -2.215372085571289\n",
            "Epoch 10, Loss 9.192130088806152, wp_grad: -0.43365478515625, bp_grad: -0.8080571889877319\n",
            "Epoch 100, Loss 9.186361312866211, wp_grad: 0.012063980102539062, bp_grad: -0.7976834774017334\n",
            "Epoch 500, Loss 9.16141414642334, wp_grad: 0.010945320129394531, bp_grad: -0.7816678881645203\n",
            "Epoch 1000, Loss 9.131614685058594, wp_grad: 0.011056900024414062, bp_grad: -0.7620788812637329\n"
          ],
          "name": "stdout"
        }
      ]
    },
    {
      "cell_type": "code",
      "metadata": {
        "colab": {
          "base_uri": "https://localhost:8080/"
        },
        "id": "OiR69Dyt4Iew",
        "outputId": "23b4dbe7-8364-4757-ee53-da52e99d219d"
      },
      "source": [
        "learning_rate = 1e-1\n",
        "\n",
        "wp = torch.tensor(1, requires_grad=True, dtype=torch.float)\n",
        "bp = torch.tensor(1, requires_grad=True, dtype=torch.float)\n",
        "\n",
        "optimizer = torch.optim.Adam([wp, bp], lr=learning_rate)\n",
        "\n",
        "(wp, bp) = training_loop_optim(n_epochs = 1000, \n",
        "              optimizer = optimizer,\n",
        "              wp = wp,\n",
        "              bp = bp,\n",
        "              x = x,\n",
        "              y = y)"
      ],
      "execution_count": 112,
      "outputs": [
        {
          "output_type": "stream",
          "text": [
            "Epoch 1, Loss 3491.89306640625, wp_grad: -6763.25537109375, bp_grad: -102.76837921142578\n",
            "Epoch 2, Loss 2839.1259765625, wp_grad: -6096.6552734375, bp_grad: -92.66838836669922\n",
            "Epoch 3, Loss 2256.255859375, wp_grad: -5432.74755859375, bp_grad: -82.60918426513672\n",
            "Epoch 4, Loss 1744.1195068359375, wp_grad: -4773.8076171875, bp_grad: -72.625244140625\n",
            "Epoch 5, Loss 1302.919921875, wp_grad: -4122.5400390625, bp_grad: -62.757545471191406\n",
            "Epoch 10, Loss 102.81088256835938, wp_grad: -1111.7730712890625, bp_grad: -17.139726638793945\n",
            "Epoch 100, Loss 8.628947257995605, wp_grad: -8.459798812866211, bp_grad: -0.3829543888568878\n",
            "Epoch 500, Loss 8.561346054077148, wp_grad: 0.04411125183105469, bp_grad: -0.04572838544845581\n",
            "Epoch 1000, Loss 8.55922794342041, wp_grad: 0.0007381439208984375, bp_grad: -0.0008340030908584595\n"
          ],
          "name": "stdout"
        }
      ]
    },
    {
      "cell_type": "code",
      "metadata": {
        "colab": {
          "base_uri": "https://localhost:8080/",
          "height": 299
        },
        "id": "HvgcdMHX83Hl",
        "outputId": "fb2eddec-9f72-43a3-b871-3ceaa98d01e0"
      },
      "source": [
        "plt.plot(x,y)\n",
        "\n",
        "yp = model(x, wp, bp)\n",
        "plt.plot(x, yp.detach().numpy())\n",
        "plt.title(f'Model: y = x*{wp} + {bp}')"
      ],
      "execution_count": 113,
      "outputs": [
        {
          "output_type": "execute_result",
          "data": {
            "text/plain": [
              "Text(0.5, 1.0, 'Model: y = x*2.0058577060699463 + 2.593824625015259')"
            ]
          },
          "metadata": {
            "tags": []
          },
          "execution_count": 113
        },
        {
          "output_type": "display_data",
          "data": {
            "image/png": "[encoded data removed]",
            "text/plain": [
              "<Figure size 432x288 with 1 Axes>"
            ]
          },
          "metadata": {
            "tags": [],
            "needs_background": "light"
          }
        }
      ]
    }
  ]
}