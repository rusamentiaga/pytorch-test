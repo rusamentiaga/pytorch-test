{
  "nbformat": 4,
  "nbformat_minor": 0,
  "metadata": {
    "colab": {
      "name": "2_learning.ipynb",
      "provenance": [],
      "collapsed_sections": [],
      "authorship_tag": "ABX9TyOywbP+qnddTTW/3i06ZHJ6",
      "include_colab_link": true
    },
    "kernelspec": {
      "name": "python3",
      "display_name": "Python 3"
    },
    "language_info": {
      "name": "python"
    },
    "accelerator": "GPU"
  },
  "cells": [
    {
      "cell_type": "markdown",
      "metadata": {
        "id": "view-in-github",
        "colab_type": "text"
      },
      "source": [
        "<a href=\"https://colab.research.google.com/github/rusamentiaga/pytorch-test/blob/main/2_learning.ipynb\" target=\"_parent\"><img src=\"https://colab.research.google.com/assets/colab-badge.svg\" alt=\"Open In Colab\"/></a>"
      ]
    },
    {
      "cell_type": "markdown",
      "metadata": {
        "id": "NarO1rYBnxRA"
      },
      "source": [
        "# Aprendizaje automático\n",
        "\n",
        "El aprendizaje automático en un computador permite responder ante nuevas entradas de la manera esperada. Una de las formas más habituales utilizadas hoy en día es el aprendizaje mediante ejemplos, donde se construye un modelo que permite relacionar las entradas y las salidas. De esta forma, posteriormente se puede responder ante nuevas entradas mediante la información almacenada en el modelo. Esta forma de aprendizaje se denomina supervisada cuando los ejemplos están etiquetados, es decir, donde cada entrada tiene asociada una salida esperada.\n",
        "\n",
        "Para entender este proceso se va a realizar un ejemplo de estimación de un modelo lineal.\n"
      ]
    },
    {
      "cell_type": "markdown",
      "metadata": {
        "id": "bjxQXaWHplv1"
      },
      "source": [
        "# Generación de los datos\n",
        "\n",
        "En primer lugar se va a generar unos datos usando PyTorch."
      ]
    },
    {
      "cell_type": "code",
      "metadata": {
        "colab": {
          "base_uri": "https://localhost:8080/",
          "height": 36
        },
        "id": "liAYc8UFNlOY",
        "outputId": "57d2934a-c9a2-4ae3-bbf9-7e9bc7b32f15"
      },
      "source": [
        "import matplotlib.pyplot as plt\n",
        "import torch\n",
        "torch.version.__version__"
      ],
      "execution_count": 2,
      "outputs": [
        {
          "output_type": "execute_result",
          "data": {
            "application/vnd.google.colaboratory.intrinsic+json": {
              "type": "string"
            },
            "text/plain": [
              "'1.8.0+cu101'"
            ]
          },
          "metadata": {
            "tags": []
          },
          "execution_count": 2
        }
      ]
    },
    {
      "cell_type": "code",
      "metadata": {
        "colab": {
          "base_uri": "https://localhost:8080/"
        },
        "id": "L1woY6pkNr4B",
        "outputId": "10ee3493-8ec2-4f60-cc8f-a37116e00890"
      },
      "source": [
        "torch.cuda.is_available()"
      ],
      "execution_count": 3,
      "outputs": [
        {
          "output_type": "execute_result",
          "data": {
            "text/plain": [
              "True"
            ]
          },
          "metadata": {
            "tags": []
          },
          "execution_count": 3
        }
      ]
    },
    {
      "cell_type": "markdown",
      "metadata": {
        "id": "ZiPirQ8Jpswr"
      },
      "source": [
        "Se generan unos datos a partir de una recta y luego se les añade ruido."
      ]
    },
    {
      "cell_type": "code",
      "metadata": {
        "colab": {
          "base_uri": "https://localhost:8080/",
          "height": 283
        },
        "id": "wvu5JHu5OW5k",
        "outputId": "c6a0e11c-c94c-43ea-cef7-8f4e4d7c487e"
      },
      "source": [
        "torch.manual_seed(0)\n",
        "\n",
        "x = torch.tensor(range(100))\n",
        "W = 2\n",
        "B = 3\n",
        "y = W*x + B\n",
        "y = y + 10*(torch.rand(x.shape[0]) - 0.5)\n",
        "plt.plot(x,y)"
      ],
      "execution_count": 4,
      "outputs": [
        {
          "output_type": "execute_result",
          "data": {
            "text/plain": [
              "[<matplotlib.lines.Line2D at 0x7faabd2d9610>]"
            ]
          },
          "metadata": {
            "tags": []
          },
          "execution_count": 4
        },
        {
          "output_type": "display_data",
          "data": {
            "image/png": "[encoded data removed]",
            "text/plain": [
              "<Figure size 432x288 with 1 Axes>"
            ]
          },
          "metadata": {
            "tags": [],
            "needs_background": "light"
          }
        }
      ]
    },
    {
      "cell_type": "markdown",
      "metadata": {
        "id": "vk1myubkpx1R"
      },
      "source": [
        "# Definición del modelo"
      ]
    },
    {
      "cell_type": "markdown",
      "metadata": {
        "id": "97GOHnTdqHSf"
      },
      "source": [
        "Un modelo es una función matemática que relaciona entradas y salidas. Además, cada modelo tendrá unos determinados parámetros. En este caso, el modelo de una línea recta es $y = wx + b$, por tanto los parámetros son $w$ y $b$."
      ]
    },
    {
      "cell_type": "code",
      "metadata": {
        "id": "ykMGY2H1PC3G"
      },
      "source": [
        "def model(x, w, b):\n",
        "  return w * x + b"
      ],
      "execution_count": 5,
      "outputs": []
    },
    {
      "cell_type": "markdown",
      "metadata": {
        "id": "HvOxihHqqwa3"
      },
      "source": [
        "El modelo se puede evaluar dadas unas entradas y unos parámetros."
      ]
    },
    {
      "cell_type": "code",
      "metadata": {
        "colab": {
          "base_uri": "https://localhost:8080/",
          "height": 283
        },
        "id": "9qDCg5sOPIgD",
        "outputId": "e31946ce-de86-4925-e4e0-a774bb7f8e3b"
      },
      "source": [
        "plt.plot(x,y)\n",
        "\n",
        "yp = model(x, 2.5, -20)\n",
        "plt.plot(x,yp)"
      ],
      "execution_count": 6,
      "outputs": [
        {
          "output_type": "execute_result",
          "data": {
            "text/plain": [
              "[<matplotlib.lines.Line2D at 0x7faabcd8d1d0>]"
            ]
          },
          "metadata": {
            "tags": []
          },
          "execution_count": 6
        },
        {
          "output_type": "display_data",
          "data": {
            "image/png": "[encoded data removed]",
            "text/plain": [
              "<Figure size 432x288 with 1 Axes>"
            ]
          },
          "metadata": {
            "tags": [],
            "needs_background": "light"
          }
        }
      ]
    },
    {
      "cell_type": "markdown",
      "metadata": {
        "id": "6oZDSjbLq0-_"
      },
      "source": [
        "# Función de pérdida"
      ]
    },
    {
      "cell_type": "markdown",
      "metadata": {
        "id": "D--AIhPdrCH8"
      },
      "source": [
        "Para determinar la precisión de un modelo se define una función de pérdida que determine la diferencia entre la predicción y la realidad. Lo más habitual es usar la diferencia cuadrática entre la predicción y la realidad. $MSE = \\frac{\\sum_i^N{(yp-y)^2}}{N}$"
      ]
    },
    {
      "cell_type": "code",
      "metadata": {
        "id": "FImDcO4aPQbp"
      },
      "source": [
        "def loss_fn(yp, y):\n",
        "  squared_diffs = (yp - y)**2\n",
        "  return squared_diffs.mean()"
      ],
      "execution_count": 7,
      "outputs": []
    },
    {
      "cell_type": "markdown",
      "metadata": {
        "id": "mGL4a6IHr1Hc"
      },
      "source": [
        "La función de pérdida nos permite determinar lo bien que se ajusta un modelo a los datos."
      ]
    },
    {
      "cell_type": "code",
      "metadata": {
        "colab": {
          "base_uri": "https://localhost:8080/"
        },
        "id": "mgYTnjq-PbUl",
        "outputId": "18381dfa-116e-45a5-fee7-0c9d1878662a"
      },
      "source": [
        "yp = model(x, 2.5, -20)\n",
        "loss_fn(yp, y)"
      ],
      "execution_count": 26,
      "outputs": [
        {
          "output_type": "execute_result",
          "data": {
            "text/plain": [
              "tensor(215.5211)"
            ]
          },
          "metadata": {
            "tags": []
          },
          "execution_count": 26
        }
      ]
    },
    {
      "cell_type": "markdown",
      "metadata": {
        "id": "CU2Jstztr9TT"
      },
      "source": [
        "Cuanto más cerca se esté del óptimo, menor será la pérdida."
      ]
    },
    {
      "cell_type": "code",
      "metadata": {
        "colab": {
          "base_uri": "https://localhost:8080/"
        },
        "id": "tOr6U6uDPnGW",
        "outputId": "ac02c88e-9f81-466d-90dd-a2e780ce9ab4"
      },
      "source": [
        "y3 = model(x, 2, 5)\n",
        "loss_fn(y3, y)"
      ],
      "execution_count": 27,
      "outputs": [
        {
          "output_type": "execute_result",
          "data": {
            "text/plain": [
              "tensor(13.0642)"
            ]
          },
          "metadata": {
            "tags": []
          },
          "execution_count": 27
        }
      ]
    },
    {
      "cell_type": "code",
      "metadata": {
        "id": "B1OGYgnhssZs"
      },
      "source": [
        ""
      ],
      "execution_count": null,
      "outputs": []
    },
    {
      "cell_type": "markdown",
      "metadata": {
        "id": "-RK4iAs8rQ9Z"
      },
      "source": [
        "# Entrenamiento con descenso del gradiente"
      ]
    },
    {
      "cell_type": "markdown",
      "metadata": {
        "id": "EzMMkloEsmB-"
      },
      "source": [
        "Entrenar el modelo consiste en estimar los parámetros óptimos del modelo para unos determinados datos."
      ]
    },
    {
      "cell_type": "markdown",
      "metadata": {
        "id": "Au8g_l9Es0hJ"
      },
      "source": [
        "## Inicialización del modelo"
      ]
    },
    {
      "cell_type": "markdown",
      "metadata": {
        "id": "FIlzlQ_wSV8t"
      },
      "source": [
        "*   y = wx + b\n",
        "*   dy/dw = x\n",
        "*   dy/db = 1\n",
        "*   dloss/dw = dloss/dy * dy/dw\n",
        "*   dloss/db = dloss/dy * dy/db\n",
        "\n",
        "\n"
      ]
    },
    {
      "cell_type": "code",
      "metadata": {
        "id": "r-qU7ytFRnWL"
      },
      "source": [
        "def dy_dw(x, w, b):\n",
        "  return x\n",
        "\n",
        "def dy_db(x, w, b):\n",
        "  return 1.0\n",
        "\n",
        "def dloss_fn(yp, y):\n",
        "  dsq_diffs = 2 * (yp - y) / yp.size(0)\n",
        "  return dsq_diffs\n",
        "\n",
        "def grad_fn(x, y, yp, w, b):\n",
        "  dloss_dy = dloss_fn(yp, y)\n",
        "  dloss_dw = dloss_dy * dy_dw(x, w, b)\n",
        "  dloss_db = dloss_dy * dy_db(x, w, b)\n",
        "  return (dloss_dw.sum(), dloss_db.sum())"
      ],
      "execution_count": 10,
      "outputs": []
    },
    {
      "cell_type": "code",
      "metadata": {
        "id": "aFkQyAanQxHn"
      },
      "source": [
        "def training_loop(n_epochs, learning_rate, wp, bp, x, y):\n",
        "\n",
        "  loss_epochs = []\n",
        "  for epoch in range(n_epochs):\n",
        "      # Computes our model's predicted output\n",
        "      yp = model(x, wp, bp)\n",
        "      \n",
        "      # How wrong is our model? That's the error! \n",
        "      loss = loss_fn(yp, y)\n",
        "      loss_epochs.append(loss)\n",
        "\n",
        "      (wp_grad, bp_grad) = grad_fn(x, y, yp, wp, bp)\n",
        "    \n",
        "      # Updates parameters using gradients and the learning rate\n",
        "      wp = wp - learning_rate * wp_grad\n",
        "      bp = bp - learning_rate * bp_grad\n",
        "\n",
        "      if epoch+1 in (1, 2, 3, 4, 5, 10, 100, 500, 1000, 5000, 10000):\n",
        "        print(f'Epoch {epoch+1}, Loss {loss}, wp_grad: {wp_grad}, bp_grad: {bp_grad}')\n",
        "    \n",
        "  return (wp, bp, loss_epochs)"
      ],
      "execution_count": 11,
      "outputs": []
    },
    {
      "cell_type": "code",
      "metadata": {
        "colab": {
          "base_uri": "https://localhost:8080/"
        },
        "id": "xwGpwYHzp0Me",
        "outputId": "c19947fd-a5d1-44e4-b582-9e1c82f8cb73"
      },
      "source": [
        "(wp, bp, loss) = training_loop(n_epochs = 1000, \n",
        "              learning_rate = 1e-2,\n",
        "              wp = 1,\n",
        "              bp = 1,\n",
        "              x = x,\n",
        "              y = y)"
      ],
      "execution_count": 12,
      "outputs": [
        {
          "output_type": "stream",
          "text": [
            "Epoch 1, Loss 3491.89306640625, wp_grad: -6763.255859375, bp_grad: -102.76838684082031\n",
            "Epoch 2, Loss 14572118.0, wp_grad: 437481.5, bp_grad: 6594.91015625\n",
            "Epoch 3, Loss 60971732992.0, wp_grad: -28298460.0, bp_grad: -426643.625\n",
            "Epoch 4, Loss 255114279387136.0, wp_grad: 1830483712.0, bp_grad: 27597362.0\n",
            "Epoch 5, Loss 1.0674335821940654e+18, wp_grad: -118404694016.0, bp_grad: -1785133312.0\n",
            "Epoch 10, Loss 1.3688997551443584e+36, wp_grad: 1.3408626104393427e+20, bp_grad: 2.0215571310266286e+18\n",
            "Epoch 100, Loss nan, wp_grad: nan, bp_grad: nan\n",
            "Epoch 500, Loss nan, wp_grad: nan, bp_grad: nan\n",
            "Epoch 1000, Loss nan, wp_grad: nan, bp_grad: nan\n"
          ],
          "name": "stdout"
        }
      ]
    },
    {
      "cell_type": "code",
      "metadata": {
        "colab": {
          "base_uri": "https://localhost:8080/"
        },
        "id": "3LIctvJfoapr",
        "outputId": "85446658-5e94-4143-d464-93035f126f7b"
      },
      "source": [
        "(wp, bp, loss) = training_loop(n_epochs = 10000, \n",
        "              learning_rate = 1e-4,\n",
        "              wp = 1,\n",
        "              bp = 1,\n",
        "              x = x,\n",
        "              y = y)"
      ],
      "execution_count": 13,
      "outputs": [
        {
          "output_type": "stream",
          "text": [
            "Epoch 1, Loss 3491.89306640625, wp_grad: -6763.255859375, bp_grad: -102.76838684082031\n",
            "Epoch 2, Loss 419.2891540527344, wp_grad: -2320.80859375, bp_grad: -35.79161071777344\n",
            "Epoch 3, Loss 57.482444763183594, wp_grad: -796.37939453125, bp_grad: -12.808448791503906\n",
            "Epoch 4, Loss 14.878763198852539, wp_grad: -273.2704162597656, bp_grad: -4.921734809875488\n",
            "Epoch 5, Loss 9.862009048461914, wp_grad: -93.76502227783203, bp_grad: -2.215372085571289\n",
            "Epoch 10, Loss 9.192130088806152, wp_grad: -0.43365478515625, bp_grad: -0.8080571889877319\n",
            "Epoch 100, Loss 9.186361312866211, wp_grad: 0.01206207275390625, bp_grad: -0.7976835370063782\n",
            "Epoch 500, Loss 9.16141414642334, wp_grad: 0.010945320129394531, bp_grad: -0.781667947769165\n",
            "Epoch 1000, Loss 9.131614685058594, wp_grad: 0.01105499267578125, bp_grad: -0.7620790004730225\n",
            "Epoch 5000, Loss 8.940637588500977, wp_grad: 0.009258270263671875, bp_grad: -0.6220826506614685\n",
            "Epoch 10000, Loss 8.788850784301758, wp_grad: 0.008399009704589844, bp_grad: -0.48266398906707764\n"
          ],
          "name": "stdout"
        }
      ]
    },
    {
      "cell_type": "code",
      "metadata": {
        "colab": {
          "base_uri": "https://localhost:8080/",
          "height": 283
        },
        "id": "8tTh1ZBw6jzN",
        "outputId": "5295fbea-12d2-4697-a34a-ff7899d5dad4"
      },
      "source": [
        "plt.semilogy(loss[1:50])"
      ],
      "execution_count": 14,
      "outputs": [
        {
          "output_type": "execute_result",
          "data": {
            "text/plain": [
              "[<matplotlib.lines.Line2D at 0x7faabcc55cd0>]"
            ]
          },
          "metadata": {
            "tags": []
          },
          "execution_count": 14
        },
        {
          "output_type": "display_data",
          "data": {
            "image/png": "[encoded data removed]",
            "text/plain": [
              "<Figure size 432x288 with 1 Axes>"
            ]
          },
          "metadata": {
            "tags": [],
            "needs_background": "light"
          }
        }
      ]
    },
    {
      "cell_type": "code",
      "metadata": {
        "colab": {
          "base_uri": "https://localhost:8080/",
          "height": 283
        },
        "id": "2TICsyVve0T9",
        "outputId": "c8593043-f149-4a3f-b4b8-3169ef2672d4"
      },
      "source": [
        "plt.plot(x,y)\n",
        "\n",
        "yp = model(x, wp, bp)\n",
        "plt.plot(x, yp)"
      ],
      "execution_count": 15,
      "outputs": [
        {
          "output_type": "execute_result",
          "data": {
            "text/plain": [
              "[<matplotlib.lines.Line2D at 0x7faabcbfc690>]"
            ]
          },
          "metadata": {
            "tags": []
          },
          "execution_count": 15
        },
        {
          "output_type": "display_data",
          "data": {
            "image/png": "[encoded data removed]",
            "text/plain": [
              "<Figure size 432x288 with 1 Axes>"
            ]
          },
          "metadata": {
            "tags": [],
            "needs_background": "light"
          }
        }
      ]
    },
    {
      "cell_type": "code",
      "metadata": {
        "colab": {
          "base_uri": "https://localhost:8080/"
        },
        "id": "A8L4FKLggymY",
        "outputId": "fbf8ccd2-241f-473e-f578-1654d11f67a8"
      },
      "source": [
        "(wp, bp, loss) = training_loop(n_epochs = 1000, \n",
        "              learning_rate = 1e-2,\n",
        "              wp = 1,\n",
        "              bp = 1,\n",
        "              x = x*0.1,\n",
        "              y = y)"
      ],
      "execution_count": 16,
      "outputs": [
        {
          "output_type": "stream",
          "text": [
            "Epoch 1, Loss 12238.45703125, wp_grad: -1267.3555908203125, bp_grad: -191.86839294433594\n",
            "Epoch 2, Loss 1326.7628173828125, wp_grad: -416.088134765625, bp_grad: -62.56282043457031\n",
            "Epoch 3, Loss 150.96116638183594, wp_grad: -136.6494140625, bp_grad: -20.11884117126465\n",
            "Epoch 4, Loss 24.25811195373535, wp_grad: -44.9200439453125, bp_grad: -6.188183307647705\n",
            "Epoch 5, Loss 10.60157585144043, wp_grad: -14.808431625366211, bp_grad: -1.6173384189605713\n",
            "Epoch 10, Loss 8.933691024780273, wp_grad: -0.14766216278076172, bp_grad: 0.5941300392150879\n",
            "Epoch 100, Loss 8.712175369262695, wp_grad: -0.05856895446777344, bp_grad: 0.38515758514404297\n",
            "Epoch 500, Loss 8.56208610534668, wp_grad: -0.00793468952178955, bp_grad: 0.05267852544784546\n",
            "Epoch 1000, Loss 8.559248924255371, wp_grad: -0.0006420016288757324, bp_grad: 0.004382655024528503\n"
          ],
          "name": "stdout"
        }
      ]
    },
    {
      "cell_type": "code",
      "metadata": {
        "colab": {
          "base_uri": "https://localhost:8080/"
        },
        "id": "F-sPfbgFrkBL",
        "outputId": "18bd138c-5743-4ee7-b89e-80d8b7c4495f"
      },
      "source": [
        "from sklearn.linear_model import LinearRegression\n",
        "import numpy\n",
        "linr = LinearRegression()\n",
        "xnp = x.numpy().reshape((-1, 1))\n",
        "ynp = y.numpy()\n",
        "linr.fit(xnp, ynp)\n",
        "print(linr.intercept_, linr.coef_[0])\n",
        "\n",
        "yp = model(x, linr.coef_[0], linr.intercept_)\n",
        "     \n",
        "# How wrong is our model? That's the error! \n",
        "loss = loss_fn(yp, y)\n",
        "\n",
        "print(loss)"
      ],
      "execution_count": 17,
      "outputs": [
        {
          "output_type": "stream",
          "text": [
            "2.5954728104808567 2.005832774851582\n",
            "tensor(8.5592)\n"
          ],
          "name": "stdout"
        }
      ]
    },
    {
      "cell_type": "code",
      "metadata": {
        "colab": {
          "base_uri": "https://localhost:8080/"
        },
        "id": "It6c0WdXr21M",
        "outputId": "ea4f2983-82ad-47e6-923b-857c71e5b0e5"
      },
      "source": [
        "def training_loop_grad(n_epochs, learning_rate, wp, bp, x, y):\n",
        "\n",
        "  wp = torch.tensor(wp, requires_grad=True, dtype=torch.float)\n",
        "  bp = torch.tensor(bp, requires_grad=True, dtype=torch.float)\n",
        "\n",
        "  for epoch in range(n_epochs):\n",
        "      # Computes our model's predicted output\n",
        "      yp = model(x, wp, bp)\n",
        "      \n",
        "      # How wrong is our model? That's the error! \n",
        "      loss = loss_fn(yp, y)\n",
        "      loss.backward()\n",
        "\n",
        "      # no_grad sirve para que pytorch no tenga en cuenta esta operación en el cáluclo del gradiente\n",
        "      with torch.no_grad():\n",
        "        wp -= learning_rate * wp.grad\n",
        "        bp -= learning_rate * bp.grad\n",
        "\n",
        "      if epoch+1 in (1, 2, 3, 4, 5, 10, 100, 500, 1000, 5000, 10000):\n",
        "        print(f'Epoch {epoch+1}, Loss {loss}, wp_grad: {wp.grad}, bp_grad: {bp.grad}')\n",
        "\n",
        "      wp.grad.zero_()\n",
        "      bp.grad.zero_()\n",
        "    \n",
        "  return (wp, bp)\n",
        "\n",
        "\n",
        "(wp, bp) = training_loop_grad(n_epochs = 1000, \n",
        "              learning_rate = 1e-4,\n",
        "              wp = 1.0,\n",
        "              bp = 1.0,\n",
        "              x = x,\n",
        "              y = y)"
      ],
      "execution_count": 18,
      "outputs": [
        {
          "output_type": "stream",
          "text": [
            "Epoch 1, Loss 3491.89306640625, wp_grad: -6763.25537109375, bp_grad: -102.76837921142578\n",
            "Epoch 2, Loss 419.2891540527344, wp_grad: -2320.808349609375, bp_grad: -35.791603088378906\n",
            "Epoch 3, Loss 57.482444763183594, wp_grad: -796.3792724609375, bp_grad: -12.808448791503906\n",
            "Epoch 4, Loss 14.878763198852539, wp_grad: -273.2704162597656, bp_grad: -4.921734809875488\n",
            "Epoch 5, Loss 9.862009048461914, wp_grad: -93.76502227783203, bp_grad: -2.215372085571289\n",
            "Epoch 10, Loss 9.192130088806152, wp_grad: -0.43365478515625, bp_grad: -0.8080571889877319\n",
            "Epoch 100, Loss 9.186361312866211, wp_grad: 0.012063980102539062, bp_grad: -0.7976834774017334\n",
            "Epoch 500, Loss 9.16141414642334, wp_grad: 0.010945320129394531, bp_grad: -0.7816678881645203\n",
            "Epoch 1000, Loss 9.131614685058594, wp_grad: 0.011056900024414062, bp_grad: -0.7620788812637329\n"
          ],
          "name": "stdout"
        }
      ]
    },
    {
      "cell_type": "code",
      "metadata": {
        "colab": {
          "base_uri": "https://localhost:8080/"
        },
        "id": "ZwC2WlOszlli",
        "outputId": "f2273a7f-5640-434d-e67c-dfb8e23a9d50"
      },
      "source": [
        "!pip install torchviz"
      ],
      "execution_count": 19,
      "outputs": [
        {
          "output_type": "stream",
          "text": [
            "Collecting torchviz\n",
            "  Downloading https://files.pythonhosted.org/packages/79/e7/643808913211d6c1fc96a3a4333bf4c9276858fab00bcafaf98ea58a97be/torchviz-0.0.2.tar.gz\n",
            "Requirement already satisfied: torch in /usr/local/lib/python3.7/dist-packages (from torchviz) (1.8.0+cu101)\n",
            "Requirement already satisfied: graphviz in /usr/local/lib/python3.7/dist-packages (from torchviz) (0.10.1)\n",
            "Requirement already satisfied: typing-extensions in /usr/local/lib/python3.7/dist-packages (from torch->torchviz) (3.7.4.3)\n",
            "Requirement already satisfied: numpy in /usr/local/lib/python3.7/dist-packages (from torch->torchviz) (1.19.5)\n",
            "Building wheels for collected packages: torchviz\n",
            "  Building wheel for torchviz (setup.py) ... \u001b[?25l\u001b[?25hdone\n",
            "  Created wheel for torchviz: filename=torchviz-0.0.2-cp37-none-any.whl size=4152 sha256=e8a075542bbe74741f825298712da59e66748d300d52f0ac2f154f29814b3563\n",
            "  Stored in directory: /root/.cache/pip/wheels/01/26/58/026ffd533dbe8b3972eb423da9c7949beca68d1c98ed9e8624\n",
            "Successfully built torchviz\n",
            "Installing collected packages: torchviz\n",
            "Successfully installed torchviz-0.0.2\n"
          ],
          "name": "stdout"
        }
      ]
    },
    {
      "cell_type": "code",
      "metadata": {
        "colab": {
          "base_uri": "https://localhost:8080/",
          "height": 618
        },
        "id": "_9ecUYzO1LsQ",
        "outputId": "99183e1c-a94e-42a6-becb-1246db3589b0"
      },
      "source": [
        "import torchviz\n",
        "\n",
        "w = torch.randn(1, requires_grad=True, dtype=torch.float)\n",
        "b = torch.randn(1, requires_grad=True, dtype=torch.float)\n",
        "\n",
        "yp = x * w + b\n",
        "error = yp - y\n",
        "loss = (error ** 2).mean()\n",
        "\n",
        "torchviz.make_dot(loss)"
      ],
      "execution_count": 20,
      "outputs": [
        {
          "output_type": "execute_result",
          "data": {
            "text/plain": [
              "<graphviz.dot.Digraph at 0x7fab3ac72ad0>"
            ],
            "image/svg+xml": "<?xml version=\"1.0\" encoding=\"UTF-8\" standalone=\"no\"?>\n<!DOCTYPE svg PUBLIC \"-//W3C//DTD SVG 1.1//EN\"\n \"http://www.w3.org/Graphics/SVG/1.1/DTD/svg11.dtd\">\n<!-- Generated by graphviz version 2.40.1 (20161225.0304)\n -->\n<!-- Title: %3 Pages: 1 -->\n<svg width=\"222pt\" height=\"448pt\"\n viewBox=\"0.00 0.00 222.00 448.00\" xmlns=\"http://www.w3.org/2000/svg\" xmlns:xlink=\"http://www.w3.org/1999/xlink\">\n<g id=\"graph0\" class=\"graph\" transform=\"scale(1 1) rotate(0) translate(4 444)\">\n<title>%3</title>\n<polygon fill=\"#ffffff\" stroke=\"transparent\" points=\"-4,4 -4,-444 218,-444 218,4 -4,4\"/>\n<!-- 140370726117696 -->\n<g id=\"node1\" class=\"node\">\n<title>140370726117696</title>\n<polygon fill=\"#caff70\" stroke=\"#000000\" points=\"133.5,-31 79.5,-31 79.5,0 133.5,0 133.5,-31\"/>\n<text text-anchor=\"middle\" x=\"106.5\" y=\"-7\" font-family=\"monospace\" font-size=\"10.00\" fill=\"#000000\"> ()</text>\n</g>\n<!-- 140370748401808 -->\n<g id=\"node2\" class=\"node\">\n<title>140370748401808</title>\n<polygon fill=\"#d3d3d3\" stroke=\"#000000\" points=\"154,-86 59,-86 59,-67 154,-67 154,-86\"/>\n<text text-anchor=\"middle\" x=\"106.5\" y=\"-74\" font-family=\"monospace\" font-size=\"10.00\" fill=\"#000000\">MeanBackward0</text>\n</g>\n<!-- 140370748401808&#45;&gt;140370726117696 -->\n<g id=\"edge9\" class=\"edge\">\n<title>140370748401808&#45;&gt;140370726117696</title>\n<path fill=\"none\" stroke=\"#000000\" d=\"M106.5,-66.9688C106.5,-60.1289 106.5,-50.5621 106.5,-41.5298\"/>\n<polygon fill=\"#000000\" stroke=\"#000000\" points=\"110.0001,-41.3678 106.5,-31.3678 103.0001,-41.3678 110.0001,-41.3678\"/>\n</g>\n<!-- 140370726109648 -->\n<g id=\"node3\" class=\"node\">\n<title>140370726109648</title>\n<polygon fill=\"#d3d3d3\" stroke=\"#000000\" points=\"151,-141 62,-141 62,-122 151,-122 151,-141\"/>\n<text text-anchor=\"middle\" x=\"106.5\" y=\"-129\" font-family=\"monospace\" font-size=\"10.00\" fill=\"#000000\">PowBackward0</text>\n</g>\n<!-- 140370726109648&#45;&gt;140370748401808 -->\n<g id=\"edge1\" class=\"edge\">\n<title>140370726109648&#45;&gt;140370748401808</title>\n<path fill=\"none\" stroke=\"#000000\" d=\"M106.5,-121.9197C106.5,-114.9083 106.5,-105.1442 106.5,-96.4652\"/>\n<polygon fill=\"#000000\" stroke=\"#000000\" points=\"110.0001,-96.3408 106.5,-86.3408 103.0001,-96.3409 110.0001,-96.3408\"/>\n</g>\n<!-- 140370726109776 -->\n<g id=\"node4\" class=\"node\">\n<title>140370726109776</title>\n<polygon fill=\"#d3d3d3\" stroke=\"#000000\" points=\"151,-196 62,-196 62,-177 151,-177 151,-196\"/>\n<text text-anchor=\"middle\" x=\"106.5\" y=\"-184\" font-family=\"monospace\" font-size=\"10.00\" fill=\"#000000\">SubBackward0</text>\n</g>\n<!-- 140370726109776&#45;&gt;140370726109648 -->\n<g id=\"edge2\" class=\"edge\">\n<title>140370726109776&#45;&gt;140370726109648</title>\n<path fill=\"none\" stroke=\"#000000\" d=\"M106.5,-176.9197C106.5,-169.9083 106.5,-160.1442 106.5,-151.4652\"/>\n<polygon fill=\"#000000\" stroke=\"#000000\" points=\"110.0001,-151.3408 106.5,-141.3408 103.0001,-151.3409 110.0001,-151.3408\"/>\n</g>\n<!-- 140370726110032 -->\n<g id=\"node5\" class=\"node\">\n<title>140370726110032</title>\n<polygon fill=\"#d3d3d3\" stroke=\"#000000\" points=\"151,-251 62,-251 62,-232 151,-232 151,-251\"/>\n<text text-anchor=\"middle\" x=\"106.5\" y=\"-239\" font-family=\"monospace\" font-size=\"10.00\" fill=\"#000000\">AddBackward0</text>\n</g>\n<!-- 140370726110032&#45;&gt;140370726109776 -->\n<g id=\"edge3\" class=\"edge\">\n<title>140370726110032&#45;&gt;140370726109776</title>\n<path fill=\"none\" stroke=\"#000000\" d=\"M106.5,-231.9197C106.5,-224.9083 106.5,-215.1442 106.5,-206.4652\"/>\n<polygon fill=\"#000000\" stroke=\"#000000\" points=\"110.0001,-206.3408 106.5,-196.3408 103.0001,-206.3409 110.0001,-206.3408\"/>\n</g>\n<!-- 140370726110224 -->\n<g id=\"node6\" class=\"node\">\n<title>140370726110224</title>\n<polygon fill=\"#d3d3d3\" stroke=\"#000000\" points=\"95,-306 6,-306 6,-287 95,-287 95,-306\"/>\n<text text-anchor=\"middle\" x=\"50.5\" y=\"-294\" font-family=\"monospace\" font-size=\"10.00\" fill=\"#000000\">MulBackward0</text>\n</g>\n<!-- 140370726110224&#45;&gt;140370726110032 -->\n<g id=\"edge4\" class=\"edge\">\n<title>140370726110224&#45;&gt;140370726110032</title>\n<path fill=\"none\" stroke=\"#000000\" d=\"M60.2545,-286.9197C68.1865,-279.1293 79.5788,-267.9405 89.0712,-258.6176\"/>\n<polygon fill=\"#000000\" stroke=\"#000000\" points=\"91.7982,-260.845 96.4802,-251.3408 86.8932,-255.8509 91.7982,-260.845\"/>\n</g>\n<!-- 140370726109904 -->\n<g id=\"node7\" class=\"node\">\n<title>140370726109904</title>\n<polygon fill=\"#d3d3d3\" stroke=\"#000000\" points=\"101,-367 0,-367 0,-348 101,-348 101,-367\"/>\n<text text-anchor=\"middle\" x=\"50.5\" y=\"-355\" font-family=\"monospace\" font-size=\"10.00\" fill=\"#000000\">AccumulateGrad</text>\n</g>\n<!-- 140370726109904&#45;&gt;140370726110224 -->\n<g id=\"edge5\" class=\"edge\">\n<title>140370726109904&#45;&gt;140370726110224</title>\n<path fill=\"none\" stroke=\"#000000\" d=\"M50.5,-347.9688C50.5,-339.5131 50.5,-326.8901 50.5,-316.2615\"/>\n<polygon fill=\"#000000\" stroke=\"#000000\" points=\"54.0001,-316.1656 50.5,-306.1656 47.0001,-316.1657 54.0001,-316.1656\"/>\n</g>\n<!-- 140370748492128 -->\n<g id=\"node8\" class=\"node\">\n<title>140370748492128</title>\n<polygon fill=\"#add8e6\" stroke=\"#000000\" points=\"77.5,-440 23.5,-440 23.5,-409 77.5,-409 77.5,-440\"/>\n<text text-anchor=\"middle\" x=\"50.5\" y=\"-416\" font-family=\"monospace\" font-size=\"10.00\" fill=\"#000000\"> (1)</text>\n</g>\n<!-- 140370748492128&#45;&gt;140370726109904 -->\n<g id=\"edge6\" class=\"edge\">\n<title>140370748492128&#45;&gt;140370726109904</title>\n<path fill=\"none\" stroke=\"#000000\" d=\"M50.5,-408.9604C50.5,-399.6356 50.5,-387.6748 50.5,-377.6317\"/>\n<polygon fill=\"#000000\" stroke=\"#000000\" points=\"54.0001,-377.35 50.5,-367.3501 47.0001,-377.3501 54.0001,-377.35\"/>\n</g>\n<!-- 140370726110416 -->\n<g id=\"node9\" class=\"node\">\n<title>140370726110416</title>\n<polygon fill=\"#d3d3d3\" stroke=\"#000000\" points=\"214,-306 113,-306 113,-287 214,-287 214,-306\"/>\n<text text-anchor=\"middle\" x=\"163.5\" y=\"-294\" font-family=\"monospace\" font-size=\"10.00\" fill=\"#000000\">AccumulateGrad</text>\n</g>\n<!-- 140370726110416&#45;&gt;140370726110032 -->\n<g id=\"edge7\" class=\"edge\">\n<title>140370726110416&#45;&gt;140370726110032</title>\n<path fill=\"none\" stroke=\"#000000\" d=\"M153.5714,-286.9197C145.4169,-279.0514 133.6697,-267.7164 123.9508,-258.3385\"/>\n<polygon fill=\"#000000\" stroke=\"#000000\" points=\"126.3252,-255.7659 116.6987,-251.3408 121.4646,-260.8032 126.3252,-255.7659\"/>\n</g>\n<!-- 140373402233344 -->\n<g id=\"node10\" class=\"node\">\n<title>140373402233344</title>\n<polygon fill=\"#add8e6\" stroke=\"#000000\" points=\"190.5,-373 136.5,-373 136.5,-342 190.5,-342 190.5,-373\"/>\n<text text-anchor=\"middle\" x=\"163.5\" y=\"-349\" font-family=\"monospace\" font-size=\"10.00\" fill=\"#000000\"> (1)</text>\n</g>\n<!-- 140373402233344&#45;&gt;140370726110416 -->\n<g id=\"edge8\" class=\"edge\">\n<title>140373402233344&#45;&gt;140370726110416</title>\n<path fill=\"none\" stroke=\"#000000\" d=\"M163.5,-341.791C163.5,-334.0249 163.5,-324.5706 163.5,-316.3129\"/>\n<polygon fill=\"#000000\" stroke=\"#000000\" points=\"167.0001,-316.0647 163.5,-306.0648 160.0001,-316.0648 167.0001,-316.0647\"/>\n</g>\n</g>\n</svg>\n"
          },
          "metadata": {
            "tags": []
          },
          "execution_count": 20
        }
      ]
    },
    {
      "cell_type": "code",
      "metadata": {
        "colab": {
          "base_uri": "https://localhost:8080/"
        },
        "id": "j2GAOsAZ2av6",
        "outputId": "10239b2a-2a3b-491d-b0d9-055f10f47167"
      },
      "source": [
        "def training_loop_optim(n_epochs, optimizer, wp, bp, x, y):\n",
        "\n",
        "  for epoch in range(n_epochs):\n",
        "      # Computes our model's predicted output\n",
        "      yp = model(x, wp, bp)\n",
        "      \n",
        "      # How wrong is our model? That's the error! \n",
        "      loss = loss_fn(yp, y)\n",
        "      loss.backward()\n",
        "\n",
        "      optimizer.step()\n",
        "\n",
        "      if epoch+1 in (1, 2, 3, 4, 5, 10, 100, 500, 1000, 5000, 10000):\n",
        "        print(f'Epoch {epoch+1}, Loss {loss}, wp_grad: {wp.grad}, bp_grad: {bp.grad}')\n",
        "\n",
        "      optimizer.zero_grad()\n",
        "    \n",
        "  return (wp, bp)\n",
        "\n",
        "learning_rate = 1e-4\n",
        "\n",
        "wp = torch.tensor(1, requires_grad=True, dtype=torch.float)\n",
        "bp = torch.tensor(1, requires_grad=True, dtype=torch.float)\n",
        "\n",
        "optimizer = torch.optim.SGD([wp, bp], lr=learning_rate)\n",
        "\n",
        "(wp, bp) = training_loop_optim(n_epochs = 1000, \n",
        "              optimizer = optimizer,\n",
        "              wp = wp,\n",
        "              bp = bp,\n",
        "              x = x,\n",
        "              y = y)"
      ],
      "execution_count": 21,
      "outputs": [
        {
          "output_type": "stream",
          "text": [
            "Epoch 1, Loss 3491.89306640625, wp_grad: -6763.25537109375, bp_grad: -102.76837921142578\n",
            "Epoch 2, Loss 419.2891540527344, wp_grad: -2320.808349609375, bp_grad: -35.791603088378906\n",
            "Epoch 3, Loss 57.482444763183594, wp_grad: -796.3792724609375, bp_grad: -12.808448791503906\n",
            "Epoch 4, Loss 14.878763198852539, wp_grad: -273.2704162597656, bp_grad: -4.921734809875488\n",
            "Epoch 5, Loss 9.862009048461914, wp_grad: -93.76502227783203, bp_grad: -2.215372085571289\n",
            "Epoch 10, Loss 9.192130088806152, wp_grad: -0.43365478515625, bp_grad: -0.8080571889877319\n",
            "Epoch 100, Loss 9.186361312866211, wp_grad: 0.012063980102539062, bp_grad: -0.7976834774017334\n",
            "Epoch 500, Loss 9.16141414642334, wp_grad: 0.010945320129394531, bp_grad: -0.7816678881645203\n",
            "Epoch 1000, Loss 9.131614685058594, wp_grad: 0.011056900024414062, bp_grad: -0.7620788812637329\n"
          ],
          "name": "stdout"
        }
      ]
    },
    {
      "cell_type": "code",
      "metadata": {
        "colab": {
          "base_uri": "https://localhost:8080/"
        },
        "id": "OiR69Dyt4Iew",
        "outputId": "219f84cb-a2aa-403c-af66-885714434416"
      },
      "source": [
        "learning_rate = 1e-1\n",
        "\n",
        "wp = torch.tensor(1, requires_grad=True, dtype=torch.float)\n",
        "bp = torch.tensor(1, requires_grad=True, dtype=torch.float)\n",
        "\n",
        "optimizer = torch.optim.Adam([wp, bp], lr=learning_rate)\n",
        "\n",
        "(wp, bp) = training_loop_optim(n_epochs = 1000, \n",
        "              optimizer = optimizer,\n",
        "              wp = wp,\n",
        "              bp = bp,\n",
        "              x = x,\n",
        "              y = y)"
      ],
      "execution_count": 22,
      "outputs": [
        {
          "output_type": "stream",
          "text": [
            "Epoch 1, Loss 3491.89306640625, wp_grad: -6763.25537109375, bp_grad: -102.76837921142578\n",
            "Epoch 2, Loss 2839.1259765625, wp_grad: -6096.6552734375, bp_grad: -92.66838836669922\n",
            "Epoch 3, Loss 2256.255859375, wp_grad: -5432.74755859375, bp_grad: -82.60918426513672\n",
            "Epoch 4, Loss 1744.1195068359375, wp_grad: -4773.8076171875, bp_grad: -72.625244140625\n",
            "Epoch 5, Loss 1302.919921875, wp_grad: -4122.5400390625, bp_grad: -62.757545471191406\n",
            "Epoch 10, Loss 102.81088256835938, wp_grad: -1111.7730712890625, bp_grad: -17.139726638793945\n",
            "Epoch 100, Loss 8.628947257995605, wp_grad: -8.459798812866211, bp_grad: -0.3829543888568878\n",
            "Epoch 500, Loss 8.561346054077148, wp_grad: 0.04411125183105469, bp_grad: -0.04572838544845581\n",
            "Epoch 1000, Loss 8.55922794342041, wp_grad: 0.0007381439208984375, bp_grad: -0.0008340030908584595\n"
          ],
          "name": "stdout"
        }
      ]
    },
    {
      "cell_type": "code",
      "metadata": {
        "colab": {
          "base_uri": "https://localhost:8080/",
          "height": 299
        },
        "id": "HvgcdMHX83Hl",
        "outputId": "37db5244-43dc-447f-dbdb-965d9143bce2"
      },
      "source": [
        "plt.plot(x,y)\n",
        "\n",
        "yp = model(x, wp, bp)\n",
        "plt.plot(x, yp.detach().numpy())\n",
        "plt.title(f'Model: y = x*{wp} + {bp}')"
      ],
      "execution_count": 23,
      "outputs": [
        {
          "output_type": "execute_result",
          "data": {
            "text/plain": [
              "Text(0.5, 1.0, 'Model: y = x*2.0058577060699463 + 2.593824625015259')"
            ]
          },
          "metadata": {
            "tags": []
          },
          "execution_count": 23
        },
        {
          "output_type": "display_data",
          "data": {
            "image/png": "[encoded data removed]",
            "text/plain": [
              "<Figure size 432x288 with 1 Axes>"
            ]
          },
          "metadata": {
            "tags": [],
            "needs_background": "light"
          }
        }
      ]
    },
    {
      "cell_type": "code",
      "metadata": {
        "colab": {
          "base_uri": "https://localhost:8080/"
        },
        "id": "C0jfamKBdUwI",
        "outputId": "30e044ae-38c8-4ead-e056-d9ac1353170c"
      },
      "source": [
        "class LinearModel(torch.nn.Module):\n",
        "    def __init__(self):\n",
        "        super().__init__()\n",
        "\n",
        "        self.w = torch.nn.Parameter(torch.randn(()))\n",
        "        self.b = torch.nn.Parameter(torch.randn(()))\n",
        "\n",
        "    def forward(self, x):\n",
        "        return self.w * x + self.b\n",
        "\n",
        "linearModel = LinearModel()\n",
        "\n",
        "device = torch.device(\"cpu\")\n",
        "linearModel.to(device)\n",
        "\n",
        "criterion = torch.nn.MSELoss(reduction='mean')\n",
        "optimizer = torch.optim.Adam(linearModel.parameters(), lr=1e-1)\n",
        "\n",
        "for epoch in range(10000):\n",
        "    # Forward pass: Compute predicted y by passing x to the model\n",
        "    y_pred = linearModel(x)\n",
        "\n",
        "    loss = criterion(y_pred, y)\n",
        "\n",
        "    if epoch+1 in (1, 2, 3, 4, 5, 10, 100, 500, 1000, 5000, 10000):\n",
        "      print(f'Epoch {epoch+1}, Loss {loss}')\n",
        "\n",
        "    # Zero gradients, perform a backward pass, and update the weights.\n",
        "    optimizer.zero_grad()\n",
        "    loss.backward()\n",
        "    optimizer.step()\n",
        "\n",
        "print(f'Model: y = {linearModel.b} + {linearModel.w} x')"
      ],
      "execution_count": 24,
      "outputs": [
        {
          "output_type": "stream",
          "text": [
            "Epoch 1, Loss 2692.809326171875\n",
            "Epoch 2, Loss 2123.943359375\n",
            "Epoch 3, Loss 1625.0194091796875\n",
            "Epoch 4, Loss 1196.762451171875\n",
            "Epoch 5, Loss 839.0902099609375\n",
            "Epoch 10, Loss 19.87015151977539\n",
            "Epoch 100, Loss 8.814169883728027\n",
            "Epoch 500, Loss 8.562636375427246\n",
            "Epoch 1000, Loss 8.559223175048828\n",
            "Epoch 5000, Loss 8.55923080444336\n",
            "Epoch 10000, Loss 8.761407852172852\n",
            "Model: y = 2.608618974685669 + 2.0189781188964844 x\n"
          ],
          "name": "stdout"
        }
      ]
    },
    {
      "cell_type": "code",
      "metadata": {
        "colab": {
          "base_uri": "https://localhost:8080/"
        },
        "id": "IGg8k2hyWswE",
        "outputId": "fef1fe4d-4c6c-4930-8264-139137ddd961"
      },
      "source": [
        "linearModel = torch.nn.Linear(1, 1)\n",
        "\n",
        "# Loss and optimizer\n",
        "criterion = torch.nn.MSELoss(reduction='mean')\n",
        "optimizer = torch.optim.Adam(linearModel.parameters(), lr=1e-1)\n",
        "\n",
        "xval = torch.unsqueeze(x,1).float()\n",
        "yval = torch.unsqueeze(y,1).float()\n",
        "\n",
        "# Train the model\n",
        "for epoch in range(10000):\n",
        "\n",
        "    # Forward pass\n",
        "    yp = linearModel(xval)\n",
        "    loss = criterion(yp, yval)\n",
        "\n",
        "    if epoch+1 in (1, 2, 3, 4, 5, 10, 100, 500, 1000, 5000, 10000):\n",
        "      print(f'Epoch {epoch+1}, Loss {loss}')\n",
        "    \n",
        "    # Backward and optimize\n",
        "    optimizer.zero_grad()\n",
        "    loss.backward()\n",
        "    optimizer.step()\n",
        "\n",
        "print(f'Model: y = {linearModel.bias.item()} + {linearModel.weight.item()} x')"
      ],
      "execution_count": 25,
      "outputs": [
        {
          "output_type": "stream",
          "text": [
            "Epoch 1, Loss 14459.94140625\n",
            "Epoch 2, Loss 13095.259765625\n",
            "Epoch 3, Loss 11800.271484375\n",
            "Epoch 4, Loss 10576.06640625\n",
            "Epoch 5, Loss 9423.5263671875\n",
            "Epoch 10, Loss 4748.611328125\n",
            "Epoch 100, Loss 9.051525115966797\n",
            "Epoch 500, Loss 8.568432807922363\n",
            "Epoch 1000, Loss 8.559728622436523\n",
            "Epoch 5000, Loss 8.55923080444336\n",
            "Epoch 10000, Loss 8.55923080444336\n",
            "Model: y = 2.595473051071167 + 2.005833387374878 x\n"
          ],
          "name": "stdout"
        }
      ]
    }
  ]
}