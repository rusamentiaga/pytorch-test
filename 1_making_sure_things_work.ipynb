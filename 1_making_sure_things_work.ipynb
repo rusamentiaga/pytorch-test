{
  "nbformat": 4,
  "nbformat_minor": 0,
  "metadata": {
    "kernelspec": {
      "display_name": "Python 3",
      "language": "python",
      "name": "python3"
    },
    "language_info": {
      "codemirror_mode": {
        "name": "ipython",
        "version": 3
      },
      "file_extension": ".py",
      "mimetype": "text/x-python",
      "name": "python",
      "nbconvert_exporter": "python",
      "pygments_lexer": "ipython3",
      "version": "3.6.6"
    },
    "colab": {
      "name": "1_making_sure_things_work.ipynb",
      "provenance": []
    },
    "accelerator": "GPU"
  },
  "cells": [
    {
      "cell_type": "code",
      "metadata": {
        "id": "i2vbKDstDAD9"
      },
      "source": [
        "import torch"
      ],
      "execution_count": 1,
      "outputs": []
    },
    {
      "cell_type": "code",
      "metadata": {
        "id": "FyIprsRdDAED",
        "colab": {
          "base_uri": "https://localhost:8080/",
          "height": 36
        },
        "outputId": "dbea1c28-b78d-4d78-a1ec-18dcc21ad832"
      },
      "source": [
        "torch.version.__version__"
      ],
      "execution_count": 2,
      "outputs": [
        {
          "output_type": "execute_result",
          "data": {
            "application/vnd.google.colaboratory.intrinsic+json": {
              "type": "string"
            },
            "text/plain": [
              "'1.8.0+cu101'"
            ]
          },
          "metadata": {
            "tags": []
          },
          "execution_count": 2
        }
      ]
    },
    {
      "cell_type": "code",
      "metadata": {
        "colab": {
          "base_uri": "https://localhost:8080/"
        },
        "id": "DHrZ7hrmRhlI",
        "outputId": "7dfd98b4-a556-4b2f-b5e7-7a8a16b2ae55"
      },
      "source": [
        "torch.cuda.is_available()"
      ],
      "execution_count": 3,
      "outputs": [
        {
          "output_type": "execute_result",
          "data": {
            "text/plain": [
              "True"
            ]
          },
          "metadata": {
            "tags": []
          },
          "execution_count": 3
        }
      ]
    },
    {
      "cell_type": "code",
      "metadata": {
        "id": "nREPbtahDAEF"
      },
      "source": [
        "a = torch.ones(3,3)"
      ],
      "execution_count": 4,
      "outputs": []
    },
    {
      "cell_type": "code",
      "metadata": {
        "id": "eEBJz1wXDUh8",
        "colab": {
          "base_uri": "https://localhost:8080/"
        },
        "outputId": "32dcb244-c5d8-428f-cfe3-0c8cd40a63db"
      },
      "source": [
        "a"
      ],
      "execution_count": 5,
      "outputs": [
        {
          "output_type": "execute_result",
          "data": {
            "text/plain": [
              "tensor([[1., 1., 1.],\n",
              "        [1., 1., 1.],\n",
              "        [1., 1., 1.]])"
            ]
          },
          "metadata": {
            "tags": []
          },
          "execution_count": 5
        }
      ]
    },
    {
      "cell_type": "code",
      "metadata": {
        "id": "0RodfICqDAEG"
      },
      "source": [
        "b = torch.ones(3,3)"
      ],
      "execution_count": 6,
      "outputs": []
    },
    {
      "cell_type": "code",
      "metadata": {
        "id": "5oKx6gYTDAEG",
        "colab": {
          "base_uri": "https://localhost:8080/"
        },
        "outputId": "b16c81d2-1448-493a-bb99-5385de15610e"
      },
      "source": [
        "a + b"
      ],
      "execution_count": 7,
      "outputs": [
        {
          "output_type": "execute_result",
          "data": {
            "text/plain": [
              "tensor([[2., 2., 2.],\n",
              "        [2., 2., 2.],\n",
              "        [2., 2., 2.]])"
            ]
          },
          "metadata": {
            "tags": []
          },
          "execution_count": 7
        }
      ]
    },
    {
      "cell_type": "code",
      "metadata": {
        "id": "RMrwj7tKDAEH",
        "colab": {
          "base_uri": "https://localhost:8080/"
        },
        "outputId": "e91e26e5-cbd6-43a8-845e-279c8652ab14"
      },
      "source": [
        "a = a.to('cuda')\n",
        "b = b.to('cuda')\n",
        "a + b"
      ],
      "execution_count": 8,
      "outputs": [
        {
          "output_type": "execute_result",
          "data": {
            "text/plain": [
              "tensor([[2., 2., 2.],\n",
              "        [2., 2., 2.],\n",
              "        [2., 2., 2.]], device='cuda:0')"
            ]
          },
          "metadata": {
            "tags": []
          },
          "execution_count": 8
        }
      ]
    },
    {
      "cell_type": "code",
      "metadata": {
        "id": "7E4ELfV-DAEI",
        "colab": {
          "base_uri": "https://localhost:8080/"
        },
        "outputId": "193230f2-46dd-44eb-881e-111dfdfc777a"
      },
      "source": [
        "a @ b"
      ],
      "execution_count": 9,
      "outputs": [
        {
          "output_type": "execute_result",
          "data": {
            "text/plain": [
              "tensor([[3., 3., 3.],\n",
              "        [3., 3., 3.],\n",
              "        [3., 3., 3.]], device='cuda:0')"
            ]
          },
          "metadata": {
            "tags": []
          },
          "execution_count": 9
        }
      ]
    },
    {
      "cell_type": "code",
      "metadata": {
        "id": "aTwdMP24ToNT"
      },
      "source": [
        "a = torch.rand(5, 5)\n",
        "b = torch.rand(5, 5)\n",
        "r_cpu = a @ b\n",
        "a = a.to('cuda')\n",
        "b = b.to('cuda')\n",
        "r_gpu = a @ b"
      ],
      "execution_count": 10,
      "outputs": []
    },
    {
      "cell_type": "code",
      "metadata": {
        "colab": {
          "base_uri": "https://localhost:8080/"
        },
        "id": "crCev2_VT2ZN",
        "outputId": "223512e7-5f22-48e7-b01c-b1be191fe427"
      },
      "source": [
        "dif = r_cpu - r_gpu.to('cpu')\n",
        "dif.sum()"
      ],
      "execution_count": 11,
      "outputs": [
        {
          "output_type": "execute_result",
          "data": {
            "text/plain": [
              "tensor(-5.9605e-08)"
            ]
          },
          "metadata": {
            "tags": []
          },
          "execution_count": 11
        }
      ]
    },
    {
      "cell_type": "code",
      "metadata": {
        "id": "CWuAP0kBHYFW"
      },
      "source": [
        "K = 3000;\n",
        "m1 = torch.rand(K, K)\n",
        "m2 = torch.rand(K, K)"
      ],
      "execution_count": 12,
      "outputs": []
    },
    {
      "cell_type": "code",
      "metadata": {
        "colab": {
          "base_uri": "https://localhost:8080/"
        },
        "id": "Cu27Gg6HHe4b",
        "outputId": "513d8d70-af3d-40a0-89e9-277e661fd4ac"
      },
      "source": [
        "%timeit -n1 -o m1 @ m2"
      ],
      "execution_count": 13,
      "outputs": [
        {
          "output_type": "stream",
          "text": [
            "1 loop, best of 5: 613 ms per loop\n"
          ],
          "name": "stdout"
        },
        {
          "output_type": "execute_result",
          "data": {
            "text/plain": [
              "<TimeitResult : 1 loop, best of 5: 613 ms per loop>"
            ]
          },
          "metadata": {
            "tags": []
          },
          "execution_count": 13
        }
      ]
    },
    {
      "cell_type": "code",
      "metadata": {
        "colab": {
          "base_uri": "https://localhost:8080/"
        },
        "id": "MfuqYDy5KfgB",
        "outputId": "10d263a3-5297-4de4-9b7c-bfd730cb4e88"
      },
      "source": [
        "cpu_time = _\n",
        "cpu_time.all_runs"
      ],
      "execution_count": 14,
      "outputs": [
        {
          "output_type": "execute_result",
          "data": {
            "text/plain": [
              "[0.663871022999956,\n",
              " 0.6402178349999303,\n",
              " 0.6129838129991185,\n",
              " 0.6359616050003751,\n",
              " 0.6643534260001616]"
            ]
          },
          "metadata": {
            "tags": []
          },
          "execution_count": 14
        }
      ]
    },
    {
      "cell_type": "code",
      "metadata": {
        "id": "OogfuEfSHvpa"
      },
      "source": [
        "m1 = torch.rand(K, K)\n",
        "m2 = torch.rand(K, K)\n",
        "m1 = m1.to('cuda')\n",
        "m2 = m2.to('cuda')"
      ],
      "execution_count": 15,
      "outputs": []
    },
    {
      "cell_type": "code",
      "metadata": {
        "colab": {
          "base_uri": "https://localhost:8080/"
        },
        "id": "kzXVlHntHz9K",
        "outputId": "2ac3446b-414b-4e98-8e52-8094250c0945"
      },
      "source": [
        "%timeit -n1 -o m1 @ m2"
      ],
      "execution_count": 16,
      "outputs": [
        {
          "output_type": "stream",
          "text": [
            "The slowest run took 37.94 times longer than the fastest. This could mean that an intermediate result is being cached.\n",
            "1 loop, best of 5: 15.5 µs per loop\n"
          ],
          "name": "stdout"
        },
        {
          "output_type": "execute_result",
          "data": {
            "text/plain": [
              "<TimeitResult : 1 loop, best of 5: 15.5 µs per loop>"
            ]
          },
          "metadata": {
            "tags": []
          },
          "execution_count": 16
        }
      ]
    },
    {
      "cell_type": "code",
      "metadata": {
        "id": "LK0aw_E9MZkA"
      },
      "source": [
        "gpu_time = _"
      ],
      "execution_count": 17,
      "outputs": []
    },
    {
      "cell_type": "code",
      "metadata": {
        "id": "N4b9tEEmJvVK"
      },
      "source": [
        "cpu_time_tensor = torch.tensor(cpu_time.all_runs)\n",
        "cpu_time_max = cpu_time_tensor.max()\n",
        "gpu_time_tensor = torch.tensor(gpu_time.all_runs)\n",
        "gpu_time_max = gpu_time_tensor.max()\n"
      ],
      "execution_count": 18,
      "outputs": []
    },
    {
      "cell_type": "code",
      "metadata": {
        "colab": {
          "base_uri": "https://localhost:8080/",
          "height": 317
        },
        "id": "VOMl_7T3OUU2",
        "outputId": "5df1cf63-65ea-4dd7-b507-5848b1f08377"
      },
      "source": [
        "import matplotlib.pyplot as plt\n",
        "objects = ('CPU', 'GPU')\n",
        "pos = range(len(objects))\n",
        "performance = [cpu_time_max,gpu_time_max]\n",
        "\n",
        "y=plt.bar(pos, performance, align='center', alpha=0.5)\n",
        "plt.xticks(pos, objects)\n",
        "plt.ylabel('Time (s)')\n",
        "plt.title('Matrix multiplication performance')\n",
        "\n",
        "plt.show()\n",
        "\n",
        "print(f\"CPU: {cpu_time_max} seconds\")\n",
        "print(f\"GPU: {gpu_time_max} seconds\")"
      ],
      "execution_count": 19,
      "outputs": [
        {
          "output_type": "display_data",
          "data": {
            "image/png": "[encoded data removed]",
            "text/plain": [
              "<Figure size 432x288 with 1 Axes>"
            ]
          },
          "metadata": {
            "tags": [],
            "needs_background": "light"
          }
        },
        {
          "output_type": "stream",
          "text": [
            "CPU: 0.6643534302711487 seconds\n",
            "GPU: 0.0005867049912922084 seconds\n"
          ],
          "name": "stdout"
        }
      ]
    },
    {
      "cell_type": "code",
      "metadata": {
        "id": "W_P1Q3TCTRod"
      },
      "source": [
        "import numpy as np\n",
        "rg = np.random.default_rng(1)\n",
        "m3 = rg.random((K,K))\n",
        "m4 = rg.random((K,K))\n"
      ],
      "execution_count": 20,
      "outputs": []
    },
    {
      "cell_type": "code",
      "metadata": {
        "id": "Ve8kNnqKX0J1",
        "outputId": "a14e8cfc-487a-44de-c816-ceca2150ee3f",
        "colab": {
          "base_uri": "https://localhost:8080/"
        }
      },
      "source": [
        "%timeit -n1 -o m3 @ m4"
      ],
      "execution_count": 21,
      "outputs": [
        {
          "output_type": "stream",
          "text": [
            "1 loop, best of 5: 1.3 s per loop\n"
          ],
          "name": "stdout"
        },
        {
          "output_type": "execute_result",
          "data": {
            "text/plain": [
              "<TimeitResult : 1 loop, best of 5: 1.3 s per loop>"
            ]
          },
          "metadata": {
            "tags": []
          },
          "execution_count": 21
        }
      ]
    },
    {
      "cell_type": "code",
      "metadata": {
        "id": "Bl0Jz-6iX5tS"
      },
      "source": [
        "np_time = _"
      ],
      "execution_count": 22,
      "outputs": []
    },
    {
      "cell_type": "code",
      "metadata": {
        "id": "xxbS3wn-YPfY",
        "outputId": "e39b0754-afe4-4ae8-9da6-07aefc24cdd3",
        "colab": {
          "base_uri": "https://localhost:8080/"
        }
      },
      "source": [
        "np_time_tensor = torch.tensor(np_time.all_runs)\n",
        "np_time_max = np_time_tensor.mean()\n",
        "np_time_max"
      ],
      "execution_count": 23,
      "outputs": [
        {
          "output_type": "execute_result",
          "data": {
            "text/plain": [
              "tensor(1.3217)"
            ]
          },
          "metadata": {
            "tags": []
          },
          "execution_count": 23
        }
      ]
    },
    {
      "cell_type": "code",
      "metadata": {
        "id": "gVfw_VFCaXld"
      },
      "source": [
        "m1 = torch.from_numpy(m3)\n",
        "m2 = torch.from_numpy(m4)\n",
        "m1 = m1.to('cuda')\n",
        "m2 = m2.to('cuda')"
      ],
      "execution_count": 24,
      "outputs": []
    },
    {
      "cell_type": "code",
      "metadata": {
        "id": "JTFuJ9woanFI",
        "outputId": "4c3a4131-fde7-4cff-db52-be31afee25f4",
        "colab": {
          "base_uri": "https://localhost:8080/"
        }
      },
      "source": [
        "%timeit -n1 -o m1 @ m2"
      ],
      "execution_count": 25,
      "outputs": [
        {
          "output_type": "stream",
          "text": [
            "The slowest run took 59.44 times longer than the fastest. This could mean that an intermediate result is being cached.\n",
            "1 loop, best of 5: 12.3 µs per loop\n"
          ],
          "name": "stdout"
        },
        {
          "output_type": "execute_result",
          "data": {
            "text/plain": [
              "<TimeitResult : 1 loop, best of 5: 12.3 µs per loop>"
            ]
          },
          "metadata": {
            "tags": []
          },
          "execution_count": 25
        }
      ]
    },
    {
      "cell_type": "code",
      "metadata": {
        "id": "2pLlgsTMaveP",
        "outputId": "8f9df924-a5aa-4dae-a43b-649bc81bb9fd",
        "colab": {
          "base_uri": "https://localhost:8080/"
        }
      },
      "source": [
        "gpu_time = _\n",
        "gpu_time.all_runs"
      ],
      "execution_count": 26,
      "outputs": [
        {
          "output_type": "execute_result",
          "data": {
            "text/plain": [
              "[0.0007325410006160382,\n",
              " 3.503599964460591e-05,\n",
              " 1.677699947322253e-05,\n",
              " 1.3144000149623025e-05,\n",
              " 1.2323999726504553e-05]"
            ]
          },
          "metadata": {
            "tags": []
          },
          "execution_count": 26
        }
      ]
    },
    {
      "cell_type": "code",
      "metadata": {
        "id": "d2P9FM34atWh"
      },
      "source": [
        "gpu_time_tensor = torch.tensor(gpu_time.all_runs)\n",
        "gpu_time_max = gpu_time_tensor.max()"
      ],
      "execution_count": 27,
      "outputs": []
    },
    {
      "cell_type": "code",
      "metadata": {
        "id": "yAaxJviKX8gT",
        "outputId": "1ee689a3-8650-4ad1-ac0c-2c8262fc778e",
        "colab": {
          "base_uri": "https://localhost:8080/",
          "height": 317
        }
      },
      "source": [
        "objects = ('Numpy', 'Torch')\n",
        "pos = range(len(objects))\n",
        "performance = [np_time_max,gpu_time_max]\n",
        "\n",
        "y=plt.bar(pos, performance, align='center', alpha=0.5)\n",
        "plt.xticks(pos, objects)\n",
        "plt.ylabel('Time (s)')\n",
        "plt.title('Matrix multiplication performance')\n",
        "\n",
        "plt.show()\n",
        "\n",
        "print(f\"Numpy CPU: {np_time_max} seconds\")\n",
        "print(f\"Torch GPU: {gpu_time_max} seconds\")"
      ],
      "execution_count": 28,
      "outputs": [
        {
          "output_type": "display_data",
          "data": {
            "image/png": "[encoded data removed]",
            "text/plain": [
              "<Figure size 432x288 with 1 Axes>"
            ]
          },
          "metadata": {
            "tags": [],
            "needs_background": "light"
          }
        },
        {
          "output_type": "stream",
          "text": [
            "Numpy CPU: 1.3217105865478516 seconds\n",
            "Torch GPU: 0.0007325410260818899 seconds\n"
          ],
          "name": "stdout"
        }
      ]
    }
  ]
}