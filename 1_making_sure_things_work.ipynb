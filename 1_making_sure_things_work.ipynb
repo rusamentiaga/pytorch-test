{
  "nbformat": 4,
  "nbformat_minor": 0,
  "metadata": {
    "kernelspec": {
      "display_name": "Python 3",
      "language": "python",
      "name": "python3"
    },
    "language_info": {
      "codemirror_mode": {
        "name": "ipython",
        "version": 3
      },
      "file_extension": ".py",
      "mimetype": "text/x-python",
      "name": "python",
      "nbconvert_exporter": "python",
      "pygments_lexer": "ipython3",
      "version": "3.6.6"
    },
    "colab": {
      "name": "1_making_sure_things_work.ipynb",
      "provenance": []
    },
    "accelerator": "GPU"
  },
  "cells": [
    {
      "cell_type": "code",
      "metadata": {
        "id": "i2vbKDstDAD9"
      },
      "source": [
        "import torch"
      ],
      "execution_count": 145,
      "outputs": []
    },
    {
      "cell_type": "code",
      "metadata": {
        "id": "FyIprsRdDAED",
        "colab": {
          "base_uri": "https://localhost:8080/",
          "height": 36
        },
        "outputId": "628fb914-f303-40e1-bfb9-74f0c0705b30"
      },
      "source": [
        "torch.version.__version__"
      ],
      "execution_count": 146,
      "outputs": [
        {
          "output_type": "execute_result",
          "data": {
            "application/vnd.google.colaboratory.intrinsic+json": {
              "type": "string"
            },
            "text/plain": [
              "'1.8.0+cu101'"
            ]
          },
          "metadata": {
            "tags": []
          },
          "execution_count": 146
        }
      ]
    },
    {
      "cell_type": "code",
      "metadata": {
        "id": "DHrZ7hrmRhlI",
        "outputId": "61e74e9f-152e-4324-a6c4-44edd610a444",
        "colab": {
          "base_uri": "https://localhost:8080/"
        }
      },
      "source": [
        "torch.cuda.is_available()"
      ],
      "execution_count": 147,
      "outputs": [
        {
          "output_type": "execute_result",
          "data": {
            "text/plain": [
              "True"
            ]
          },
          "metadata": {
            "tags": []
          },
          "execution_count": 147
        }
      ]
    },
    {
      "cell_type": "code",
      "metadata": {
        "id": "nREPbtahDAEF"
      },
      "source": [
        "a = torch.ones(3,3)"
      ],
      "execution_count": 148,
      "outputs": []
    },
    {
      "cell_type": "code",
      "metadata": {
        "id": "eEBJz1wXDUh8",
        "colab": {
          "base_uri": "https://localhost:8080/"
        },
        "outputId": "512a85c8-d939-43bb-faac-8b66829f6926"
      },
      "source": [
        "a"
      ],
      "execution_count": 149,
      "outputs": [
        {
          "output_type": "execute_result",
          "data": {
            "text/plain": [
              "tensor([[1., 1., 1.],\n",
              "        [1., 1., 1.],\n",
              "        [1., 1., 1.]])"
            ]
          },
          "metadata": {
            "tags": []
          },
          "execution_count": 149
        }
      ]
    },
    {
      "cell_type": "code",
      "metadata": {
        "id": "0RodfICqDAEG"
      },
      "source": [
        "b = torch.ones(3,3)"
      ],
      "execution_count": 150,
      "outputs": []
    },
    {
      "cell_type": "code",
      "metadata": {
        "id": "5oKx6gYTDAEG",
        "colab": {
          "base_uri": "https://localhost:8080/"
        },
        "outputId": "58ecdf2b-fbc3-4a55-d5e6-b7aa4c0a7620"
      },
      "source": [
        "a + b"
      ],
      "execution_count": 151,
      "outputs": [
        {
          "output_type": "execute_result",
          "data": {
            "text/plain": [
              "tensor([[2., 2., 2.],\n",
              "        [2., 2., 2.],\n",
              "        [2., 2., 2.]])"
            ]
          },
          "metadata": {
            "tags": []
          },
          "execution_count": 151
        }
      ]
    },
    {
      "cell_type": "code",
      "metadata": {
        "id": "RMrwj7tKDAEH",
        "colab": {
          "base_uri": "https://localhost:8080/"
        },
        "outputId": "147d8a40-ce48-4ae4-e14a-5c53da78187f"
      },
      "source": [
        "a = a.to('cuda')\n",
        "b = b.to('cuda')\n",
        "a + b"
      ],
      "execution_count": 152,
      "outputs": [
        {
          "output_type": "execute_result",
          "data": {
            "text/plain": [
              "tensor([[2., 2., 2.],\n",
              "        [2., 2., 2.],\n",
              "        [2., 2., 2.]], device='cuda:0')"
            ]
          },
          "metadata": {
            "tags": []
          },
          "execution_count": 152
        }
      ]
    },
    {
      "cell_type": "code",
      "metadata": {
        "id": "7E4ELfV-DAEI",
        "outputId": "da9a6cb4-5729-428e-f09c-fa4c3fe5de38",
        "colab": {
          "base_uri": "https://localhost:8080/"
        }
      },
      "source": [
        "a @ b"
      ],
      "execution_count": 153,
      "outputs": [
        {
          "output_type": "execute_result",
          "data": {
            "text/plain": [
              "tensor([[3., 3., 3.],\n",
              "        [3., 3., 3.],\n",
              "        [3., 3., 3.]], device='cuda:0')"
            ]
          },
          "metadata": {
            "tags": []
          },
          "execution_count": 153
        }
      ]
    },
    {
      "cell_type": "code",
      "metadata": {
        "id": "aTwdMP24ToNT"
      },
      "source": [
        "a = torch.rand(5, 5)\n",
        "b = torch.rand(5, 5)\n",
        "r_cpu = a @ b\n",
        "a = a.to('cuda')\n",
        "b = b.to('cuda')\n",
        "r_gpu = a @ b"
      ],
      "execution_count": 154,
      "outputs": []
    },
    {
      "cell_type": "code",
      "metadata": {
        "id": "crCev2_VT2ZN",
        "outputId": "b3658ff2-44b6-4dc6-df8a-9e81c2bf9052",
        "colab": {
          "base_uri": "https://localhost:8080/"
        }
      },
      "source": [
        "dif = r_cpu - r_gpu.to('cpu')\n",
        "dif.sum()"
      ],
      "execution_count": 155,
      "outputs": [
        {
          "output_type": "execute_result",
          "data": {
            "text/plain": [
              "tensor(1.7881e-07)"
            ]
          },
          "metadata": {
            "tags": []
          },
          "execution_count": 155
        }
      ]
    },
    {
      "cell_type": "code",
      "metadata": {
        "id": "CWuAP0kBHYFW"
      },
      "source": [
        "K = 3000;\n",
        "m1 = torch.rand(K, K)\n",
        "m2 = torch.rand(K, K)"
      ],
      "execution_count": 165,
      "outputs": []
    },
    {
      "cell_type": "code",
      "metadata": {
        "id": "Cu27Gg6HHe4b",
        "outputId": "1bdb6a3b-c88e-4483-e5ac-ba16fa990e97",
        "colab": {
          "base_uri": "https://localhost:8080/"
        }
      },
      "source": [
        "%timeit -n1 -r1 -o m1 @ m2"
      ],
      "execution_count": 166,
      "outputs": [
        {
          "output_type": "stream",
          "text": [
            "1 loop, best of 1: 602 ms per loop\n"
          ],
          "name": "stdout"
        },
        {
          "output_type": "execute_result",
          "data": {
            "text/plain": [
              "<TimeitResult : 1 loop, best of 1: 602 ms per loop>"
            ]
          },
          "metadata": {
            "tags": []
          },
          "execution_count": 166
        }
      ]
    },
    {
      "cell_type": "code",
      "metadata": {
        "id": "MfuqYDy5KfgB"
      },
      "source": [
        "cpu_time = _"
      ],
      "execution_count": 167,
      "outputs": []
    },
    {
      "cell_type": "code",
      "metadata": {
        "id": "OogfuEfSHvpa"
      },
      "source": [
        "m1 = m1.to('cuda')\n",
        "m2 = m2.to('cuda')"
      ],
      "execution_count": 168,
      "outputs": []
    },
    {
      "cell_type": "code",
      "metadata": {
        "id": "kzXVlHntHz9K",
        "outputId": "5816c964-4194-4ed2-a4b7-2ad8b512b318",
        "colab": {
          "base_uri": "https://localhost:8080/"
        }
      },
      "source": [
        "%timeit -n1 -r1 -o r_gpu = m1 @ m2"
      ],
      "execution_count": 169,
      "outputs": [
        {
          "output_type": "stream",
          "text": [
            "1 loop, best of 1: 165 µs per loop\n"
          ],
          "name": "stdout"
        },
        {
          "output_type": "execute_result",
          "data": {
            "text/plain": [
              "<TimeitResult : 1 loop, best of 1: 165 µs per loop>"
            ]
          },
          "metadata": {
            "tags": []
          },
          "execution_count": 169
        }
      ]
    },
    {
      "cell_type": "code",
      "metadata": {
        "id": "LK0aw_E9MZkA"
      },
      "source": [
        "gpu_time = _"
      ],
      "execution_count": 170,
      "outputs": []
    },
    {
      "cell_type": "code",
      "metadata": {
        "id": "N4b9tEEmJvVK"
      },
      "source": [
        "cpu_time_tensor = torch.tensor(cpu_time.all_runs)\n",
        "cpu_time_mean = cpu_time_tensor.mean()\n",
        "gpu_time_tensor = torch.tensor(gpu_time.all_runs)\n",
        "gpu_time_mean = gpu_time_tensor.mean()\n"
      ],
      "execution_count": 171,
      "outputs": []
    },
    {
      "cell_type": "code",
      "metadata": {
        "id": "VOMl_7T3OUU2",
        "outputId": "d550c4f6-2450-4b1f-ab1f-1b70070192b5",
        "colab": {
          "base_uri": "https://localhost:8080/",
          "height": 317
        }
      },
      "source": [
        "import matplotlib.pyplot as plt\n",
        "objects = ('CPU', 'GPU')\n",
        "pos = range(len(objects))\n",
        "performance = [cpu_time_mean.tolist(),gpu_time_mean.tolist()]\n",
        "\n",
        "y=plt.bar(pos, performance, align='center', alpha=0.5)\n",
        "plt.xticks(pos, objects)\n",
        "plt.ylabel('Time (s)')\n",
        "plt.title('Matrix multiplication performance')\n",
        "\n",
        "plt.show()\n",
        "\n",
        "print(f\"CPU: {cpu_time_mean} seconds\")\n",
        "print(f\"GPU: {gpu_time_mean} seconds\")"
      ],
      "execution_count": 172,
      "outputs": [
        {
          "output_type": "display_data",
          "data": {
            "image/png": "[encoded data removed]",
            "text/plain": [
              "<Figure size 432x288 with 1 Axes>"
            ]
          },
          "metadata": {
            "tags": [],
            "needs_background": "light"
          }
        },
        {
          "output_type": "stream",
          "text": [
            "CPU: 0.601768434047699 seconds\n",
            "GPU: 0.00016467200475744903 seconds\n"
          ],
          "name": "stdout"
        }
      ]
    },
    {
      "cell_type": "code",
      "metadata": {
        "id": "W_P1Q3TCTRod",
        "outputId": "cd4d644f-92db-4d7a-897a-11cf364bdeb8",
        "colab": {
          "base_uri": "https://localhost:8080/"
        }
      },
      "source": [
        "cpu_time"
      ],
      "execution_count": 173,
      "outputs": [
        {
          "output_type": "execute_result",
          "data": {
            "text/plain": [
              "<TimeitResult : 1 loop, best of 1: 602 ms per loop>"
            ]
          },
          "metadata": {
            "tags": []
          },
          "execution_count": 173
        }
      ]
    }
  ]
}