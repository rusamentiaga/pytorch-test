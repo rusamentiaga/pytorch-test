{
  "nbformat": 4,
  "nbformat_minor": 0,
  "metadata": {
    "colab": {
      "name": "transformation.ipynb",
      "provenance": [],
      "collapsed_sections": [],
      "authorship_tag": "ABX9TyPwWuM7M//eIW9UnCu2KVPO",
      "include_colab_link": true
    },
    "kernelspec": {
      "name": "python3",
      "display_name": "Python 3"
    },
    "language_info": {
      "name": "python"
    }
  },
  "cells": [
    {
      "cell_type": "markdown",
      "metadata": {
        "id": "view-in-github",
        "colab_type": "text"
      },
      "source": [
        "<a href=\"https://colab.research.google.com/github/rusamentiaga/pytorch-test/blob/main/transformation.ipynb\" target=\"_parent\"><img src=\"https://colab.research.google.com/assets/colab-badge.svg\" alt=\"Open In Colab\"/></a>"
      ]
    },
    {
      "cell_type": "code",
      "metadata": {
        "id": "UlxMdyQX7cyy"
      },
      "source": [
        "import torch\n",
        "import matplotlib.pyplot as plt"
      ],
      "execution_count": 2,
      "outputs": []
    },
    {
      "cell_type": "code",
      "metadata": {
        "id": "L7Yqmdl_7p1p"
      },
      "source": [
        "x = torch.arange(1, 6)\n",
        "y = torch.arange(1, 6)\n",
        "grid_x, grid_y = torch.meshgrid(x, y)"
      ],
      "execution_count": 62,
      "outputs": []
    },
    {
      "cell_type": "code",
      "metadata": {
        "id": "6A1YkTzU8e43"
      },
      "source": [
        "grid_x = grid_x.flatten()\n",
        "grid_y = grid_y.flatten()"
      ],
      "execution_count": 63,
      "outputs": []
    },
    {
      "cell_type": "code",
      "metadata": {
        "colab": {
          "base_uri": "https://localhost:8080/",
          "height": 283
        },
        "id": "xAhwSM468pKE",
        "outputId": "b7dff2e6-b9dc-40c4-9ad0-56ecec10e426"
      },
      "source": [
        "plt.scatter(grid_x, grid_y)"
      ],
      "execution_count": 64,
      "outputs": [
        {
          "output_type": "execute_result",
          "data": {
            "text/plain": [
              "<matplotlib.collections.PathCollection at 0x7f8e5b994610>"
            ]
          },
          "metadata": {
            "tags": []
          },
          "execution_count": 64
        },
        {
          "output_type": "display_data",
          "data": {
            "image/png": "[encoded data removed]",
            "text/plain": [
              "<Figure size 432x288 with 1 Axes>"
            ]
          },
          "metadata": {
            "tags": [],
            "needs_background": "light"
          }
        }
      ]
    },
    {
      "cell_type": "code",
      "metadata": {
        "colab": {
          "base_uri": "https://localhost:8080/"
        },
        "id": "ehx-_XnjInL7",
        "outputId": "0547ad2c-592f-4390-8d17-cae123633bce"
      },
      "source": [
        "ones = torch.ones(len(grid_x))\n",
        "ones"
      ],
      "execution_count": 65,
      "outputs": [
        {
          "output_type": "execute_result",
          "data": {
            "text/plain": [
              "tensor([1., 1., 1., 1., 1., 1., 1., 1., 1., 1., 1., 1., 1., 1., 1., 1., 1., 1.,\n",
              "        1., 1., 1., 1., 1., 1., 1.])"
            ]
          },
          "metadata": {
            "tags": []
          },
          "execution_count": 65
        }
      ]
    },
    {
      "cell_type": "code",
      "metadata": {
        "colab": {
          "base_uri": "https://localhost:8080/"
        },
        "id": "bdWj44R0-_3z",
        "outputId": "0ba160bd-5e92-4652-b615-fd687516bdda"
      },
      "source": [
        "pts = torch.cat((grid_x, grid_y, ones), 0)\n",
        "pts.shape"
      ],
      "execution_count": 66,
      "outputs": [
        {
          "output_type": "execute_result",
          "data": {
            "text/plain": [
              "torch.Size([75])"
            ]
          },
          "metadata": {
            "tags": []
          },
          "execution_count": 66
        }
      ]
    },
    {
      "cell_type": "code",
      "metadata": {
        "colab": {
          "base_uri": "https://localhost:8080/"
        },
        "id": "3jAasT8RAm9h",
        "outputId": "27a23779-ab4e-4f7f-8007-ee1238a00df7"
      },
      "source": [
        "pts = pts.view(3, -1)\n",
        "pts.shape"
      ],
      "execution_count": 67,
      "outputs": [
        {
          "output_type": "execute_result",
          "data": {
            "text/plain": [
              "torch.Size([3, 25])"
            ]
          },
          "metadata": {
            "tags": []
          },
          "execution_count": 67
        }
      ]
    },
    {
      "cell_type": "code",
      "metadata": {
        "colab": {
          "base_uri": "https://localhost:8080/",
          "height": 287
        },
        "id": "bdXpC9pAA2Vu",
        "outputId": "43b7419b-9046-46e6-b5b8-2b67deb6bcd5"
      },
      "source": [
        "plt.scatter(pts[0,:], pts[1,:])\n",
        "plt.xlim([0, 25])\n",
        "plt.ylim([0, 25])"
      ],
      "execution_count": 68,
      "outputs": [
        {
          "output_type": "execute_result",
          "data": {
            "text/plain": [
              "(0.0, 25.0)"
            ]
          },
          "metadata": {
            "tags": []
          },
          "execution_count": 68
        },
        {
          "output_type": "display_data",
          "data": {
            "image/png": "[encoded data removed]",
            "text/plain": [
              "<Figure size 432x288 with 1 Axes>"
            ]
          },
          "metadata": {
            "tags": [],
            "needs_background": "light"
          }
        }
      ]
    },
    {
      "cell_type": "code",
      "metadata": {
        "colab": {
          "base_uri": "https://localhost:8080/",
          "height": 269
        },
        "id": "xTTSA-5DI_UG",
        "outputId": "974f84d9-48f1-4ec3-91ef-f3610396f346"
      },
      "source": [
        "H = torch.tensor([\n",
        "    [2.0, 0, 4,],\n",
        "    [0, 1, 5],\n",
        "    [0, 0, 1]\n",
        "])\n",
        "pts_trans = H @ pts\n",
        "pts_trans[0,:] /= pts_trans[2,:]\n",
        "pts_trans[1,:] /= pts_trans[2,:]\n",
        "plt.scatter(pts_trans[0,:], pts_trans[1,:])\n",
        "plt.xlim([0, 25])\n",
        "plt.ylim([0, 25])\n",
        "plt.grid(True)"
      ],
      "execution_count": 72,
      "outputs": [
        {
          "output_type": "display_data",
          "data": {
            "image/png": "[encoded data removed]",
            "text/plain": [
              "<Figure size 432x288 with 1 Axes>"
            ]
          },
          "metadata": {
            "tags": [],
            "needs_background": "light"
          }
        }
      ]
    }
  ]
}