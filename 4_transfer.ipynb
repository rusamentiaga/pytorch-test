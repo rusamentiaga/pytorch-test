{
  "nbformat": 4,
  "nbformat_minor": 0,
  "metadata": {
    "colab": {
      "name": "4_transfer.ipynb",
      "provenance": [],
      "collapsed_sections": [],
      "toc_visible": true,
      "authorship_tag": "ABX9TyOXYyc95xmqdHgeEgz6oOm2",
      "include_colab_link": true
    },
    "kernelspec": {
      "name": "python3",
      "display_name": "Python 3"
    },
    "language_info": {
      "name": "python"
    },
    "accelerator": "GPU"
  },
  "cells": [
    {
      "cell_type": "markdown",
      "metadata": {
        "id": "view-in-github",
        "colab_type": "text"
      },
      "source": [
        "<a href=\"https://colab.research.google.com/github/rusamentiaga/pytorch-test/blob/main/4_transfer.ipynb\" target=\"_parent\"><img src=\"https://colab.research.google.com/assets/colab-badge.svg\" alt=\"Open In Colab\"/></a>"
      ]
    },
    {
      "cell_type": "markdown",
      "metadata": {
        "id": "ik1U4OS_xQDf"
      },
      "source": [
        "# Modelos y transfer learning"
      ]
    },
    {
      "cell_type": "markdown",
      "metadata": {
        "id": "TXb8_4I1xT3r"
      },
      "source": [
        "La ventaja de los modelos de aprendizaje automático es que no es necesario crearlos desde cero, se puede partir de modelos prediseñados que se adapten a nuestro problema. Además, se puede partir de modelos pre-entrenados, donde solamente se entrenen capas específicas para adaptarlas a un problema concreto"
      ]
    },
    {
      "cell_type": "markdown",
      "metadata": {
        "id": "PlL4IwoYxyO2"
      },
      "source": [
        "# Dataset cifar-10"
      ]
    },
    {
      "cell_type": "markdown",
      "metadata": {
        "id": "GqglGS-Lx0aY"
      },
      "source": [
        "Para demostrar el funcionamiento del transfer learning se va a utilizar un dataset disponible en torchvision: [Cifar-10](https://www.cs.toronto.edu/~kriz/cifar.html)."
      ]
    },
    {
      "cell_type": "markdown",
      "metadata": {
        "id": "siXlJnq7x_Ls"
      },
      "source": [
        "Se cargan los paquetes."
      ]
    },
    {
      "cell_type": "code",
      "metadata": {
        "id": "4gJAEtYmgCsM"
      },
      "source": [
        "import torch\n",
        "import torchvision\n",
        "import torchvision.transforms as transforms"
      ],
      "execution_count": 1,
      "outputs": []
    },
    {
      "cell_type": "markdown",
      "metadata": {
        "id": "VX2AYYlbyB5l"
      },
      "source": [
        "Se configura el dispositivo"
      ]
    },
    {
      "cell_type": "code",
      "metadata": {
        "colab": {
          "base_uri": "https://localhost:8080/"
        },
        "id": "o8jLcLAqgLWB",
        "outputId": "1917a1d9-1fca-4290-ab73-16e262634339"
      },
      "source": [
        "device = torch.device('cuda' if torch.cuda.is_available() else 'cpu')\n",
        "device"
      ],
      "execution_count": 2,
      "outputs": [
        {
          "output_type": "execute_result",
          "data": {
            "text/plain": [
              "device(type='cuda')"
            ]
          },
          "metadata": {
            "tags": []
          },
          "execution_count": 2
        }
      ]
    },
    {
      "cell_type": "markdown",
      "metadata": {
        "id": "wBXVPwAsyE_k"
      },
      "source": [
        "Se define una transformación para adaptar el dataset al tamaño de entrada que espera la red. Además, se normaliza."
      ]
    },
    {
      "cell_type": "code",
      "metadata": {
        "id": "7w73OIOPgkbu"
      },
      "source": [
        "transform = transforms.Compose([\n",
        "    transforms.Resize(256),\n",
        "    transforms.CenterCrop(224),\n",
        "    transforms.ToTensor(),\n",
        "    transforms.Normalize(mean=[0.485, 0.456, 0.406], std=[0.229, 0.224, 0.225]),\n",
        "])"
      ],
      "execution_count": 3,
      "outputs": []
    },
    {
      "cell_type": "markdown",
      "metadata": {
        "id": "pgqV6S9TyMdj"
      },
      "source": [
        "Se descarga el dataset y se configuran los cargadores."
      ]
    },
    {
      "cell_type": "code",
      "metadata": {
        "colab": {
          "base_uri": "https://localhost:8080/"
        },
        "id": "LrpDm6PXgry7",
        "outputId": "56bcea68-c59c-4cfa-82f5-3df814f7659f"
      },
      "source": [
        "batch_size = 4\n",
        "\n",
        "#Downloading training data\n",
        "train_data = torchvision.datasets.CIFAR10(root='./data', train=True, download=True, transform=transform)\n",
        "\n",
        "trainloader = torch.utils.data.DataLoader(train_data, batch_size=batch_size, shuffle=True, num_workers=2)\n",
        "\n",
        "#Downloading test data\n",
        "test_data = torchvision.datasets.CIFAR10(root='./data', train=False, download=True, transform=transform)\n",
        "\n",
        "testloader = torch.utils.data.DataLoader(test_data, batch_size=batch_size, shuffle=False, num_workers=2)\n",
        "\n",
        "#Class labels\n",
        "\n",
        "classes = ('Airplane', 'Car', 'Bird', 'Cat', 'Deer', 'Dog', 'Frog', 'Horse', 'Ship', 'Truck')\n",
        "num_classes = len(classes)\n"
      ],
      "execution_count": 43,
      "outputs": [
        {
          "output_type": "stream",
          "text": [
            "Files already downloaded and verified\n",
            "Files already downloaded and verified\n"
          ],
          "name": "stdout"
        }
      ]
    },
    {
      "cell_type": "markdown",
      "metadata": {
        "id": "xXGRuMURyRrZ"
      },
      "source": [
        "Se comprueba que los ficheros están en disco."
      ]
    },
    {
      "cell_type": "code",
      "metadata": {
        "colab": {
          "base_uri": "https://localhost:8080/"
        },
        "id": "ayQ9ANMFhBuY",
        "outputId": "b7b57548-69b4-472b-ebb3-5cf349363948"
      },
      "source": [
        "!ls data/cifar-10-batches-py"
      ],
      "execution_count": 20,
      "outputs": [
        {
          "output_type": "stream",
          "text": [
            "batches.meta  data_batch_2  data_batch_4  readme.html\n",
            "data_batch_1  data_batch_3  data_batch_5  test_batch\n"
          ],
          "name": "stdout"
        }
      ]
    },
    {
      "cell_type": "markdown",
      "metadata": {
        "id": "oxjcVyllyUtp"
      },
      "source": [
        "Se puede ver el tamaño de cada batch."
      ]
    },
    {
      "cell_type": "code",
      "metadata": {
        "colab": {
          "base_uri": "https://localhost:8080/"
        },
        "id": "gpMKxJNHhL3O",
        "outputId": "54e4c30b-b4bd-4634-e671-c9e2093c5d4b"
      },
      "source": [
        "dataiter = iter(trainloader)\n",
        "images, labels = dataiter.next()\n",
        "images.shape\n"
      ],
      "execution_count": 44,
      "outputs": [
        {
          "output_type": "execute_result",
          "data": {
            "text/plain": [
              "torch.Size([4, 3, 224, 224])"
            ]
          },
          "metadata": {
            "tags": []
          },
          "execution_count": 44
        }
      ]
    },
    {
      "cell_type": "code",
      "metadata": {
        "colab": {
          "base_uri": "https://localhost:8080/"
        },
        "id": "n66ucY5p2hDU",
        "outputId": "7505cb9f-061a-4026-ed13-8294a0c35765"
      },
      "source": [
        "print(f'Train images: {len(train_data)}')\n",
        "print(f'Test images: {len(test_data)}')\n",
        "print(f'Train batches: {int(len(train_data)/batch_size)}')"
      ],
      "execution_count": 45,
      "outputs": [
        {
          "output_type": "stream",
          "text": [
            "Train images: 50000\n",
            "Test images: 10000\n",
            "Train batches: 12500\n"
          ],
          "name": "stdout"
        }
      ]
    },
    {
      "cell_type": "markdown",
      "metadata": {
        "id": "qe2CjUmTyYHH"
      },
      "source": [
        "Se visualiza un batch. El dataset contiene imágenes a baja resolución de 10 clases."
      ]
    },
    {
      "cell_type": "code",
      "metadata": {
        "colab": {
          "base_uri": "https://localhost:8080/",
          "height": 185
        },
        "id": "i1951BPJhWME",
        "outputId": "6232f437-b213-4b23-f127-925a696e841d"
      },
      "source": [
        "import matplotlib.pyplot as plt\n",
        "\n",
        "grid = torchvision.utils.make_grid(images)\n",
        "grid.shape\n",
        "\n",
        "# unnormalize\n",
        "grid = grid / 2 + 0.5     \n",
        "plt.imshow(grid.permute(1,2,0))\n",
        "\n",
        "plt.title(' '.join('%5s' % classes[labels[j]] for j in range(4)))"
      ],
      "execution_count": 8,
      "outputs": [
        {
          "output_type": "stream",
          "text": [
            "Clipping input data to the valid range for imshow with RGB data ([0..1] for floats or [0..255] for integers).\n"
          ],
          "name": "stderr"
        },
        {
          "output_type": "execute_result",
          "data": {
            "text/plain": [
              "Text(0.5, 1.0, ' Frog  Deer  Deer  Frog')"
            ]
          },
          "metadata": {
            "tags": []
          },
          "execution_count": 8
        },
        {
          "output_type": "display_data",
          "data": {
            "image/png": "[encoded data removed]",
            "text/plain": [
              "<Figure size 432x288 with 1 Axes>"
            ]
          },
          "metadata": {
            "tags": [],
            "needs_background": "light"
          }
        }
      ]
    },
    {
      "cell_type": "markdown",
      "metadata": {
        "id": "YtmHj4aMtts5"
      },
      "source": [
        "# Partiendo de un modelo preentrenado\n",
        "\n",
        "En este caso se va a partir de [AlexNet](https://github.com/pytorch/vision/blob/master/torchvision/models/alexnet.py). Se puede descargar con los parámetros entrenados en [ImageNet](https://www.google.com/search?q=Imagenet).\n"
      ]
    },
    {
      "cell_type": "code",
      "metadata": {
        "colab": {
          "base_uri": "https://localhost:8080/"
        },
        "id": "vlYff843iYiK",
        "outputId": "d2f7a007-31e2-4004-8cc2-1b0d415aebae"
      },
      "source": [
        "alexnet = torch.hub.load('pytorch/vision', 'alexnet', pretrained=False)\n",
        "alexnet.eval()"
      ],
      "execution_count": 47,
      "outputs": [
        {
          "output_type": "stream",
          "text": [
            "Downloading: \"https://github.com/pytorch/vision/archive/master.zip\" to /root/.cache/torch/hub/master.zip\n"
          ],
          "name": "stderr"
        },
        {
          "output_type": "execute_result",
          "data": {
            "text/plain": [
              "AlexNet(\n",
              "  (features): Sequential(\n",
              "    (0): Conv2d(3, 64, kernel_size=(11, 11), stride=(4, 4), padding=(2, 2))\n",
              "    (1): ReLU(inplace=True)\n",
              "    (2): MaxPool2d(kernel_size=3, stride=2, padding=0, dilation=1, ceil_mode=False)\n",
              "    (3): Conv2d(64, 192, kernel_size=(5, 5), stride=(1, 1), padding=(2, 2))\n",
              "    (4): ReLU(inplace=True)\n",
              "    (5): MaxPool2d(kernel_size=3, stride=2, padding=0, dilation=1, ceil_mode=False)\n",
              "    (6): Conv2d(192, 384, kernel_size=(3, 3), stride=(1, 1), padding=(1, 1))\n",
              "    (7): ReLU(inplace=True)\n",
              "    (8): Conv2d(384, 256, kernel_size=(3, 3), stride=(1, 1), padding=(1, 1))\n",
              "    (9): ReLU(inplace=True)\n",
              "    (10): Conv2d(256, 256, kernel_size=(3, 3), stride=(1, 1), padding=(1, 1))\n",
              "    (11): ReLU(inplace=True)\n",
              "    (12): MaxPool2d(kernel_size=3, stride=2, padding=0, dilation=1, ceil_mode=False)\n",
              "  )\n",
              "  (avgpool): AdaptiveAvgPool2d(output_size=(6, 6))\n",
              "  (classifier): Sequential(\n",
              "    (0): Dropout(p=0.5, inplace=False)\n",
              "    (1): Linear(in_features=9216, out_features=4096, bias=True)\n",
              "    (2): ReLU(inplace=True)\n",
              "    (3): Dropout(p=0.5, inplace=False)\n",
              "    (4): Linear(in_features=4096, out_features=4096, bias=True)\n",
              "    (5): ReLU(inplace=True)\n",
              "    (6): Linear(in_features=4096, out_features=1000, bias=True)\n",
              "  )\n",
              ")"
            ]
          },
          "metadata": {
            "tags": []
          },
          "execution_count": 47
        }
      ]
    },
    {
      "cell_type": "markdown",
      "metadata": {
        "id": "wsbnva9liybP"
      },
      "source": [
        "Para adaptarlo al problema concreto hay que cambiar la última capa."
      ]
    },
    {
      "cell_type": "code",
      "metadata": {
        "colab": {
          "base_uri": "https://localhost:8080/"
        },
        "id": "5y9TMAeZi-Sz",
        "outputId": "846453a6-9b7e-4c0a-e69c-54235433b781"
      },
      "source": [
        "#Updating the third and the last classifier that is the output layer of the network. Make sure to have 10 output nodes if we are going to get 10 class labels through our model.\n",
        "alexnet.classifier[6] = torch.nn.Linear(4096,num_classes)\n",
        "alexnet.eval()"
      ],
      "execution_count": 48,
      "outputs": [
        {
          "output_type": "execute_result",
          "data": {
            "text/plain": [
              "AlexNet(\n",
              "  (features): Sequential(\n",
              "    (0): Conv2d(3, 64, kernel_size=(11, 11), stride=(4, 4), padding=(2, 2))\n",
              "    (1): ReLU(inplace=True)\n",
              "    (2): MaxPool2d(kernel_size=3, stride=2, padding=0, dilation=1, ceil_mode=False)\n",
              "    (3): Conv2d(64, 192, kernel_size=(5, 5), stride=(1, 1), padding=(2, 2))\n",
              "    (4): ReLU(inplace=True)\n",
              "    (5): MaxPool2d(kernel_size=3, stride=2, padding=0, dilation=1, ceil_mode=False)\n",
              "    (6): Conv2d(192, 384, kernel_size=(3, 3), stride=(1, 1), padding=(1, 1))\n",
              "    (7): ReLU(inplace=True)\n",
              "    (8): Conv2d(384, 256, kernel_size=(3, 3), stride=(1, 1), padding=(1, 1))\n",
              "    (9): ReLU(inplace=True)\n",
              "    (10): Conv2d(256, 256, kernel_size=(3, 3), stride=(1, 1), padding=(1, 1))\n",
              "    (11): ReLU(inplace=True)\n",
              "    (12): MaxPool2d(kernel_size=3, stride=2, padding=0, dilation=1, ceil_mode=False)\n",
              "  )\n",
              "  (avgpool): AdaptiveAvgPool2d(output_size=(6, 6))\n",
              "  (classifier): Sequential(\n",
              "    (0): Dropout(p=0.5, inplace=False)\n",
              "    (1): Linear(in_features=9216, out_features=4096, bias=True)\n",
              "    (2): ReLU(inplace=True)\n",
              "    (3): Dropout(p=0.5, inplace=False)\n",
              "    (4): Linear(in_features=4096, out_features=4096, bias=True)\n",
              "    (5): ReLU(inplace=True)\n",
              "    (6): Linear(in_features=4096, out_features=10, bias=True)\n",
              "  )\n",
              ")"
            ]
          },
          "metadata": {
            "tags": []
          },
          "execution_count": 48
        }
      ]
    },
    {
      "cell_type": "markdown",
      "metadata": {
        "id": "GLNH28MV0C1n"
      },
      "source": [
        "Se define la función de entrenamiento."
      ]
    },
    {
      "cell_type": "code",
      "metadata": {
        "id": "nlbWPVdKj7vS"
      },
      "source": [
        "import time\n",
        "\n",
        "def train_model(model, criterion, optimizer):\n",
        "  # Train the model\n",
        "\n",
        "  training_start = time.time()\n",
        "\n",
        "  model.train()\n",
        "  total_step = len(trainloader)\n",
        "  for epoch in range(num_epochs):\n",
        "      start = time.time()\n",
        "      for i, (images, labels) in enumerate(trainloader):\n",
        "          images = images.to(device)\n",
        "          labels = labels.to(device)\n",
        "          \n",
        "          # Forward pass\n",
        "          outputs = model(images)\n",
        "          loss = criterion(outputs, labels)\n",
        "          \n",
        "          # Backward and optimize\n",
        "          optimizer.zero_grad()\n",
        "          loss.backward()\n",
        "          optimizer.step()\n",
        "\n",
        "          if (i+1) % 100 == 0:\n",
        "              end = time.time()\n",
        "              print (f'Epoch [{epoch+1}/{num_epochs}], Step [{i+1}/{total_step}], Loss: {loss}, Time: {end - start}')\n",
        "              start = time.time()\n",
        "\n",
        "  training_end = time.time()\n",
        "  print(f'Training time: {training_end - training_start}')\n"
      ],
      "execution_count": 40,
      "outputs": []
    },
    {
      "cell_type": "markdown",
      "metadata": {
        "id": "LjvyC0160HTm"
      },
      "source": [
        "Se define la función de evaluación."
      ]
    },
    {
      "cell_type": "code",
      "metadata": {
        "id": "t55PJIOErOJT"
      },
      "source": [
        "def eval_model(model):\n",
        "  model.eval()  # eval mode (batchnorm uses moving mean/variance instead of mini-batch mean/variance)\n",
        "  with torch.no_grad():\n",
        "      correct = 0\n",
        "      total = 0\n",
        "      for images, labels in testloader:\n",
        "          images = images.to(device)\n",
        "          labels = labels.to(device)\n",
        "          outputs = model(images)\n",
        "          _, predicted = torch.max(outputs.data, 1)\n",
        "          total += labels.size(0)\n",
        "          correct += (predicted == labels).sum().item()\n",
        "\n",
        "      print('Test Accuracy of the model using the test images: {} %'.format(100 * correct / total)) "
      ],
      "execution_count": 41,
      "outputs": []
    },
    {
      "cell_type": "markdown",
      "metadata": {
        "id": "IynG0raO0Kc_"
      },
      "source": [
        "Se realiza el entrenamiento del modelo con una determinada configuración"
      ]
    },
    {
      "cell_type": "code",
      "metadata": {
        "colab": {
          "base_uri": "https://localhost:8080/"
        },
        "id": "Wj3DpcDzkJeX",
        "outputId": "b0158c24-7334-452f-8a3c-a81af94832cf"
      },
      "source": [
        "# Hyperparameters\n",
        "num_epochs = 1\n",
        "learning_rate = 0.001\n",
        "momentum = 0.9\n",
        "\n",
        "# Model\n",
        "model = alexnet.to(device)\n",
        "\n",
        "# Loss and optimizer\n",
        "criterion = torch.nn.CrossEntropyLoss()\n",
        "optimizer = torch.optim.SGD(model.parameters(), lr=learning_rate, momentum=momentum)\n",
        "\n",
        "# Train\n",
        "train_model(model, criterion, optimizer)\n",
        "\n",
        "# Eval\n",
        "eval_model(model)"
      ],
      "execution_count": 49,
      "outputs": [
        {
          "output_type": "stream",
          "text": [
            "Epoch [1/1], Step [100/12500], Loss: 2.302236318588257, Time: 1.1319453716278076\n",
            "Epoch [1/1], Step [200/12500], Loss: 2.307997941970825, Time: 1.0308754444122314\n",
            "Epoch [1/1], Step [300/12500], Loss: 2.2886152267456055, Time: 1.0313103199005127\n",
            "Epoch [1/1], Step [400/12500], Loss: 2.3061363697052, Time: 1.0409660339355469\n",
            "Epoch [1/1], Step [500/12500], Loss: 2.2819745540618896, Time: 1.0413706302642822\n",
            "Epoch [1/1], Step [600/12500], Loss: 2.2928309440612793, Time: 1.0225293636322021\n",
            "Epoch [1/1], Step [700/12500], Loss: 2.2978830337524414, Time: 1.030216932296753\n",
            "Epoch [1/1], Step [800/12500], Loss: 2.3339178562164307, Time: 1.0252470970153809\n",
            "Epoch [1/1], Step [900/12500], Loss: 2.4419467449188232, Time: 1.047933578491211\n",
            "Epoch [1/1], Step [1000/12500], Loss: 2.197706937789917, Time: 1.0380873680114746\n",
            "Epoch [1/1], Step [1100/12500], Loss: 2.2204370498657227, Time: 1.0229356288909912\n",
            "Epoch [1/1], Step [1200/12500], Loss: 2.2582740783691406, Time: 1.0228917598724365\n",
            "Epoch [1/1], Step [1300/12500], Loss: 2.156790256500244, Time: 1.0376036167144775\n",
            "Epoch [1/1], Step [1400/12500], Loss: 2.0884759426116943, Time: 1.0361051559448242\n",
            "Epoch [1/1], Step [1500/12500], Loss: 1.5542054176330566, Time: 1.029710292816162\n",
            "Epoch [1/1], Step [1600/12500], Loss: 2.075737953186035, Time: 1.0341999530792236\n",
            "Epoch [1/1], Step [1700/12500], Loss: 2.18243670463562, Time: 1.0267503261566162\n",
            "Epoch [1/1], Step [1800/12500], Loss: 1.6812222003936768, Time: 1.0266079902648926\n",
            "Epoch [1/1], Step [1900/12500], Loss: 2.222700595855713, Time: 1.066960334777832\n",
            "Epoch [1/1], Step [2000/12500], Loss: 2.1291565895080566, Time: 1.0390276908874512\n",
            "Epoch [1/1], Step [2100/12500], Loss: 2.1763696670532227, Time: 1.028233528137207\n",
            "Epoch [1/1], Step [2200/12500], Loss: 1.8007642030715942, Time: 1.035332202911377\n",
            "Epoch [1/1], Step [2300/12500], Loss: 2.0357065200805664, Time: 1.0394494533538818\n",
            "Epoch [1/1], Step [2400/12500], Loss: 2.1014654636383057, Time: 1.0362484455108643\n",
            "Epoch [1/1], Step [2500/12500], Loss: 1.35713791847229, Time: 1.0319783687591553\n",
            "Epoch [1/1], Step [2600/12500], Loss: 1.847206950187683, Time: 1.0297825336456299\n",
            "Epoch [1/1], Step [2700/12500], Loss: 1.7215750217437744, Time: 1.0287902355194092\n",
            "Epoch [1/1], Step [2800/12500], Loss: 1.703635573387146, Time: 1.0315842628479004\n",
            "Epoch [1/1], Step [2900/12500], Loss: 2.597865581512451, Time: 1.0390446186065674\n",
            "Epoch [1/1], Step [3000/12500], Loss: 2.2860491275787354, Time: 1.0413157939910889\n",
            "Epoch [1/1], Step [3100/12500], Loss: 1.380845308303833, Time: 1.0210561752319336\n",
            "Epoch [1/1], Step [3200/12500], Loss: 2.10475754737854, Time: 1.028703212738037\n",
            "Epoch [1/1], Step [3300/12500], Loss: 2.1288373470306396, Time: 1.0192334651947021\n",
            "Epoch [1/1], Step [3400/12500], Loss: 1.9823764562606812, Time: 1.0200743675231934\n",
            "Epoch [1/1], Step [3500/12500], Loss: 1.552693247795105, Time: 1.0273592472076416\n",
            "Epoch [1/1], Step [3600/12500], Loss: 2.1034140586853027, Time: 1.0262024402618408\n",
            "Epoch [1/1], Step [3700/12500], Loss: 2.1068859100341797, Time: 1.0375237464904785\n",
            "Epoch [1/1], Step [3800/12500], Loss: 2.2398643493652344, Time: 1.0711150169372559\n",
            "Epoch [1/1], Step [3900/12500], Loss: 1.1239124536514282, Time: 1.03580641746521\n",
            "Epoch [1/1], Step [4000/12500], Loss: 2.707197666168213, Time: 1.033301591873169\n",
            "Epoch [1/1], Step [4100/12500], Loss: 1.8723089694976807, Time: 1.035935401916504\n",
            "Epoch [1/1], Step [4200/12500], Loss: 2.346980571746826, Time: 1.0292327404022217\n",
            "Epoch [1/1], Step [4300/12500], Loss: 2.2930030822753906, Time: 1.0406684875488281\n",
            "Epoch [1/1], Step [4400/12500], Loss: 1.8717396259307861, Time: 1.0385828018188477\n",
            "Epoch [1/1], Step [4500/12500], Loss: 1.3115925788879395, Time: 1.030122995376587\n",
            "Epoch [1/1], Step [4600/12500], Loss: 1.5180776119232178, Time: 1.0399720668792725\n",
            "Epoch [1/1], Step [4700/12500], Loss: 1.9090081453323364, Time: 1.0366649627685547\n",
            "Epoch [1/1], Step [4800/12500], Loss: 1.3918367624282837, Time: 1.0407891273498535\n",
            "Epoch [1/1], Step [4900/12500], Loss: 1.8514569997787476, Time: 1.040116786956787\n",
            "Epoch [1/1], Step [5000/12500], Loss: 1.2072151899337769, Time: 1.0349860191345215\n",
            "Epoch [1/1], Step [5100/12500], Loss: 1.0886927843093872, Time: 1.0297508239746094\n",
            "Epoch [1/1], Step [5200/12500], Loss: 1.6442394256591797, Time: 1.036348819732666\n",
            "Epoch [1/1], Step [5300/12500], Loss: 2.1029088497161865, Time: 1.0258662700653076\n",
            "Epoch [1/1], Step [5400/12500], Loss: 1.7549762725830078, Time: 1.0281453132629395\n",
            "Epoch [1/1], Step [5500/12500], Loss: 1.357397437095642, Time: 1.027757167816162\n",
            "Epoch [1/1], Step [5600/12500], Loss: 1.523696780204773, Time: 1.0344319343566895\n",
            "Epoch [1/1], Step [5700/12500], Loss: 1.6203508377075195, Time: 1.0369997024536133\n",
            "Epoch [1/1], Step [5800/12500], Loss: 1.6814395189285278, Time: 1.02988600730896\n",
            "Epoch [1/1], Step [5900/12500], Loss: 0.7526417970657349, Time: 1.0326828956604004\n",
            "Epoch [1/1], Step [6000/12500], Loss: 1.326843023300171, Time: 1.0417897701263428\n",
            "Epoch [1/1], Step [6100/12500], Loss: 1.4228122234344482, Time: 1.0318810939788818\n",
            "Epoch [1/1], Step [6200/12500], Loss: 1.3390872478485107, Time: 1.0240797996520996\n",
            "Epoch [1/1], Step [6300/12500], Loss: 1.8367693424224854, Time: 1.0415186882019043\n",
            "Epoch [1/1], Step [6400/12500], Loss: 1.7447395324707031, Time: 1.0296108722686768\n",
            "Epoch [1/1], Step [6500/12500], Loss: 1.117058277130127, Time: 1.0274994373321533\n",
            "Epoch [1/1], Step [6600/12500], Loss: 1.7617590427398682, Time: 1.029026746749878\n",
            "Epoch [1/1], Step [6700/12500], Loss: 1.490660309791565, Time: 1.0282607078552246\n",
            "Epoch [1/1], Step [6800/12500], Loss: 3.206514835357666, Time: 1.0376183986663818\n",
            "Epoch [1/1], Step [6900/12500], Loss: 1.9352142810821533, Time: 1.037552833557129\n",
            "Epoch [1/1], Step [7000/12500], Loss: 1.643208622932434, Time: 1.0273656845092773\n",
            "Epoch [1/1], Step [7100/12500], Loss: 1.9657163619995117, Time: 1.0270605087280273\n",
            "Epoch [1/1], Step [7200/12500], Loss: 0.8898067474365234, Time: 1.0355420112609863\n",
            "Epoch [1/1], Step [7300/12500], Loss: 1.495502233505249, Time: 1.0486042499542236\n",
            "Epoch [1/1], Step [7400/12500], Loss: 1.1891225576400757, Time: 1.0352306365966797\n",
            "Epoch [1/1], Step [7500/12500], Loss: 0.8873830437660217, Time: 1.0344362258911133\n",
            "Epoch [1/1], Step [7600/12500], Loss: 2.256869316101074, Time: 1.0350341796875\n",
            "Epoch [1/1], Step [7700/12500], Loss: 1.8358261585235596, Time: 1.0354321002960205\n",
            "Epoch [1/1], Step [7800/12500], Loss: 1.4313488006591797, Time: 1.0237171649932861\n",
            "Epoch [1/1], Step [7900/12500], Loss: 1.3747094869613647, Time: 1.0325322151184082\n",
            "Epoch [1/1], Step [8000/12500], Loss: 0.8540003895759583, Time: 1.0247180461883545\n",
            "Epoch [1/1], Step [8100/12500], Loss: 0.6974899768829346, Time: 1.037322998046875\n",
            "Epoch [1/1], Step [8200/12500], Loss: 0.856431245803833, Time: 1.0399940013885498\n",
            "Epoch [1/1], Step [8300/12500], Loss: 1.6065648794174194, Time: 1.0205683708190918\n",
            "Epoch [1/1], Step [8400/12500], Loss: 1.944620132446289, Time: 1.0283119678497314\n",
            "Epoch [1/1], Step [8500/12500], Loss: 1.2329121828079224, Time: 1.0311031341552734\n",
            "Epoch [1/1], Step [8600/12500], Loss: 1.05936861038208, Time: 1.0340547561645508\n",
            "Epoch [1/1], Step [8700/12500], Loss: 1.1927194595336914, Time: 1.0313539505004883\n",
            "Epoch [1/1], Step [8800/12500], Loss: 1.174155354499817, Time: 1.0231099128723145\n",
            "Epoch [1/1], Step [8900/12500], Loss: 1.290757417678833, Time: 1.0239133834838867\n",
            "Epoch [1/1], Step [9000/12500], Loss: 1.890984296798706, Time: 1.024479627609253\n",
            "Epoch [1/1], Step [9100/12500], Loss: 1.8125873804092407, Time: 1.027228832244873\n",
            "Epoch [1/1], Step [9200/12500], Loss: 1.0051302909851074, Time: 1.029365062713623\n",
            "Epoch [1/1], Step [9300/12500], Loss: 1.4540669918060303, Time: 1.0341072082519531\n",
            "Epoch [1/1], Step [9400/12500], Loss: 1.7063615322113037, Time: 1.0286250114440918\n",
            "Epoch [1/1], Step [9500/12500], Loss: 1.3512136936187744, Time: 1.0221738815307617\n",
            "Epoch [1/1], Step [9600/12500], Loss: 1.0341686010360718, Time: 1.033977746963501\n",
            "Epoch [1/1], Step [9700/12500], Loss: 1.4630699157714844, Time: 1.0289363861083984\n",
            "Epoch [1/1], Step [9800/12500], Loss: 1.6829407215118408, Time: 1.0305280685424805\n",
            "Epoch [1/1], Step [9900/12500], Loss: 1.2733917236328125, Time: 1.0255625247955322\n",
            "Epoch [1/1], Step [10000/12500], Loss: 0.8908124566078186, Time: 1.0337393283843994\n",
            "Epoch [1/1], Step [10100/12500], Loss: 1.8703773021697998, Time: 1.037719964981079\n",
            "Epoch [1/1], Step [10200/12500], Loss: 1.5170732736587524, Time: 1.0284335613250732\n",
            "Epoch [1/1], Step [10300/12500], Loss: 2.0177226066589355, Time: 1.040461540222168\n",
            "Epoch [1/1], Step [10400/12500], Loss: 0.9138491153717041, Time: 1.0413682460784912\n",
            "Epoch [1/1], Step [10500/12500], Loss: 2.8951144218444824, Time: 1.022639274597168\n",
            "Epoch [1/1], Step [10600/12500], Loss: 1.3296198844909668, Time: 1.0288002490997314\n",
            "Epoch [1/1], Step [10700/12500], Loss: 2.502756357192993, Time: 1.0235774517059326\n",
            "Epoch [1/1], Step [10800/12500], Loss: 2.128225088119507, Time: 1.0433998107910156\n",
            "Epoch [1/1], Step [10900/12500], Loss: 1.9088122844696045, Time: 1.0278668403625488\n",
            "Epoch [1/1], Step [11000/12500], Loss: 1.2841991186141968, Time: 1.0313947200775146\n",
            "Epoch [1/1], Step [11100/12500], Loss: 0.6192260384559631, Time: 1.0263102054595947\n",
            "Epoch [1/1], Step [11200/12500], Loss: 2.4414665699005127, Time: 1.018859624862671\n",
            "Epoch [1/1], Step [11300/12500], Loss: 1.7209620475769043, Time: 1.0385348796844482\n",
            "Epoch [1/1], Step [11400/12500], Loss: 0.905685544013977, Time: 1.040654182434082\n",
            "Epoch [1/1], Step [11500/12500], Loss: 1.4992542266845703, Time: 1.0388987064361572\n",
            "Epoch [1/1], Step [11600/12500], Loss: 0.6761242151260376, Time: 1.0232963562011719\n",
            "Epoch [1/1], Step [11700/12500], Loss: 1.0105884075164795, Time: 1.0291061401367188\n",
            "Epoch [1/1], Step [11800/12500], Loss: 2.1023988723754883, Time: 1.0278971195220947\n",
            "Epoch [1/1], Step [11900/12500], Loss: 1.271803855895996, Time: 1.026737928390503\n",
            "Epoch [1/1], Step [12000/12500], Loss: 0.8607214689254761, Time: 1.036480188369751\n",
            "Epoch [1/1], Step [12100/12500], Loss: 1.351581335067749, Time: 1.0342366695404053\n",
            "Epoch [1/1], Step [12200/12500], Loss: 0.5116562843322754, Time: 1.0273842811584473\n",
            "Epoch [1/1], Step [12300/12500], Loss: 1.170680284500122, Time: 1.0363209247589111\n",
            "Epoch [1/1], Step [12400/12500], Loss: 1.986970067024231, Time: 1.0264596939086914\n",
            "Epoch [1/1], Step [12500/12500], Loss: 1.661679983139038, Time: 1.033550500869751\n",
            "Training time: 129.96297097206116\n",
            "Test Accuracy of the model using the test images: 50.43 %\n"
          ],
          "name": "stdout"
        }
      ]
    },
    {
      "cell_type": "markdown",
      "metadata": {
        "id": "7uJZGapgYPlZ"
      },
      "source": [
        "Se puede probar ahora a realizar el mismo proceso pero descargando la red preentrenada."
      ]
    },
    {
      "cell_type": "markdown",
      "metadata": {
        "id": "GWTNhWRBymrV"
      },
      "source": [
        "# Bloqueando el aprendizaje en algunas capas\n",
        "Durante el entrenamiento se puede bloquear el entrenamiento de ciertas capas para acelerar el proceso.\n"
      ]
    },
    {
      "cell_type": "code",
      "metadata": {
        "colab": {
          "base_uri": "https://localhost:8080/"
        },
        "id": "QJ4BwmmjmUVJ",
        "outputId": "2ba8877b-8b6d-457b-dd72-8e19e1b2279d"
      },
      "source": [
        "alexnet_lock = torch.hub.load('pytorch/vision', 'alexnet', pretrained=True)\n",
        "alexnet_lock.eval()"
      ],
      "execution_count": 50,
      "outputs": [
        {
          "output_type": "stream",
          "text": [
            "Using cache found in /root/.cache/torch/hub/pytorch_vision_master\n"
          ],
          "name": "stderr"
        },
        {
          "output_type": "execute_result",
          "data": {
            "text/plain": [
              "AlexNet(\n",
              "  (features): Sequential(\n",
              "    (0): Conv2d(3, 64, kernel_size=(11, 11), stride=(4, 4), padding=(2, 2))\n",
              "    (1): ReLU(inplace=True)\n",
              "    (2): MaxPool2d(kernel_size=3, stride=2, padding=0, dilation=1, ceil_mode=False)\n",
              "    (3): Conv2d(64, 192, kernel_size=(5, 5), stride=(1, 1), padding=(2, 2))\n",
              "    (4): ReLU(inplace=True)\n",
              "    (5): MaxPool2d(kernel_size=3, stride=2, padding=0, dilation=1, ceil_mode=False)\n",
              "    (6): Conv2d(192, 384, kernel_size=(3, 3), stride=(1, 1), padding=(1, 1))\n",
              "    (7): ReLU(inplace=True)\n",
              "    (8): Conv2d(384, 256, kernel_size=(3, 3), stride=(1, 1), padding=(1, 1))\n",
              "    (9): ReLU(inplace=True)\n",
              "    (10): Conv2d(256, 256, kernel_size=(3, 3), stride=(1, 1), padding=(1, 1))\n",
              "    (11): ReLU(inplace=True)\n",
              "    (12): MaxPool2d(kernel_size=3, stride=2, padding=0, dilation=1, ceil_mode=False)\n",
              "  )\n",
              "  (avgpool): AdaptiveAvgPool2d(output_size=(6, 6))\n",
              "  (classifier): Sequential(\n",
              "    (0): Dropout(p=0.5, inplace=False)\n",
              "    (1): Linear(in_features=9216, out_features=4096, bias=True)\n",
              "    (2): ReLU(inplace=True)\n",
              "    (3): Dropout(p=0.5, inplace=False)\n",
              "    (4): Linear(in_features=4096, out_features=4096, bias=True)\n",
              "    (5): ReLU(inplace=True)\n",
              "    (6): Linear(in_features=4096, out_features=1000, bias=True)\n",
              "  )\n",
              ")"
            ]
          },
          "metadata": {
            "tags": []
          },
          "execution_count": 50
        }
      ]
    },
    {
      "cell_type": "markdown",
      "metadata": {
        "id": "kNtIn1Np0mJJ"
      },
      "source": [
        "Se especifíca que no se cácule gradiente para el modelo."
      ]
    },
    {
      "cell_type": "code",
      "metadata": {
        "id": "0l2zmu7EmWjK"
      },
      "source": [
        "# Freeze model weights\n",
        "for param in alexnet_lock.parameters():\n",
        "    param.requires_grad = False"
      ],
      "execution_count": 52,
      "outputs": []
    },
    {
      "cell_type": "markdown",
      "metadata": {
        "id": "h7PduxLS0tDg"
      },
      "source": [
        "Se añade una nueva capa de clasificación. Cuando se añade un nueva capa, por defecto se establece que sí se cálculo el gradiente y, por tanto, se permite su entrenamiento."
      ]
    },
    {
      "cell_type": "code",
      "metadata": {
        "colab": {
          "base_uri": "https://localhost:8080/"
        },
        "id": "HvZ8xcU4_-Gp",
        "outputId": "2aabc556-1f1c-4afd-f519-91a50c0945d1"
      },
      "source": [
        "alexnet_lock.classifier[6] = torch.nn.Linear(4096, num_classes)\n",
        "alexnet_lock.eval()"
      ],
      "execution_count": 53,
      "outputs": [
        {
          "output_type": "execute_result",
          "data": {
            "text/plain": [
              "AlexNet(\n",
              "  (features): Sequential(\n",
              "    (0): Conv2d(3, 64, kernel_size=(11, 11), stride=(4, 4), padding=(2, 2))\n",
              "    (1): ReLU(inplace=True)\n",
              "    (2): MaxPool2d(kernel_size=3, stride=2, padding=0, dilation=1, ceil_mode=False)\n",
              "    (3): Conv2d(64, 192, kernel_size=(5, 5), stride=(1, 1), padding=(2, 2))\n",
              "    (4): ReLU(inplace=True)\n",
              "    (5): MaxPool2d(kernel_size=3, stride=2, padding=0, dilation=1, ceil_mode=False)\n",
              "    (6): Conv2d(192, 384, kernel_size=(3, 3), stride=(1, 1), padding=(1, 1))\n",
              "    (7): ReLU(inplace=True)\n",
              "    (8): Conv2d(384, 256, kernel_size=(3, 3), stride=(1, 1), padding=(1, 1))\n",
              "    (9): ReLU(inplace=True)\n",
              "    (10): Conv2d(256, 256, kernel_size=(3, 3), stride=(1, 1), padding=(1, 1))\n",
              "    (11): ReLU(inplace=True)\n",
              "    (12): MaxPool2d(kernel_size=3, stride=2, padding=0, dilation=1, ceil_mode=False)\n",
              "  )\n",
              "  (avgpool): AdaptiveAvgPool2d(output_size=(6, 6))\n",
              "  (classifier): Sequential(\n",
              "    (0): Dropout(p=0.5, inplace=False)\n",
              "    (1): Linear(in_features=9216, out_features=4096, bias=True)\n",
              "    (2): ReLU(inplace=True)\n",
              "    (3): Dropout(p=0.5, inplace=False)\n",
              "    (4): Linear(in_features=4096, out_features=4096, bias=True)\n",
              "    (5): ReLU(inplace=True)\n",
              "    (6): Linear(in_features=4096, out_features=10, bias=True)\n",
              "  )\n",
              ")"
            ]
          },
          "metadata": {
            "tags": []
          },
          "execution_count": 53
        }
      ]
    },
    {
      "cell_type": "markdown",
      "metadata": {
        "id": "FGyfva6xAj9C"
      },
      "source": [
        "Se puede también cambiar un conjunto de capas y reducir por ejemplo la complejidad de 4096 a 512 en la última capa."
      ]
    },
    {
      "cell_type": "code",
      "metadata": {
        "colab": {
          "base_uri": "https://localhost:8080/"
        },
        "id": "MdrtzwHLmb6P",
        "outputId": "f9f0a513-f8b0-4322-ded8-a493c3cfd0f2"
      },
      "source": [
        "alexnet_lock.classifier = torch.nn.Sequential(\n",
        "  torch.nn.Dropout(),\n",
        "  torch.nn.Linear(256 * 6 * 6, 4096),\n",
        "  torch.nn.ReLU(inplace=True),\n",
        "  torch.nn.Dropout(),\n",
        "  torch.nn.Linear(4096, 512),\n",
        "  torch.nn.ReLU(inplace=True),\n",
        "  torch.nn.Linear(512, num_classes),\n",
        ")\n",
        "alexnet_lock.eval()"
      ],
      "execution_count": 17,
      "outputs": [
        {
          "output_type": "execute_result",
          "data": {
            "text/plain": [
              "AlexNet(\n",
              "  (features): Sequential(\n",
              "    (0): Conv2d(3, 64, kernel_size=(11, 11), stride=(4, 4), padding=(2, 2))\n",
              "    (1): ReLU(inplace=True)\n",
              "    (2): MaxPool2d(kernel_size=3, stride=2, padding=0, dilation=1, ceil_mode=False)\n",
              "    (3): Conv2d(64, 192, kernel_size=(5, 5), stride=(1, 1), padding=(2, 2))\n",
              "    (4): ReLU(inplace=True)\n",
              "    (5): MaxPool2d(kernel_size=3, stride=2, padding=0, dilation=1, ceil_mode=False)\n",
              "    (6): Conv2d(192, 384, kernel_size=(3, 3), stride=(1, 1), padding=(1, 1))\n",
              "    (7): ReLU(inplace=True)\n",
              "    (8): Conv2d(384, 256, kernel_size=(3, 3), stride=(1, 1), padding=(1, 1))\n",
              "    (9): ReLU(inplace=True)\n",
              "    (10): Conv2d(256, 256, kernel_size=(3, 3), stride=(1, 1), padding=(1, 1))\n",
              "    (11): ReLU(inplace=True)\n",
              "    (12): MaxPool2d(kernel_size=3, stride=2, padding=0, dilation=1, ceil_mode=False)\n",
              "  )\n",
              "  (avgpool): AdaptiveAvgPool2d(output_size=(6, 6))\n",
              "  (classifier): Sequential(\n",
              "    (0): Dropout(p=0.5, inplace=False)\n",
              "    (1): Linear(in_features=9216, out_features=4096, bias=True)\n",
              "    (2): ReLU(inplace=True)\n",
              "    (3): Dropout(p=0.5, inplace=False)\n",
              "    (4): Linear(in_features=4096, out_features=512, bias=True)\n",
              "    (5): ReLU(inplace=True)\n",
              "    (6): Linear(in_features=512, out_features=10, bias=True)\n",
              "  )\n",
              ")"
            ]
          },
          "metadata": {
            "tags": []
          },
          "execution_count": 17
        }
      ]
    },
    {
      "cell_type": "markdown",
      "metadata": {
        "id": "W1XWyOms029m"
      },
      "source": [
        "Se pueden observar los parámetros bloqueados. En otro tipo de redes y con imágenes de más resolución se pueden reducir los parámetros a entrenar en un 99%."
      ]
    },
    {
      "cell_type": "code",
      "metadata": {
        "colab": {
          "base_uri": "https://localhost:8080/"
        },
        "id": "rkUZjydApHwL",
        "outputId": "1560f6b2-46db-4cbf-cd44-95de95dea6cf"
      },
      "source": [
        "total_params = sum(p.numel() for p in alexnet_lock.parameters())\n",
        "print(f'{total_params:,} total parameters.')\n",
        "total_trainable_params = sum(\n",
        "    p.numel() for p in alexnet_lock.parameters() if p.requires_grad)\n",
        "print(f'{total_trainable_params:,} training parameters.')"
      ],
      "execution_count": 54,
      "outputs": [
        {
          "output_type": "stream",
          "text": [
            "57,044,810 total parameters.\n",
            "40,970 training parameters.\n"
          ],
          "name": "stdout"
        }
      ]
    },
    {
      "cell_type": "markdown",
      "metadata": {
        "id": "tNTYfJlR1Dmk"
      },
      "source": [
        "Se configurarn los parámetros y realiza el entrenamiento y la evaluación."
      ]
    },
    {
      "cell_type": "code",
      "metadata": {
        "colab": {
          "base_uri": "https://localhost:8080/"
        },
        "id": "wr0cNik4m5ua",
        "outputId": "33fe0e6b-eec3-4ad2-d7c2-788e1ad00150"
      },
      "source": [
        "# Hyperparameters\n",
        "num_epochs = 2\n",
        "learning_rate = 0.001\n",
        "momentum = 0.9\n",
        "\n",
        "# Model\n",
        "model = alexnet_lock.to(device)\n",
        "\n",
        "# Loss and optimizer\n",
        "criterion = torch.nn.CrossEntropyLoss()\n",
        "optimizer = torch.optim.SGD(model.parameters(), lr=learning_rate, momentum=momentum)\n",
        "\n",
        "# Train\n",
        "train_model(model, criterion, optimizer)\n",
        "\n",
        "# Eval\n",
        "eval_model(model)"
      ],
      "execution_count": 56,
      "outputs": [
        {
          "output_type": "stream",
          "text": [
            "Epoch [1/2], Step [100/12500], Loss: 0.0991966649889946, Time: 0.842108964920044\n",
            "Epoch [1/2], Step [200/12500], Loss: 0.0022731453645974398, Time: 0.7719106674194336\n",
            "Epoch [1/2], Step [300/12500], Loss: 1.577224612236023, Time: 0.7484619617462158\n",
            "Epoch [1/2], Step [400/12500], Loss: 0.1322552114725113, Time: 0.7735846042633057\n",
            "Epoch [1/2], Step [500/12500], Loss: 3.3483688831329346, Time: 0.7597205638885498\n",
            "Epoch [1/2], Step [600/12500], Loss: 0.18308652937412262, Time: 0.754183292388916\n",
            "Epoch [1/2], Step [700/12500], Loss: 2.339968681335449, Time: 0.7701857089996338\n",
            "Epoch [1/2], Step [800/12500], Loss: 1.0535129308700562, Time: 0.7458479404449463\n",
            "Epoch [1/2], Step [900/12500], Loss: 1.740615725517273, Time: 0.7490794658660889\n",
            "Epoch [1/2], Step [1000/12500], Loss: 4.960234642028809, Time: 0.7630438804626465\n",
            "Epoch [1/2], Step [1100/12500], Loss: 0.17345425486564636, Time: 0.7888534069061279\n",
            "Epoch [1/2], Step [1200/12500], Loss: 4.042672157287598, Time: 0.7799367904663086\n",
            "Epoch [1/2], Step [1300/12500], Loss: 3.663484573364258, Time: 0.7405009269714355\n",
            "Epoch [1/2], Step [1400/12500], Loss: 3.8506791591644287, Time: 0.7517402172088623\n",
            "Epoch [1/2], Step [1500/12500], Loss: 1.9172258377075195, Time: 0.7582862377166748\n",
            "Epoch [1/2], Step [1600/12500], Loss: 4.047720432281494, Time: 0.7627882957458496\n",
            "Epoch [1/2], Step [1700/12500], Loss: 0.7998639345169067, Time: 0.7402777671813965\n",
            "Epoch [1/2], Step [1800/12500], Loss: 0.0313224196434021, Time: 0.7500245571136475\n",
            "Epoch [1/2], Step [1900/12500], Loss: 7.111948013305664, Time: 0.7632720470428467\n",
            "Epoch [1/2], Step [2000/12500], Loss: 0.8335615396499634, Time: 0.7523775100708008\n",
            "Epoch [1/2], Step [2100/12500], Loss: 1.585763931274414, Time: 0.7494850158691406\n",
            "Epoch [1/2], Step [2200/12500], Loss: 2.201669931411743, Time: 0.7582199573516846\n",
            "Epoch [1/2], Step [2300/12500], Loss: 1.6294875144958496, Time: 0.7485980987548828\n",
            "Epoch [1/2], Step [2400/12500], Loss: 4.101988315582275, Time: 0.794520378112793\n",
            "Epoch [1/2], Step [2500/12500], Loss: 3.482872724533081, Time: 0.7747528553009033\n",
            "Epoch [1/2], Step [2600/12500], Loss: 3.7071900367736816, Time: 0.761319637298584\n",
            "Epoch [1/2], Step [2700/12500], Loss: 1.0930712223052979, Time: 0.7683560848236084\n",
            "Epoch [1/2], Step [2800/12500], Loss: 0.7598131895065308, Time: 0.8171393871307373\n",
            "Epoch [1/2], Step [2900/12500], Loss: 2.261289358139038, Time: 0.7862510681152344\n",
            "Epoch [1/2], Step [3000/12500], Loss: 0.20994575321674347, Time: 0.76621413230896\n",
            "Epoch [1/2], Step [3100/12500], Loss: 0.7921637892723083, Time: 0.7755191326141357\n",
            "Epoch [1/2], Step [3200/12500], Loss: 0.27387452125549316, Time: 0.7524945735931396\n",
            "Epoch [1/2], Step [3300/12500], Loss: 2.5113751888275146, Time: 0.7388513088226318\n",
            "Epoch [1/2], Step [3400/12500], Loss: 0.003087257035076618, Time: 0.7926263809204102\n",
            "Epoch [1/2], Step [3500/12500], Loss: 0.9808433055877686, Time: 0.7799630165100098\n",
            "Epoch [1/2], Step [3600/12500], Loss: 1.4176987409591675, Time: 0.7721278667449951\n",
            "Epoch [1/2], Step [3700/12500], Loss: 1.8966243267059326, Time: 0.7616786956787109\n",
            "Epoch [1/2], Step [3800/12500], Loss: 0.4171675443649292, Time: 0.7473306655883789\n",
            "Epoch [1/2], Step [3900/12500], Loss: 1.187203288078308, Time: 0.752108097076416\n",
            "Epoch [1/2], Step [4000/12500], Loss: 4.955637454986572, Time: 0.7669646739959717\n",
            "Epoch [1/2], Step [4100/12500], Loss: 0.394150972366333, Time: 0.8163423538208008\n",
            "Epoch [1/2], Step [4200/12500], Loss: 3.9985814094543457, Time: 0.7506868839263916\n",
            "Epoch [1/2], Step [4300/12500], Loss: 2.008016586303711, Time: 0.761577844619751\n",
            "Epoch [1/2], Step [4400/12500], Loss: 0.5159258842468262, Time: 0.7688219547271729\n",
            "Epoch [1/2], Step [4500/12500], Loss: 2.294546127319336, Time: 0.7615933418273926\n",
            "Epoch [1/2], Step [4600/12500], Loss: 1.0207844972610474, Time: 0.7521705627441406\n",
            "Epoch [1/2], Step [4700/12500], Loss: 2.1392102241516113, Time: 0.744556188583374\n",
            "Epoch [1/2], Step [4800/12500], Loss: 4.050424098968506, Time: 0.7714357376098633\n",
            "Epoch [1/2], Step [4900/12500], Loss: 1.3672115802764893, Time: 0.7351720333099365\n",
            "Epoch [1/2], Step [5000/12500], Loss: 2.858224630355835, Time: 0.7303590774536133\n",
            "Epoch [1/2], Step [5100/12500], Loss: 10.39537239074707, Time: 0.7566399574279785\n",
            "Epoch [1/2], Step [5200/12500], Loss: 0.0228947214782238, Time: 0.7554476261138916\n",
            "Epoch [1/2], Step [5300/12500], Loss: 0.31657886505126953, Time: 0.7699265480041504\n",
            "Epoch [1/2], Step [5400/12500], Loss: 4.131405830383301, Time: 0.796332836151123\n",
            "Epoch [1/2], Step [5500/12500], Loss: 0.43721646070480347, Time: 0.7677028179168701\n",
            "Epoch [1/2], Step [5600/12500], Loss: 0.16202829778194427, Time: 0.7446725368499756\n",
            "Epoch [1/2], Step [5700/12500], Loss: 4.160755157470703, Time: 0.7649867534637451\n",
            "Epoch [1/2], Step [5800/12500], Loss: 0.2099829763174057, Time: 0.7555248737335205\n",
            "Epoch [1/2], Step [5900/12500], Loss: 1.7991664409637451, Time: 0.7823379039764404\n",
            "Epoch [1/2], Step [6000/12500], Loss: 0.9965296387672424, Time: 0.7379684448242188\n",
            "Epoch [1/2], Step [6100/12500], Loss: 0.004341907799243927, Time: 0.7658381462097168\n",
            "Epoch [1/2], Step [6200/12500], Loss: 0.2565153241157532, Time: 0.7711455821990967\n",
            "Epoch [1/2], Step [6300/12500], Loss: 0.006488957442343235, Time: 0.7619531154632568\n",
            "Epoch [1/2], Step [6400/12500], Loss: 0.663237452507019, Time: 0.7631576061248779\n",
            "Epoch [1/2], Step [6500/12500], Loss: 1.274750828742981, Time: 0.7719953060150146\n",
            "Epoch [1/2], Step [6600/12500], Loss: 1.6758651733398438, Time: 0.7382125854492188\n",
            "Epoch [1/2], Step [6700/12500], Loss: 0.6604283452033997, Time: 0.7559154033660889\n",
            "Epoch [1/2], Step [6800/12500], Loss: 2.230271577835083, Time: 0.7474219799041748\n",
            "Epoch [1/2], Step [6900/12500], Loss: 3.7256202697753906, Time: 0.738062858581543\n",
            "Epoch [1/2], Step [7000/12500], Loss: 3.9290387630462646, Time: 0.7542479038238525\n",
            "Epoch [1/2], Step [7100/12500], Loss: 0.3542992174625397, Time: 0.7642805576324463\n",
            "Epoch [1/2], Step [7200/12500], Loss: 3.8713183403015137, Time: 0.7807912826538086\n",
            "Epoch [1/2], Step [7300/12500], Loss: 5.570986747741699, Time: 0.8279402256011963\n",
            "Epoch [1/2], Step [7400/12500], Loss: 0.0018003598088398576, Time: 0.756401538848877\n",
            "Epoch [1/2], Step [7500/12500], Loss: 4.1723231447576836e-07, Time: 0.7447850704193115\n",
            "Epoch [1/2], Step [7600/12500], Loss: 4.467879772186279, Time: 0.765300989151001\n",
            "Epoch [1/2], Step [7700/12500], Loss: 0.016161153092980385, Time: 0.7553141117095947\n",
            "Epoch [1/2], Step [7800/12500], Loss: 1.6192407608032227, Time: 0.7561318874359131\n",
            "Epoch [1/2], Step [7900/12500], Loss: 0.27138084173202515, Time: 0.7559335231781006\n",
            "Epoch [1/2], Step [8000/12500], Loss: 1.44429612159729, Time: 0.7693068981170654\n",
            "Epoch [1/2], Step [8100/12500], Loss: 0.24530386924743652, Time: 0.7806992530822754\n",
            "Epoch [1/2], Step [8200/12500], Loss: 0.6418570876121521, Time: 0.7517077922821045\n",
            "Epoch [1/2], Step [8300/12500], Loss: 5.3067731857299805, Time: 0.7559905052185059\n",
            "Epoch [1/2], Step [8400/12500], Loss: 4.685932636260986, Time: 0.7747185230255127\n",
            "Epoch [1/2], Step [8500/12500], Loss: 4.2758636474609375, Time: 0.7704801559448242\n",
            "Epoch [1/2], Step [8600/12500], Loss: 2.6232762336730957, Time: 0.7399005889892578\n",
            "Epoch [1/2], Step [8700/12500], Loss: 0.004288113210350275, Time: 0.7804586887359619\n",
            "Epoch [1/2], Step [8800/12500], Loss: 0.0002756080066319555, Time: 0.7685363292694092\n",
            "Epoch [1/2], Step [8900/12500], Loss: 0.0029198916163295507, Time: 0.7885134220123291\n",
            "Epoch [1/2], Step [9000/12500], Loss: 1.3658490180969238, Time: 0.7563605308532715\n",
            "Epoch [1/2], Step [9100/12500], Loss: 2.124791145324707, Time: 0.7604947090148926\n",
            "Epoch [1/2], Step [9200/12500], Loss: 0.05320906266570091, Time: 0.7518889904022217\n",
            "Epoch [1/2], Step [9300/12500], Loss: 5.531237602233887, Time: 0.7500200271606445\n",
            "Epoch [1/2], Step [9400/12500], Loss: 5.748305320739746, Time: 0.7462320327758789\n",
            "Epoch [1/2], Step [9500/12500], Loss: 0.15079230070114136, Time: 0.7476885318756104\n",
            "Epoch [1/2], Step [9600/12500], Loss: 1.312934398651123, Time: 0.753058671951294\n",
            "Epoch [1/2], Step [9700/12500], Loss: 4.078586578369141, Time: 0.8052217960357666\n",
            "Epoch [1/2], Step [9800/12500], Loss: 0.1642434000968933, Time: 0.7514398097991943\n",
            "Epoch [1/2], Step [9900/12500], Loss: 2.997668504714966, Time: 0.753333568572998\n",
            "Epoch [1/2], Step [10000/12500], Loss: 5.94566535949707, Time: 0.7666213512420654\n",
            "Epoch [1/2], Step [10100/12500], Loss: 2.7648489475250244, Time: 0.7707874774932861\n",
            "Epoch [1/2], Step [10200/12500], Loss: 0.0, Time: 0.7751049995422363\n",
            "Epoch [1/2], Step [10300/12500], Loss: 1.6821712255477905, Time: 0.775198221206665\n",
            "Epoch [1/2], Step [10400/12500], Loss: 3.8092689514160156, Time: 0.74977707862854\n",
            "Epoch [1/2], Step [10500/12500], Loss: 4.272169589996338, Time: 0.7528564929962158\n",
            "Epoch [1/2], Step [10600/12500], Loss: 1.9132981300354004, Time: 0.7528500556945801\n",
            "Epoch [1/2], Step [10700/12500], Loss: 3.7208471298217773, Time: 0.7552945613861084\n",
            "Epoch [1/2], Step [10800/12500], Loss: 1.263266682624817, Time: 0.746211051940918\n",
            "Epoch [1/2], Step [10900/12500], Loss: 3.417095422744751, Time: 0.7918963432312012\n",
            "Epoch [1/2], Step [11000/12500], Loss: 0.00955740362405777, Time: 0.762404203414917\n",
            "Epoch [1/2], Step [11100/12500], Loss: 1.2218167781829834, Time: 0.7674765586853027\n",
            "Epoch [1/2], Step [11200/12500], Loss: 5.810872607980855e-05, Time: 0.749347448348999\n",
            "Epoch [1/2], Step [11300/12500], Loss: 0.0010883923387154937, Time: 0.7552955150604248\n",
            "Epoch [1/2], Step [11400/12500], Loss: 3.533750295639038, Time: 0.756723165512085\n",
            "Epoch [1/2], Step [11500/12500], Loss: 0.0034652475733309984, Time: 0.7631664276123047\n",
            "Epoch [1/2], Step [11600/12500], Loss: 5.485772609710693, Time: 0.7648417949676514\n",
            "Epoch [1/2], Step [11700/12500], Loss: 3.8176939487457275, Time: 0.7562503814697266\n",
            "Epoch [1/2], Step [11800/12500], Loss: 6.307003021240234, Time: 0.7547173500061035\n",
            "Epoch [1/2], Step [11900/12500], Loss: 6.545849323272705, Time: 0.7568650245666504\n",
            "Epoch [1/2], Step [12000/12500], Loss: 4.956291198730469, Time: 0.7463605403900146\n",
            "Epoch [1/2], Step [12100/12500], Loss: 0.6093319654464722, Time: 0.7517411708831787\n",
            "Epoch [1/2], Step [12200/12500], Loss: 0.407814085483551, Time: 0.7375695705413818\n",
            "Epoch [1/2], Step [12300/12500], Loss: 0.7616730332374573, Time: 0.7392606735229492\n",
            "Epoch [1/2], Step [12400/12500], Loss: 1.8966283798217773, Time: 0.7703580856323242\n",
            "Epoch [1/2], Step [12500/12500], Loss: 3.474334716796875, Time: 0.7626373767852783\n",
            "Epoch [2/2], Step [100/12500], Loss: 4.888115406036377, Time: 0.8329267501831055\n",
            "Epoch [2/2], Step [200/12500], Loss: 0.019737768918275833, Time: 0.742408275604248\n",
            "Epoch [2/2], Step [300/12500], Loss: 4.813990592956543, Time: 0.7539305686950684\n",
            "Epoch [2/2], Step [400/12500], Loss: 0.025270255282521248, Time: 0.7717914581298828\n",
            "Epoch [2/2], Step [500/12500], Loss: 4.616042137145996, Time: 0.7788848876953125\n",
            "Epoch [2/2], Step [600/12500], Loss: 2.3915364742279053, Time: 0.7722690105438232\n",
            "Epoch [2/2], Step [700/12500], Loss: 0.4892822802066803, Time: 0.7669394016265869\n",
            "Epoch [2/2], Step [800/12500], Loss: 6.313457489013672, Time: 0.7513508796691895\n",
            "Epoch [2/2], Step [900/12500], Loss: 1.9103662967681885, Time: 0.7416303157806396\n",
            "Epoch [2/2], Step [1000/12500], Loss: 1.7956799268722534, Time: 0.747295618057251\n",
            "Epoch [2/2], Step [1100/12500], Loss: 2.814332962036133, Time: 0.7520332336425781\n",
            "Epoch [2/2], Step [1200/12500], Loss: 0.27085718512535095, Time: 0.7563614845275879\n",
            "Epoch [2/2], Step [1300/12500], Loss: 0.200617253780365, Time: 0.7596802711486816\n",
            "Epoch [2/2], Step [1400/12500], Loss: 2.7539284229278564, Time: 0.7638177871704102\n",
            "Epoch [2/2], Step [1500/12500], Loss: 1.5794963474036194e-05, Time: 0.7440328598022461\n",
            "Epoch [2/2], Step [1600/12500], Loss: 0.09037395566701889, Time: 0.8092935085296631\n",
            "Epoch [2/2], Step [1700/12500], Loss: 1.8760370016098022, Time: 0.7711284160614014\n",
            "Epoch [2/2], Step [1800/12500], Loss: 0.0017120640259236097, Time: 0.7737014293670654\n",
            "Epoch [2/2], Step [1900/12500], Loss: 2.029445171356201, Time: 0.7533299922943115\n",
            "Epoch [2/2], Step [2000/12500], Loss: 0.22937946021556854, Time: 0.7654967308044434\n",
            "Epoch [2/2], Step [2100/12500], Loss: 0.0049594989977777, Time: 0.765800952911377\n",
            "Epoch [2/2], Step [2200/12500], Loss: 4.130458354949951, Time: 0.7569420337677002\n",
            "Epoch [2/2], Step [2300/12500], Loss: 4.259866714477539, Time: 0.7633075714111328\n",
            "Epoch [2/2], Step [2400/12500], Loss: 0.0353563018143177, Time: 0.7640528678894043\n",
            "Epoch [2/2], Step [2500/12500], Loss: 0.2170659452676773, Time: 0.7548251152038574\n",
            "Epoch [2/2], Step [2600/12500], Loss: 5.951651573181152, Time: 0.7424125671386719\n",
            "Epoch [2/2], Step [2700/12500], Loss: 1.4623076915740967, Time: 0.7663865089416504\n",
            "Epoch [2/2], Step [2800/12500], Loss: 0.5567215085029602, Time: 0.7457940578460693\n",
            "Epoch [2/2], Step [2900/12500], Loss: 4.930292129516602, Time: 0.7493183612823486\n",
            "Epoch [2/2], Step [3000/12500], Loss: 0.1002049446105957, Time: 0.7483289241790771\n",
            "Epoch [2/2], Step [3100/12500], Loss: 2.2968859672546387, Time: 0.8110289573669434\n",
            "Epoch [2/2], Step [3200/12500], Loss: 3.497175693511963, Time: 0.808272123336792\n",
            "Epoch [2/2], Step [3300/12500], Loss: 0.0003802845603786409, Time: 0.7824258804321289\n",
            "Epoch [2/2], Step [3400/12500], Loss: 1.7834978103637695, Time: 0.7547380924224854\n",
            "Epoch [2/2], Step [3500/12500], Loss: 0.0028250908944755793, Time: 0.7438862323760986\n",
            "Epoch [2/2], Step [3600/12500], Loss: 0.009877316653728485, Time: 0.7544569969177246\n",
            "Epoch [2/2], Step [3700/12500], Loss: 7.097004413604736, Time: 0.7673921585083008\n",
            "Epoch [2/2], Step [3800/12500], Loss: 1.670186161994934, Time: 0.7564973831176758\n",
            "Epoch [2/2], Step [3900/12500], Loss: 2.786911964416504, Time: 0.7678165435791016\n",
            "Epoch [2/2], Step [4000/12500], Loss: 0.2679857611656189, Time: 0.756749153137207\n",
            "Epoch [2/2], Step [4100/12500], Loss: 0.24105975031852722, Time: 0.7774043083190918\n",
            "Epoch [2/2], Step [4200/12500], Loss: 1.3890032768249512, Time: 0.751086950302124\n",
            "Epoch [2/2], Step [4300/12500], Loss: 1.5795061699463986e-05, Time: 0.7732663154602051\n",
            "Epoch [2/2], Step [4400/12500], Loss: 0.7160438299179077, Time: 0.765796422958374\n",
            "Epoch [2/2], Step [4500/12500], Loss: 2.5430808067321777, Time: 0.7562620639801025\n",
            "Epoch [2/2], Step [4600/12500], Loss: 2.8130276203155518, Time: 0.7587835788726807\n",
            "Epoch [2/2], Step [4700/12500], Loss: 2.284008502960205, Time: 0.7634387016296387\n",
            "Epoch [2/2], Step [4800/12500], Loss: 2.214597225189209, Time: 0.7595202922821045\n",
            "Epoch [2/2], Step [4900/12500], Loss: 1.7015149593353271, Time: 0.7434735298156738\n",
            "Epoch [2/2], Step [5000/12500], Loss: 5.751292705535889, Time: 0.7744119167327881\n",
            "Epoch [2/2], Step [5100/12500], Loss: 0.9466325044631958, Time: 0.7615835666656494\n",
            "Epoch [2/2], Step [5200/12500], Loss: 0.7544151544570923, Time: 0.7609460353851318\n",
            "Epoch [2/2], Step [5300/12500], Loss: 0.34970301389694214, Time: 0.7798182964324951\n",
            "Epoch [2/2], Step [5400/12500], Loss: 7.67856502532959, Time: 0.7447381019592285\n",
            "Epoch [2/2], Step [5500/12500], Loss: 0.00041189929470419884, Time: 0.7493729591369629\n",
            "Epoch [2/2], Step [5600/12500], Loss: 2.955324172973633, Time: 0.7658672332763672\n",
            "Epoch [2/2], Step [5700/12500], Loss: 1.0364468097686768, Time: 0.7698795795440674\n",
            "Epoch [2/2], Step [5800/12500], Loss: 0.9681469798088074, Time: 0.7730424404144287\n",
            "Epoch [2/2], Step [5900/12500], Loss: 0.9578177332878113, Time: 0.7754364013671875\n",
            "Epoch [2/2], Step [6000/12500], Loss: 0.0851835235953331, Time: 0.769878625869751\n",
            "Epoch [2/2], Step [6100/12500], Loss: 0.03303544968366623, Time: 0.7604579925537109\n",
            "Epoch [2/2], Step [6200/12500], Loss: 1.3748691082000732, Time: 0.7686231136322021\n",
            "Epoch [2/2], Step [6300/12500], Loss: 0.026581691578030586, Time: 0.7760851383209229\n",
            "Epoch [2/2], Step [6400/12500], Loss: 5.900818450754741e-06, Time: 0.7577018737792969\n",
            "Epoch [2/2], Step [6500/12500], Loss: 0.006303396541625261, Time: 0.7607576847076416\n",
            "Epoch [2/2], Step [6600/12500], Loss: 0.005672184284776449, Time: 0.7726216316223145\n",
            "Epoch [2/2], Step [6700/12500], Loss: 5.07331657409668, Time: 0.7606210708618164\n",
            "Epoch [2/2], Step [6800/12500], Loss: 5.9542646408081055, Time: 0.7604005336761475\n",
            "Epoch [2/2], Step [6900/12500], Loss: 1.4651100635528564, Time: 0.7437663078308105\n",
            "Epoch [2/2], Step [7000/12500], Loss: 2.9446628093719482, Time: 0.7512431144714355\n",
            "Epoch [2/2], Step [7100/12500], Loss: 2.1420300006866455, Time: 0.7728357315063477\n",
            "Epoch [2/2], Step [7200/12500], Loss: 0.019997430965304375, Time: 0.7967650890350342\n",
            "Epoch [2/2], Step [7300/12500], Loss: 1.4268255233764648, Time: 0.7760589122772217\n",
            "Epoch [2/2], Step [7400/12500], Loss: 0.03699685260653496, Time: 0.7446689605712891\n",
            "Epoch [2/2], Step [7500/12500], Loss: 0.2943264842033386, Time: 0.7507045269012451\n",
            "Epoch [2/2], Step [7600/12500], Loss: 6.590348720550537, Time: 0.7638752460479736\n",
            "Epoch [2/2], Step [7700/12500], Loss: 0.042135823518037796, Time: 0.7536678314208984\n",
            "Epoch [2/2], Step [7800/12500], Loss: 2.6798300743103027, Time: 0.7595224380493164\n",
            "Epoch [2/2], Step [7900/12500], Loss: 4.853879451751709, Time: 0.7479863166809082\n",
            "Epoch [2/2], Step [8000/12500], Loss: 7.676811695098877, Time: 0.7742626667022705\n",
            "Epoch [2/2], Step [8100/12500], Loss: 0.0007413352141156793, Time: 0.7653534412384033\n",
            "Epoch [2/2], Step [8200/12500], Loss: 2.9362165927886963, Time: 0.7324032783508301\n",
            "Epoch [2/2], Step [8300/12500], Loss: 0.33424443006515503, Time: 0.7436838150024414\n",
            "Epoch [2/2], Step [8400/12500], Loss: 3.450392961502075, Time: 0.7607126235961914\n",
            "Epoch [2/2], Step [8500/12500], Loss: 2.4283812046051025, Time: 0.7656509876251221\n",
            "Epoch [2/2], Step [8600/12500], Loss: 0.9866278171539307, Time: 0.7459080219268799\n",
            "Epoch [2/2], Step [8700/12500], Loss: 1.8167682886123657, Time: 0.7530848979949951\n",
            "Epoch [2/2], Step [8800/12500], Loss: 3.070620536804199, Time: 0.7416715621948242\n",
            "Epoch [2/2], Step [8900/12500], Loss: 1.3976107835769653, Time: 0.7576627731323242\n",
            "Epoch [2/2], Step [9000/12500], Loss: 0.0007252698997035623, Time: 0.7472348213195801\n",
            "Epoch [2/2], Step [9100/12500], Loss: 6.712197303771973, Time: 0.7507493495941162\n",
            "Epoch [2/2], Step [9200/12500], Loss: 3.3316777262371033e-05, Time: 0.747657060623169\n",
            "Epoch [2/2], Step [9300/12500], Loss: 1.043411135673523, Time: 0.7738363742828369\n",
            "Epoch [2/2], Step [9400/12500], Loss: 4.25656795501709, Time: 0.7497901916503906\n",
            "Epoch [2/2], Step [9500/12500], Loss: 0.35477960109710693, Time: 0.7423503398895264\n",
            "Epoch [2/2], Step [9600/12500], Loss: 0.0008959597907960415, Time: 0.7513735294342041\n",
            "Epoch [2/2], Step [9700/12500], Loss: 0.2716830372810364, Time: 0.7518773078918457\n",
            "Epoch [2/2], Step [9800/12500], Loss: 0.015356237068772316, Time: 0.7432267665863037\n",
            "Epoch [2/2], Step [9900/12500], Loss: 6.890720844268799, Time: 0.7693808078765869\n",
            "Epoch [2/2], Step [10000/12500], Loss: 0.6313027739524841, Time: 0.7649977207183838\n",
            "Epoch [2/2], Step [10100/12500], Loss: 1.6240872144699097, Time: 0.7677497863769531\n",
            "Epoch [2/2], Step [10200/12500], Loss: 0.47102153301239014, Time: 0.7779514789581299\n",
            "Epoch [2/2], Step [10300/12500], Loss: 6.171019077301025, Time: 0.7626972198486328\n",
            "Epoch [2/2], Step [10400/12500], Loss: 0.2684435546398163, Time: 0.7792322635650635\n",
            "Epoch [2/2], Step [10500/12500], Loss: 0.004039381630718708, Time: 0.7600469589233398\n",
            "Epoch [2/2], Step [10600/12500], Loss: 0.40967994928359985, Time: 0.7504897117614746\n",
            "Epoch [2/2], Step [10700/12500], Loss: 0.33653709292411804, Time: 0.7587990760803223\n",
            "Epoch [2/2], Step [10800/12500], Loss: 1.4731683731079102, Time: 0.7512316703796387\n",
            "Epoch [2/2], Step [10900/12500], Loss: 6.878180980682373, Time: 0.7739131450653076\n",
            "Epoch [2/2], Step [11000/12500], Loss: 2.692591905593872, Time: 0.7338743209838867\n",
            "Epoch [2/2], Step [11100/12500], Loss: 6.769293785095215, Time: 0.7682454586029053\n",
            "Epoch [2/2], Step [11200/12500], Loss: 2.180335283279419, Time: 0.7722656726837158\n",
            "Epoch [2/2], Step [11300/12500], Loss: 0.0008726539090275764, Time: 0.769484281539917\n",
            "Epoch [2/2], Step [11400/12500], Loss: 0.5621767044067383, Time: 0.7516155242919922\n",
            "Epoch [2/2], Step [11500/12500], Loss: 2.492382287979126, Time: 0.755516767501831\n",
            "Epoch [2/2], Step [11600/12500], Loss: 2.081237316131592, Time: 0.7725510597229004\n",
            "Epoch [2/2], Step [11700/12500], Loss: 0.65053391456604, Time: 0.7467935085296631\n",
            "Epoch [2/2], Step [11800/12500], Loss: 1.5613811016082764, Time: 0.7422304153442383\n",
            "Epoch [2/2], Step [11900/12500], Loss: 0.041281525045633316, Time: 0.7516250610351562\n",
            "Epoch [2/2], Step [12000/12500], Loss: 0.20387002825737, Time: 0.7487115859985352\n",
            "Epoch [2/2], Step [12100/12500], Loss: 0.35066476464271545, Time: 0.7279033660888672\n",
            "Epoch [2/2], Step [12200/12500], Loss: 1.000745177268982, Time: 0.7623960971832275\n",
            "Epoch [2/2], Step [12300/12500], Loss: 2.5896129608154297, Time: 0.7669744491577148\n",
            "Epoch [2/2], Step [12400/12500], Loss: 4.769399166107178, Time: 0.7503597736358643\n",
            "Epoch [2/2], Step [12500/12500], Loss: 5.9604641222676946e-08, Time: 0.7664628028869629\n",
            "Training time: 190.78801274299622\n",
            "Test Accuracy of the model using the test images: 76.26 %\n"
          ],
          "name": "stdout"
        }
      ]
    },
    {
      "cell_type": "markdown",
      "metadata": {
        "id": "rW_KVtvE1JPD"
      },
      "source": [
        "\n",
        "# Otros modelos en torchvision\n",
        "\n",
        "El dataset cifar-10 es muy común para analizar el rendimiento de nuevos modelos. Se puede comprobar [la precisión de los nuevos modelos](https://benchmarks.ai/cifar-10).\n",
        "\n",
        "En PyTorch hay disponibles más [modelos](https://pytorch.org/vision/stable/models.html) para poder hacer pruebas.\n",
        "\n"
      ]
    },
    {
      "cell_type": "markdown",
      "metadata": {
        "id": "FsT3y1Rw-PVz"
      },
      "source": [
        "Se pueden comparar los modelos en función de su complejidad."
      ]
    },
    {
      "cell_type": "code",
      "metadata": {
        "colab": {
          "base_uri": "https://localhost:8080/"
        },
        "id": "9YGGaNR46ybY",
        "outputId": "aee5c17f-c310-4b28-bd36-29129e1017bb"
      },
      "source": [
        "import torchvision.models as models\n",
        "resnet18 = models.resnet18()\n",
        "alexnet = models.alexnet()\n",
        "vgg16 = models.vgg16()\n",
        "squeezenet = models.squeezenet1_0()\n",
        "densenet = models.densenet161()\n",
        "inception = models.inception_v3()\n",
        "googlenet = models.googlenet()\n",
        "shufflenet = models.shufflenet_v2_x1_0()\n",
        "mobilenet_v2 = models.mobilenet_v2()\n",
        "mobilenet_v3_large = models.mobilenet_v3_large()\n",
        "mobilenet_v3_small = models.mobilenet_v3_small()\n",
        "resnext50_32x4d = models.resnext50_32x4d()\n",
        "wide_resnet50_2 = models.wide_resnet50_2()\n",
        "mnasnet = models.mnasnet1_0()"
      ],
      "execution_count": 20,
      "outputs": [
        {
          "output_type": "stream",
          "text": [
            "/usr/local/lib/python3.7/dist-packages/torchvision/models/inception.py:82: FutureWarning: The default weight initialization of inception_v3 will be changed in future releases of torchvision. If you wish to keep the old behavior (which leads to long initialization times due to scipy/scipy#11299), please set init_weights=True.\n",
            "  ' due to scipy/scipy#11299), please set init_weights=True.', FutureWarning)\n",
            "/usr/local/lib/python3.7/dist-packages/torchvision/models/googlenet.py:79: FutureWarning: The default weight initialization of GoogleNet will be changed in future releases of torchvision. If you wish to keep the old behavior (which leads to long initialization times due to scipy/scipy#11299), please set init_weights=True.\n",
            "  ' due to scipy/scipy#11299), please set init_weights=True.', FutureWarning)\n"
          ],
          "name": "stderr"
        }
      ]
    },
    {
      "cell_type": "code",
      "metadata": {
        "colab": {
          "base_uri": "https://localhost:8080/"
        },
        "id": "-Ow33sZ17B3U",
        "outputId": "87a440f5-13b2-42f1-a5d0-aa817b050d4f"
      },
      "source": [
        "total_params = sum(p.numel() for p in vgg16.parameters())\n",
        "print(f'Total params: {total_params:,}');"
      ],
      "execution_count": 21,
      "outputs": [
        {
          "output_type": "stream",
          "text": [
            "Total params: 138,357,544\n"
          ],
          "name": "stdout"
        }
      ]
    },
    {
      "cell_type": "code",
      "metadata": {
        "colab": {
          "base_uri": "https://localhost:8080/",
          "height": 370
        },
        "id": "GKkAHyIZ7rUt",
        "outputId": "580d1351-34b8-43d5-cb26-1b111f78d503"
      },
      "source": [
        "m = []\n",
        "\n",
        "m.append(resnet18)\n",
        "m.append(alexnet)\n",
        "m.append(vgg16)\n",
        "m.append(squeezenet)\n",
        "m.append(densenet)\n",
        "m.append(inception)\n",
        "m.append(googlenet)\n",
        "m.append(shufflenet)\n",
        "m.append(mobilenet_v2)\n",
        "m.append(mobilenet_v3_large)\n",
        "m.append(mobilenet_v3_small)\n",
        "m.append(resnext50_32x4d)\n",
        "m.append(wide_resnet50_2)\n",
        "m.append(mnasnet)\n",
        "\n",
        "params = []\n",
        "for model in m:\n",
        "  params.append(sum(p.numel() for p in model.parameters()))\n",
        "\n",
        "tparams = torch.tensor(params)\n",
        "objects = ('resnet18', 'alexnet', 'vgg16', 'squeezenet', 'densenet', \n",
        "           'inception', 'googlenet', 'shufflenet', 'mobilenet_v2', 'mobilenet_v3_large', \n",
        "           'mobilenet_v3_small', 'resnext50_32x4d', 'wide_resnet50_2', 'mnasnet')\n",
        "pos = range(len(objects))\n",
        "\n",
        "y=plt.bar(pos, params, align='center', alpha=0.5)\n",
        "plt.xticks(pos, objects, rotation='vertical')\n",
        "plt.ylabel('Number of parameters')\n",
        "plt.title('Model complexity')\n",
        "\n",
        "plt.show()\n"
      ],
      "execution_count": 22,
      "outputs": [
        {
          "output_type": "display_data",
          "data": {
            "image/png": "[encoded data removed]",
            "text/plain": [
              "<Figure size 432x288 with 1 Axes>"
            ]
          },
          "metadata": {
            "tags": [],
            "needs_background": "light"
          }
        }
      ]
    }
  ]
}