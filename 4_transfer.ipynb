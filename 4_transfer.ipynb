{
  "nbformat": 4,
  "nbformat_minor": 0,
  "metadata": {
    "colab": {
      "name": "4_transfer.ipynb",
      "provenance": [],
      "collapsed_sections": [],
      "toc_visible": true,
      "authorship_tag": "ABX9TyOHf/L6O45mNbW5CJT2WYsT",
      "include_colab_link": true
    },
    "kernelspec": {
      "name": "python3",
      "display_name": "Python 3"
    },
    "language_info": {
      "name": "python"
    },
    "accelerator": "GPU"
  },
  "cells": [
    {
      "cell_type": "markdown",
      "metadata": {
        "id": "view-in-github",
        "colab_type": "text"
      },
      "source": [
        "<a href=\"https://colab.research.google.com/github/rusamentiaga/pytorch-test/blob/main/4_transfer.ipynb\" target=\"_parent\"><img src=\"https://colab.research.google.com/assets/colab-badge.svg\" alt=\"Open In Colab\"/></a>"
      ]
    },
    {
      "cell_type": "markdown",
      "metadata": {
        "id": "ik1U4OS_xQDf"
      },
      "source": [
        "# Modelos y transfer learning"
      ]
    },
    {
      "cell_type": "markdown",
      "metadata": {
        "id": "TXb8_4I1xT3r"
      },
      "source": [
        "La ventaja de los modelos de aprendizaje automático es que no es necesario crearlos desde cero, se puede partir de modelos prediseñados que se adapten a nuestro problema. Además, se puede partir de modelos pre-entrenados, donde solamente se entrenen capas específicas para adaptarlas a un problema concreto"
      ]
    },
    {
      "cell_type": "markdown",
      "metadata": {
        "id": "PlL4IwoYxyO2"
      },
      "source": [
        "# Dataset cifar-10"
      ]
    },
    {
      "cell_type": "markdown",
      "metadata": {
        "id": "GqglGS-Lx0aY"
      },
      "source": [
        "Para demostrar el funcionamiento del transfer learning se va a utilizar un dataset disponible en torchvision: [Cifar-10](https://www.cs.toronto.edu/~kriz/cifar.html)."
      ]
    },
    {
      "cell_type": "markdown",
      "metadata": {
        "id": "siXlJnq7x_Ls"
      },
      "source": [
        "Se cargan los paquetes."
      ]
    },
    {
      "cell_type": "code",
      "metadata": {
        "id": "4gJAEtYmgCsM"
      },
      "source": [
        "import torch\n",
        "import torchvision\n",
        "import torchvision.transforms as transforms"
      ],
      "execution_count": 1,
      "outputs": []
    },
    {
      "cell_type": "markdown",
      "metadata": {
        "id": "VX2AYYlbyB5l"
      },
      "source": [
        "Se configura el dispositivo"
      ]
    },
    {
      "cell_type": "code",
      "metadata": {
        "colab": {
          "base_uri": "https://localhost:8080/"
        },
        "id": "o8jLcLAqgLWB",
        "outputId": "707abf3a-0b74-4ea2-ac3d-cadec822f71c"
      },
      "source": [
        "device = torch.device('cuda' if torch.cuda.is_available() else 'cpu')\n",
        "device"
      ],
      "execution_count": 2,
      "outputs": [
        {
          "output_type": "execute_result",
          "data": {
            "text/plain": [
              "device(type='cuda')"
            ]
          },
          "metadata": {
            "tags": []
          },
          "execution_count": 2
        }
      ]
    },
    {
      "cell_type": "markdown",
      "metadata": {
        "id": "wBXVPwAsyE_k"
      },
      "source": [
        "Se define una transformación para adaptar el dataset al tamaño de entrada que espera la red. Además, se normaliza."
      ]
    },
    {
      "cell_type": "code",
      "metadata": {
        "id": "7w73OIOPgkbu"
      },
      "source": [
        "transform = transforms.Compose([\n",
        "    transforms.Resize(256),\n",
        "    transforms.CenterCrop(224),\n",
        "    transforms.ToTensor(),\n",
        "    transforms.Normalize(mean=[0.485, 0.456, 0.406], std=[0.229, 0.224, 0.225]),\n",
        "])"
      ],
      "execution_count": 3,
      "outputs": []
    },
    {
      "cell_type": "markdown",
      "metadata": {
        "id": "pgqV6S9TyMdj"
      },
      "source": [
        "Se descarga el dataset y se configuran los cargadores."
      ]
    },
    {
      "cell_type": "code",
      "metadata": {
        "colab": {
          "base_uri": "https://localhost:8080/"
        },
        "id": "LrpDm6PXgry7",
        "outputId": "f81598ea-662b-49e4-f319-d362b1e942b5"
      },
      "source": [
        "batch_size = 4\n",
        "\n",
        "#Downloading training data\n",
        "train_data = torchvision.datasets.CIFAR10(root='./data', train=True, download=True, transform=transform)\n",
        "\n",
        "trainloader = torch.utils.data.DataLoader(train_data, batch_size=batch_size, shuffle=True, num_workers=2)\n",
        "\n",
        "#Downloading test data\n",
        "test_data = torchvision.datasets.CIFAR10(root='./data', train=False, download=True, transform=transform)\n",
        "\n",
        "testloader = torch.utils.data.DataLoader(test_data, batch_size=batch_size, shuffle=False, num_workers=2)\n",
        "\n",
        "#Class labels\n",
        "\n",
        "classes = ('Airplane', 'Car', 'Bird', 'Cat', 'Deer', 'Dog', 'Frog', 'Horse', 'Ship', 'Truck')\n",
        "num_classes = len(classes)\n"
      ],
      "execution_count": 4,
      "outputs": [
        {
          "output_type": "stream",
          "text": [
            "Files already downloaded and verified\n",
            "Files already downloaded and verified\n"
          ],
          "name": "stdout"
        }
      ]
    },
    {
      "cell_type": "markdown",
      "metadata": {
        "id": "xXGRuMURyRrZ"
      },
      "source": [
        "Se comprueba que los ficheros están en disco."
      ]
    },
    {
      "cell_type": "code",
      "metadata": {
        "colab": {
          "base_uri": "https://localhost:8080/"
        },
        "id": "ayQ9ANMFhBuY",
        "outputId": "dee81741-46a4-47eb-ccce-5fc11a554b97"
      },
      "source": [
        "!ls data/cifar-10-batches-py"
      ],
      "execution_count": 5,
      "outputs": [
        {
          "output_type": "stream",
          "text": [
            "batches.meta  data_batch_2  data_batch_4  readme.html\n",
            "data_batch_1  data_batch_3  data_batch_5  test_batch\n"
          ],
          "name": "stdout"
        }
      ]
    },
    {
      "cell_type": "markdown",
      "metadata": {
        "id": "oxjcVyllyUtp"
      },
      "source": [
        "Se puede ver el tamaño de cada batch."
      ]
    },
    {
      "cell_type": "code",
      "metadata": {
        "colab": {
          "base_uri": "https://localhost:8080/"
        },
        "id": "gpMKxJNHhL3O",
        "outputId": "a44805eb-33f5-483f-ccd3-fb127a726609"
      },
      "source": [
        "dataiter = iter(trainloader)\n",
        "images, labels = dataiter.next()\n",
        "images.shape\n"
      ],
      "execution_count": 6,
      "outputs": [
        {
          "output_type": "execute_result",
          "data": {
            "text/plain": [
              "torch.Size([4, 3, 224, 224])"
            ]
          },
          "metadata": {
            "tags": []
          },
          "execution_count": 6
        }
      ]
    },
    {
      "cell_type": "code",
      "metadata": {
        "colab": {
          "base_uri": "https://localhost:8080/"
        },
        "id": "n66ucY5p2hDU",
        "outputId": "d57fa2cc-0b86-4f83-d047-4af084d40e30"
      },
      "source": [
        "print(f'Train images: {len(train_data)}')\n",
        "print(f'Test images: {len(test_data)}')\n",
        "print(f'Train batches: {int(len(train_data)/batch_size)}')"
      ],
      "execution_count": 45,
      "outputs": [
        {
          "output_type": "stream",
          "text": [
            "Train images: 50000\n",
            "Test images: 10000\n",
            "Train batches: 12500\n"
          ],
          "name": "stdout"
        }
      ]
    },
    {
      "cell_type": "markdown",
      "metadata": {
        "id": "qe2CjUmTyYHH"
      },
      "source": [
        "Se visualiza un batch. El dataset contiene imágenes a baja resolución de 10 clases."
      ]
    },
    {
      "cell_type": "code",
      "metadata": {
        "colab": {
          "base_uri": "https://localhost:8080/",
          "height": 185
        },
        "id": "i1951BPJhWME",
        "outputId": "037f90fc-8cf0-40da-f05a-fb30b1f54843"
      },
      "source": [
        "import matplotlib.pyplot as plt\n",
        "\n",
        "grid = torchvision.utils.make_grid(images)\n",
        "grid.shape\n",
        "\n",
        "# unnormalize\n",
        "grid = grid / 2 + 0.5     \n",
        "plt.imshow(grid.permute(1,2,0))\n",
        "\n",
        "plt.title(' '.join('%5s' % classes[labels[j]] for j in range(4)))"
      ],
      "execution_count": 7,
      "outputs": [
        {
          "output_type": "stream",
          "text": [
            "Clipping input data to the valid range for imshow with RGB data ([0..1] for floats or [0..255] for integers).\n"
          ],
          "name": "stderr"
        },
        {
          "output_type": "execute_result",
          "data": {
            "text/plain": [
              "Text(0.5, 1.0, ' Frog  Frog   Cat Truck')"
            ]
          },
          "metadata": {
            "tags": []
          },
          "execution_count": 7
        },
        {
          "output_type": "display_data",
          "data": {
            "image/png": "[encoded data removed]",
            "text/plain": [
              "<Figure size 432x288 with 1 Axes>"
            ]
          },
          "metadata": {
            "tags": [],
            "needs_background": "light"
          }
        }
      ]
    },
    {
      "cell_type": "markdown",
      "metadata": {
        "id": "YtmHj4aMtts5"
      },
      "source": [
        "# Partiendo de un modelo prediseñado\n",
        "\n",
        "En este caso se va a partir de [AlexNet](https://github.com/pytorch/vision/blob/master/torchvision/models/alexnet.py). Se puede descargar con los parámetros entrenados en [ImageNet](https://www.google.com/search?q=Imagenet).\n"
      ]
    },
    {
      "cell_type": "code",
      "metadata": {
        "colab": {
          "base_uri": "https://localhost:8080/"
        },
        "id": "vlYff843iYiK",
        "outputId": "1d4aad4a-50a8-4a6b-ef63-77c0aa728f3a"
      },
      "source": [
        "alexnet = torch.hub.load('pytorch/vision:v0.9.0', 'alexnet', pretrained=True)\n",
        "alexnet.eval()"
      ],
      "execution_count": 24,
      "outputs": [
        {
          "output_type": "stream",
          "text": [
            "Using cache found in /root/.cache/torch/hub/pytorch_vision_v0.9.0\n"
          ],
          "name": "stderr"
        },
        {
          "output_type": "execute_result",
          "data": {
            "text/plain": [
              "AlexNet(\n",
              "  (features): Sequential(\n",
              "    (0): Conv2d(3, 64, kernel_size=(11, 11), stride=(4, 4), padding=(2, 2))\n",
              "    (1): ReLU(inplace=True)\n",
              "    (2): MaxPool2d(kernel_size=3, stride=2, padding=0, dilation=1, ceil_mode=False)\n",
              "    (3): Conv2d(64, 192, kernel_size=(5, 5), stride=(1, 1), padding=(2, 2))\n",
              "    (4): ReLU(inplace=True)\n",
              "    (5): MaxPool2d(kernel_size=3, stride=2, padding=0, dilation=1, ceil_mode=False)\n",
              "    (6): Conv2d(192, 384, kernel_size=(3, 3), stride=(1, 1), padding=(1, 1))\n",
              "    (7): ReLU(inplace=True)\n",
              "    (8): Conv2d(384, 256, kernel_size=(3, 3), stride=(1, 1), padding=(1, 1))\n",
              "    (9): ReLU(inplace=True)\n",
              "    (10): Conv2d(256, 256, kernel_size=(3, 3), stride=(1, 1), padding=(1, 1))\n",
              "    (11): ReLU(inplace=True)\n",
              "    (12): MaxPool2d(kernel_size=3, stride=2, padding=0, dilation=1, ceil_mode=False)\n",
              "  )\n",
              "  (avgpool): AdaptiveAvgPool2d(output_size=(6, 6))\n",
              "  (classifier): Sequential(\n",
              "    (0): Dropout(p=0.5, inplace=False)\n",
              "    (1): Linear(in_features=9216, out_features=4096, bias=True)\n",
              "    (2): ReLU(inplace=True)\n",
              "    (3): Dropout(p=0.5, inplace=False)\n",
              "    (4): Linear(in_features=4096, out_features=4096, bias=True)\n",
              "    (5): ReLU(inplace=True)\n",
              "    (6): Linear(in_features=4096, out_features=1000, bias=True)\n",
              "  )\n",
              ")"
            ]
          },
          "metadata": {
            "tags": []
          },
          "execution_count": 24
        }
      ]
    },
    {
      "cell_type": "markdown",
      "metadata": {
        "id": "wsbnva9liybP"
      },
      "source": [
        "Para adaptarlo al problema concreto hay que cambiar la última capa."
      ]
    },
    {
      "cell_type": "code",
      "metadata": {
        "colab": {
          "base_uri": "https://localhost:8080/"
        },
        "id": "5y9TMAeZi-Sz",
        "outputId": "841ad95b-f6cb-4187-a1b0-1ca13ce7551c"
      },
      "source": [
        "#Updating the third and the last classifier that is the output layer of the network. Make sure to have 10 output nodes if we are going to get 10 class labels through our model.\n",
        "alexnet.classifier[6] = torch.nn.Linear(4096,num_classes)\n",
        "alexnet.eval()"
      ],
      "execution_count": 25,
      "outputs": [
        {
          "output_type": "execute_result",
          "data": {
            "text/plain": [
              "AlexNet(\n",
              "  (features): Sequential(\n",
              "    (0): Conv2d(3, 64, kernel_size=(11, 11), stride=(4, 4), padding=(2, 2))\n",
              "    (1): ReLU(inplace=True)\n",
              "    (2): MaxPool2d(kernel_size=3, stride=2, padding=0, dilation=1, ceil_mode=False)\n",
              "    (3): Conv2d(64, 192, kernel_size=(5, 5), stride=(1, 1), padding=(2, 2))\n",
              "    (4): ReLU(inplace=True)\n",
              "    (5): MaxPool2d(kernel_size=3, stride=2, padding=0, dilation=1, ceil_mode=False)\n",
              "    (6): Conv2d(192, 384, kernel_size=(3, 3), stride=(1, 1), padding=(1, 1))\n",
              "    (7): ReLU(inplace=True)\n",
              "    (8): Conv2d(384, 256, kernel_size=(3, 3), stride=(1, 1), padding=(1, 1))\n",
              "    (9): ReLU(inplace=True)\n",
              "    (10): Conv2d(256, 256, kernel_size=(3, 3), stride=(1, 1), padding=(1, 1))\n",
              "    (11): ReLU(inplace=True)\n",
              "    (12): MaxPool2d(kernel_size=3, stride=2, padding=0, dilation=1, ceil_mode=False)\n",
              "  )\n",
              "  (avgpool): AdaptiveAvgPool2d(output_size=(6, 6))\n",
              "  (classifier): Sequential(\n",
              "    (0): Dropout(p=0.5, inplace=False)\n",
              "    (1): Linear(in_features=9216, out_features=4096, bias=True)\n",
              "    (2): ReLU(inplace=True)\n",
              "    (3): Dropout(p=0.5, inplace=False)\n",
              "    (4): Linear(in_features=4096, out_features=4096, bias=True)\n",
              "    (5): ReLU(inplace=True)\n",
              "    (6): Linear(in_features=4096, out_features=10, bias=True)\n",
              "  )\n",
              ")"
            ]
          },
          "metadata": {
            "tags": []
          },
          "execution_count": 25
        }
      ]
    },
    {
      "cell_type": "markdown",
      "metadata": {
        "id": "GLNH28MV0C1n"
      },
      "source": [
        "Se define la función de entrenamiento."
      ]
    },
    {
      "cell_type": "code",
      "metadata": {
        "id": "nlbWPVdKj7vS"
      },
      "source": [
        "import time\n",
        "\n",
        "def train_model(model, criterion, optimizer):\n",
        "  # Train the model\n",
        "  total_step = len(trainloader)\n",
        "  for epoch in range(num_epochs):\n",
        "      start = time.time()\n",
        "      for i, (images, labels) in enumerate(trainloader):\n",
        "          images = images.to(device)\n",
        "          labels = labels.to(device)\n",
        "          \n",
        "          # Forward pass\n",
        "          outputs = model(images)\n",
        "          loss = criterion(outputs, labels)\n",
        "          \n",
        "          # Backward and optimize\n",
        "          optimizer.zero_grad()\n",
        "          loss.backward()\n",
        "          optimizer.step()\n",
        "\n",
        "          if (i+1) % 100 == 0:\n",
        "              end = time.time()\n",
        "              print (f'Epoch [{epoch+1}/{num_epochs}], Step [{i+1}/{total_step}], Loss: {loss}, Time: {end - start}')\n",
        "              start = time.time()"
      ],
      "execution_count": 26,
      "outputs": []
    },
    {
      "cell_type": "markdown",
      "metadata": {
        "id": "LjvyC0160HTm"
      },
      "source": [
        "Se define la función de evaluación."
      ]
    },
    {
      "cell_type": "code",
      "metadata": {
        "id": "t55PJIOErOJT"
      },
      "source": [
        "def eval_model(model):\n",
        "  model.eval()  # eval mode (batchnorm uses moving mean/variance instead of mini-batch mean/variance)\n",
        "  with torch.no_grad():\n",
        "      correct = 0\n",
        "      total = 0\n",
        "      for images, labels in testloader:\n",
        "          images = images.to(device)\n",
        "          labels = labels.to(device)\n",
        "          outputs = model(images)\n",
        "          _, predicted = torch.max(outputs.data, 1)\n",
        "          total += labels.size(0)\n",
        "          correct += (predicted == labels).sum().item()\n",
        "\n",
        "      print('Test Accuracy of the model using the test images: {} %'.format(100 * correct / total)) "
      ],
      "execution_count": 27,
      "outputs": []
    },
    {
      "cell_type": "markdown",
      "metadata": {
        "id": "IynG0raO0Kc_"
      },
      "source": [
        "Se realiza el entrenamiento del modelo con una determinada configuración"
      ]
    },
    {
      "cell_type": "code",
      "metadata": {
        "colab": {
          "base_uri": "https://localhost:8080/"
        },
        "id": "Wj3DpcDzkJeX",
        "outputId": "06183c94-9c54-4326-dae8-082b5293f5c2"
      },
      "source": [
        "# Hyperparameters\n",
        "num_epochs = 1\n",
        "learning_rate = 0.001\n",
        "momentum = 0.9\n",
        "\n",
        "# Model\n",
        "model = alexnet.to(device)\n",
        "\n",
        "# Loss and optimizer\n",
        "criterion = torch.nn.CrossEntropyLoss()\n",
        "optimizer = torch.optim.SGD(model.parameters(), lr=learning_rate, momentum=momentum)\n",
        "\n",
        "# Train\n",
        "train_model(model, criterion, optimizer)\n",
        "\n",
        "# Eval\n",
        "eval_model(model)"
      ],
      "execution_count": 28,
      "outputs": [
        {
          "output_type": "stream",
          "text": [
            "Epoch [1/1], Step [100/12500], Loss: 1.9646059274673462, Time: 3.9820849895477295\n",
            "Epoch [1/1], Step [200/12500], Loss: 1.1386044025421143, Time: 3.8279383182525635\n",
            "Epoch [1/1], Step [300/12500], Loss: 1.3463443517684937, Time: 3.8277385234832764\n",
            "Epoch [1/1], Step [400/12500], Loss: 0.5709851980209351, Time: 3.8279976844787598\n",
            "Epoch [1/1], Step [500/12500], Loss: 0.6927762627601624, Time: 3.833512544631958\n",
            "Epoch [1/1], Step [600/12500], Loss: 1.6597859859466553, Time: 3.8321478366851807\n",
            "Epoch [1/1], Step [700/12500], Loss: 1.2653231620788574, Time: 3.830467939376831\n",
            "Epoch [1/1], Step [800/12500], Loss: 0.8349275588989258, Time: 3.821237802505493\n",
            "Epoch [1/1], Step [900/12500], Loss: 1.2994240522384644, Time: 3.8195557594299316\n",
            "Epoch [1/1], Step [1000/12500], Loss: 1.322268009185791, Time: 3.827430248260498\n",
            "Epoch [1/1], Step [1100/12500], Loss: 1.5820839405059814, Time: 3.8165054321289062\n",
            "Epoch [1/1], Step [1200/12500], Loss: 1.6329212188720703, Time: 3.818356513977051\n",
            "Epoch [1/1], Step [1300/12500], Loss: 2.667694568634033, Time: 3.816152334213257\n",
            "Epoch [1/1], Step [1400/12500], Loss: 0.9927442073822021, Time: 3.822246789932251\n",
            "Epoch [1/1], Step [1500/12500], Loss: 1.7898975610733032, Time: 3.8193023204803467\n",
            "Epoch [1/1], Step [1600/12500], Loss: 1.0672929286956787, Time: 3.8096868991851807\n",
            "Epoch [1/1], Step [1700/12500], Loss: 0.7623021006584167, Time: 3.8204026222229004\n",
            "Epoch [1/1], Step [1800/12500], Loss: 0.8143317699432373, Time: 3.814066171646118\n",
            "Epoch [1/1], Step [1900/12500], Loss: 0.9273908734321594, Time: 3.814716100692749\n",
            "Epoch [1/1], Step [2000/12500], Loss: 0.3832559883594513, Time: 3.8229801654815674\n",
            "Epoch [1/1], Step [2100/12500], Loss: 0.35296785831451416, Time: 3.835847854614258\n",
            "Epoch [1/1], Step [2200/12500], Loss: 0.5133137106895447, Time: 3.813755750656128\n",
            "Epoch [1/1], Step [2300/12500], Loss: 1.2174201011657715, Time: 3.8126211166381836\n",
            "Epoch [1/1], Step [2400/12500], Loss: 1.1897246837615967, Time: 3.813868284225464\n",
            "Epoch [1/1], Step [2500/12500], Loss: 1.18948233127594, Time: 3.810967206954956\n",
            "Epoch [1/1], Step [2600/12500], Loss: 2.439131259918213, Time: 3.814166307449341\n",
            "Epoch [1/1], Step [2700/12500], Loss: 0.75049889087677, Time: 3.815540075302124\n",
            "Epoch [1/1], Step [2800/12500], Loss: 0.7899265885353088, Time: 3.8082003593444824\n",
            "Epoch [1/1], Step [2900/12500], Loss: 0.4894121289253235, Time: 3.8115203380584717\n",
            "Epoch [1/1], Step [3000/12500], Loss: 0.6468830704689026, Time: 3.8067891597747803\n",
            "Epoch [1/1], Step [3100/12500], Loss: 1.753664255142212, Time: 3.8107221126556396\n",
            "Epoch [1/1], Step [3200/12500], Loss: 2.562565803527832, Time: 3.8083274364471436\n",
            "Epoch [1/1], Step [3300/12500], Loss: 1.1621577739715576, Time: 3.8105456829071045\n",
            "Epoch [1/1], Step [3400/12500], Loss: 0.8881262540817261, Time: 3.8046982288360596\n",
            "Epoch [1/1], Step [3500/12500], Loss: 1.1168774366378784, Time: 3.804030179977417\n",
            "Epoch [1/1], Step [3600/12500], Loss: 0.9786078929901123, Time: 3.82637619972229\n",
            "Epoch [1/1], Step [3700/12500], Loss: 0.29650694131851196, Time: 3.823117733001709\n",
            "Epoch [1/1], Step [3800/12500], Loss: 0.5518632531166077, Time: 3.8075265884399414\n",
            "Epoch [1/1], Step [3900/12500], Loss: 1.2254750728607178, Time: 3.808067560195923\n",
            "Epoch [1/1], Step [4000/12500], Loss: 1.3014721870422363, Time: 3.808483600616455\n",
            "Epoch [1/1], Step [4100/12500], Loss: 0.48118674755096436, Time: 3.813121795654297\n",
            "Epoch [1/1], Step [4200/12500], Loss: 3.708054304122925, Time: 3.809337854385376\n",
            "Epoch [1/1], Step [4300/12500], Loss: 1.0197473764419556, Time: 3.8096020221710205\n",
            "Epoch [1/1], Step [4400/12500], Loss: 0.5341314673423767, Time: 3.807957649230957\n",
            "Epoch [1/1], Step [4500/12500], Loss: 1.653131365776062, Time: 3.8090646266937256\n",
            "Epoch [1/1], Step [4600/12500], Loss: 2.3459904193878174, Time: 3.8087546825408936\n",
            "Epoch [1/1], Step [4700/12500], Loss: 1.571480631828308, Time: 3.8073880672454834\n",
            "Epoch [1/1], Step [4800/12500], Loss: 0.6004642248153687, Time: 3.8111214637756348\n",
            "Epoch [1/1], Step [4900/12500], Loss: 0.9271082282066345, Time: 3.805377244949341\n",
            "Epoch [1/1], Step [5000/12500], Loss: 1.5866551399230957, Time: 3.7993342876434326\n",
            "Epoch [1/1], Step [5100/12500], Loss: 0.899620771408081, Time: 3.809597969055176\n",
            "Epoch [1/1], Step [5200/12500], Loss: 0.36034440994262695, Time: 3.815622329711914\n",
            "Epoch [1/1], Step [5300/12500], Loss: 0.9366220235824585, Time: 3.8113255500793457\n",
            "Epoch [1/1], Step [5400/12500], Loss: 0.06734603643417358, Time: 3.8085434436798096\n",
            "Epoch [1/1], Step [5500/12500], Loss: 0.5275428295135498, Time: 3.8072304725646973\n",
            "Epoch [1/1], Step [5600/12500], Loss: 1.0638127326965332, Time: 3.8073742389678955\n",
            "Epoch [1/1], Step [5700/12500], Loss: 0.2790631949901581, Time: 3.80987811088562\n",
            "Epoch [1/1], Step [5800/12500], Loss: 0.4967961609363556, Time: 3.806093692779541\n",
            "Epoch [1/1], Step [5900/12500], Loss: 0.5501689314842224, Time: 3.8112823963165283\n",
            "Epoch [1/1], Step [6000/12500], Loss: 0.9045672416687012, Time: 3.807241201400757\n",
            "Epoch [1/1], Step [6100/12500], Loss: 0.6391767263412476, Time: 3.8039629459381104\n",
            "Epoch [1/1], Step [6200/12500], Loss: 0.26026880741119385, Time: 3.80666446685791\n",
            "Epoch [1/1], Step [6300/12500], Loss: 0.36177417635917664, Time: 3.808612108230591\n",
            "Epoch [1/1], Step [6400/12500], Loss: 0.8397163152694702, Time: 3.8065624237060547\n",
            "Epoch [1/1], Step [6500/12500], Loss: 0.7223832607269287, Time: 3.809415102005005\n",
            "Epoch [1/1], Step [6600/12500], Loss: 1.0896661281585693, Time: 3.806633472442627\n",
            "Epoch [1/1], Step [6700/12500], Loss: 1.2897415161132812, Time: 3.8227245807647705\n",
            "Epoch [1/1], Step [6800/12500], Loss: 1.2285058498382568, Time: 3.830282688140869\n",
            "Epoch [1/1], Step [6900/12500], Loss: 0.3379823565483093, Time: 3.812886953353882\n",
            "Epoch [1/1], Step [7000/12500], Loss: 0.40439990162849426, Time: 3.8097012042999268\n",
            "Epoch [1/1], Step [7100/12500], Loss: 0.22894993424415588, Time: 3.807079553604126\n",
            "Epoch [1/1], Step [7200/12500], Loss: 1.5443506240844727, Time: 3.805542230606079\n",
            "Epoch [1/1], Step [7300/12500], Loss: 1.0727083683013916, Time: 3.8052802085876465\n",
            "Epoch [1/1], Step [7400/12500], Loss: 1.2327549457550049, Time: 3.811298370361328\n",
            "Epoch [1/1], Step [7500/12500], Loss: 0.14613492786884308, Time: 3.809629201889038\n",
            "Epoch [1/1], Step [7600/12500], Loss: 0.8707578182220459, Time: 3.804706335067749\n",
            "Epoch [1/1], Step [7700/12500], Loss: 1.421854853630066, Time: 3.802504301071167\n",
            "Epoch [1/1], Step [7800/12500], Loss: 1.3638663291931152, Time: 3.807990550994873\n",
            "Epoch [1/1], Step [7900/12500], Loss: 0.8694978952407837, Time: 3.8034119606018066\n",
            "Epoch [1/1], Step [8000/12500], Loss: 0.35522300004959106, Time: 3.807145595550537\n",
            "Epoch [1/1], Step [8100/12500], Loss: 0.11981514096260071, Time: 3.8032941818237305\n",
            "Epoch [1/1], Step [8200/12500], Loss: 1.7733995914459229, Time: 3.8156189918518066\n",
            "Epoch [1/1], Step [8300/12500], Loss: 1.1051777601242065, Time: 3.8285107612609863\n",
            "Epoch [1/1], Step [8400/12500], Loss: 0.36630433797836304, Time: 3.807973623275757\n",
            "Epoch [1/1], Step [8500/12500], Loss: 2.333444356918335, Time: 3.802555561065674\n",
            "Epoch [1/1], Step [8600/12500], Loss: 0.24695149064064026, Time: 3.803556442260742\n",
            "Epoch [1/1], Step [8700/12500], Loss: 0.6556612253189087, Time: 3.810737371444702\n",
            "Epoch [1/1], Step [8800/12500], Loss: 0.5470073819160461, Time: 3.8081235885620117\n",
            "Epoch [1/1], Step [8900/12500], Loss: 1.098705768585205, Time: 3.807034730911255\n",
            "Epoch [1/1], Step [9000/12500], Loss: 0.16976508498191833, Time: 3.8048510551452637\n",
            "Epoch [1/1], Step [9100/12500], Loss: 1.8358464241027832, Time: 3.8065335750579834\n",
            "Epoch [1/1], Step [9200/12500], Loss: 0.3080032467842102, Time: 3.8059310913085938\n",
            "Epoch [1/1], Step [9300/12500], Loss: 1.538601279258728, Time: 3.811556339263916\n",
            "Epoch [1/1], Step [9400/12500], Loss: 0.3106503188610077, Time: 3.8091020584106445\n",
            "Epoch [1/1], Step [9500/12500], Loss: 0.2124076634645462, Time: 3.8051021099090576\n",
            "Epoch [1/1], Step [9600/12500], Loss: 2.036378860473633, Time: 3.808410882949829\n",
            "Epoch [1/1], Step [9700/12500], Loss: 0.07226026803255081, Time: 3.805107355117798\n",
            "Epoch [1/1], Step [9800/12500], Loss: 1.1737216711044312, Time: 3.806886911392212\n",
            "Epoch [1/1], Step [9900/12500], Loss: 0.8735236525535583, Time: 3.8066813945770264\n",
            "Epoch [1/1], Step [10000/12500], Loss: 0.18688561022281647, Time: 3.8106908798217773\n",
            "Epoch [1/1], Step [10100/12500], Loss: 0.860718846321106, Time: 3.811793565750122\n",
            "Epoch [1/1], Step [10200/12500], Loss: 0.10103470087051392, Time: 3.82881498336792\n",
            "Epoch [1/1], Step [10300/12500], Loss: 0.08681613206863403, Time: 3.8174283504486084\n",
            "Epoch [1/1], Step [10400/12500], Loss: 1.3349555730819702, Time: 3.804643154144287\n",
            "Epoch [1/1], Step [10500/12500], Loss: 0.6492593884468079, Time: 3.8051044940948486\n",
            "Epoch [1/1], Step [10600/12500], Loss: 0.14772236347198486, Time: 3.8100199699401855\n",
            "Epoch [1/1], Step [10700/12500], Loss: 0.04802912473678589, Time: 3.8097622394561768\n",
            "Epoch [1/1], Step [10800/12500], Loss: 0.528230607509613, Time: 3.8076510429382324\n",
            "Epoch [1/1], Step [10900/12500], Loss: 0.8096388578414917, Time: 3.806596517562866\n",
            "Epoch [1/1], Step [11000/12500], Loss: 0.8727337718009949, Time: 3.8061976432800293\n",
            "Epoch [1/1], Step [11100/12500], Loss: 0.963186502456665, Time: 3.8055641651153564\n",
            "Epoch [1/1], Step [11200/12500], Loss: 0.874812126159668, Time: 3.80710768699646\n",
            "Epoch [1/1], Step [11300/12500], Loss: 1.6193444728851318, Time: 3.810373306274414\n",
            "Epoch [1/1], Step [11400/12500], Loss: 0.7716785073280334, Time: 3.8126566410064697\n",
            "Epoch [1/1], Step [11500/12500], Loss: 0.11975785344839096, Time: 3.808966875076294\n",
            "Epoch [1/1], Step [11600/12500], Loss: 0.5704259276390076, Time: 3.806391954421997\n",
            "Epoch [1/1], Step [11700/12500], Loss: 1.3930546045303345, Time: 3.80664324760437\n",
            "Epoch [1/1], Step [11800/12500], Loss: 0.11711300909519196, Time: 3.8070385456085205\n",
            "Epoch [1/1], Step [11900/12500], Loss: 0.6836103796958923, Time: 3.803837537765503\n",
            "Epoch [1/1], Step [12000/12500], Loss: 0.14134001731872559, Time: 3.8155694007873535\n",
            "Epoch [1/1], Step [12100/12500], Loss: 1.5319428443908691, Time: 3.805128335952759\n",
            "Epoch [1/1], Step [12200/12500], Loss: 1.3771589994430542, Time: 3.8071250915527344\n",
            "Epoch [1/1], Step [12300/12500], Loss: 0.005930681247264147, Time: 3.8093819618225098\n",
            "Epoch [1/1], Step [12400/12500], Loss: 0.3519362509250641, Time: 3.805906057357788\n",
            "Epoch [1/1], Step [12500/12500], Loss: 0.4152882397174835, Time: 3.8043782711029053\n",
            "Test Accuracy of the model on the 10000 test images: 77.56 %\n"
          ],
          "name": "stdout"
        }
      ]
    },
    {
      "cell_type": "markdown",
      "metadata": {
        "id": "GWTNhWRBymrV"
      },
      "source": [
        "# Bloqueando capas\n",
        "Durante el entrenamiento se puede bloquear el entrenamiento de ciertas capas para acelerar el proceso.\n"
      ]
    },
    {
      "cell_type": "code",
      "metadata": {
        "colab": {
          "base_uri": "https://localhost:8080/"
        },
        "id": "QJ4BwmmjmUVJ",
        "outputId": "aa94e6cc-67e5-4379-e5c6-962e26c95262"
      },
      "source": [
        "alexnet_lock = torch.hub.load('pytorch/vision:v0.9.0', 'alexnet', pretrained=True)\n",
        "alexnet_lock.eval()"
      ],
      "execution_count": 69,
      "outputs": [
        {
          "output_type": "stream",
          "text": [
            "Using cache found in /root/.cache/torch/hub/pytorch_vision_v0.9.0\n"
          ],
          "name": "stderr"
        },
        {
          "output_type": "execute_result",
          "data": {
            "text/plain": [
              "AlexNet(\n",
              "  (features): Sequential(\n",
              "    (0): Conv2d(3, 64, kernel_size=(11, 11), stride=(4, 4), padding=(2, 2))\n",
              "    (1): ReLU(inplace=True)\n",
              "    (2): MaxPool2d(kernel_size=3, stride=2, padding=0, dilation=1, ceil_mode=False)\n",
              "    (3): Conv2d(64, 192, kernel_size=(5, 5), stride=(1, 1), padding=(2, 2))\n",
              "    (4): ReLU(inplace=True)\n",
              "    (5): MaxPool2d(kernel_size=3, stride=2, padding=0, dilation=1, ceil_mode=False)\n",
              "    (6): Conv2d(192, 384, kernel_size=(3, 3), stride=(1, 1), padding=(1, 1))\n",
              "    (7): ReLU(inplace=True)\n",
              "    (8): Conv2d(384, 256, kernel_size=(3, 3), stride=(1, 1), padding=(1, 1))\n",
              "    (9): ReLU(inplace=True)\n",
              "    (10): Conv2d(256, 256, kernel_size=(3, 3), stride=(1, 1), padding=(1, 1))\n",
              "    (11): ReLU(inplace=True)\n",
              "    (12): MaxPool2d(kernel_size=3, stride=2, padding=0, dilation=1, ceil_mode=False)\n",
              "  )\n",
              "  (avgpool): AdaptiveAvgPool2d(output_size=(6, 6))\n",
              "  (classifier): Sequential(\n",
              "    (0): Dropout(p=0.5, inplace=False)\n",
              "    (1): Linear(in_features=9216, out_features=4096, bias=True)\n",
              "    (2): ReLU(inplace=True)\n",
              "    (3): Dropout(p=0.5, inplace=False)\n",
              "    (4): Linear(in_features=4096, out_features=4096, bias=True)\n",
              "    (5): ReLU(inplace=True)\n",
              "    (6): Linear(in_features=4096, out_features=1000, bias=True)\n",
              "  )\n",
              ")"
            ]
          },
          "metadata": {
            "tags": []
          },
          "execution_count": 69
        }
      ]
    },
    {
      "cell_type": "markdown",
      "metadata": {
        "id": "kNtIn1Np0mJJ"
      },
      "source": [
        "Se especifíca que no se cácule gradiente para el modelo."
      ]
    },
    {
      "cell_type": "code",
      "metadata": {
        "id": "0l2zmu7EmWjK"
      },
      "source": [
        "# Freeze model weights\n",
        "for param in alexnet_lock.parameters():\n",
        "    param.requires_grad = False"
      ],
      "execution_count": 74,
      "outputs": []
    },
    {
      "cell_type": "markdown",
      "metadata": {
        "id": "h7PduxLS0tDg"
      },
      "source": [
        "Se añade una nueva capa de clasificación. Cuando se añade un nueva capa, por defecto se establece que sí se cálculo el gradiente y, por tanto, se permite su entrenamiento."
      ]
    },
    {
      "cell_type": "code",
      "metadata": {
        "colab": {
          "base_uri": "https://localhost:8080/"
        },
        "id": "HvZ8xcU4_-Gp",
        "outputId": "3cc280fd-361a-41e1-84cb-505c148fd998"
      },
      "source": [
        "alexnet_lock.classifier[6] = torch.nn.Linear(4096, num_classes)\n",
        "alexnet_lock.eval()"
      ],
      "execution_count": 76,
      "outputs": [
        {
          "output_type": "execute_result",
          "data": {
            "text/plain": [
              "AlexNet(\n",
              "  (features): Sequential(\n",
              "    (0): Conv2d(3, 64, kernel_size=(11, 11), stride=(4, 4), padding=(2, 2))\n",
              "    (1): ReLU(inplace=True)\n",
              "    (2): MaxPool2d(kernel_size=3, stride=2, padding=0, dilation=1, ceil_mode=False)\n",
              "    (3): Conv2d(64, 192, kernel_size=(5, 5), stride=(1, 1), padding=(2, 2))\n",
              "    (4): ReLU(inplace=True)\n",
              "    (5): MaxPool2d(kernel_size=3, stride=2, padding=0, dilation=1, ceil_mode=False)\n",
              "    (6): Conv2d(192, 384, kernel_size=(3, 3), stride=(1, 1), padding=(1, 1))\n",
              "    (7): ReLU(inplace=True)\n",
              "    (8): Conv2d(384, 256, kernel_size=(3, 3), stride=(1, 1), padding=(1, 1))\n",
              "    (9): ReLU(inplace=True)\n",
              "    (10): Conv2d(256, 256, kernel_size=(3, 3), stride=(1, 1), padding=(1, 1))\n",
              "    (11): ReLU(inplace=True)\n",
              "    (12): MaxPool2d(kernel_size=3, stride=2, padding=0, dilation=1, ceil_mode=False)\n",
              "  )\n",
              "  (avgpool): AdaptiveAvgPool2d(output_size=(6, 6))\n",
              "  (classifier): Sequential(\n",
              "    (0): Dropout(p=0.5, inplace=False)\n",
              "    (1): Linear(in_features=9216, out_features=4096, bias=True)\n",
              "    (2): ReLU(inplace=True)\n",
              "    (3): Dropout(p=0.5, inplace=False)\n",
              "    (4): Linear(in_features=4096, out_features=4096, bias=True)\n",
              "    (5): ReLU(inplace=True)\n",
              "    (6): Linear(in_features=4096, out_features=10, bias=True)\n",
              "  )\n",
              ")"
            ]
          },
          "metadata": {
            "tags": []
          },
          "execution_count": 76
        }
      ]
    },
    {
      "cell_type": "markdown",
      "metadata": {
        "id": "FGyfva6xAj9C"
      },
      "source": [
        "Se puede también cambiar un conjunto de capas y reducir por ejemplo la complejidad de 4096 a 512 en la última capa."
      ]
    },
    {
      "cell_type": "code",
      "metadata": {
        "colab": {
          "base_uri": "https://localhost:8080/"
        },
        "id": "MdrtzwHLmb6P",
        "outputId": "ef38577f-11cb-4378-9af5-7af885a84535"
      },
      "source": [
        "alexnet_lock.classifier = torch.nn.Sequential(\n",
        "  torch.nn.Dropout(),\n",
        "  torch.nn.Linear(256 * 6 * 6, 4096),\n",
        "  torch.nn.ReLU(inplace=True),\n",
        "  torch.nn.Dropout(),\n",
        "  torch.nn.Linear(4096, 512),\n",
        "  torch.nn.ReLU(inplace=True),\n",
        "  torch.nn.Linear(512, num_classes),\n",
        ")\n",
        "alexnet_lock.eval()"
      ],
      "execution_count": 32,
      "outputs": [
        {
          "output_type": "execute_result",
          "data": {
            "text/plain": [
              "AlexNet(\n",
              "  (features): Sequential(\n",
              "    (0): Conv2d(3, 64, kernel_size=(11, 11), stride=(4, 4), padding=(2, 2))\n",
              "    (1): ReLU(inplace=True)\n",
              "    (2): MaxPool2d(kernel_size=3, stride=2, padding=0, dilation=1, ceil_mode=False)\n",
              "    (3): Conv2d(64, 192, kernel_size=(5, 5), stride=(1, 1), padding=(2, 2))\n",
              "    (4): ReLU(inplace=True)\n",
              "    (5): MaxPool2d(kernel_size=3, stride=2, padding=0, dilation=1, ceil_mode=False)\n",
              "    (6): Conv2d(192, 384, kernel_size=(3, 3), stride=(1, 1), padding=(1, 1))\n",
              "    (7): ReLU(inplace=True)\n",
              "    (8): Conv2d(384, 256, kernel_size=(3, 3), stride=(1, 1), padding=(1, 1))\n",
              "    (9): ReLU(inplace=True)\n",
              "    (10): Conv2d(256, 256, kernel_size=(3, 3), stride=(1, 1), padding=(1, 1))\n",
              "    (11): ReLU(inplace=True)\n",
              "    (12): MaxPool2d(kernel_size=3, stride=2, padding=0, dilation=1, ceil_mode=False)\n",
              "  )\n",
              "  (avgpool): AdaptiveAvgPool2d(output_size=(6, 6))\n",
              "  (classifier): Sequential(\n",
              "    (0): Dropout(p=0.5, inplace=False)\n",
              "    (1): Linear(in_features=9216, out_features=4096, bias=True)\n",
              "    (2): ReLU(inplace=True)\n",
              "    (3): Dropout(p=0.5, inplace=False)\n",
              "    (4): Linear(in_features=4096, out_features=512, bias=True)\n",
              "    (5): ReLU(inplace=True)\n",
              "    (6): Linear(in_features=512, out_features=10, bias=True)\n",
              "  )\n",
              ")"
            ]
          },
          "metadata": {
            "tags": []
          },
          "execution_count": 32
        }
      ]
    },
    {
      "cell_type": "markdown",
      "metadata": {
        "id": "W1XWyOms029m"
      },
      "source": [
        "Se pueden observar los parámetros bloqueados. En otro tipo de redes y con imágenes de más resolución se pueden reducir los parámetros a entrenar en un 99%."
      ]
    },
    {
      "cell_type": "code",
      "metadata": {
        "colab": {
          "base_uri": "https://localhost:8080/"
        },
        "id": "rkUZjydApHwL",
        "outputId": "07544e3d-8763-4f8f-a82f-0f09782ef761"
      },
      "source": [
        "total_params = sum(p.numel() for p in alexnet_lock.parameters())\n",
        "print(f'{total_params:,} total parameters.')\n",
        "total_trainable_params = sum(\n",
        "    p.numel() for p in alexnet_lock.parameters() if p.requires_grad)\n",
        "print(f'{total_trainable_params:,} training parameters.')"
      ],
      "execution_count": 77,
      "outputs": [
        {
          "output_type": "stream",
          "text": [
            "57,044,810 total parameters.\n",
            "40,970 training parameters.\n"
          ],
          "name": "stdout"
        }
      ]
    },
    {
      "cell_type": "markdown",
      "metadata": {
        "id": "tNTYfJlR1Dmk"
      },
      "source": [
        "Se configurarn los parámetros y realiza el entrenamiento y la evaluación."
      ]
    },
    {
      "cell_type": "code",
      "metadata": {
        "colab": {
          "base_uri": "https://localhost:8080/"
        },
        "id": "wr0cNik4m5ua",
        "outputId": "eb42d56e-4db7-44be-cc6b-5b016a6c1fc2"
      },
      "source": [
        "# Hyperparameters\n",
        "num_epochs = 1\n",
        "learning_rate = 0.0001\n",
        "momentum = 0.9\n",
        "\n",
        "# Model\n",
        "model = alexnet_lock.to(device)\n",
        "\n",
        "# Loss and optimizer\n",
        "criterion = torch.nn.CrossEntropyLoss()\n",
        "optimizer = torch.optim.SGD(model.parameters(), lr=learning_rate, momentum=momentum)\n",
        "\n",
        "# Train\n",
        "train_model(model, criterion, optimizer)\n",
        "\n",
        "# Eval\n",
        "eval_model(model)"
      ],
      "execution_count": 78,
      "outputs": [
        {
          "output_type": "stream",
          "text": [
            "Epoch [1/1], Step [100/12500], Loss: 1.1833765506744385, Time: 1.260016918182373\n",
            "Epoch [1/1], Step [200/12500], Loss: 1.7331279516220093, Time: 1.0758564472198486\n",
            "Epoch [1/1], Step [300/12500], Loss: 0.8075984716415405, Time: 1.054960012435913\n",
            "Epoch [1/1], Step [400/12500], Loss: 1.0728883743286133, Time: 1.0889790058135986\n",
            "Epoch [1/1], Step [500/12500], Loss: 0.7108811736106873, Time: 1.0803585052490234\n",
            "Epoch [1/1], Step [600/12500], Loss: 1.1742172241210938, Time: 1.0525009632110596\n",
            "Epoch [1/1], Step [700/12500], Loss: 2.014604330062866, Time: 1.0617690086364746\n",
            "Epoch [1/1], Step [800/12500], Loss: 0.22194361686706543, Time: 1.049727439880371\n",
            "Epoch [1/1], Step [900/12500], Loss: 0.5538668632507324, Time: 1.0948495864868164\n",
            "Epoch [1/1], Step [1000/12500], Loss: 0.4857237637042999, Time: 1.0681178569793701\n",
            "Epoch [1/1], Step [1100/12500], Loss: 1.4107006788253784, Time: 1.0516743659973145\n",
            "Epoch [1/1], Step [1200/12500], Loss: 0.864416778087616, Time: 1.040083408355713\n",
            "Epoch [1/1], Step [1300/12500], Loss: 0.9826864004135132, Time: 1.074209213256836\n",
            "Epoch [1/1], Step [1400/12500], Loss: 1.2340290546417236, Time: 1.041557788848877\n",
            "Epoch [1/1], Step [1500/12500], Loss: 0.07657129317522049, Time: 1.0540788173675537\n",
            "Epoch [1/1], Step [1600/12500], Loss: 0.2936810851097107, Time: 1.0617337226867676\n",
            "Epoch [1/1], Step [1700/12500], Loss: 2.839353084564209, Time: 1.0447893142700195\n",
            "Epoch [1/1], Step [1800/12500], Loss: 0.6656235456466675, Time: 1.0911154747009277\n",
            "Epoch [1/1], Step [1900/12500], Loss: 2.037968873977661, Time: 1.056471824645996\n",
            "Epoch [1/1], Step [2000/12500], Loss: 0.6001157760620117, Time: 1.0684893131256104\n",
            "Epoch [1/1], Step [2100/12500], Loss: 0.46634331345558167, Time: 1.0736286640167236\n",
            "Epoch [1/1], Step [2200/12500], Loss: 0.770251989364624, Time: 1.0429129600524902\n",
            "Epoch [1/1], Step [2300/12500], Loss: 0.09993197023868561, Time: 1.0360424518585205\n",
            "Epoch [1/1], Step [2400/12500], Loss: 1.904693603515625, Time: 1.060483694076538\n",
            "Epoch [1/1], Step [2500/12500], Loss: 0.38386958837509155, Time: 1.0347201824188232\n",
            "Epoch [1/1], Step [2600/12500], Loss: 0.4243090748786926, Time: 1.0292723178863525\n",
            "Epoch [1/1], Step [2700/12500], Loss: 0.9204845428466797, Time: 1.043590784072876\n",
            "Epoch [1/1], Step [2800/12500], Loss: 0.6795507669448853, Time: 1.0442802906036377\n",
            "Epoch [1/1], Step [2900/12500], Loss: 0.45583903789520264, Time: 1.071115493774414\n",
            "Epoch [1/1], Step [3000/12500], Loss: 0.35328975319862366, Time: 1.0460951328277588\n",
            "Epoch [1/1], Step [3100/12500], Loss: 0.43927809596061707, Time: 1.0464749336242676\n",
            "Epoch [1/1], Step [3200/12500], Loss: 0.5738454461097717, Time: 1.0423388481140137\n",
            "Epoch [1/1], Step [3300/12500], Loss: 1.0062804222106934, Time: 1.0360641479492188\n",
            "Epoch [1/1], Step [3400/12500], Loss: 0.6969918012619019, Time: 1.088362455368042\n",
            "Epoch [1/1], Step [3500/12500], Loss: 0.35730594396591187, Time: 1.0430762767791748\n",
            "Epoch [1/1], Step [3600/12500], Loss: 0.21470455825328827, Time: 1.0273284912109375\n",
            "Epoch [1/1], Step [3700/12500], Loss: 1.6366846561431885, Time: 1.0429134368896484\n",
            "Epoch [1/1], Step [3800/12500], Loss: 0.3093826174736023, Time: 1.0389840602874756\n",
            "Epoch [1/1], Step [3900/12500], Loss: 0.5820150971412659, Time: 1.043222427368164\n",
            "Epoch [1/1], Step [4000/12500], Loss: 0.9085662961006165, Time: 1.0278091430664062\n",
            "Epoch [1/1], Step [4100/12500], Loss: 0.9575254321098328, Time: 1.0444598197937012\n",
            "Epoch [1/1], Step [4200/12500], Loss: 1.2684552669525146, Time: 1.0391252040863037\n",
            "Epoch [1/1], Step [4300/12500], Loss: 0.4494433104991913, Time: 1.0468342304229736\n",
            "Epoch [1/1], Step [4400/12500], Loss: 0.6583247780799866, Time: 1.0441296100616455\n",
            "Epoch [1/1], Step [4500/12500], Loss: 0.4769692122936249, Time: 1.0534937381744385\n",
            "Epoch [1/1], Step [4600/12500], Loss: 0.32841336727142334, Time: 1.038926601409912\n",
            "Epoch [1/1], Step [4700/12500], Loss: 0.8290228247642517, Time: 1.0499868392944336\n",
            "Epoch [1/1], Step [4800/12500], Loss: 1.4402457475662231, Time: 1.0536177158355713\n",
            "Epoch [1/1], Step [4900/12500], Loss: 0.03403741121292114, Time: 1.06978178024292\n",
            "Epoch [1/1], Step [5000/12500], Loss: 1.364452838897705, Time: 1.0669219493865967\n",
            "Epoch [1/1], Step [5100/12500], Loss: 0.39377909898757935, Time: 1.0703423023223877\n",
            "Epoch [1/1], Step [5200/12500], Loss: 0.27812859416007996, Time: 1.055473804473877\n",
            "Epoch [1/1], Step [5300/12500], Loss: 1.0585360527038574, Time: 1.0194966793060303\n",
            "Epoch [1/1], Step [5400/12500], Loss: 0.5168023705482483, Time: 1.0457520484924316\n",
            "Epoch [1/1], Step [5500/12500], Loss: 0.625349760055542, Time: 1.0506699085235596\n",
            "Epoch [1/1], Step [5600/12500], Loss: 0.7445635199546814, Time: 1.0434455871582031\n",
            "Epoch [1/1], Step [5700/12500], Loss: 0.22642317414283752, Time: 1.0295238494873047\n",
            "Epoch [1/1], Step [5800/12500], Loss: 0.4047621786594391, Time: 1.0536763668060303\n",
            "Epoch [1/1], Step [5900/12500], Loss: 1.3284897804260254, Time: 1.0614550113677979\n",
            "Epoch [1/1], Step [6000/12500], Loss: 1.2739211320877075, Time: 1.051224708557129\n",
            "Epoch [1/1], Step [6100/12500], Loss: 0.27099230885505676, Time: 1.0567131042480469\n",
            "Epoch [1/1], Step [6200/12500], Loss: 0.265011191368103, Time: 1.040076494216919\n",
            "Epoch [1/1], Step [6300/12500], Loss: 0.4066263735294342, Time: 1.0400631427764893\n",
            "Epoch [1/1], Step [6400/12500], Loss: 0.6269829869270325, Time: 1.0578768253326416\n",
            "Epoch [1/1], Step [6500/12500], Loss: 0.18093983829021454, Time: 1.059049129486084\n",
            "Epoch [1/1], Step [6600/12500], Loss: 0.48271721601486206, Time: 1.0270426273345947\n",
            "Epoch [1/1], Step [6700/12500], Loss: 1.131987452507019, Time: 1.045057773590088\n",
            "Epoch [1/1], Step [6800/12500], Loss: 0.4181532859802246, Time: 1.069199800491333\n",
            "Epoch [1/1], Step [6900/12500], Loss: 0.06280002743005753, Time: 1.0666887760162354\n",
            "Epoch [1/1], Step [7000/12500], Loss: 0.2863617539405823, Time: 1.0561764240264893\n",
            "Epoch [1/1], Step [7100/12500], Loss: 0.1379244178533554, Time: 1.038999319076538\n",
            "Epoch [1/1], Step [7200/12500], Loss: 2.3438189029693604, Time: 1.0638487339019775\n",
            "Epoch [1/1], Step [7300/12500], Loss: 0.10781050473451614, Time: 1.0347857475280762\n",
            "Epoch [1/1], Step [7400/12500], Loss: 0.1506306231021881, Time: 1.039020299911499\n",
            "Epoch [1/1], Step [7500/12500], Loss: 0.4245776832103729, Time: 1.0495500564575195\n",
            "Epoch [1/1], Step [7600/12500], Loss: 0.3587028682231903, Time: 1.0542280673980713\n",
            "Epoch [1/1], Step [7700/12500], Loss: 0.05030042305588722, Time: 1.0521376132965088\n",
            "Epoch [1/1], Step [7800/12500], Loss: 0.38310760259628296, Time: 1.0521152019500732\n",
            "Epoch [1/1], Step [7900/12500], Loss: 0.41553249955177307, Time: 1.0292754173278809\n",
            "Epoch [1/1], Step [8000/12500], Loss: 0.9149857759475708, Time: 1.0636711120605469\n",
            "Epoch [1/1], Step [8100/12500], Loss: 0.11868839710950851, Time: 1.0498101711273193\n",
            "Epoch [1/1], Step [8200/12500], Loss: 0.26912936568260193, Time: 1.050276756286621\n",
            "Epoch [1/1], Step [8300/12500], Loss: 0.6240330338478088, Time: 1.0574796199798584\n",
            "Epoch [1/1], Step [8400/12500], Loss: 1.3585630655288696, Time: 1.0478053092956543\n",
            "Epoch [1/1], Step [8500/12500], Loss: 0.5870127081871033, Time: 1.05183744430542\n",
            "Epoch [1/1], Step [8600/12500], Loss: 1.2905526161193848, Time: 1.0435528755187988\n",
            "Epoch [1/1], Step [8700/12500], Loss: 0.2176421582698822, Time: 1.022540807723999\n",
            "Epoch [1/1], Step [8800/12500], Loss: 1.4118458032608032, Time: 1.0467228889465332\n",
            "Epoch [1/1], Step [8900/12500], Loss: 0.8668180704116821, Time: 1.0290188789367676\n",
            "Epoch [1/1], Step [9000/12500], Loss: 0.19617435336112976, Time: 1.0243690013885498\n",
            "Epoch [1/1], Step [9100/12500], Loss: 0.1606164425611496, Time: 1.0355052947998047\n",
            "Epoch [1/1], Step [9200/12500], Loss: 1.8816490173339844, Time: 1.033639669418335\n",
            "Epoch [1/1], Step [9300/12500], Loss: 0.10542899370193481, Time: 1.043752670288086\n",
            "Epoch [1/1], Step [9400/12500], Loss: 0.0926513522863388, Time: 1.0570106506347656\n",
            "Epoch [1/1], Step [9500/12500], Loss: 1.103007435798645, Time: 1.0240452289581299\n",
            "Epoch [1/1], Step [9600/12500], Loss: 0.6345192193984985, Time: 1.0367162227630615\n",
            "Epoch [1/1], Step [9700/12500], Loss: 0.22451603412628174, Time: 1.0373523235321045\n",
            "Epoch [1/1], Step [9800/12500], Loss: 0.49764037132263184, Time: 1.05576753616333\n",
            "Epoch [1/1], Step [9900/12500], Loss: 0.3758755922317505, Time: 1.0352392196655273\n",
            "Epoch [1/1], Step [10000/12500], Loss: 0.0502520315349102, Time: 1.0487349033355713\n",
            "Epoch [1/1], Step [10100/12500], Loss: 0.041868165135383606, Time: 1.067692756652832\n",
            "Epoch [1/1], Step [10200/12500], Loss: 0.21537601947784424, Time: 1.0479445457458496\n",
            "Epoch [1/1], Step [10300/12500], Loss: 1.239877700805664, Time: 1.0402281284332275\n",
            "Epoch [1/1], Step [10400/12500], Loss: 0.1259596049785614, Time: 1.036332368850708\n",
            "Epoch [1/1], Step [10500/12500], Loss: 0.39941638708114624, Time: 1.0500712394714355\n",
            "Epoch [1/1], Step [10600/12500], Loss: 0.1503118872642517, Time: 1.041003942489624\n",
            "Epoch [1/1], Step [10700/12500], Loss: 0.6879772543907166, Time: 1.0381014347076416\n",
            "Epoch [1/1], Step [10800/12500], Loss: 0.5954089760780334, Time: 1.0465734004974365\n",
            "Epoch [1/1], Step [10900/12500], Loss: 0.15144036710262299, Time: 1.036677360534668\n",
            "Epoch [1/1], Step [11000/12500], Loss: 1.6493465900421143, Time: 1.0718271732330322\n",
            "Epoch [1/1], Step [11100/12500], Loss: 1.4080595970153809, Time: 1.0488371849060059\n",
            "Epoch [1/1], Step [11200/12500], Loss: 0.35499095916748047, Time: 1.048609733581543\n",
            "Epoch [1/1], Step [11300/12500], Loss: 1.0846062898635864, Time: 1.0363383293151855\n",
            "Epoch [1/1], Step [11400/12500], Loss: 0.860977053642273, Time: 1.0719575881958008\n",
            "Epoch [1/1], Step [11500/12500], Loss: 0.9761407971382141, Time: 1.0285112857818604\n",
            "Epoch [1/1], Step [11600/12500], Loss: 1.7607616186141968, Time: 1.0566883087158203\n",
            "Epoch [1/1], Step [11700/12500], Loss: 1.3888624906539917, Time: 1.0293042659759521\n",
            "Epoch [1/1], Step [11800/12500], Loss: 0.2492034137248993, Time: 1.0760831832885742\n",
            "Epoch [1/1], Step [11900/12500], Loss: 0.08144524693489075, Time: 1.0621566772460938\n",
            "Epoch [1/1], Step [12000/12500], Loss: 0.4757286608219147, Time: 1.0332179069519043\n",
            "Epoch [1/1], Step [12100/12500], Loss: 0.37805232405662537, Time: 1.0479638576507568\n",
            "Epoch [1/1], Step [12200/12500], Loss: 0.12283723801374435, Time: 1.0349273681640625\n",
            "Epoch [1/1], Step [12300/12500], Loss: 0.45113372802734375, Time: 1.0370702743530273\n",
            "Epoch [1/1], Step [12400/12500], Loss: 0.9870647192001343, Time: 1.021585464477539\n",
            "Epoch [1/1], Step [12500/12500], Loss: 0.2862094044685364, Time: 1.0486962795257568\n",
            "Test Accuracy of the model on the 10000 test images: 79.92 %\n"
          ],
          "name": "stdout"
        }
      ]
    },
    {
      "cell_type": "markdown",
      "metadata": {
        "id": "rW_KVtvE1JPD"
      },
      "source": [
        "\n",
        "# Más modelos\n",
        "\n",
        "El dataset cifar-10 es muy común para analizar el rendimiento de nuevos modelos. Se puede comprobar [la precisión de los nuevos modelos](https://benchmarks.ai/cifar-10).\n",
        "\n",
        "En PyTorch hay disponibles más [modelos](https://pytorch.org/vision/stable/models.html) para poder hacer pruebas.\n",
        "\n"
      ]
    },
    {
      "cell_type": "markdown",
      "metadata": {
        "id": "FsT3y1Rw-PVz"
      },
      "source": [
        "Se pueden comparar los modelos en función de su complejidad."
      ]
    },
    {
      "cell_type": "code",
      "metadata": {
        "colab": {
          "base_uri": "https://localhost:8080/"
        },
        "id": "9YGGaNR46ybY",
        "outputId": "a8b22397-05df-40ee-a395-de2694bfa049"
      },
      "source": [
        "import torchvision.models as models\n",
        "resnet18 = models.resnet18()\n",
        "alexnet = models.alexnet()\n",
        "vgg16 = models.vgg16()\n",
        "squeezenet = models.squeezenet1_0()\n",
        "densenet = models.densenet161()\n",
        "inception = models.inception_v3()\n",
        "googlenet = models.googlenet()\n",
        "shufflenet = models.shufflenet_v2_x1_0()\n",
        "mobilenet_v2 = models.mobilenet_v2()\n",
        "mobilenet_v3_large = models.mobilenet_v3_large()\n",
        "mobilenet_v3_small = models.mobilenet_v3_small()\n",
        "resnext50_32x4d = models.resnext50_32x4d()\n",
        "wide_resnet50_2 = models.wide_resnet50_2()\n",
        "mnasnet = models.mnasnet1_0()"
      ],
      "execution_count": 46,
      "outputs": [
        {
          "output_type": "stream",
          "text": [
            "/usr/local/lib/python3.7/dist-packages/torchvision/models/inception.py:82: FutureWarning: The default weight initialization of inception_v3 will be changed in future releases of torchvision. If you wish to keep the old behavior (which leads to long initialization times due to scipy/scipy#11299), please set init_weights=True.\n",
            "  ' due to scipy/scipy#11299), please set init_weights=True.', FutureWarning)\n",
            "/usr/local/lib/python3.7/dist-packages/torchvision/models/googlenet.py:79: FutureWarning: The default weight initialization of GoogleNet will be changed in future releases of torchvision. If you wish to keep the old behavior (which leads to long initialization times due to scipy/scipy#11299), please set init_weights=True.\n",
            "  ' due to scipy/scipy#11299), please set init_weights=True.', FutureWarning)\n"
          ],
          "name": "stderr"
        }
      ]
    },
    {
      "cell_type": "code",
      "metadata": {
        "colab": {
          "base_uri": "https://localhost:8080/"
        },
        "id": "-Ow33sZ17B3U",
        "outputId": "77226cbf-68a4-4e7a-f233-40c99e601c26"
      },
      "source": [
        "total_params = sum(p.numel() for p in vgg16.parameters())\n",
        "print(f'Total params: {total_params:,}');"
      ],
      "execution_count": 68,
      "outputs": [
        {
          "output_type": "stream",
          "text": [
            "Total params: 138,357,544\n"
          ],
          "name": "stdout"
        }
      ]
    },
    {
      "cell_type": "code",
      "metadata": {
        "colab": {
          "base_uri": "https://localhost:8080/",
          "height": 370
        },
        "id": "GKkAHyIZ7rUt",
        "outputId": "20d3975c-b241-45b7-f076-4a69b97ad818"
      },
      "source": [
        "m = []\n",
        "\n",
        "m.append(resnet18)\n",
        "m.append(alexnet)\n",
        "m.append(vgg16)\n",
        "m.append(squeezenet)\n",
        "m.append(densenet)\n",
        "m.append(inception)\n",
        "m.append(googlenet)\n",
        "m.append(shufflenet)\n",
        "m.append(mobilenet_v2)\n",
        "m.append(mobilenet_v3_large)\n",
        "m.append(mobilenet_v3_small)\n",
        "m.append(resnext50_32x4d)\n",
        "m.append(wide_resnet50_2)\n",
        "m.append(mnasnet)\n",
        "\n",
        "params = []\n",
        "for model in m:\n",
        "  params.append(sum(p.numel() for p in model.parameters()))\n",
        "\n",
        "tparams = torch.tensor(params)\n",
        "objects = ('resnet18', 'alexnet', 'vgg16', 'squeezenet', 'densenet', \n",
        "           'inception', 'googlenet', 'shufflenet', 'mobilenet_v2', 'mobilenet_v3_large', \n",
        "           'mobilenet_v3_small', 'resnext50_32x4d', 'wide_resnet50_2', 'mnasnet')\n",
        "pos = range(len(objects))\n",
        "\n",
        "y=plt.bar(pos, params, align='center', alpha=0.5)\n",
        "plt.xticks(pos, objects, rotation='vertical')\n",
        "plt.ylabel('Number of parameters')\n",
        "plt.title('Model complexity')\n",
        "\n",
        "plt.show()\n"
      ],
      "execution_count": 62,
      "outputs": [
        {
          "output_type": "display_data",
          "data": {
            "image/png": "[encoded data removed]",
            "text/plain": [
              "<Figure size 432x288 with 1 Axes>"
            ]
          },
          "metadata": {
            "tags": [],
            "needs_background": "light"
          }
        }
      ]
    }
  ]
}