{
  "nbformat": 4,
  "nbformat_minor": 0,
  "metadata": {
    "colab": {
      "name": "4_transfer.ipynb",
      "provenance": [],
      "collapsed_sections": [],
      "toc_visible": true,
      "authorship_tag": "ABX9TyOLUlwgtPQneKUUt+bMcW7F",
      "include_colab_link": true
    },
    "kernelspec": {
      "name": "python3",
      "display_name": "Python 3"
    },
    "language_info": {
      "name": "python"
    },
    "accelerator": "GPU"
  },
  "cells": [
    {
      "cell_type": "markdown",
      "metadata": {
        "id": "view-in-github",
        "colab_type": "text"
      },
      "source": [
        "<a href=\"https://colab.research.google.com/github/rusamentiaga/pytorch-test/blob/main/4_transfer.ipynb\" target=\"_parent\"><img src=\"https://colab.research.google.com/assets/colab-badge.svg\" alt=\"Open In Colab\"/></a>"
      ]
    },
    {
      "cell_type": "markdown",
      "metadata": {
        "id": "ik1U4OS_xQDf"
      },
      "source": [
        "# Modelos y transfer learning"
      ]
    },
    {
      "cell_type": "markdown",
      "metadata": {
        "id": "TXb8_4I1xT3r"
      },
      "source": [
        "La ventaja de los modelos de aprendizaje automático es que no es necesario crearlos desde cero, se puede partir de modelos prediseñados que se adapten a nuestro problema. Además, se puede partir de modelos pre-entrenados, donde solamente se entrenen capas específicas para adaptarlas a un problema concreto"
      ]
    },
    {
      "cell_type": "markdown",
      "metadata": {
        "id": "PlL4IwoYxyO2"
      },
      "source": [
        "# Dataset cifar-10"
      ]
    },
    {
      "cell_type": "markdown",
      "metadata": {
        "id": "GqglGS-Lx0aY"
      },
      "source": [
        "Para demostrar el funcionamiento del transfer learning se va a utilizar un dataset disponible en torchvision: [Cifar-10](https://www.cs.toronto.edu/~kriz/cifar.html)."
      ]
    },
    {
      "cell_type": "markdown",
      "metadata": {
        "id": "siXlJnq7x_Ls"
      },
      "source": [
        "Se cargan los paquetes."
      ]
    },
    {
      "cell_type": "code",
      "metadata": {
        "id": "4gJAEtYmgCsM"
      },
      "source": [
        "import torch\n",
        "import torchvision\n",
        "import torchvision.transforms as transforms"
      ],
      "execution_count": 1,
      "outputs": []
    },
    {
      "cell_type": "markdown",
      "metadata": {
        "id": "VX2AYYlbyB5l"
      },
      "source": [
        "Se configura el dispositivo"
      ]
    },
    {
      "cell_type": "code",
      "metadata": {
        "colab": {
          "base_uri": "https://localhost:8080/"
        },
        "id": "o8jLcLAqgLWB",
        "outputId": "0be5889b-5456-4b87-838c-1622fb6975a1"
      },
      "source": [
        "device = torch.device('cuda' if torch.cuda.is_available() else 'cpu')\n",
        "device"
      ],
      "execution_count": 2,
      "outputs": [
        {
          "output_type": "execute_result",
          "data": {
            "text/plain": [
              "device(type='cuda')"
            ]
          },
          "metadata": {
            "tags": []
          },
          "execution_count": 2
        }
      ]
    },
    {
      "cell_type": "markdown",
      "metadata": {
        "id": "wBXVPwAsyE_k"
      },
      "source": [
        "Se define una transformación para adaptar el dataset al tamaño de entrada que espera la red. Además, se normaliza."
      ]
    },
    {
      "cell_type": "code",
      "metadata": {
        "id": "7w73OIOPgkbu"
      },
      "source": [
        "transform = transforms.Compose([\n",
        "    transforms.Resize(256),\n",
        "    transforms.CenterCrop(224),\n",
        "    transforms.ToTensor(),\n",
        "    transforms.Normalize(mean=[0.485, 0.456, 0.406], std=[0.229, 0.224, 0.225]),\n",
        "])"
      ],
      "execution_count": 3,
      "outputs": []
    },
    {
      "cell_type": "markdown",
      "metadata": {
        "id": "pgqV6S9TyMdj"
      },
      "source": [
        "Se descarga el dataset y se configuran los cargadores."
      ]
    },
    {
      "cell_type": "code",
      "metadata": {
        "colab": {
          "base_uri": "https://localhost:8080/"
        },
        "id": "LrpDm6PXgry7",
        "outputId": "d4ffe42f-94f5-464a-ae1c-b352992c9319"
      },
      "source": [
        "batch_size = 4\n",
        "\n",
        "#Downloading training data\n",
        "train_data = torchvision.datasets.CIFAR10(root='./data', train=True, download=True, transform=transform)\n",
        "\n",
        "trainloader = torch.utils.data.DataLoader(train_data, batch_size=batch_size, shuffle=True, num_workers=2)\n",
        "\n",
        "#Downloading test data\n",
        "test_data = torchvision.datasets.CIFAR10(root='./data', train=False, download=True, transform=transform)\n",
        "\n",
        "testloader = torch.utils.data.DataLoader(test_data, batch_size=batch_size, shuffle=False, num_workers=2)\n",
        "\n",
        "#Class labels\n",
        "\n",
        "classes = ('Airplane', 'Car', 'Bird', 'Cat', 'Deer', 'Dog', 'Frog', 'Horse', 'Ship', 'Truck')\n",
        "num_classes = len(classes)\n"
      ],
      "execution_count": 4,
      "outputs": [
        {
          "output_type": "stream",
          "text": [
            "Files already downloaded and verified\n",
            "Files already downloaded and verified\n"
          ],
          "name": "stdout"
        }
      ]
    },
    {
      "cell_type": "markdown",
      "metadata": {
        "id": "xXGRuMURyRrZ"
      },
      "source": [
        "Se comprueba que los ficheros están en disco."
      ]
    },
    {
      "cell_type": "code",
      "metadata": {
        "colab": {
          "base_uri": "https://localhost:8080/"
        },
        "id": "ayQ9ANMFhBuY",
        "outputId": "30aaaf72-166a-4264-ae6a-417747bda012"
      },
      "source": [
        "!ls data/cifar-10-batches-py"
      ],
      "execution_count": 5,
      "outputs": [
        {
          "output_type": "stream",
          "text": [
            "batches.meta  data_batch_2  data_batch_4  readme.html\n",
            "data_batch_1  data_batch_3  data_batch_5  test_batch\n"
          ],
          "name": "stdout"
        }
      ]
    },
    {
      "cell_type": "markdown",
      "metadata": {
        "id": "oxjcVyllyUtp"
      },
      "source": [
        "Se puede ver el tamaño de cada batch."
      ]
    },
    {
      "cell_type": "code",
      "metadata": {
        "colab": {
          "base_uri": "https://localhost:8080/"
        },
        "id": "gpMKxJNHhL3O",
        "outputId": "285e860c-f3c7-4cdc-efa8-5d8392892d3a"
      },
      "source": [
        "dataiter = iter(trainloader)\n",
        "images, labels = dataiter.next()\n",
        "images.shape\n"
      ],
      "execution_count": 6,
      "outputs": [
        {
          "output_type": "execute_result",
          "data": {
            "text/plain": [
              "torch.Size([4, 3, 224, 224])"
            ]
          },
          "metadata": {
            "tags": []
          },
          "execution_count": 6
        }
      ]
    },
    {
      "cell_type": "code",
      "metadata": {
        "colab": {
          "base_uri": "https://localhost:8080/"
        },
        "id": "n66ucY5p2hDU",
        "outputId": "666143d5-45dc-4c45-d615-5640d6c58077"
      },
      "source": [
        "print(f'Train images: {len(train_data)}')\n",
        "print(f'Test images: {len(test_data)}')\n",
        "print(f'Train batches: {int(len(train_data)/batch_size)}')"
      ],
      "execution_count": 7,
      "outputs": [
        {
          "output_type": "stream",
          "text": [
            "Train images: 50000\n",
            "Test images: 10000\n",
            "Train batches: 12500\n"
          ],
          "name": "stdout"
        }
      ]
    },
    {
      "cell_type": "markdown",
      "metadata": {
        "id": "qe2CjUmTyYHH"
      },
      "source": [
        "Se visualiza un batch. El dataset contiene imágenes a baja resolución de 10 clases."
      ]
    },
    {
      "cell_type": "code",
      "metadata": {
        "colab": {
          "base_uri": "https://localhost:8080/",
          "height": 185
        },
        "id": "i1951BPJhWME",
        "outputId": "6232f437-b213-4b23-f127-925a696e841d"
      },
      "source": [
        "import matplotlib.pyplot as plt\n",
        "\n",
        "grid = torchvision.utils.make_grid(images)\n",
        "grid.shape\n",
        "\n",
        "# unnormalize\n",
        "grid = grid / 2 + 0.5     \n",
        "plt.imshow(grid.permute(1,2,0))\n",
        "\n",
        "plt.title(' '.join('%5s' % classes[labels[j]] for j in range(4)))"
      ],
      "execution_count": 8,
      "outputs": [
        {
          "output_type": "stream",
          "text": [
            "Clipping input data to the valid range for imshow with RGB data ([0..1] for floats or [0..255] for integers).\n"
          ],
          "name": "stderr"
        },
        {
          "output_type": "execute_result",
          "data": {
            "text/plain": [
              "Text(0.5, 1.0, ' Frog  Deer  Deer  Frog')"
            ]
          },
          "metadata": {
            "tags": []
          },
          "execution_count": 8
        },
        {
          "output_type": "display_data",
          "data": {
            "image/png": "[encoded data removed]",
            "text/plain": [
              "<Figure size 432x288 with 1 Axes>"
            ]
          },
          "metadata": {
            "tags": [],
            "needs_background": "light"
          }
        }
      ]
    },
    {
      "cell_type": "markdown",
      "metadata": {
        "id": "YtmHj4aMtts5"
      },
      "source": [
        "# Partiendo de un modelo prediseñado\n",
        "\n",
        "En este caso se va a partir de [AlexNet](https://github.com/pytorch/vision/blob/master/torchvision/models/alexnet.py). Se puede descargar con los parámetros entrenados en [ImageNet](https://www.google.com/search?q=Imagenet).\n"
      ]
    },
    {
      "cell_type": "code",
      "metadata": {
        "colab": {
          "base_uri": "https://localhost:8080/"
        },
        "id": "vlYff843iYiK",
        "outputId": "44d63f44-02d1-4516-c353-c004b23578fe"
      },
      "source": [
        "alexnet = torch.hub.load('pytorch/vision:v0.9.0', 'alexnet', pretrained=True)\n",
        "alexnet.eval()"
      ],
      "execution_count": 9,
      "outputs": [
        {
          "output_type": "stream",
          "text": [
            "Using cache found in /root/.cache/torch/hub/pytorch_vision_v0.9.0\n"
          ],
          "name": "stderr"
        },
        {
          "output_type": "execute_result",
          "data": {
            "text/plain": [
              "AlexNet(\n",
              "  (features): Sequential(\n",
              "    (0): Conv2d(3, 64, kernel_size=(11, 11), stride=(4, 4), padding=(2, 2))\n",
              "    (1): ReLU(inplace=True)\n",
              "    (2): MaxPool2d(kernel_size=3, stride=2, padding=0, dilation=1, ceil_mode=False)\n",
              "    (3): Conv2d(64, 192, kernel_size=(5, 5), stride=(1, 1), padding=(2, 2))\n",
              "    (4): ReLU(inplace=True)\n",
              "    (5): MaxPool2d(kernel_size=3, stride=2, padding=0, dilation=1, ceil_mode=False)\n",
              "    (6): Conv2d(192, 384, kernel_size=(3, 3), stride=(1, 1), padding=(1, 1))\n",
              "    (7): ReLU(inplace=True)\n",
              "    (8): Conv2d(384, 256, kernel_size=(3, 3), stride=(1, 1), padding=(1, 1))\n",
              "    (9): ReLU(inplace=True)\n",
              "    (10): Conv2d(256, 256, kernel_size=(3, 3), stride=(1, 1), padding=(1, 1))\n",
              "    (11): ReLU(inplace=True)\n",
              "    (12): MaxPool2d(kernel_size=3, stride=2, padding=0, dilation=1, ceil_mode=False)\n",
              "  )\n",
              "  (avgpool): AdaptiveAvgPool2d(output_size=(6, 6))\n",
              "  (classifier): Sequential(\n",
              "    (0): Dropout(p=0.5, inplace=False)\n",
              "    (1): Linear(in_features=9216, out_features=4096, bias=True)\n",
              "    (2): ReLU(inplace=True)\n",
              "    (3): Dropout(p=0.5, inplace=False)\n",
              "    (4): Linear(in_features=4096, out_features=4096, bias=True)\n",
              "    (5): ReLU(inplace=True)\n",
              "    (6): Linear(in_features=4096, out_features=1000, bias=True)\n",
              "  )\n",
              ")"
            ]
          },
          "metadata": {
            "tags": []
          },
          "execution_count": 9
        }
      ]
    },
    {
      "cell_type": "markdown",
      "metadata": {
        "id": "wsbnva9liybP"
      },
      "source": [
        "Para adaptarlo al problema concreto hay que cambiar la última capa."
      ]
    },
    {
      "cell_type": "code",
      "metadata": {
        "colab": {
          "base_uri": "https://localhost:8080/"
        },
        "id": "5y9TMAeZi-Sz",
        "outputId": "087e9cd3-01e8-4400-d479-cf68b6f5d198"
      },
      "source": [
        "#Updating the third and the last classifier that is the output layer of the network. Make sure to have 10 output nodes if we are going to get 10 class labels through our model.\n",
        "alexnet.classifier[6] = torch.nn.Linear(4096,num_classes)\n",
        "alexnet.eval()"
      ],
      "execution_count": 10,
      "outputs": [
        {
          "output_type": "execute_result",
          "data": {
            "text/plain": [
              "AlexNet(\n",
              "  (features): Sequential(\n",
              "    (0): Conv2d(3, 64, kernel_size=(11, 11), stride=(4, 4), padding=(2, 2))\n",
              "    (1): ReLU(inplace=True)\n",
              "    (2): MaxPool2d(kernel_size=3, stride=2, padding=0, dilation=1, ceil_mode=False)\n",
              "    (3): Conv2d(64, 192, kernel_size=(5, 5), stride=(1, 1), padding=(2, 2))\n",
              "    (4): ReLU(inplace=True)\n",
              "    (5): MaxPool2d(kernel_size=3, stride=2, padding=0, dilation=1, ceil_mode=False)\n",
              "    (6): Conv2d(192, 384, kernel_size=(3, 3), stride=(1, 1), padding=(1, 1))\n",
              "    (7): ReLU(inplace=True)\n",
              "    (8): Conv2d(384, 256, kernel_size=(3, 3), stride=(1, 1), padding=(1, 1))\n",
              "    (9): ReLU(inplace=True)\n",
              "    (10): Conv2d(256, 256, kernel_size=(3, 3), stride=(1, 1), padding=(1, 1))\n",
              "    (11): ReLU(inplace=True)\n",
              "    (12): MaxPool2d(kernel_size=3, stride=2, padding=0, dilation=1, ceil_mode=False)\n",
              "  )\n",
              "  (avgpool): AdaptiveAvgPool2d(output_size=(6, 6))\n",
              "  (classifier): Sequential(\n",
              "    (0): Dropout(p=0.5, inplace=False)\n",
              "    (1): Linear(in_features=9216, out_features=4096, bias=True)\n",
              "    (2): ReLU(inplace=True)\n",
              "    (3): Dropout(p=0.5, inplace=False)\n",
              "    (4): Linear(in_features=4096, out_features=4096, bias=True)\n",
              "    (5): ReLU(inplace=True)\n",
              "    (6): Linear(in_features=4096, out_features=10, bias=True)\n",
              "  )\n",
              ")"
            ]
          },
          "metadata": {
            "tags": []
          },
          "execution_count": 10
        }
      ]
    },
    {
      "cell_type": "markdown",
      "metadata": {
        "id": "GLNH28MV0C1n"
      },
      "source": [
        "Se define la función de entrenamiento."
      ]
    },
    {
      "cell_type": "code",
      "metadata": {
        "id": "nlbWPVdKj7vS"
      },
      "source": [
        "import time\n",
        "\n",
        "def train_model(model, criterion, optimizer):\n",
        "  # Train the model\n",
        "  total_step = len(trainloader)\n",
        "  for epoch in range(num_epochs):\n",
        "      start = time.time()\n",
        "      for i, (images, labels) in enumerate(trainloader):\n",
        "          images = images.to(device)\n",
        "          labels = labels.to(device)\n",
        "          \n",
        "          # Forward pass\n",
        "          outputs = model(images)\n",
        "          loss = criterion(outputs, labels)\n",
        "          \n",
        "          # Backward and optimize\n",
        "          optimizer.zero_grad()\n",
        "          loss.backward()\n",
        "          optimizer.step()\n",
        "\n",
        "          if (i+1) % 100 == 0:\n",
        "              end = time.time()\n",
        "              print (f'Epoch [{epoch+1}/{num_epochs}], Step [{i+1}/{total_step}], Loss: {loss}, Time: {end - start}')\n",
        "              start = time.time()"
      ],
      "execution_count": 11,
      "outputs": []
    },
    {
      "cell_type": "markdown",
      "metadata": {
        "id": "LjvyC0160HTm"
      },
      "source": [
        "Se define la función de evaluación."
      ]
    },
    {
      "cell_type": "code",
      "metadata": {
        "id": "t55PJIOErOJT"
      },
      "source": [
        "def eval_model(model):\n",
        "  model.eval()  # eval mode (batchnorm uses moving mean/variance instead of mini-batch mean/variance)\n",
        "  with torch.no_grad():\n",
        "      correct = 0\n",
        "      total = 0\n",
        "      for images, labels in testloader:\n",
        "          images = images.to(device)\n",
        "          labels = labels.to(device)\n",
        "          outputs = model(images)\n",
        "          _, predicted = torch.max(outputs.data, 1)\n",
        "          total += labels.size(0)\n",
        "          correct += (predicted == labels).sum().item()\n",
        "\n",
        "      print('Test Accuracy of the model using the test images: {} %'.format(100 * correct / total)) "
      ],
      "execution_count": 12,
      "outputs": []
    },
    {
      "cell_type": "markdown",
      "metadata": {
        "id": "IynG0raO0Kc_"
      },
      "source": [
        "Se realiza el entrenamiento del modelo con una determinada configuración"
      ]
    },
    {
      "cell_type": "code",
      "metadata": {
        "colab": {
          "base_uri": "https://localhost:8080/"
        },
        "id": "Wj3DpcDzkJeX",
        "outputId": "84c6d7bf-ab1e-4176-8594-d91e78ba1eae"
      },
      "source": [
        "# Hyperparameters\n",
        "num_epochs = 1\n",
        "learning_rate = 0.001\n",
        "momentum = 0.9\n",
        "\n",
        "# Model\n",
        "model = alexnet.to(device)\n",
        "\n",
        "# Loss and optimizer\n",
        "criterion = torch.nn.CrossEntropyLoss()\n",
        "optimizer = torch.optim.SGD(model.parameters(), lr=learning_rate, momentum=momentum)\n",
        "\n",
        "# Train\n",
        "train_model(model, criterion, optimizer)\n",
        "\n",
        "# Eval\n",
        "eval_model(model)"
      ],
      "execution_count": 13,
      "outputs": [
        {
          "output_type": "stream",
          "text": [
            "Epoch [1/1], Step [100/12500], Loss: 1.739173173904419, Time: 3.995497465133667\n",
            "Epoch [1/1], Step [200/12500], Loss: 1.5439192056655884, Time: 3.8086097240448\n",
            "Epoch [1/1], Step [300/12500], Loss: 2.091404676437378, Time: 3.816885232925415\n",
            "Epoch [1/1], Step [400/12500], Loss: 1.5327808856964111, Time: 3.8204336166381836\n",
            "Epoch [1/1], Step [500/12500], Loss: 0.23738159239292145, Time: 3.8207907676696777\n",
            "Epoch [1/1], Step [600/12500], Loss: 1.9778140783309937, Time: 3.8247852325439453\n",
            "Epoch [1/1], Step [700/12500], Loss: 1.1550003290176392, Time: 3.822183132171631\n",
            "Epoch [1/1], Step [800/12500], Loss: 0.9734580516815186, Time: 3.8134114742279053\n",
            "Epoch [1/1], Step [900/12500], Loss: 0.7920933365821838, Time: 3.8150103092193604\n",
            "Epoch [1/1], Step [1000/12500], Loss: 1.9260953664779663, Time: 3.807141065597534\n",
            "Epoch [1/1], Step [1100/12500], Loss: 1.9177700281143188, Time: 3.798126459121704\n",
            "Epoch [1/1], Step [1200/12500], Loss: 0.9490926861763, Time: 3.814890146255493\n",
            "Epoch [1/1], Step [1300/12500], Loss: 0.5313767790794373, Time: 3.815356492996216\n",
            "Epoch [1/1], Step [1400/12500], Loss: 1.3982893228530884, Time: 3.8171255588531494\n",
            "Epoch [1/1], Step [1500/12500], Loss: 0.31109359860420227, Time: 3.815441846847534\n",
            "Epoch [1/1], Step [1600/12500], Loss: 1.4941890239715576, Time: 3.8096370697021484\n",
            "Epoch [1/1], Step [1700/12500], Loss: 0.24404436349868774, Time: 3.803415298461914\n",
            "Epoch [1/1], Step [1800/12500], Loss: 0.4233642518520355, Time: 3.8082098960876465\n",
            "Epoch [1/1], Step [1900/12500], Loss: 1.019464135169983, Time: 3.802173376083374\n",
            "Epoch [1/1], Step [2000/12500], Loss: 0.5166363716125488, Time: 3.803114175796509\n",
            "Epoch [1/1], Step [2100/12500], Loss: 0.965554416179657, Time: 3.811438798904419\n",
            "Epoch [1/1], Step [2200/12500], Loss: 0.4968729615211487, Time: 3.8143198490142822\n",
            "Epoch [1/1], Step [2300/12500], Loss: 1.7651169300079346, Time: 3.8151280879974365\n",
            "Epoch [1/1], Step [2400/12500], Loss: 1.7211118936538696, Time: 3.819363832473755\n",
            "Epoch [1/1], Step [2500/12500], Loss: 0.8760392069816589, Time: 3.8084707260131836\n",
            "Epoch [1/1], Step [2600/12500], Loss: 0.42255842685699463, Time: 3.8144164085388184\n",
            "Epoch [1/1], Step [2700/12500], Loss: 1.4831980466842651, Time: 3.8142452239990234\n",
            "Epoch [1/1], Step [2800/12500], Loss: 0.9669700860977173, Time: 3.805798053741455\n",
            "Epoch [1/1], Step [2900/12500], Loss: 0.447181761264801, Time: 3.8108701705932617\n",
            "Epoch [1/1], Step [3000/12500], Loss: 1.507298469543457, Time: 3.813060760498047\n",
            "Epoch [1/1], Step [3100/12500], Loss: 0.7282987236976624, Time: 3.81168270111084\n",
            "Epoch [1/1], Step [3200/12500], Loss: 0.31272631883621216, Time: 3.81685209274292\n",
            "Epoch [1/1], Step [3300/12500], Loss: 0.6840016841888428, Time: 3.818124771118164\n",
            "Epoch [1/1], Step [3400/12500], Loss: 0.5698971748352051, Time: 3.80922794342041\n",
            "Epoch [1/1], Step [3500/12500], Loss: 0.41042444109916687, Time: 3.8056247234344482\n",
            "Epoch [1/1], Step [3600/12500], Loss: 0.08146777749061584, Time: 3.8081138134002686\n",
            "Epoch [1/1], Step [3700/12500], Loss: 0.853101372718811, Time: 3.810336112976074\n",
            "Epoch [1/1], Step [3800/12500], Loss: 0.5623833537101746, Time: 3.8129818439483643\n",
            "Epoch [1/1], Step [3900/12500], Loss: 0.5660218000411987, Time: 3.8126609325408936\n",
            "Epoch [1/1], Step [4000/12500], Loss: 0.7321297526359558, Time: 3.812372922897339\n",
            "Epoch [1/1], Step [4100/12500], Loss: 0.8428497314453125, Time: 3.8153038024902344\n",
            "Epoch [1/1], Step [4200/12500], Loss: 0.13116322457790375, Time: 3.820772886276245\n",
            "Epoch [1/1], Step [4300/12500], Loss: 0.7978085279464722, Time: 3.815938949584961\n",
            "Epoch [1/1], Step [4400/12500], Loss: 0.07082048058509827, Time: 3.8160972595214844\n",
            "Epoch [1/1], Step [4500/12500], Loss: 0.3372120261192322, Time: 3.800499677658081\n",
            "Epoch [1/1], Step [4600/12500], Loss: 1.3738245964050293, Time: 3.81805682182312\n",
            "Epoch [1/1], Step [4700/12500], Loss: 1.3353455066680908, Time: 3.817375898361206\n",
            "Epoch [1/1], Step [4800/12500], Loss: 1.1415859460830688, Time: 3.809206247329712\n",
            "Epoch [1/1], Step [4900/12500], Loss: 0.37351515889167786, Time: 3.815049171447754\n",
            "Epoch [1/1], Step [5000/12500], Loss: 0.10468827188014984, Time: 3.814234495162964\n",
            "Epoch [1/1], Step [5100/12500], Loss: 1.2611134052276611, Time: 3.8153257369995117\n",
            "Epoch [1/1], Step [5200/12500], Loss: 1.9341429471969604, Time: 3.814763069152832\n",
            "Epoch [1/1], Step [5300/12500], Loss: 0.5929463505744934, Time: 3.810851812362671\n",
            "Epoch [1/1], Step [5400/12500], Loss: 0.051057226955890656, Time: 3.797713279724121\n",
            "Epoch [1/1], Step [5500/12500], Loss: 0.8179690837860107, Time: 3.8066389560699463\n",
            "Epoch [1/1], Step [5600/12500], Loss: 1.222106695175171, Time: 3.810610055923462\n",
            "Epoch [1/1], Step [5700/12500], Loss: 0.7109898924827576, Time: 3.8109500408172607\n",
            "Epoch [1/1], Step [5800/12500], Loss: 1.3296247720718384, Time: 3.808520793914795\n",
            "Epoch [1/1], Step [5900/12500], Loss: 1.366040825843811, Time: 3.810960292816162\n",
            "Epoch [1/1], Step [6000/12500], Loss: 0.8750261068344116, Time: 3.8112576007843018\n",
            "Epoch [1/1], Step [6100/12500], Loss: 0.1678081452846527, Time: 3.8113856315612793\n",
            "Epoch [1/1], Step [6200/12500], Loss: 0.0689496174454689, Time: 3.807396173477173\n",
            "Epoch [1/1], Step [6300/12500], Loss: 0.6405516862869263, Time: 3.7892086505889893\n",
            "Epoch [1/1], Step [6400/12500], Loss: 0.48658284544944763, Time: 3.7775983810424805\n",
            "Epoch [1/1], Step [6500/12500], Loss: 1.4765770435333252, Time: 3.804337739944458\n",
            "Epoch [1/1], Step [6600/12500], Loss: 0.9848179817199707, Time: 3.8095102310180664\n",
            "Epoch [1/1], Step [6700/12500], Loss: 0.17185784876346588, Time: 3.8086893558502197\n",
            "Epoch [1/1], Step [6800/12500], Loss: 0.9384008049964905, Time: 3.8075411319732666\n",
            "Epoch [1/1], Step [6900/12500], Loss: 1.2728753089904785, Time: 3.8103697299957275\n",
            "Epoch [1/1], Step [7000/12500], Loss: 0.8461262583732605, Time: 3.8062551021575928\n",
            "Epoch [1/1], Step [7100/12500], Loss: 0.731558084487915, Time: 3.806084156036377\n",
            "Epoch [1/1], Step [7200/12500], Loss: 0.8139545917510986, Time: 3.8118460178375244\n",
            "Epoch [1/1], Step [7300/12500], Loss: 0.4328952431678772, Time: 3.8126003742218018\n",
            "Epoch [1/1], Step [7400/12500], Loss: 0.7957005500793457, Time: 3.806828260421753\n",
            "Epoch [1/1], Step [7500/12500], Loss: 0.1069323867559433, Time: 3.8098502159118652\n",
            "Epoch [1/1], Step [7600/12500], Loss: 0.23025715351104736, Time: 3.8150622844696045\n",
            "Epoch [1/1], Step [7700/12500], Loss: 0.5817859172821045, Time: 3.808485507965088\n",
            "Epoch [1/1], Step [7800/12500], Loss: 0.8405560255050659, Time: 3.8081467151641846\n",
            "Epoch [1/1], Step [7900/12500], Loss: 0.11065687239170074, Time: 3.810204267501831\n",
            "Epoch [1/1], Step [8000/12500], Loss: 0.3047121465206146, Time: 3.8079330921173096\n",
            "Epoch [1/1], Step [8100/12500], Loss: 0.5766389966011047, Time: 3.80771541595459\n",
            "Epoch [1/1], Step [8200/12500], Loss: 0.3502528667449951, Time: 3.804063558578491\n",
            "Epoch [1/1], Step [8300/12500], Loss: 0.7148442268371582, Time: 3.804518461227417\n",
            "Epoch [1/1], Step [8400/12500], Loss: 0.5409699082374573, Time: 3.8102548122406006\n",
            "Epoch [1/1], Step [8500/12500], Loss: 0.13136301934719086, Time: 3.8073782920837402\n",
            "Epoch [1/1], Step [8600/12500], Loss: 0.33276039361953735, Time: 3.810661792755127\n",
            "Epoch [1/1], Step [8700/12500], Loss: 0.46749961376190186, Time: 3.8136377334594727\n",
            "Epoch [1/1], Step [8800/12500], Loss: 1.1268894672393799, Time: 3.8030123710632324\n",
            "Epoch [1/1], Step [8900/12500], Loss: 0.22351513803005219, Time: 3.807908773422241\n",
            "Epoch [1/1], Step [9000/12500], Loss: 1.664762258529663, Time: 3.812084674835205\n",
            "Epoch [1/1], Step [9100/12500], Loss: 0.1882588267326355, Time: 3.814485549926758\n",
            "Epoch [1/1], Step [9200/12500], Loss: 0.27837350964546204, Time: 3.80564546585083\n",
            "Epoch [1/1], Step [9300/12500], Loss: 0.23947551846504211, Time: 3.810210943222046\n",
            "Epoch [1/1], Step [9400/12500], Loss: 0.2796558737754822, Time: 3.8068742752075195\n",
            "Epoch [1/1], Step [9500/12500], Loss: 0.31132522225379944, Time: 3.806568145751953\n",
            "Epoch [1/1], Step [9600/12500], Loss: 0.5257487893104553, Time: 3.8075406551361084\n",
            "Epoch [1/1], Step [9700/12500], Loss: 0.83970046043396, Time: 3.8055291175842285\n",
            "Epoch [1/1], Step [9800/12500], Loss: 0.2148893177509308, Time: 3.8041560649871826\n",
            "Epoch [1/1], Step [9900/12500], Loss: 0.1911087930202484, Time: 3.8029229640960693\n",
            "Epoch [1/1], Step [10000/12500], Loss: 0.2306097447872162, Time: 3.808684825897217\n",
            "Epoch [1/1], Step [10100/12500], Loss: 0.8913485407829285, Time: 3.8099875450134277\n",
            "Epoch [1/1], Step [10200/12500], Loss: 1.0509700775146484, Time: 3.8067331314086914\n",
            "Epoch [1/1], Step [10300/12500], Loss: 0.06584461033344269, Time: 3.8085477352142334\n",
            "Epoch [1/1], Step [10400/12500], Loss: 0.5399065613746643, Time: 3.8086938858032227\n",
            "Epoch [1/1], Step [10500/12500], Loss: 0.5749559998512268, Time: 3.8083672523498535\n",
            "Epoch [1/1], Step [10600/12500], Loss: 1.9843735694885254, Time: 3.811206579208374\n",
            "Epoch [1/1], Step [10700/12500], Loss: 1.1976912021636963, Time: 3.810351848602295\n",
            "Epoch [1/1], Step [10800/12500], Loss: 0.47500893473625183, Time: 3.813292980194092\n",
            "Epoch [1/1], Step [10900/12500], Loss: 0.6030098795890808, Time: 3.8048415184020996\n",
            "Epoch [1/1], Step [11000/12500], Loss: 0.5398112535476685, Time: 3.8074731826782227\n",
            "Epoch [1/1], Step [11100/12500], Loss: 0.4571995437145233, Time: 3.808133125305176\n",
            "Epoch [1/1], Step [11200/12500], Loss: 1.6334941387176514, Time: 3.8066933155059814\n",
            "Epoch [1/1], Step [11300/12500], Loss: 0.9210850596427917, Time: 3.8048717975616455\n",
            "Epoch [1/1], Step [11400/12500], Loss: 0.3888700604438782, Time: 3.8003225326538086\n",
            "Epoch [1/1], Step [11500/12500], Loss: 1.0471292734146118, Time: 3.8113346099853516\n",
            "Epoch [1/1], Step [11600/12500], Loss: 0.04517759755253792, Time: 3.810136079788208\n",
            "Epoch [1/1], Step [11700/12500], Loss: 0.36148732900619507, Time: 3.8065550327301025\n",
            "Epoch [1/1], Step [11800/12500], Loss: 0.6915427446365356, Time: 3.807400703430176\n",
            "Epoch [1/1], Step [11900/12500], Loss: 0.06155043840408325, Time: 3.811941623687744\n",
            "Epoch [1/1], Step [12000/12500], Loss: 0.39529985189437866, Time: 3.8143351078033447\n",
            "Epoch [1/1], Step [12100/12500], Loss: 0.7501790523529053, Time: 3.8121938705444336\n",
            "Epoch [1/1], Step [12200/12500], Loss: 0.3491106927394867, Time: 3.8107166290283203\n",
            "Epoch [1/1], Step [12300/12500], Loss: 0.02450196072459221, Time: 3.8051464557647705\n",
            "Epoch [1/1], Step [12400/12500], Loss: 0.608482301235199, Time: 3.806147575378418\n",
            "Epoch [1/1], Step [12500/12500], Loss: 0.03482595458626747, Time: 3.8056833744049072\n",
            "Test Accuracy of the model using the test images: 78.75 %\n"
          ],
          "name": "stdout"
        }
      ]
    },
    {
      "cell_type": "markdown",
      "metadata": {
        "id": "GWTNhWRBymrV"
      },
      "source": [
        "# Bloqueando capas\n",
        "Durante el entrenamiento se puede bloquear el entrenamiento de ciertas capas para acelerar el proceso.\n"
      ]
    },
    {
      "cell_type": "code",
      "metadata": {
        "colab": {
          "base_uri": "https://localhost:8080/"
        },
        "id": "QJ4BwmmjmUVJ",
        "outputId": "67ea9313-730b-4514-caf6-1c8d50499c82"
      },
      "source": [
        "alexnet_lock = torch.hub.load('pytorch/vision:v0.9.0', 'alexnet', pretrained=True)\n",
        "alexnet_lock.eval()"
      ],
      "execution_count": 14,
      "outputs": [
        {
          "output_type": "stream",
          "text": [
            "Using cache found in /root/.cache/torch/hub/pytorch_vision_v0.9.0\n"
          ],
          "name": "stderr"
        },
        {
          "output_type": "execute_result",
          "data": {
            "text/plain": [
              "AlexNet(\n",
              "  (features): Sequential(\n",
              "    (0): Conv2d(3, 64, kernel_size=(11, 11), stride=(4, 4), padding=(2, 2))\n",
              "    (1): ReLU(inplace=True)\n",
              "    (2): MaxPool2d(kernel_size=3, stride=2, padding=0, dilation=1, ceil_mode=False)\n",
              "    (3): Conv2d(64, 192, kernel_size=(5, 5), stride=(1, 1), padding=(2, 2))\n",
              "    (4): ReLU(inplace=True)\n",
              "    (5): MaxPool2d(kernel_size=3, stride=2, padding=0, dilation=1, ceil_mode=False)\n",
              "    (6): Conv2d(192, 384, kernel_size=(3, 3), stride=(1, 1), padding=(1, 1))\n",
              "    (7): ReLU(inplace=True)\n",
              "    (8): Conv2d(384, 256, kernel_size=(3, 3), stride=(1, 1), padding=(1, 1))\n",
              "    (9): ReLU(inplace=True)\n",
              "    (10): Conv2d(256, 256, kernel_size=(3, 3), stride=(1, 1), padding=(1, 1))\n",
              "    (11): ReLU(inplace=True)\n",
              "    (12): MaxPool2d(kernel_size=3, stride=2, padding=0, dilation=1, ceil_mode=False)\n",
              "  )\n",
              "  (avgpool): AdaptiveAvgPool2d(output_size=(6, 6))\n",
              "  (classifier): Sequential(\n",
              "    (0): Dropout(p=0.5, inplace=False)\n",
              "    (1): Linear(in_features=9216, out_features=4096, bias=True)\n",
              "    (2): ReLU(inplace=True)\n",
              "    (3): Dropout(p=0.5, inplace=False)\n",
              "    (4): Linear(in_features=4096, out_features=4096, bias=True)\n",
              "    (5): ReLU(inplace=True)\n",
              "    (6): Linear(in_features=4096, out_features=1000, bias=True)\n",
              "  )\n",
              ")"
            ]
          },
          "metadata": {
            "tags": []
          },
          "execution_count": 14
        }
      ]
    },
    {
      "cell_type": "markdown",
      "metadata": {
        "id": "kNtIn1Np0mJJ"
      },
      "source": [
        "Se especifíca que no se cácule gradiente para el modelo."
      ]
    },
    {
      "cell_type": "code",
      "metadata": {
        "id": "0l2zmu7EmWjK"
      },
      "source": [
        "# Freeze model weights\n",
        "for param in alexnet_lock.parameters():\n",
        "    param.requires_grad = False"
      ],
      "execution_count": 15,
      "outputs": []
    },
    {
      "cell_type": "markdown",
      "metadata": {
        "id": "h7PduxLS0tDg"
      },
      "source": [
        "Se añade una nueva capa de clasificación. Cuando se añade un nueva capa, por defecto se establece que sí se cálculo el gradiente y, por tanto, se permite su entrenamiento."
      ]
    },
    {
      "cell_type": "code",
      "metadata": {
        "colab": {
          "base_uri": "https://localhost:8080/"
        },
        "id": "HvZ8xcU4_-Gp",
        "outputId": "ab7fe365-3695-49ae-ca16-d569df7350ed"
      },
      "source": [
        "alexnet_lock.classifier[6] = torch.nn.Linear(4096, num_classes)\n",
        "alexnet_lock.eval()"
      ],
      "execution_count": 16,
      "outputs": [
        {
          "output_type": "execute_result",
          "data": {
            "text/plain": [
              "AlexNet(\n",
              "  (features): Sequential(\n",
              "    (0): Conv2d(3, 64, kernel_size=(11, 11), stride=(4, 4), padding=(2, 2))\n",
              "    (1): ReLU(inplace=True)\n",
              "    (2): MaxPool2d(kernel_size=3, stride=2, padding=0, dilation=1, ceil_mode=False)\n",
              "    (3): Conv2d(64, 192, kernel_size=(5, 5), stride=(1, 1), padding=(2, 2))\n",
              "    (4): ReLU(inplace=True)\n",
              "    (5): MaxPool2d(kernel_size=3, stride=2, padding=0, dilation=1, ceil_mode=False)\n",
              "    (6): Conv2d(192, 384, kernel_size=(3, 3), stride=(1, 1), padding=(1, 1))\n",
              "    (7): ReLU(inplace=True)\n",
              "    (8): Conv2d(384, 256, kernel_size=(3, 3), stride=(1, 1), padding=(1, 1))\n",
              "    (9): ReLU(inplace=True)\n",
              "    (10): Conv2d(256, 256, kernel_size=(3, 3), stride=(1, 1), padding=(1, 1))\n",
              "    (11): ReLU(inplace=True)\n",
              "    (12): MaxPool2d(kernel_size=3, stride=2, padding=0, dilation=1, ceil_mode=False)\n",
              "  )\n",
              "  (avgpool): AdaptiveAvgPool2d(output_size=(6, 6))\n",
              "  (classifier): Sequential(\n",
              "    (0): Dropout(p=0.5, inplace=False)\n",
              "    (1): Linear(in_features=9216, out_features=4096, bias=True)\n",
              "    (2): ReLU(inplace=True)\n",
              "    (3): Dropout(p=0.5, inplace=False)\n",
              "    (4): Linear(in_features=4096, out_features=4096, bias=True)\n",
              "    (5): ReLU(inplace=True)\n",
              "    (6): Linear(in_features=4096, out_features=10, bias=True)\n",
              "  )\n",
              ")"
            ]
          },
          "metadata": {
            "tags": []
          },
          "execution_count": 16
        }
      ]
    },
    {
      "cell_type": "markdown",
      "metadata": {
        "id": "FGyfva6xAj9C"
      },
      "source": [
        "Se puede también cambiar un conjunto de capas y reducir por ejemplo la complejidad de 4096 a 512 en la última capa."
      ]
    },
    {
      "cell_type": "code",
      "metadata": {
        "colab": {
          "base_uri": "https://localhost:8080/"
        },
        "id": "MdrtzwHLmb6P",
        "outputId": "f9f0a513-f8b0-4322-ded8-a493c3cfd0f2"
      },
      "source": [
        "alexnet_lock.classifier = torch.nn.Sequential(\n",
        "  torch.nn.Dropout(),\n",
        "  torch.nn.Linear(256 * 6 * 6, 4096),\n",
        "  torch.nn.ReLU(inplace=True),\n",
        "  torch.nn.Dropout(),\n",
        "  torch.nn.Linear(4096, 512),\n",
        "  torch.nn.ReLU(inplace=True),\n",
        "  torch.nn.Linear(512, num_classes),\n",
        ")\n",
        "alexnet_lock.eval()"
      ],
      "execution_count": 17,
      "outputs": [
        {
          "output_type": "execute_result",
          "data": {
            "text/plain": [
              "AlexNet(\n",
              "  (features): Sequential(\n",
              "    (0): Conv2d(3, 64, kernel_size=(11, 11), stride=(4, 4), padding=(2, 2))\n",
              "    (1): ReLU(inplace=True)\n",
              "    (2): MaxPool2d(kernel_size=3, stride=2, padding=0, dilation=1, ceil_mode=False)\n",
              "    (3): Conv2d(64, 192, kernel_size=(5, 5), stride=(1, 1), padding=(2, 2))\n",
              "    (4): ReLU(inplace=True)\n",
              "    (5): MaxPool2d(kernel_size=3, stride=2, padding=0, dilation=1, ceil_mode=False)\n",
              "    (6): Conv2d(192, 384, kernel_size=(3, 3), stride=(1, 1), padding=(1, 1))\n",
              "    (7): ReLU(inplace=True)\n",
              "    (8): Conv2d(384, 256, kernel_size=(3, 3), stride=(1, 1), padding=(1, 1))\n",
              "    (9): ReLU(inplace=True)\n",
              "    (10): Conv2d(256, 256, kernel_size=(3, 3), stride=(1, 1), padding=(1, 1))\n",
              "    (11): ReLU(inplace=True)\n",
              "    (12): MaxPool2d(kernel_size=3, stride=2, padding=0, dilation=1, ceil_mode=False)\n",
              "  )\n",
              "  (avgpool): AdaptiveAvgPool2d(output_size=(6, 6))\n",
              "  (classifier): Sequential(\n",
              "    (0): Dropout(p=0.5, inplace=False)\n",
              "    (1): Linear(in_features=9216, out_features=4096, bias=True)\n",
              "    (2): ReLU(inplace=True)\n",
              "    (3): Dropout(p=0.5, inplace=False)\n",
              "    (4): Linear(in_features=4096, out_features=512, bias=True)\n",
              "    (5): ReLU(inplace=True)\n",
              "    (6): Linear(in_features=512, out_features=10, bias=True)\n",
              "  )\n",
              ")"
            ]
          },
          "metadata": {
            "tags": []
          },
          "execution_count": 17
        }
      ]
    },
    {
      "cell_type": "markdown",
      "metadata": {
        "id": "W1XWyOms029m"
      },
      "source": [
        "Se pueden observar los parámetros bloqueados. En otro tipo de redes y con imágenes de más resolución se pueden reducir los parámetros a entrenar en un 99%."
      ]
    },
    {
      "cell_type": "code",
      "metadata": {
        "colab": {
          "base_uri": "https://localhost:8080/"
        },
        "id": "rkUZjydApHwL",
        "outputId": "fddc37ca-cc1e-40fb-c9d4-ea4f8da0829d"
      },
      "source": [
        "total_params = sum(p.numel() for p in alexnet_lock.parameters())\n",
        "print(f'{total_params:,} total parameters.')\n",
        "total_trainable_params = sum(\n",
        "    p.numel() for p in alexnet_lock.parameters() if p.requires_grad)\n",
        "print(f'{total_trainable_params:,} training parameters.')"
      ],
      "execution_count": 18,
      "outputs": [
        {
          "output_type": "stream",
          "text": [
            "42,325,322 total parameters.\n",
            "39,855,626 training parameters.\n"
          ],
          "name": "stdout"
        }
      ]
    },
    {
      "cell_type": "markdown",
      "metadata": {
        "id": "tNTYfJlR1Dmk"
      },
      "source": [
        "Se configurarn los parámetros y realiza el entrenamiento y la evaluación."
      ]
    },
    {
      "cell_type": "code",
      "metadata": {
        "colab": {
          "base_uri": "https://localhost:8080/"
        },
        "id": "wr0cNik4m5ua",
        "outputId": "bb6e90ed-48af-40a5-9bcf-5b7b89e62f22"
      },
      "source": [
        "# Hyperparameters\n",
        "num_epochs = 5\n",
        "learning_rate = 0.001\n",
        "momentum = 0.9\n",
        "\n",
        "# Model\n",
        "model = alexnet_lock.to(device)\n",
        "\n",
        "# Loss and optimizer\n",
        "criterion = torch.nn.CrossEntropyLoss()\n",
        "optimizer = torch.optim.SGD(model.parameters(), lr=learning_rate, momentum=momentum)\n",
        "\n",
        "# Train\n",
        "train_model(model, criterion, optimizer)\n",
        "\n",
        "# Eval\n",
        "eval_model(model)"
      ],
      "execution_count": 25,
      "outputs": [
        {
          "output_type": "stream",
          "text": [
            "Epoch [1/5], Step [100/12500], Loss: 0.6768792271614075, Time: 2.28712797164917\n",
            "Epoch [1/5], Step [200/12500], Loss: 1.2921921014785767, Time: 2.06318998336792\n",
            "Epoch [1/5], Step [300/12500], Loss: 0.06523159146308899, Time: 2.066406011581421\n",
            "Epoch [1/5], Step [400/12500], Loss: 0.7063745260238647, Time: 2.059244155883789\n",
            "Epoch [1/5], Step [500/12500], Loss: 1.0930876731872559, Time: 2.0623884201049805\n",
            "Epoch [1/5], Step [600/12500], Loss: 1.8319004774093628, Time: 2.059964179992676\n",
            "Epoch [1/5], Step [700/12500], Loss: 0.13611701130867004, Time: 2.0628058910369873\n",
            "Epoch [1/5], Step [800/12500], Loss: 5.272274971008301, Time: 2.060971260070801\n",
            "Epoch [1/5], Step [900/12500], Loss: 0.6704246401786804, Time: 2.0642452239990234\n",
            "Epoch [1/5], Step [1000/12500], Loss: 0.567572832107544, Time: 2.0604960918426514\n",
            "Epoch [1/5], Step [1100/12500], Loss: 0.48861798644065857, Time: 2.0598976612091064\n",
            "Epoch [1/5], Step [1200/12500], Loss: 0.5417618155479431, Time: 2.060028553009033\n",
            "Epoch [1/5], Step [1300/12500], Loss: 1.9616979360580444, Time: 2.061699628829956\n",
            "Epoch [1/5], Step [1400/12500], Loss: 0.43595707416534424, Time: 2.063556671142578\n",
            "Epoch [1/5], Step [1500/12500], Loss: 0.8519697785377502, Time: 2.0609824657440186\n",
            "Epoch [1/5], Step [1600/12500], Loss: 0.0050757527351379395, Time: 2.0615174770355225\n",
            "Epoch [1/5], Step [1700/12500], Loss: 0.46317461133003235, Time: 2.0621135234832764\n",
            "Epoch [1/5], Step [1800/12500], Loss: 0.7957656979560852, Time: 2.0622594356536865\n",
            "Epoch [1/5], Step [1900/12500], Loss: 1.0376358032226562, Time: 2.0611073970794678\n",
            "Epoch [1/5], Step [2000/12500], Loss: 0.9512878060340881, Time: 2.059561014175415\n",
            "Epoch [1/5], Step [2100/12500], Loss: 0.617579996585846, Time: 2.0606160163879395\n",
            "Epoch [1/5], Step [2200/12500], Loss: 7.976809138199314e-05, Time: 2.059307813644409\n",
            "Epoch [1/5], Step [2300/12500], Loss: 1.3390432596206665, Time: 2.0637876987457275\n",
            "Epoch [1/5], Step [2400/12500], Loss: 0.9575775861740112, Time: 2.0630359649658203\n",
            "Epoch [1/5], Step [2500/12500], Loss: 2.9802320611338473e-08, Time: 2.0595529079437256\n",
            "Epoch [1/5], Step [2600/12500], Loss: 0.8476305603981018, Time: 2.061321973800659\n",
            "Epoch [1/5], Step [2700/12500], Loss: 0.02512153796851635, Time: 2.0604305267333984\n",
            "Epoch [1/5], Step [2800/12500], Loss: 6.109401510911994e-06, Time: 2.0611350536346436\n",
            "Epoch [1/5], Step [2900/12500], Loss: 0.6447855830192566, Time: 2.061283826828003\n",
            "Epoch [1/5], Step [3000/12500], Loss: 9.834572665567975e-06, Time: 2.061577796936035\n",
            "Epoch [1/5], Step [3100/12500], Loss: 1.7702088371152058e-05, Time: 2.0619513988494873\n",
            "Epoch [1/5], Step [3200/12500], Loss: 0.35895881056785583, Time: 2.0612292289733887\n",
            "Epoch [1/5], Step [3300/12500], Loss: 0.9605134725570679, Time: 2.0589776039123535\n",
            "Epoch [1/5], Step [3400/12500], Loss: 1.384213924407959, Time: 2.0596132278442383\n",
            "Epoch [1/5], Step [3500/12500], Loss: 0.002584492787718773, Time: 2.0591020584106445\n",
            "Epoch [1/5], Step [3600/12500], Loss: 0.0729788988828659, Time: 2.0659210681915283\n",
            "Epoch [1/5], Step [3700/12500], Loss: 0.5166559219360352, Time: 2.0620980262756348\n",
            "Epoch [1/5], Step [3800/12500], Loss: 0.5228193998336792, Time: 2.070941925048828\n",
            "Epoch [1/5], Step [3900/12500], Loss: 0.0, Time: 2.061039686203003\n",
            "Epoch [1/5], Step [4000/12500], Loss: 0.11391367018222809, Time: 2.0676229000091553\n",
            "Epoch [1/5], Step [4100/12500], Loss: 0.0002500951522961259, Time: 2.0609841346740723\n",
            "Epoch [1/5], Step [4200/12500], Loss: 0.0, Time: 2.0598301887512207\n",
            "Epoch [1/5], Step [4300/12500], Loss: 0.005283009260892868, Time: 2.0622708797454834\n",
            "Epoch [1/5], Step [4400/12500], Loss: 0.0028687003068625927, Time: 2.059746026992798\n",
            "Epoch [1/5], Step [4500/12500], Loss: 0.0029480308294296265, Time: 2.0627739429473877\n",
            "Epoch [1/5], Step [4600/12500], Loss: 0.5282436609268188, Time: 2.0628859996795654\n",
            "Epoch [1/5], Step [4700/12500], Loss: 0.0, Time: 2.063844680786133\n",
            "Epoch [1/5], Step [4800/12500], Loss: 0.39580100774765015, Time: 2.0588555335998535\n",
            "Epoch [1/5], Step [4900/12500], Loss: 0.0916525200009346, Time: 2.057515859603882\n",
            "Epoch [1/5], Step [5000/12500], Loss: 1.08407723903656, Time: 2.0577585697174072\n",
            "Epoch [1/5], Step [5100/12500], Loss: 0.03588133677840233, Time: 2.0625946521759033\n",
            "Epoch [1/5], Step [5200/12500], Loss: 0.007887518033385277, Time: 2.0582871437072754\n",
            "Epoch [1/5], Step [5300/12500], Loss: 0.40970465540885925, Time: 2.0610620975494385\n",
            "Epoch [1/5], Step [5400/12500], Loss: 0.0006393254734575748, Time: 2.0606536865234375\n",
            "Epoch [1/5], Step [5500/12500], Loss: 2.5718336473801173e-05, Time: 2.060579538345337\n",
            "Epoch [1/5], Step [5600/12500], Loss: 9.692930325400084e-05, Time: 2.0597198009490967\n",
            "Epoch [1/5], Step [5700/12500], Loss: 0.2806349992752075, Time: 2.0579442977905273\n",
            "Epoch [1/5], Step [5800/12500], Loss: 0.003079119138419628, Time: 2.064629316329956\n",
            "Epoch [1/5], Step [5900/12500], Loss: 0.18341077864170074, Time: 2.0605952739715576\n",
            "Epoch [1/5], Step [6000/12500], Loss: 0.0, Time: 2.0604054927825928\n",
            "Epoch [1/5], Step [6100/12500], Loss: 0.48113778233528137, Time: 2.067673921585083\n",
            "Epoch [1/5], Step [6200/12500], Loss: 0.009886343032121658, Time: 2.0608394145965576\n",
            "Epoch [1/5], Step [6300/12500], Loss: 0.009440560825169086, Time: 2.059765338897705\n",
            "Epoch [1/5], Step [6400/12500], Loss: 0.0, Time: 2.0586483478546143\n",
            "Epoch [1/5], Step [6500/12500], Loss: 0.04875999316573143, Time: 2.0591561794281006\n",
            "Epoch [1/5], Step [6600/12500], Loss: 0.017724430188536644, Time: 2.059377431869507\n",
            "Epoch [1/5], Step [6700/12500], Loss: 9.864374078460969e-06, Time: 2.0590574741363525\n",
            "Epoch [1/5], Step [6800/12500], Loss: 0.03296036273241043, Time: 2.06160044670105\n",
            "Epoch [1/5], Step [6900/12500], Loss: 0.6086347103118896, Time: 2.0643603801727295\n",
            "Epoch [1/5], Step [7000/12500], Loss: 0.18602953851222992, Time: 2.063063144683838\n",
            "Epoch [1/5], Step [7100/12500], Loss: 0.07329496741294861, Time: 2.059093475341797\n",
            "Epoch [1/5], Step [7200/12500], Loss: 0.05181598663330078, Time: 2.06095552444458\n",
            "Epoch [1/5], Step [7300/12500], Loss: 0.007047863211482763, Time: 2.063153028488159\n",
            "Epoch [1/5], Step [7400/12500], Loss: 2.6822075938071066e-07, Time: 2.059201717376709\n",
            "Epoch [1/5], Step [7500/12500], Loss: 0.00019545661052688956, Time: 2.0600759983062744\n",
            "Epoch [1/5], Step [7600/12500], Loss: 1.2768157720565796, Time: 2.0589840412139893\n",
            "Epoch [1/5], Step [7700/12500], Loss: 0.6321413516998291, Time: 2.0600931644439697\n",
            "Epoch [1/5], Step [7800/12500], Loss: 4.261695721652359e-06, Time: 2.065150022506714\n",
            "Epoch [1/5], Step [7900/12500], Loss: 0.6073623299598694, Time: 2.061849355697632\n",
            "Epoch [1/5], Step [8000/12500], Loss: 0.05925851687788963, Time: 2.059626817703247\n",
            "Epoch [1/5], Step [8100/12500], Loss: 0.03991138935089111, Time: 2.058452606201172\n",
            "Epoch [1/5], Step [8200/12500], Loss: 0.45026832818984985, Time: 2.0583763122558594\n",
            "Epoch [1/5], Step [8300/12500], Loss: 0.0, Time: 2.0609920024871826\n",
            "Epoch [1/5], Step [8400/12500], Loss: 0.007460733409970999, Time: 2.0581562519073486\n",
            "Epoch [1/5], Step [8500/12500], Loss: 1.8268417989020236e-05, Time: 2.0594441890716553\n",
            "Epoch [1/5], Step [8600/12500], Loss: 0.004847444128245115, Time: 2.0598158836364746\n",
            "Epoch [1/5], Step [8700/12500], Loss: 0.6734432578086853, Time: 2.0609817504882812\n",
            "Epoch [1/5], Step [8800/12500], Loss: 0.00010845692304428667, Time: 2.0635337829589844\n",
            "Epoch [1/5], Step [8900/12500], Loss: 0.023234209045767784, Time: 2.0573291778564453\n",
            "Epoch [1/5], Step [9000/12500], Loss: 8.940695295223122e-08, Time: 2.0640692710876465\n",
            "Epoch [1/5], Step [9100/12500], Loss: 0.0022265238221734762, Time: 2.0587263107299805\n",
            "Epoch [1/5], Step [9200/12500], Loss: 0.005095560569316149, Time: 2.060590982437134\n",
            "Epoch [1/5], Step [9300/12500], Loss: 1.2181110382080078, Time: 2.0624611377716064\n",
            "Epoch [1/5], Step [9400/12500], Loss: 0.5028790235519409, Time: 2.060424566268921\n",
            "Epoch [1/5], Step [9500/12500], Loss: 0.019937966018915176, Time: 2.060478448867798\n",
            "Epoch [1/5], Step [9600/12500], Loss: 0.022753247991204262, Time: 2.0644948482513428\n",
            "Epoch [1/5], Step [9700/12500], Loss: 0.0737890750169754, Time: 2.0618836879730225\n",
            "Epoch [1/5], Step [9800/12500], Loss: 0.6842243075370789, Time: 2.063021659851074\n",
            "Epoch [1/5], Step [9900/12500], Loss: 1.0343472957611084, Time: 2.0644609928131104\n",
            "Epoch [1/5], Step [10000/12500], Loss: 4.341821477282792e-05, Time: 2.0657362937927246\n",
            "Epoch [1/5], Step [10100/12500], Loss: 0.009957504458725452, Time: 2.061458110809326\n",
            "Epoch [1/5], Step [10200/12500], Loss: 0.09784817695617676, Time: 2.0611023902893066\n",
            "Epoch [1/5], Step [10300/12500], Loss: 2.9802305334669654e-07, Time: 2.065732717514038\n",
            "Epoch [1/5], Step [10400/12500], Loss: 0.0002387081040069461, Time: 2.0589852333068848\n",
            "Epoch [1/5], Step [10500/12500], Loss: 0.0, Time: 2.0606276988983154\n",
            "Epoch [1/5], Step [10600/12500], Loss: 0.03514721244573593, Time: 2.058711528778076\n",
            "Epoch [1/5], Step [10700/12500], Loss: 0.005995229352265596, Time: 2.059887409210205\n",
            "Epoch [1/5], Step [10800/12500], Loss: 0.08065873384475708, Time: 2.059927225112915\n",
            "Epoch [1/5], Step [10900/12500], Loss: 0.010163352824747562, Time: 2.062762498855591\n",
            "Epoch [1/5], Step [11000/12500], Loss: 0.0059860218316316605, Time: 2.0597100257873535\n",
            "Epoch [1/5], Step [11100/12500], Loss: 2.443779294480919e-06, Time: 2.0598490238189697\n",
            "Epoch [1/5], Step [11200/12500], Loss: 0.003937885165214539, Time: 2.0587470531463623\n",
            "Epoch [1/5], Step [11300/12500], Loss: 3.3378378248016816e-06, Time: 2.063624143600464\n",
            "Epoch [1/5], Step [11400/12500], Loss: 0.3171406388282776, Time: 2.062023401260376\n",
            "Epoch [1/5], Step [11500/12500], Loss: 1.15724515914917, Time: 2.059356451034546\n",
            "Epoch [1/5], Step [11600/12500], Loss: 3.367639692442026e-06, Time: 2.0590171813964844\n",
            "Epoch [1/5], Step [11700/12500], Loss: 0.4702471196651459, Time: 2.065647602081299\n",
            "Epoch [1/5], Step [11800/12500], Loss: 0.0008758018957450986, Time: 2.0599172115325928\n",
            "Epoch [1/5], Step [11900/12500], Loss: 0.06683766096830368, Time: 2.060621500015259\n",
            "Epoch [1/5], Step [12000/12500], Loss: 0.009075340814888477, Time: 2.062338352203369\n",
            "Epoch [1/5], Step [12100/12500], Loss: 8.6084874055814e-05, Time: 2.0597901344299316\n",
            "Epoch [1/5], Step [12200/12500], Loss: 0.027581989765167236, Time: 2.059668779373169\n",
            "Epoch [1/5], Step [12300/12500], Loss: 0.008955627679824829, Time: 2.070345163345337\n",
            "Epoch [1/5], Step [12400/12500], Loss: 0.0023088795132935047, Time: 2.061221122741699\n",
            "Epoch [1/5], Step [12500/12500], Loss: 0.761570930480957, Time: 2.0612800121307373\n",
            "Epoch [2/5], Step [100/12500], Loss: 0.21250706911087036, Time: 2.182917356491089\n",
            "Epoch [2/5], Step [200/12500], Loss: 0.18158303201198578, Time: 2.0606610774993896\n",
            "Epoch [2/5], Step [300/12500], Loss: 0.0002949557965621352, Time: 2.062584400177002\n",
            "Epoch [2/5], Step [400/12500], Loss: 0.0012695101322606206, Time: 2.0587708950042725\n",
            "Epoch [2/5], Step [500/12500], Loss: 1.0937323168036528e-05, Time: 2.059713363647461\n",
            "Epoch [2/5], Step [600/12500], Loss: 0.7023727297782898, Time: 2.059743881225586\n",
            "Epoch [2/5], Step [700/12500], Loss: 0.0077310847118496895, Time: 2.0622963905334473\n",
            "Epoch [2/5], Step [800/12500], Loss: 0.0005189155344851315, Time: 2.0616445541381836\n",
            "Epoch [2/5], Step [900/12500], Loss: 0.39367082715034485, Time: 2.064365863800049\n",
            "Epoch [2/5], Step [1000/12500], Loss: 1.4007051731823594e-06, Time: 2.065232276916504\n",
            "Epoch [2/5], Step [1100/12500], Loss: 0.0, Time: 2.0640969276428223\n",
            "Epoch [2/5], Step [1200/12500], Loss: 2.9802320611338473e-08, Time: 2.0599405765533447\n",
            "Epoch [2/5], Step [1300/12500], Loss: 2.0861541543126805e-06, Time: 2.0607995986938477\n",
            "Epoch [2/5], Step [1400/12500], Loss: 0.0026190795470029116, Time: 2.060337543487549\n",
            "Epoch [2/5], Step [1500/12500], Loss: 0.0041657704859972, Time: 2.0598936080932617\n",
            "Epoch [2/5], Step [1600/12500], Loss: 0.03930661454796791, Time: 2.060945987701416\n",
            "Epoch [2/5], Step [1700/12500], Loss: 8.940695295223122e-08, Time: 2.060421943664551\n",
            "Epoch [2/5], Step [1800/12500], Loss: 0.00026352284476161003, Time: 2.0599141120910645\n",
            "Epoch [2/5], Step [1900/12500], Loss: 2.4108916477416642e-05, Time: 2.062420606613159\n",
            "Epoch [2/5], Step [2000/12500], Loss: 0.00010780186130432412, Time: 2.0617172718048096\n",
            "Epoch [2/5], Step [2100/12500], Loss: 1.036657691001892, Time: 2.0586929321289062\n",
            "Epoch [2/5], Step [2200/12500], Loss: 0.00010053281584987417, Time: 2.059504270553589\n",
            "Epoch [2/5], Step [2300/12500], Loss: 1.0345938205718994, Time: 2.060993194580078\n",
            "Epoch [2/5], Step [2400/12500], Loss: 0.0002351191360503435, Time: 2.058335781097412\n",
            "Epoch [2/5], Step [2500/12500], Loss: 0.3851187527179718, Time: 2.0607142448425293\n",
            "Epoch [2/5], Step [2600/12500], Loss: 0.005551159847527742, Time: 2.060737133026123\n",
            "Epoch [2/5], Step [2700/12500], Loss: 2.6822075938071066e-07, Time: 2.0613648891448975\n",
            "Epoch [2/5], Step [2800/12500], Loss: 0.0006165941013023257, Time: 2.0582003593444824\n",
            "Epoch [2/5], Step [2900/12500], Loss: 0.3547612428665161, Time: 2.061708450317383\n",
            "Epoch [2/5], Step [3000/12500], Loss: 7.15254714123148e-07, Time: 2.0607383251190186\n",
            "Epoch [2/5], Step [3100/12500], Loss: 8.596491534262896e-05, Time: 2.0641324520111084\n",
            "Epoch [2/5], Step [3200/12500], Loss: 1.2451907396316528, Time: 2.0608766078948975\n",
            "Epoch [2/5], Step [3300/12500], Loss: 0.04381420463323593, Time: 2.062887668609619\n",
            "Epoch [2/5], Step [3400/12500], Loss: 0.00025751665816642344, Time: 2.0625486373901367\n",
            "Epoch [2/5], Step [3500/12500], Loss: 2.9802305334669654e-07, Time: 2.0581114292144775\n",
            "Epoch [2/5], Step [3600/12500], Loss: 0.00018280019867233932, Time: 2.0625271797180176\n",
            "Epoch [2/5], Step [3700/12500], Loss: 5.980610512779094e-05, Time: 2.059307098388672\n",
            "Epoch [2/5], Step [3800/12500], Loss: 0.0001264341699425131, Time: 2.059936046600342\n",
            "Epoch [2/5], Step [3900/12500], Loss: 0.21261443197727203, Time: 2.058131694793701\n",
            "Epoch [2/5], Step [4000/12500], Loss: 0.003538410412147641, Time: 2.0626115798950195\n",
            "Epoch [2/5], Step [4100/12500], Loss: 0.0017091394402086735, Time: 2.0593791007995605\n",
            "Epoch [2/5], Step [4200/12500], Loss: 8.087042078841478e-05, Time: 2.0623180866241455\n",
            "Epoch [2/5], Step [4300/12500], Loss: 0.0011436996283009648, Time: 2.0609488487243652\n",
            "Epoch [2/5], Step [4400/12500], Loss: 0.13756878674030304, Time: 2.062875509262085\n",
            "Epoch [2/5], Step [4500/12500], Loss: 3.397452019271441e-06, Time: 2.0620906352996826\n",
            "Epoch [2/5], Step [4600/12500], Loss: 0.04410133883357048, Time: 2.061176300048828\n",
            "Epoch [2/5], Step [4700/12500], Loss: 2.457890748977661, Time: 2.0605499744415283\n",
            "Epoch [2/5], Step [4800/12500], Loss: 0.0170535147190094, Time: 2.070364475250244\n",
            "Epoch [2/5], Step [4900/12500], Loss: 0.33590707182884216, Time: 2.060147285461426\n",
            "Epoch [2/5], Step [5000/12500], Loss: 0.7867220044136047, Time: 2.061246871948242\n",
            "Epoch [2/5], Step [5100/12500], Loss: 2.086161714487389e-07, Time: 2.063676357269287\n",
            "Epoch [2/5], Step [5200/12500], Loss: 0.0, Time: 2.0593526363372803\n",
            "Epoch [2/5], Step [5300/12500], Loss: 1.3283095359802246, Time: 2.060790777206421\n",
            "Epoch [2/5], Step [5400/12500], Loss: 5.0331054808339104e-05, Time: 2.059030294418335\n",
            "Epoch [2/5], Step [5500/12500], Loss: 0.0005559163982979953, Time: 2.0635147094726562\n",
            "Epoch [2/5], Step [5600/12500], Loss: 0.000469212798634544, Time: 2.0607099533081055\n",
            "Epoch [2/5], Step [5700/12500], Loss: 0.006773647386580706, Time: 2.0660855770111084\n",
            "Epoch [2/5], Step [5800/12500], Loss: 0.0031758409459143877, Time: 2.060554265975952\n",
            "Epoch [2/5], Step [5900/12500], Loss: 3.039818466277211e-06, Time: 2.058683156967163\n",
            "Epoch [2/5], Step [6000/12500], Loss: 0.00016359105939045548, Time: 2.0626955032348633\n",
            "Epoch [2/5], Step [6100/12500], Loss: 0.00288348994217813, Time: 2.0616085529327393\n",
            "Epoch [2/5], Step [6200/12500], Loss: 0.06501249969005585, Time: 2.0580344200134277\n",
            "Epoch [2/5], Step [6300/12500], Loss: 0.0006373152136802673, Time: 2.064434766769409\n",
            "Epoch [2/5], Step [6400/12500], Loss: 0.8207990527153015, Time: 2.0619707107543945\n",
            "Epoch [2/5], Step [6500/12500], Loss: 0.3054206371307373, Time: 2.056215286254883\n",
            "Epoch [2/5], Step [6600/12500], Loss: 0.24475312232971191, Time: 2.0576682090759277\n",
            "Epoch [2/5], Step [6700/12500], Loss: 0.02426830306649208, Time: 2.0607547760009766\n",
            "Epoch [2/5], Step [6800/12500], Loss: 0.20790523290634155, Time: 2.063528060913086\n",
            "Epoch [2/5], Step [6900/12500], Loss: 4.061726576765068e-05, Time: 2.0605437755584717\n",
            "Epoch [2/5], Step [7000/12500], Loss: 0.0023927101865410805, Time: 2.188976287841797\n",
            "Epoch [2/5], Step [7100/12500], Loss: 0.00045666436199098825, Time: 2.0612549781799316\n",
            "Epoch [2/5], Step [7200/12500], Loss: 0.001460657804273069, Time: 2.0611119270324707\n",
            "Epoch [2/5], Step [7300/12500], Loss: 0.0, Time: 2.066246271133423\n",
            "Epoch [2/5], Step [7400/12500], Loss: 4.172321723672212e-07, Time: 2.064828872680664\n",
            "Epoch [2/5], Step [7500/12500], Loss: 0.0002084677980747074, Time: 2.064344644546509\n",
            "Epoch [2/5], Step [7600/12500], Loss: 0.0006352259661071002, Time: 2.067302703857422\n",
            "Epoch [2/5], Step [7700/12500], Loss: 0.00147796212695539, Time: 2.0665481090545654\n",
            "Epoch [2/5], Step [7800/12500], Loss: 2.4384450912475586, Time: 2.065779447555542\n",
            "Epoch [2/5], Step [7900/12500], Loss: 2.9802320611338473e-08, Time: 2.061953544616699\n",
            "Epoch [2/5], Step [8000/12500], Loss: 1.135445199906826e-05, Time: 2.0646495819091797\n",
            "Epoch [2/5], Step [8100/12500], Loss: 0.02190093882381916, Time: 2.0649735927581787\n",
            "Epoch [2/5], Step [8200/12500], Loss: 0.0, Time: 2.0631911754608154\n",
            "Epoch [2/5], Step [8300/12500], Loss: 1.1026835409211344e-06, Time: 2.074553966522217\n",
            "Epoch [2/5], Step [8400/12500], Loss: 0.0, Time: 2.0651721954345703\n",
            "Epoch [2/5], Step [8500/12500], Loss: 0.0002965956227853894, Time: 2.06723952293396\n",
            "Epoch [2/5], Step [8600/12500], Loss: 0.002711232751607895, Time: 2.068697929382324\n",
            "Epoch [2/5], Step [8700/12500], Loss: 0.0004382189945317805, Time: 2.066075325012207\n",
            "Epoch [2/5], Step [8800/12500], Loss: 4.172321723672212e-07, Time: 2.0717251300811768\n",
            "Epoch [2/5], Step [8900/12500], Loss: 0.008119190111756325, Time: 2.0670154094696045\n",
            "Epoch [2/5], Step [9000/12500], Loss: 0.0, Time: 2.065671682357788\n",
            "Epoch [2/5], Step [9100/12500], Loss: 0.006500805728137493, Time: 2.066256523132324\n",
            "Epoch [2/5], Step [9200/12500], Loss: 1.7380635738372803, Time: 2.063511848449707\n",
            "Epoch [2/5], Step [9300/12500], Loss: 2.9802320611338473e-08, Time: 2.073503255844116\n",
            "Epoch [2/5], Step [9400/12500], Loss: 0.00039040346746332943, Time: 2.06429386138916\n",
            "Epoch [2/5], Step [9500/12500], Loss: 0.5353876352310181, Time: 2.064204216003418\n",
            "Epoch [2/5], Step [9600/12500], Loss: 2.9802308176840597e-07, Time: 2.0684878826141357\n",
            "Epoch [2/5], Step [9700/12500], Loss: 0.016203884035348892, Time: 2.06538462638855\n",
            "Epoch [2/5], Step [9800/12500], Loss: 0.10717663168907166, Time: 2.0644118785858154\n",
            "Epoch [2/5], Step [9900/12500], Loss: 0.0016393439145758748, Time: 2.071652889251709\n",
            "Epoch [2/5], Step [10000/12500], Loss: 0.4704543948173523, Time: 2.068587064743042\n",
            "Epoch [2/5], Step [10100/12500], Loss: 1.1920926112907182e-07, Time: 2.0667507648468018\n",
            "Epoch [2/5], Step [10200/12500], Loss: 0.07188408821821213, Time: 2.063386917114258\n",
            "Epoch [2/5], Step [10300/12500], Loss: 0.00022009701933711767, Time: 2.0623393058776855\n",
            "Epoch [2/5], Step [10400/12500], Loss: 5.602777036983753e-06, Time: 2.0641980171203613\n",
            "Epoch [2/5], Step [10500/12500], Loss: 5.968692494207062e-05, Time: 2.06354022026062\n",
            "Epoch [2/5], Step [10600/12500], Loss: 0.012781172059476376, Time: 2.061783790588379\n",
            "Epoch [2/5], Step [10700/12500], Loss: 0.0029368973337113857, Time: 2.062713146209717\n",
            "Epoch [2/5], Step [10800/12500], Loss: 0.00566566176712513, Time: 2.063938856124878\n",
            "Epoch [2/5], Step [10900/12500], Loss: 0.0, Time: 2.063140630722046\n",
            "Epoch [2/5], Step [11000/12500], Loss: 1.1920926112907182e-07, Time: 2.0641541481018066\n",
            "Epoch [2/5], Step [11100/12500], Loss: 0.3905722200870514, Time: 2.0614750385284424\n",
            "Epoch [2/5], Step [11200/12500], Loss: 0.05327795445919037, Time: 2.092034339904785\n",
            "Epoch [2/5], Step [11300/12500], Loss: 2.9860200811526738e-05, Time: 2.0626108646392822\n",
            "Epoch [2/5], Step [11400/12500], Loss: 2.9802305334669654e-07, Time: 2.061403751373291\n",
            "Epoch [2/5], Step [11500/12500], Loss: 0.07201389968395233, Time: 2.0623974800109863\n",
            "Epoch [2/5], Step [11600/12500], Loss: 2.0861619987044833e-07, Time: 2.112868070602417\n",
            "Epoch [2/5], Step [11700/12500], Loss: 0.003871095832437277, Time: 2.063342571258545\n",
            "Epoch [2/5], Step [11800/12500], Loss: 0.0001769257796695456, Time: 2.0681276321411133\n",
            "Epoch [2/5], Step [11900/12500], Loss: 0.0005181722226552665, Time: 2.060861110687256\n",
            "Epoch [2/5], Step [12000/12500], Loss: 0.0011114514200016856, Time: 2.0660550594329834\n",
            "Epoch [2/5], Step [12100/12500], Loss: 0.006711983121931553, Time: 2.0639138221740723\n",
            "Epoch [2/5], Step [12200/12500], Loss: 1.1846680641174316, Time: 2.0696938037872314\n",
            "Epoch [2/5], Step [12300/12500], Loss: 3.6506746255327016e-05, Time: 2.0662436485290527\n",
            "Epoch [2/5], Step [12400/12500], Loss: 1.618230453459546e-05, Time: 2.0607750415802\n",
            "Epoch [2/5], Step [12500/12500], Loss: 0.0010499927448108792, Time: 2.063171863555908\n",
            "Epoch [3/5], Step [100/12500], Loss: 0.001228884095326066, Time: 2.1910431385040283\n",
            "Epoch [3/5], Step [200/12500], Loss: 0.0003948370285797864, Time: 2.0651354789733887\n",
            "Epoch [3/5], Step [300/12500], Loss: 1.2184696197509766, Time: 2.0660407543182373\n",
            "Epoch [3/5], Step [400/12500], Loss: 1.1920926112907182e-07, Time: 2.065000295639038\n",
            "Epoch [3/5], Step [500/12500], Loss: 1.0430879592895508, Time: 2.070848226547241\n",
            "Epoch [3/5], Step [600/12500], Loss: 1.1026835409211344e-06, Time: 2.0683529376983643\n",
            "Epoch [3/5], Step [700/12500], Loss: 5.125946699990891e-06, Time: 2.070618152618408\n",
            "Epoch [3/5], Step [800/12500], Loss: 0.0, Time: 2.064545154571533\n",
            "Epoch [3/5], Step [900/12500], Loss: 0.08932100236415863, Time: 2.0616838932037354\n",
            "Epoch [3/5], Step [1000/12500], Loss: 0.0017433788161724806, Time: 2.065396785736084\n",
            "Epoch [3/5], Step [1100/12500], Loss: 1.4901156930591242e-07, Time: 2.0668575763702393\n",
            "Epoch [3/5], Step [1200/12500], Loss: 0.009773111902177334, Time: 2.0667316913604736\n",
            "Epoch [3/5], Step [1300/12500], Loss: 0.3316575288772583, Time: 2.0659422874450684\n",
            "Epoch [3/5], Step [1400/12500], Loss: 2.9802313861182483e-07, Time: 2.0628890991210938\n",
            "Epoch [3/5], Step [1500/12500], Loss: 5.18555043527158e-06, Time: 2.068387508392334\n",
            "Epoch [3/5], Step [1600/12500], Loss: 4.20475444116164e-05, Time: 2.065269708633423\n",
            "Epoch [3/5], Step [1700/12500], Loss: 0.004881896544247866, Time: 2.0674381256103516\n",
            "Epoch [3/5], Step [1800/12500], Loss: 1.549674925627187e-05, Time: 2.0641252994537354\n",
            "Epoch [3/5], Step [1900/12500], Loss: 0.0001756229903548956, Time: 2.065828323364258\n",
            "Epoch [3/5], Step [2000/12500], Loss: 6.70545296088676e-06, Time: 2.0628318786621094\n",
            "Epoch [3/5], Step [2100/12500], Loss: 0.16795571148395538, Time: 2.061586856842041\n",
            "Epoch [3/5], Step [2200/12500], Loss: 1.5347732187365182e-05, Time: 2.060899257659912\n",
            "Epoch [3/5], Step [2300/12500], Loss: 0.0014218538999557495, Time: 2.0634853839874268\n",
            "Epoch [3/5], Step [2400/12500], Loss: 0.05351518467068672, Time: 2.0642948150634766\n",
            "Epoch [3/5], Step [2500/12500], Loss: 2.205362079621409e-06, Time: 2.0594899654388428\n",
            "Epoch [3/5], Step [2600/12500], Loss: 0.002265826566144824, Time: 2.062695264816284\n",
            "Epoch [3/5], Step [2700/12500], Loss: 0.0730329304933548, Time: 2.062910556793213\n",
            "Epoch [3/5], Step [2800/12500], Loss: 2.086161714487389e-07, Time: 2.0660276412963867\n",
            "Epoch [3/5], Step [2900/12500], Loss: 0.0003958512097597122, Time: 2.0617964267730713\n",
            "Epoch [3/5], Step [3000/12500], Loss: 0.6477381587028503, Time: 2.0612871646881104\n",
            "Epoch [3/5], Step [3100/12500], Loss: 1.3326934576034546, Time: 2.06825852394104\n",
            "Epoch [3/5], Step [3200/12500], Loss: 0.13156373798847198, Time: 2.0657312870025635\n",
            "Epoch [3/5], Step [3300/12500], Loss: 0.06622172892093658, Time: 2.0637295246124268\n",
            "Epoch [3/5], Step [3400/12500], Loss: 0.015095589682459831, Time: 2.0621278285980225\n",
            "Epoch [3/5], Step [3500/12500], Loss: 2.9802320611338473e-08, Time: 2.0648529529571533\n",
            "Epoch [3/5], Step [3600/12500], Loss: 1.1026839956684853e-06, Time: 2.062581777572632\n",
            "Epoch [3/5], Step [3700/12500], Loss: 0.0, Time: 2.062182903289795\n",
            "Epoch [3/5], Step [3800/12500], Loss: 0.0014671492390334606, Time: 2.061861276626587\n",
            "Epoch [3/5], Step [3900/12500], Loss: 0.0, Time: 2.0623295307159424\n",
            "Epoch [3/5], Step [4000/12500], Loss: 4.4703443791149766e-07, Time: 2.0609469413757324\n",
            "Epoch [3/5], Step [4100/12500], Loss: 7.182306489994517e-06, Time: 2.0628199577331543\n",
            "Epoch [3/5], Step [4200/12500], Loss: 0.002494396409019828, Time: 2.060727596282959\n",
            "Epoch [3/5], Step [4300/12500], Loss: 2.02447772026062, Time: 2.0616888999938965\n",
            "Epoch [3/5], Step [4400/12500], Loss: 1.877475733635947e-05, Time: 2.0609991550445557\n",
            "Epoch [3/5], Step [4500/12500], Loss: 4.055773752043024e-05, Time: 2.0607571601867676\n",
            "Epoch [3/5], Step [4600/12500], Loss: 0.0017583353910595179, Time: 2.0658226013183594\n",
            "Epoch [3/5], Step [4700/12500], Loss: 0.9065426588058472, Time: 2.060774803161621\n",
            "Epoch [3/5], Step [4800/12500], Loss: 0.29964691400527954, Time: 2.062342643737793\n",
            "Epoch [3/5], Step [4900/12500], Loss: 0.0, Time: 2.0598108768463135\n",
            "Epoch [3/5], Step [5000/12500], Loss: 0.0954534187912941, Time: 2.060148000717163\n",
            "Epoch [3/5], Step [5100/12500], Loss: 0.01691444218158722, Time: 2.064891815185547\n",
            "Epoch [3/5], Step [5200/12500], Loss: 4.947136403643526e-06, Time: 2.0641844272613525\n",
            "Epoch [3/5], Step [5300/12500], Loss: 0.00020861859957221895, Time: 2.068329334259033\n",
            "Epoch [3/5], Step [5400/12500], Loss: 0.0006753599154762924, Time: 2.0609591007232666\n",
            "Epoch [3/5], Step [5500/12500], Loss: 0.2641359567642212, Time: 2.064457654953003\n",
            "Epoch [3/5], Step [5600/12500], Loss: 0.0005416675703600049, Time: 2.0626893043518066\n",
            "Epoch [3/5], Step [5700/12500], Loss: 3.5045082768192515e-05, Time: 2.0626425743103027\n",
            "Epoch [3/5], Step [5800/12500], Loss: 0.09576963633298874, Time: 2.0625264644622803\n",
            "Epoch [3/5], Step [5900/12500], Loss: 0.0, Time: 2.0627059936523438\n",
            "Epoch [3/5], Step [6000/12500], Loss: 2.121835495927371e-05, Time: 2.065065383911133\n",
            "Epoch [3/5], Step [6100/12500], Loss: 0.08939201384782791, Time: 2.06183123588562\n",
            "Epoch [3/5], Step [6200/12500], Loss: 0.0035719333682209253, Time: 2.0608925819396973\n",
            "Epoch [3/5], Step [6300/12500], Loss: 0.024214468896389008, Time: 2.0644354820251465\n",
            "Epoch [3/5], Step [6400/12500], Loss: 0.0007904321537353098, Time: 2.0658247470855713\n",
            "Epoch [3/5], Step [6500/12500], Loss: 0.1649366021156311, Time: 2.063431739807129\n",
            "Epoch [3/5], Step [6600/12500], Loss: 0.0, Time: 2.0621988773345947\n",
            "Epoch [3/5], Step [6700/12500], Loss: 0.0, Time: 2.061126708984375\n",
            "Epoch [3/5], Step [6800/12500], Loss: 0.0003066548961214721, Time: 2.06294584274292\n",
            "Epoch [3/5], Step [6900/12500], Loss: 0.00032378709875047207, Time: 2.062917947769165\n",
            "Epoch [3/5], Step [7000/12500], Loss: 0.6999330520629883, Time: 2.067152500152588\n",
            "Epoch [3/5], Step [7100/12500], Loss: 0.009448706172406673, Time: 2.066904067993164\n",
            "Epoch [3/5], Step [7200/12500], Loss: 1.221892262037727e-06, Time: 2.060128688812256\n",
            "Epoch [3/5], Step [7300/12500], Loss: 0.0, Time: 2.0619797706604004\n",
            "Epoch [3/5], Step [7400/12500], Loss: 0.013155638240277767, Time: 2.0623462200164795\n",
            "Epoch [3/5], Step [7500/12500], Loss: 6.824638603575295e-06, Time: 2.0634400844573975\n",
            "Epoch [3/5], Step [7600/12500], Loss: 0.08780081570148468, Time: 2.0616631507873535\n",
            "Epoch [3/5], Step [7700/12500], Loss: 8.046613970691396e-07, Time: 2.0655534267425537\n",
            "Epoch [3/5], Step [7800/12500], Loss: 2.139715252269525e-05, Time: 2.0640597343444824\n",
            "Epoch [3/5], Step [7900/12500], Loss: 0.10849962383508682, Time: 2.067518711090088\n",
            "Epoch [3/5], Step [8000/12500], Loss: 1.6480140402563848e-05, Time: 2.062993288040161\n",
            "Epoch [3/5], Step [8100/12500], Loss: 0.0014256045687943697, Time: 2.0637848377227783\n",
            "Epoch [3/5], Step [8200/12500], Loss: 0.01088495273143053, Time: 2.0617294311523438\n",
            "Epoch [3/5], Step [8300/12500], Loss: 3.27825318890973e-07, Time: 2.0664126873016357\n",
            "Epoch [3/5], Step [8400/12500], Loss: 1.8775403987092432e-06, Time: 2.062619209289551\n",
            "Epoch [3/5], Step [8500/12500], Loss: 0.0026775349397212267, Time: 2.0620808601379395\n",
            "Epoch [3/5], Step [8600/12500], Loss: 0.04543939605355263, Time: 2.063408374786377\n",
            "Epoch [3/5], Step [8700/12500], Loss: 0.7745339274406433, Time: 2.0606720447540283\n",
            "Epoch [3/5], Step [8800/12500], Loss: 0.43960797786712646, Time: 2.061793565750122\n",
            "Epoch [3/5], Step [8900/12500], Loss: 0.0012709933798760176, Time: 2.064013719558716\n",
            "Epoch [3/5], Step [9000/12500], Loss: 1.449409008026123, Time: 2.061732053756714\n",
            "Epoch [3/5], Step [9100/12500], Loss: 0.07011325657367706, Time: 2.062530994415283\n",
            "Epoch [3/5], Step [9200/12500], Loss: 0.010637197643518448, Time: 2.0635225772857666\n",
            "Epoch [3/5], Step [9300/12500], Loss: 0.0, Time: 2.063223123550415\n",
            "Epoch [3/5], Step [9400/12500], Loss: 0.0024973005056381226, Time: 2.0625007152557373\n",
            "Epoch [3/5], Step [9500/12500], Loss: 4.502725278143771e-05, Time: 2.061528444290161\n",
            "Epoch [3/5], Step [9600/12500], Loss: 0.0007372137042693794, Time: 2.066983222961426\n",
            "Epoch [3/5], Step [9700/12500], Loss: 0.03251118212938309, Time: 2.0619723796844482\n",
            "Epoch [3/5], Step [9800/12500], Loss: 0.0, Time: 2.064258575439453\n",
            "Epoch [3/5], Step [9900/12500], Loss: 0.1258602738380432, Time: 2.0655174255371094\n",
            "Epoch [3/5], Step [10000/12500], Loss: 0.0, Time: 2.0659847259521484\n",
            "Epoch [3/5], Step [10100/12500], Loss: 0.03807579353451729, Time: 2.0668447017669678\n",
            "Epoch [3/5], Step [10200/12500], Loss: 0.46283239126205444, Time: 2.066636085510254\n",
            "Epoch [3/5], Step [10300/12500], Loss: 0.0032319724559783936, Time: 2.0660440921783447\n",
            "Epoch [3/5], Step [10400/12500], Loss: 2.3841746497055283e-06, Time: 2.0605344772338867\n",
            "Epoch [3/5], Step [10500/12500], Loss: 0.0, Time: 2.063647747039795\n",
            "Epoch [3/5], Step [10600/12500], Loss: 0.008104562759399414, Time: 2.0627994537353516\n",
            "Epoch [3/5], Step [10700/12500], Loss: 0.12214304506778717, Time: 2.060346841812134\n",
            "Epoch [3/5], Step [10800/12500], Loss: 2.4735827537369914e-06, Time: 2.065964460372925\n",
            "Epoch [3/5], Step [10900/12500], Loss: 1.1920926112907182e-07, Time: 2.0602238178253174\n",
            "Epoch [3/5], Step [11000/12500], Loss: 0.0, Time: 2.06343412399292\n",
            "Epoch [3/5], Step [11100/12500], Loss: 0.026002774015069008, Time: 2.0659637451171875\n",
            "Epoch [3/5], Step [11200/12500], Loss: 0.4375832676887512, Time: 2.0648300647735596\n",
            "Epoch [3/5], Step [11300/12500], Loss: 0.0, Time: 2.0620319843292236\n",
            "Epoch [3/5], Step [11400/12500], Loss: 0.0022745742462575436, Time: 2.061746120452881\n",
            "Epoch [3/5], Step [11500/12500], Loss: 1.4901158351676713e-07, Time: 2.0619688034057617\n",
            "Epoch [3/5], Step [11600/12500], Loss: 0.0, Time: 2.065059185028076\n",
            "Epoch [3/5], Step [11700/12500], Loss: 1.2891898155212402, Time: 2.062180519104004\n",
            "Epoch [3/5], Step [11800/12500], Loss: 0.0847884863615036, Time: 2.0652308464050293\n",
            "Epoch [3/5], Step [11900/12500], Loss: 8.344636626134161e-07, Time: 2.061878204345703\n",
            "Epoch [3/5], Step [12000/12500], Loss: 6.400719576049596e-05, Time: 2.061138153076172\n",
            "Epoch [3/5], Step [12100/12500], Loss: 2.3841789698053617e-06, Time: 2.061516046524048\n",
            "Epoch [3/5], Step [12200/12500], Loss: 0.49643492698669434, Time: 2.061953067779541\n",
            "Epoch [3/5], Step [12300/12500], Loss: 4.2256215238012373e-05, Time: 2.0628559589385986\n",
            "Epoch [3/5], Step [12400/12500], Loss: 8.82133190316381e-06, Time: 2.060732841491699\n",
            "Epoch [3/5], Step [12500/12500], Loss: 0.6250497102737427, Time: 2.0632567405700684\n",
            "Epoch [4/5], Step [100/12500], Loss: 1.6271578715532087e-05, Time: 2.1895432472229004\n",
            "Epoch [4/5], Step [200/12500], Loss: 0.00012916656851302832, Time: 2.0628957748413086\n",
            "Epoch [4/5], Step [300/12500], Loss: 4.317988350521773e-05, Time: 2.0635335445404053\n",
            "Epoch [4/5], Step [400/12500], Loss: 0.895015299320221, Time: 2.0608861446380615\n",
            "Epoch [4/5], Step [500/12500], Loss: 0.017668135464191437, Time: 2.061387538909912\n",
            "Epoch [4/5], Step [600/12500], Loss: 1.3432536125183105, Time: 2.059542179107666\n",
            "Epoch [4/5], Step [700/12500], Loss: 0.0004782570176757872, Time: 2.0619921684265137\n",
            "Epoch [4/5], Step [800/12500], Loss: 0.03721589967608452, Time: 2.0642571449279785\n",
            "Epoch [4/5], Step [900/12500], Loss: 0.0027232931461185217, Time: 2.060730218887329\n",
            "Epoch [4/5], Step [1000/12500], Loss: 6.63311657262966e-05, Time: 2.0674917697906494\n",
            "Epoch [4/5], Step [1100/12500], Loss: 0.001297706039622426, Time: 2.06044864654541\n",
            "Epoch [4/5], Step [1200/12500], Loss: 2.562986537668621e-06, Time: 2.0641255378723145\n",
            "Epoch [4/5], Step [1300/12500], Loss: 2.890759969886858e-05, Time: 2.0601696968078613\n",
            "Epoch [4/5], Step [1400/12500], Loss: 0.00025064547662623227, Time: 2.0619425773620605\n",
            "Epoch [4/5], Step [1500/12500], Loss: 0.01228009257465601, Time: 2.0655570030212402\n",
            "Epoch [4/5], Step [1600/12500], Loss: 0.023401491343975067, Time: 2.0625813007354736\n",
            "Epoch [4/5], Step [1700/12500], Loss: 0.0005213252152316272, Time: 2.0624773502349854\n",
            "Epoch [4/5], Step [1800/12500], Loss: 0.01779905892908573, Time: 2.064319372177124\n",
            "Epoch [4/5], Step [1900/12500], Loss: 0.019410040229558945, Time: 2.064085006713867\n",
            "Epoch [4/5], Step [2000/12500], Loss: 0.012203788384795189, Time: 2.0627002716064453\n",
            "Epoch [4/5], Step [2100/12500], Loss: 3.903801189153455e-05, Time: 2.060101270675659\n",
            "Epoch [4/5], Step [2200/12500], Loss: 0.013892901130020618, Time: 2.0580718517303467\n",
            "Epoch [4/5], Step [2300/12500], Loss: 0.0, Time: 2.0608274936676025\n",
            "Epoch [4/5], Step [2400/12500], Loss: 7.450569228240056e-07, Time: 2.063318967819214\n",
            "Epoch [4/5], Step [2500/12500], Loss: 0.021224157884716988, Time: 2.061596393585205\n",
            "Epoch [4/5], Step [2600/12500], Loss: 0.00042313270387239754, Time: 2.062974452972412\n",
            "Epoch [4/5], Step [2700/12500], Loss: 3.257181742810644e-05, Time: 2.062490463256836\n",
            "Epoch [4/5], Step [2800/12500], Loss: 3.6326393455965444e-05, Time: 2.064575672149658\n",
            "Epoch [4/5], Step [2900/12500], Loss: 8.433918083028402e-06, Time: 2.060537099838257\n",
            "Epoch [4/5], Step [3000/12500], Loss: 2.0861619987044833e-07, Time: 2.0619609355926514\n",
            "Epoch [4/5], Step [3100/12500], Loss: 0.0, Time: 2.065192699432373\n",
            "Epoch [4/5], Step [3200/12500], Loss: 2.041376501438208e-05, Time: 2.0631563663482666\n",
            "Epoch [4/5], Step [3300/12500], Loss: 1.7523150745546445e-05, Time: 2.087024211883545\n",
            "Epoch [4/5], Step [3400/12500], Loss: 7.997664215508848e-05, Time: 2.063521146774292\n",
            "Epoch [4/5], Step [3500/12500], Loss: 3.045627090614289e-05, Time: 2.0676586627960205\n",
            "Epoch [4/5], Step [3600/12500], Loss: 5.364413482311647e-07, Time: 2.0679101943969727\n",
            "Epoch [4/5], Step [3700/12500], Loss: 0.0, Time: 2.0625483989715576\n",
            "Epoch [4/5], Step [3800/12500], Loss: 4.0557792090112343e-05, Time: 2.064480781555176\n",
            "Epoch [4/5], Step [3900/12500], Loss: 0.005424400791525841, Time: 2.0649194717407227\n",
            "Epoch [4/5], Step [4000/12500], Loss: 7.301462574105244e-06, Time: 2.063974142074585\n",
            "Epoch [4/5], Step [4100/12500], Loss: 6.854524485788716e-07, Time: 2.068575143814087\n",
            "Epoch [4/5], Step [4200/12500], Loss: 0.25532296299934387, Time: 2.063225030899048\n",
            "Epoch [4/5], Step [4300/12500], Loss: 0.00016985378169920295, Time: 2.0627427101135254\n",
            "Epoch [4/5], Step [4400/12500], Loss: 0.46146857738494873, Time: 2.063958168029785\n",
            "Epoch [4/5], Step [4500/12500], Loss: 0.030987033620476723, Time: 2.0661659240722656\n",
            "Epoch [4/5], Step [4600/12500], Loss: 6.31801231065765e-06, Time: 2.068288803100586\n",
            "Epoch [4/5], Step [4700/12500], Loss: 0.0, Time: 2.0654430389404297\n",
            "Epoch [4/5], Step [4800/12500], Loss: 0.045889101922512054, Time: 2.066744565963745\n",
            "Epoch [4/5], Step [4900/12500], Loss: 1.0102844498760533e-05, Time: 2.061894655227661\n",
            "Epoch [4/5], Step [5000/12500], Loss: 1.1920926112907182e-07, Time: 2.06894850730896\n",
            "Epoch [4/5], Step [5100/12500], Loss: 0.03649119660258293, Time: 2.0685272216796875\n",
            "Epoch [4/5], Step [5200/12500], Loss: 0.002369173336774111, Time: 2.0658602714538574\n",
            "Epoch [4/5], Step [5300/12500], Loss: 0.07925726473331451, Time: 2.072124719619751\n",
            "Epoch [4/5], Step [5400/12500], Loss: 9.266804408980533e-05, Time: 2.0662293434143066\n",
            "Epoch [4/5], Step [5500/12500], Loss: 2.3841846541472478e-07, Time: 2.0649731159210205\n",
            "Epoch [4/5], Step [5600/12500], Loss: 0.0005389301222749054, Time: 2.0665018558502197\n",
            "Epoch [4/5], Step [5700/12500], Loss: 0.0002464033314026892, Time: 2.0699148178100586\n",
            "Epoch [4/5], Step [5800/12500], Loss: 2.9802320611338473e-08, Time: 2.0651140213012695\n",
            "Epoch [4/5], Step [5900/12500], Loss: 0.0010067722760140896, Time: 2.062661647796631\n",
            "Epoch [4/5], Step [6000/12500], Loss: 0.01227020937949419, Time: 2.0653505325317383\n",
            "Epoch [4/5], Step [6100/12500], Loss: 0.0026734669227153063, Time: 2.066588878631592\n",
            "Epoch [4/5], Step [6200/12500], Loss: 7.077049667714164e-05, Time: 2.070941686630249\n",
            "Epoch [4/5], Step [6300/12500], Loss: 0.006632213480770588, Time: 2.0643229484558105\n",
            "Epoch [4/5], Step [6400/12500], Loss: 0.003278244286775589, Time: 2.060396194458008\n",
            "Epoch [4/5], Step [6500/12500], Loss: 2.9802320611338473e-08, Time: 2.062480926513672\n",
            "Epoch [4/5], Step [6600/12500], Loss: 2.1546251446125098e-05, Time: 2.0625317096710205\n",
            "Epoch [4/5], Step [6700/12500], Loss: 0.5768383741378784, Time: 2.063668966293335\n",
            "Epoch [4/5], Step [6800/12500], Loss: 0.040406133979558945, Time: 2.0597851276397705\n",
            "Epoch [4/5], Step [6900/12500], Loss: 1.1086218364653178e-05, Time: 2.0611138343811035\n",
            "Epoch [4/5], Step [7000/12500], Loss: 5.960463766996327e-08, Time: 2.061438798904419\n",
            "Epoch [4/5], Step [7100/12500], Loss: 0.00863000936806202, Time: 2.0589396953582764\n",
            "Epoch [4/5], Step [7200/12500], Loss: 0.0, Time: 2.0634348392486572\n",
            "Epoch [4/5], Step [7300/12500], Loss: 0.00026161703863181174, Time: 2.0599429607391357\n",
            "Epoch [4/5], Step [7400/12500], Loss: 0.0009470447548665106, Time: 2.060967445373535\n",
            "Epoch [4/5], Step [7500/12500], Loss: 0.00041110720485448837, Time: 2.0617222785949707\n",
            "Epoch [4/5], Step [7600/12500], Loss: 0.18322741985321045, Time: 2.0651795864105225\n",
            "Epoch [4/5], Step [7700/12500], Loss: 0.007282049395143986, Time: 2.0613961219787598\n",
            "Epoch [4/5], Step [7800/12500], Loss: 0.052742477506399155, Time: 2.0592293739318848\n",
            "Epoch [4/5], Step [7900/12500], Loss: 1.698726578069909e-06, Time: 2.0608608722686768\n",
            "Epoch [4/5], Step [8000/12500], Loss: 1.6093204067146871e-06, Time: 2.0626254081726074\n",
            "Epoch [4/5], Step [8100/12500], Loss: 0.02330770716071129, Time: 2.0616555213928223\n",
            "Epoch [4/5], Step [8200/12500], Loss: 1.0251827916363254e-05, Time: 2.0648880004882812\n",
            "Epoch [4/5], Step [8300/12500], Loss: 3.325717989355326e-05, Time: 2.061483383178711\n",
            "Epoch [4/5], Step [8400/12500], Loss: 0.013489464297890663, Time: 2.0613906383514404\n",
            "Epoch [4/5], Step [8500/12500], Loss: 1.2636004612431861e-05, Time: 2.059983730316162\n",
            "Epoch [4/5], Step [8600/12500], Loss: 0.8070265054702759, Time: 2.061363935470581\n",
            "Epoch [4/5], Step [8700/12500], Loss: 8.940695295223122e-08, Time: 2.06402850151062\n",
            "Epoch [4/5], Step [8800/12500], Loss: 0.0, Time: 2.0619354248046875\n",
            "Epoch [4/5], Step [8900/12500], Loss: 8.940696005765858e-08, Time: 2.0640106201171875\n",
            "Epoch [4/5], Step [9000/12500], Loss: 0.0, Time: 2.0628902912139893\n",
            "Epoch [4/5], Step [9100/12500], Loss: 0.002508672419935465, Time: 2.061840295791626\n",
            "Epoch [4/5], Step [9200/12500], Loss: 0.0, Time: 2.0622596740722656\n",
            "Epoch [4/5], Step [9300/12500], Loss: 0.13867172598838806, Time: 2.060842990875244\n",
            "Epoch [4/5], Step [9400/12500], Loss: 0.0002542045549489558, Time: 2.0618815422058105\n",
            "Epoch [4/5], Step [9500/12500], Loss: 0.0, Time: 2.0601935386657715\n",
            "Epoch [4/5], Step [9600/12500], Loss: 0.035679180175065994, Time: 2.0611257553100586\n",
            "Epoch [4/5], Step [9700/12500], Loss: 0.5838078260421753, Time: 2.060788154602051\n",
            "Epoch [4/5], Step [9800/12500], Loss: 0.0, Time: 2.0618159770965576\n",
            "Epoch [4/5], Step [9900/12500], Loss: 0.0, Time: 2.0634279251098633\n",
            "Epoch [4/5], Step [10000/12500], Loss: 0.0007150370511226356, Time: 2.0685465335845947\n",
            "Epoch [4/5], Step [10100/12500], Loss: 2.562986537668621e-06, Time: 2.065828323364258\n",
            "Epoch [4/5], Step [10200/12500], Loss: 1.6689244830558891e-06, Time: 2.0697500705718994\n",
            "Epoch [4/5], Step [10300/12500], Loss: 4.76836760299193e-07, Time: 2.0610978603363037\n",
            "Epoch [4/5], Step [10400/12500], Loss: 0.0013790505472570658, Time: 2.062401533126831\n",
            "Epoch [4/5], Step [10500/12500], Loss: 0.00019055802840739489, Time: 2.0640854835510254\n",
            "Epoch [4/5], Step [10600/12500], Loss: 0.09016244113445282, Time: 2.0653209686279297\n",
            "Epoch [4/5], Step [10700/12500], Loss: 0.0007051782449707389, Time: 2.0625269412994385\n",
            "Epoch [4/5], Step [10800/12500], Loss: 0.0028030502144247293, Time: 2.058955669403076\n",
            "Epoch [4/5], Step [10900/12500], Loss: 0.025889337062835693, Time: 2.061185359954834\n",
            "Epoch [4/5], Step [11000/12500], Loss: 0.0, Time: 2.061870574951172\n",
            "Epoch [4/5], Step [11100/12500], Loss: 7.485222886316478e-05, Time: 2.062387466430664\n",
            "Epoch [4/5], Step [11200/12500], Loss: 0.0028337519615888596, Time: 2.063812017440796\n",
            "Epoch [4/5], Step [11300/12500], Loss: 0.2946883738040924, Time: 2.0619049072265625\n",
            "Epoch [4/5], Step [11400/12500], Loss: 0.0018715367186814547, Time: 2.060209035873413\n",
            "Epoch [4/5], Step [11500/12500], Loss: 0.014456470496952534, Time: 2.0609591007232666\n",
            "Epoch [4/5], Step [11600/12500], Loss: 0.0007735135150142014, Time: 2.0610499382019043\n",
            "Epoch [4/5], Step [11700/12500], Loss: 0.003960454370826483, Time: 2.0612614154815674\n",
            "Epoch [4/5], Step [11800/12500], Loss: 0.047938272356987, Time: 2.0615878105163574\n",
            "Epoch [4/5], Step [11900/12500], Loss: 1.0132769148185616e-06, Time: 2.0621345043182373\n",
            "Epoch [4/5], Step [12000/12500], Loss: 0.0026017322670668364, Time: 2.0587527751922607\n",
            "Epoch [4/5], Step [12100/12500], Loss: 0.583853006362915, Time: 2.0614070892333984\n",
            "Epoch [4/5], Step [12200/12500], Loss: 0.15374866127967834, Time: 2.059150457382202\n",
            "Epoch [4/5], Step [12300/12500], Loss: 6.55650239878014e-07, Time: 2.0602691173553467\n",
            "Epoch [4/5], Step [12400/12500], Loss: 3.5194065276300535e-05, Time: 2.0615310668945312\n",
            "Epoch [4/5], Step [12500/12500], Loss: 6.865512114018202e-05, Time: 2.0617284774780273\n",
            "Epoch [5/5], Step [100/12500], Loss: 0.0004099888901691884, Time: 2.1910035610198975\n",
            "Epoch [5/5], Step [200/12500], Loss: 2.211234823334962e-05, Time: 2.07243013381958\n",
            "Epoch [5/5], Step [300/12500], Loss: 0.0006195674068294466, Time: 2.0624887943267822\n",
            "Epoch [5/5], Step [400/12500], Loss: 0.4963657259941101, Time: 2.0623574256896973\n",
            "Epoch [5/5], Step [500/12500], Loss: 0.007194580510258675, Time: 2.06099009513855\n",
            "Epoch [5/5], Step [600/12500], Loss: 0.0, Time: 2.0623064041137695\n",
            "Epoch [5/5], Step [700/12500], Loss: 0.0019680745899677277, Time: 2.06091570854187\n",
            "Epoch [5/5], Step [800/12500], Loss: 0.5050661563873291, Time: 2.060791015625\n",
            "Epoch [5/5], Step [900/12500], Loss: 0.0, Time: 2.0614466667175293\n",
            "Epoch [5/5], Step [1000/12500], Loss: 0.04572219401597977, Time: 2.061955451965332\n",
            "Epoch [5/5], Step [1100/12500], Loss: 0.012341075576841831, Time: 2.059630870819092\n",
            "Epoch [5/5], Step [1200/12500], Loss: 0.01573159545660019, Time: 2.0593247413635254\n",
            "Epoch [5/5], Step [1300/12500], Loss: 2.9802320611338473e-08, Time: 2.065016746520996\n",
            "Epoch [5/5], Step [1400/12500], Loss: 3.668396675493568e-05, Time: 2.061347484588623\n",
            "Epoch [5/5], Step [1500/12500], Loss: 7.801032916177064e-05, Time: 2.062549352645874\n",
            "Epoch [5/5], Step [1600/12500], Loss: 0.0, Time: 2.0626983642578125\n",
            "Epoch [5/5], Step [1700/12500], Loss: 1.1622878446360119e-06, Time: 2.0604727268218994\n",
            "Epoch [5/5], Step [1800/12500], Loss: 0.000554542348254472, Time: 2.0645248889923096\n",
            "Epoch [5/5], Step [1900/12500], Loss: 0.5075149536132812, Time: 2.0625598430633545\n",
            "Epoch [5/5], Step [2000/12500], Loss: 0.003419922897592187, Time: 2.062641143798828\n",
            "Epoch [5/5], Step [2100/12500], Loss: 0.0, Time: 2.0607240200042725\n",
            "Epoch [5/5], Step [2200/12500], Loss: 0.00041667779441922903, Time: 2.0624120235443115\n",
            "Epoch [5/5], Step [2300/12500], Loss: 2.980231101901154e-07, Time: 2.061450958251953\n",
            "Epoch [5/5], Step [2400/12500], Loss: 0.0, Time: 2.0598344802856445\n",
            "Epoch [5/5], Step [2500/12500], Loss: 1.2337882253632415e-05, Time: 2.085819959640503\n",
            "Epoch [5/5], Step [2600/12500], Loss: 1.844728467403911e-05, Time: 2.0615086555480957\n",
            "Epoch [5/5], Step [2700/12500], Loss: 0.0063276938162744045, Time: 2.0669896602630615\n",
            "Epoch [5/5], Step [2800/12500], Loss: 6.55650239878014e-07, Time: 2.0590741634368896\n",
            "Epoch [5/5], Step [2900/12500], Loss: 2.7119965579913696e-06, Time: 2.0599498748779297\n",
            "Epoch [5/5], Step [3000/12500], Loss: 4.142505531490315e-06, Time: 2.059896469116211\n",
            "Epoch [5/5], Step [3100/12500], Loss: 2.503382575014257e-06, Time: 2.0632779598236084\n",
            "Epoch [5/5], Step [3200/12500], Loss: 0.2620542347431183, Time: 2.0678353309631348\n",
            "Epoch [5/5], Step [3300/12500], Loss: 0.004764491226524115, Time: 2.0622732639312744\n",
            "Epoch [5/5], Step [3400/12500], Loss: 3.200564606231637e-05, Time: 2.060587167739868\n",
            "Epoch [5/5], Step [3500/12500], Loss: 0.023597244173288345, Time: 2.065051317214966\n",
            "Epoch [5/5], Step [3600/12500], Loss: 6.079599643271649e-06, Time: 2.061091899871826\n",
            "Epoch [5/5], Step [3700/12500], Loss: 0.002016880549490452, Time: 2.062854051589966\n",
            "Epoch [5/5], Step [3800/12500], Loss: 1.159296152764e-05, Time: 2.063448905944824\n",
            "Epoch [5/5], Step [3900/12500], Loss: 2.87642502784729, Time: 2.0613796710968018\n",
            "Epoch [5/5], Step [4000/12500], Loss: 0.0004367588844615966, Time: 2.059356689453125\n",
            "Epoch [5/5], Step [4100/12500], Loss: 0.00318934116512537, Time: 2.0672500133514404\n",
            "Epoch [5/5], Step [4200/12500], Loss: 0.0, Time: 2.0634167194366455\n",
            "Epoch [5/5], Step [4300/12500], Loss: 2.086161714487389e-07, Time: 2.1259984970092773\n",
            "Epoch [5/5], Step [4400/12500], Loss: 2.086161714487389e-07, Time: 2.064774513244629\n",
            "Epoch [5/5], Step [4500/12500], Loss: 0.008678924292325974, Time: 2.0638768672943115\n",
            "Epoch [5/5], Step [4600/12500], Loss: 1.2041480541229248, Time: 2.062451124191284\n",
            "Epoch [5/5], Step [4700/12500], Loss: 0.0006256017950363457, Time: 2.066481828689575\n",
            "Epoch [5/5], Step [4800/12500], Loss: 0.005383141804486513, Time: 2.062960386276245\n",
            "Epoch [5/5], Step [4900/12500], Loss: 0.0009589614346623421, Time: 2.065310001373291\n",
            "Epoch [5/5], Step [5000/12500], Loss: 0.009150341153144836, Time: 2.0692989826202393\n",
            "Epoch [5/5], Step [5100/12500], Loss: 0.0, Time: 2.061652898788452\n",
            "Epoch [5/5], Step [5200/12500], Loss: 0.10885877162218094, Time: 2.0628206729888916\n",
            "Epoch [5/5], Step [5300/12500], Loss: 0.005060197319835424, Time: 2.0633833408355713\n",
            "Epoch [5/5], Step [5400/12500], Loss: 0.02119213342666626, Time: 2.070997953414917\n",
            "Epoch [5/5], Step [5500/12500], Loss: 4.142237958149053e-05, Time: 2.0653491020202637\n",
            "Epoch [5/5], Step [5600/12500], Loss: 0.41357019543647766, Time: 2.0639545917510986\n",
            "Epoch [5/5], Step [5700/12500], Loss: 0.00011795956379501149, Time: 2.0677666664123535\n",
            "Epoch [5/5], Step [5800/12500], Loss: 0.058539628982543945, Time: 2.065812349319458\n",
            "Epoch [5/5], Step [5900/12500], Loss: 0.022844720631837845, Time: 2.062107563018799\n",
            "Epoch [5/5], Step [6000/12500], Loss: 1.913237247208599e-05, Time: 2.067706823348999\n",
            "Epoch [5/5], Step [6100/12500], Loss: 0.5562403202056885, Time: 2.064310312271118\n",
            "Epoch [5/5], Step [6200/12500], Loss: 0.0, Time: 2.065554141998291\n",
            "Epoch [5/5], Step [6300/12500], Loss: 0.0028210848104208708, Time: 2.065347671508789\n",
            "Epoch [5/5], Step [6400/12500], Loss: 0.0, Time: 2.065999746322632\n",
            "Epoch [5/5], Step [6500/12500], Loss: 0.000761619652621448, Time: 2.0657169818878174\n",
            "Epoch [5/5], Step [6600/12500], Loss: 0.10697378218173981, Time: 2.067667245864868\n",
            "Epoch [5/5], Step [6700/12500], Loss: 0.014622063376009464, Time: 2.069321393966675\n",
            "Epoch [5/5], Step [6800/12500], Loss: 0.040235064923763275, Time: 2.070124387741089\n",
            "Epoch [5/5], Step [6900/12500], Loss: 6.258409939619014e-06, Time: 2.0642499923706055\n",
            "Epoch [5/5], Step [7000/12500], Loss: 0.0, Time: 2.068286418914795\n",
            "Epoch [5/5], Step [7100/12500], Loss: 0.012371544726192951, Time: 2.0685551166534424\n",
            "Epoch [5/5], Step [7200/12500], Loss: 0.2623317241668701, Time: 2.0676281452178955\n",
            "Epoch [5/5], Step [7300/12500], Loss: 0.0025121881626546383, Time: 2.0642013549804688\n",
            "Epoch [5/5], Step [7400/12500], Loss: 0.786860466003418, Time: 2.0607094764709473\n",
            "Epoch [5/5], Step [7500/12500], Loss: 5.960463766996327e-08, Time: 2.0616912841796875\n",
            "Epoch [5/5], Step [7600/12500], Loss: 0.012590862810611725, Time: 2.0682103633880615\n",
            "Epoch [5/5], Step [7700/12500], Loss: 0.074767105281353, Time: 2.0635530948638916\n",
            "Epoch [5/5], Step [7800/12500], Loss: 6.973646122787613e-06, Time: 2.0655503273010254\n",
            "Epoch [5/5], Step [7900/12500], Loss: 0.36050689220428467, Time: 2.0606377124786377\n",
            "Epoch [5/5], Step [8000/12500], Loss: 0.0, Time: 2.062166452407837\n",
            "Epoch [5/5], Step [8100/12500], Loss: 5.662435000886035e-07, Time: 2.0613365173339844\n",
            "Epoch [5/5], Step [8200/12500], Loss: 2.2947729121369775e-06, Time: 2.0607423782348633\n",
            "Epoch [5/5], Step [8300/12500], Loss: 0.052549365907907486, Time: 2.064455509185791\n",
            "Epoch [5/5], Step [8400/12500], Loss: 0.0, Time: 2.0682666301727295\n",
            "Epoch [5/5], Step [8500/12500], Loss: 2.354378011659719e-06, Time: 2.062404155731201\n",
            "Epoch [5/5], Step [8600/12500], Loss: 2.9802320611338473e-08, Time: 2.059375762939453\n",
            "Epoch [5/5], Step [8700/12500], Loss: 0.02077648602426052, Time: 2.060499906539917\n",
            "Epoch [5/5], Step [8800/12500], Loss: 1.0618919134140015, Time: 2.0633461475372314\n",
            "Epoch [5/5], Step [8900/12500], Loss: 0.0, Time: 2.065479278564453\n",
            "Epoch [5/5], Step [9000/12500], Loss: 2.2947683646634687e-06, Time: 2.0648064613342285\n",
            "Epoch [5/5], Step [9100/12500], Loss: 1.9669469111249782e-06, Time: 2.062335252761841\n",
            "Epoch [5/5], Step [9200/12500], Loss: 3.8742987840123533e-07, Time: 2.0629727840423584\n",
            "Epoch [5/5], Step [9300/12500], Loss: 3.576276128569589e-07, Time: 2.062523603439331\n",
            "Epoch [5/5], Step [9400/12500], Loss: 5.5133868954726495e-06, Time: 2.0620579719543457\n",
            "Epoch [5/5], Step [9500/12500], Loss: 0.0021718896459788084, Time: 2.062018871307373\n",
            "Epoch [5/5], Step [9600/12500], Loss: 0.004284501541405916, Time: 2.0646471977233887\n",
            "Epoch [5/5], Step [9700/12500], Loss: 7.5994767030351795e-06, Time: 2.0598814487457275\n",
            "Epoch [5/5], Step [9800/12500], Loss: 5.614383553620428e-05, Time: 2.062793731689453\n",
            "Epoch [5/5], Step [9900/12500], Loss: 0.008291942067444324, Time: 2.064317226409912\n",
            "Epoch [5/5], Step [10000/12500], Loss: 3.0456118111032993e-05, Time: 2.059636116027832\n",
            "Epoch [5/5], Step [10100/12500], Loss: 0.0002964764425996691, Time: 2.0711758136749268\n",
            "Epoch [5/5], Step [10200/12500], Loss: 0.0, Time: 2.067326784133911\n",
            "Epoch [5/5], Step [10300/12500], Loss: 0.5534307360649109, Time: 2.0638630390167236\n",
            "Epoch [5/5], Step [10400/12500], Loss: 0.09830627590417862, Time: 2.0648603439331055\n",
            "Epoch [5/5], Step [10500/12500], Loss: 0.0005684662610292435, Time: 2.06109881401062\n",
            "Epoch [5/5], Step [10600/12500], Loss: 3.54920448444318e-05, Time: 2.060454845428467\n",
            "Epoch [5/5], Step [10700/12500], Loss: 1.475171393394703e-05, Time: 2.078205108642578\n",
            "Epoch [5/5], Step [10800/12500], Loss: 0.0012369499308988452, Time: 2.0585672855377197\n",
            "Epoch [5/5], Step [10900/12500], Loss: 0.0, Time: 2.0604684352874756\n",
            "Epoch [5/5], Step [11000/12500], Loss: 0.00023852028243709356, Time: 2.0577902793884277\n",
            "Epoch [5/5], Step [11100/12500], Loss: 1.0430791235194192e-06, Time: 2.0590858459472656\n",
            "Epoch [5/5], Step [11200/12500], Loss: 2.592788632682641e-06, Time: 2.0624184608459473\n",
            "Epoch [5/5], Step [11300/12500], Loss: 8.548973710276186e-05, Time: 2.0613741874694824\n",
            "Epoch [5/5], Step [11400/12500], Loss: 0.024660032242536545, Time: 2.0675461292266846\n",
            "Epoch [5/5], Step [11500/12500], Loss: 0.03774656355381012, Time: 2.063889265060425\n",
            "Epoch [5/5], Step [11600/12500], Loss: 9.466485062148422e-05, Time: 2.0661795139312744\n",
            "Epoch [5/5], Step [11700/12500], Loss: 1.0677475929260254, Time: 2.067108392715454\n",
            "Epoch [5/5], Step [11800/12500], Loss: 0.0014996470417827368, Time: 2.0606870651245117\n",
            "Epoch [5/5], Step [11900/12500], Loss: 0.019999336451292038, Time: 2.061034917831421\n",
            "Epoch [5/5], Step [12000/12500], Loss: 0.0, Time: 2.065775156021118\n",
            "Epoch [5/5], Step [12100/12500], Loss: 9.260849765269086e-05, Time: 2.0616886615753174\n",
            "Epoch [5/5], Step [12200/12500], Loss: 3.3974415600823704e-06, Time: 2.067920684814453\n",
            "Epoch [5/5], Step [12300/12500], Loss: 0.0014470104360952973, Time: 2.064912796020508\n",
            "Epoch [5/5], Step [12400/12500], Loss: 1.040082861436531e-05, Time: 2.0654053688049316\n",
            "Epoch [5/5], Step [12500/12500], Loss: 0.004500671289861202, Time: 2.0646073818206787\n",
            "Test Accuracy of the model using the test images: 82.3 %\n"
          ],
          "name": "stdout"
        }
      ]
    },
    {
      "cell_type": "markdown",
      "metadata": {
        "id": "rW_KVtvE1JPD"
      },
      "source": [
        "\n",
        "# Más modelos\n",
        "\n",
        "El dataset cifar-10 es muy común para analizar el rendimiento de nuevos modelos. Se puede comprobar [la precisión de los nuevos modelos](https://benchmarks.ai/cifar-10).\n",
        "\n",
        "En PyTorch hay disponibles más [modelos](https://pytorch.org/vision/stable/models.html) para poder hacer pruebas.\n",
        "\n"
      ]
    },
    {
      "cell_type": "markdown",
      "metadata": {
        "id": "FsT3y1Rw-PVz"
      },
      "source": [
        "Se pueden comparar los modelos en función de su complejidad."
      ]
    },
    {
      "cell_type": "code",
      "metadata": {
        "colab": {
          "base_uri": "https://localhost:8080/"
        },
        "id": "9YGGaNR46ybY",
        "outputId": "aee5c17f-c310-4b28-bd36-29129e1017bb"
      },
      "source": [
        "import torchvision.models as models\n",
        "resnet18 = models.resnet18()\n",
        "alexnet = models.alexnet()\n",
        "vgg16 = models.vgg16()\n",
        "squeezenet = models.squeezenet1_0()\n",
        "densenet = models.densenet161()\n",
        "inception = models.inception_v3()\n",
        "googlenet = models.googlenet()\n",
        "shufflenet = models.shufflenet_v2_x1_0()\n",
        "mobilenet_v2 = models.mobilenet_v2()\n",
        "mobilenet_v3_large = models.mobilenet_v3_large()\n",
        "mobilenet_v3_small = models.mobilenet_v3_small()\n",
        "resnext50_32x4d = models.resnext50_32x4d()\n",
        "wide_resnet50_2 = models.wide_resnet50_2()\n",
        "mnasnet = models.mnasnet1_0()"
      ],
      "execution_count": 20,
      "outputs": [
        {
          "output_type": "stream",
          "text": [
            "/usr/local/lib/python3.7/dist-packages/torchvision/models/inception.py:82: FutureWarning: The default weight initialization of inception_v3 will be changed in future releases of torchvision. If you wish to keep the old behavior (which leads to long initialization times due to scipy/scipy#11299), please set init_weights=True.\n",
            "  ' due to scipy/scipy#11299), please set init_weights=True.', FutureWarning)\n",
            "/usr/local/lib/python3.7/dist-packages/torchvision/models/googlenet.py:79: FutureWarning: The default weight initialization of GoogleNet will be changed in future releases of torchvision. If you wish to keep the old behavior (which leads to long initialization times due to scipy/scipy#11299), please set init_weights=True.\n",
            "  ' due to scipy/scipy#11299), please set init_weights=True.', FutureWarning)\n"
          ],
          "name": "stderr"
        }
      ]
    },
    {
      "cell_type": "code",
      "metadata": {
        "colab": {
          "base_uri": "https://localhost:8080/"
        },
        "id": "-Ow33sZ17B3U",
        "outputId": "87a440f5-13b2-42f1-a5d0-aa817b050d4f"
      },
      "source": [
        "total_params = sum(p.numel() for p in vgg16.parameters())\n",
        "print(f'Total params: {total_params:,}');"
      ],
      "execution_count": 21,
      "outputs": [
        {
          "output_type": "stream",
          "text": [
            "Total params: 138,357,544\n"
          ],
          "name": "stdout"
        }
      ]
    },
    {
      "cell_type": "code",
      "metadata": {
        "colab": {
          "base_uri": "https://localhost:8080/",
          "height": 370
        },
        "id": "GKkAHyIZ7rUt",
        "outputId": "580d1351-34b8-43d5-cb26-1b111f78d503"
      },
      "source": [
        "m = []\n",
        "\n",
        "m.append(resnet18)\n",
        "m.append(alexnet)\n",
        "m.append(vgg16)\n",
        "m.append(squeezenet)\n",
        "m.append(densenet)\n",
        "m.append(inception)\n",
        "m.append(googlenet)\n",
        "m.append(shufflenet)\n",
        "m.append(mobilenet_v2)\n",
        "m.append(mobilenet_v3_large)\n",
        "m.append(mobilenet_v3_small)\n",
        "m.append(resnext50_32x4d)\n",
        "m.append(wide_resnet50_2)\n",
        "m.append(mnasnet)\n",
        "\n",
        "params = []\n",
        "for model in m:\n",
        "  params.append(sum(p.numel() for p in model.parameters()))\n",
        "\n",
        "tparams = torch.tensor(params)\n",
        "objects = ('resnet18', 'alexnet', 'vgg16', 'squeezenet', 'densenet', \n",
        "           'inception', 'googlenet', 'shufflenet', 'mobilenet_v2', 'mobilenet_v3_large', \n",
        "           'mobilenet_v3_small', 'resnext50_32x4d', 'wide_resnet50_2', 'mnasnet')\n",
        "pos = range(len(objects))\n",
        "\n",
        "y=plt.bar(pos, params, align='center', alpha=0.5)\n",
        "plt.xticks(pos, objects, rotation='vertical')\n",
        "plt.ylabel('Number of parameters')\n",
        "plt.title('Model complexity')\n",
        "\n",
        "plt.show()\n"
      ],
      "execution_count": 22,
      "outputs": [
        {
          "output_type": "display_data",
          "data": {
            "image/png": "[encoded data removed]",
            "text/plain": [
              "<Figure size 432x288 with 1 Axes>"
            ]
          },
          "metadata": {
            "tags": [],
            "needs_background": "light"
          }
        }
      ]
    }
  ]
}