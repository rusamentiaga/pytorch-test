{
  "nbformat": 4,
  "nbformat_minor": 0,
  "metadata": {
    "kernelspec": {
      "display_name": "Python 3",
      "language": "python",
      "name": "python3"
    },
    "language_info": {
      "codemirror_mode": {
        "name": "ipython",
        "version": 3
      },
      "file_extension": ".py",
      "mimetype": "text/x-python",
      "name": "python",
      "nbconvert_exporter": "python",
      "pygments_lexer": "ipython3",
      "version": "3.6.6"
    },
    "colab": {
      "name": "1_tensors.ipynb",
      "provenance": [],
      "toc_visible": true
    },
    "accelerator": "GPU"
  },
  "cells": [
    {
      "cell_type": "markdown",
      "metadata": {
        "id": "aY5-q3bYjtip"
      },
      "source": [
        "# Introdución a PyTorch\n",
        "\n",
        "PyTorch es una biblioteca de computación científica. Está desarrollada en C++ y Python, pero está diseñada para ser usada en Python.\n",
        "\n",
        "Fundamentalmente PyTorch se basa en dos pilares fundamentales:\n",
        "\n",
        "* Los tensores: una estructura de datos similar al array de NumPy.\n",
        "* El cálculo de derivadas automatizado. Este aspecto es fundamental para la optimiaación de modelos.\n",
        "\n"
      ]
    },
    {
      "cell_type": "markdown",
      "metadata": {
        "id": "KJcEGx5Rm2El"
      },
      "source": [
        "# Inicialización de PyTorch\n",
        "\n",
        "Para empezar es necesario importar el paquete. Luego se puede verificar qué versión está instalada"
      ]
    },
    {
      "cell_type": "code",
      "metadata": {
        "id": "i2vbKDstDAD9",
        "colab": {
          "base_uri": "https://localhost:8080/",
          "height": 36
        },
        "outputId": "786bc01b-1f3c-48e1-a1c7-48f99f79993c"
      },
      "source": [
        "import torch\n",
        "torch.version.__version__"
      ],
      "execution_count": 126,
      "outputs": [
        {
          "output_type": "execute_result",
          "data": {
            "application/vnd.google.colaboratory.intrinsic+json": {
              "type": "string"
            },
            "text/plain": [
              "'1.8.0+cu101'"
            ]
          },
          "metadata": {
            "tags": []
          },
          "execution_count": 126
        }
      ]
    },
    {
      "cell_type": "markdown",
      "metadata": {
        "id": "lspv9Ut-laWW"
      },
      "source": [
        "Pytorch permite la ejecución de la mayoría de las operaciones directamente sobre la GPU. Por tanto, es importante verificar si se dispone de soporte para la GPU. En caso de que no aparezca que Cuda está disponible se deberá cambiar el tipo del runtime del notebook."
      ]
    },
    {
      "cell_type": "code",
      "metadata": {
        "colab": {
          "base_uri": "https://localhost:8080/"
        },
        "id": "DHrZ7hrmRhlI",
        "outputId": "2768132a-0496-4dab-c70c-a02fa568d8b4"
      },
      "source": [
        "torch.cuda.is_available()"
      ],
      "execution_count": 127,
      "outputs": [
        {
          "output_type": "execute_result",
          "data": {
            "text/plain": [
              "True"
            ]
          },
          "metadata": {
            "tags": []
          },
          "execution_count": 127
        }
      ]
    },
    {
      "cell_type": "markdown",
      "metadata": {
        "id": "jvsfAHbEl0UP"
      },
      "source": [
        "Un tensor no es más que un conjunto de números organizados en varias dimensiones. Un tensor puede ser:\n",
        "\n",
        "* Un escalar: un único número.\n",
        "* Un array: una lista de números consecutivos que se pueden acceder mediante un índice que indica la posición que ocupan.\n",
        "* Una matriz. Lo mismo que antes pero en dos dimensiones.\n",
        "* Un array multidimensional. La extensión del caso anterior a n dimensiones."
      ]
    },
    {
      "cell_type": "markdown",
      "metadata": {
        "id": "JrGf0UTMs2aw"
      },
      "source": [
        "# Creación de un tensor\n",
        "\n"
      ]
    },
    {
      "cell_type": "markdown",
      "metadata": {
        "id": "tSqHoQrvrNRN"
      },
      "source": [
        "## Creación a partir de listas "
      ]
    },
    {
      "cell_type": "code",
      "metadata": {
        "colab": {
          "base_uri": "https://localhost:8080/"
        },
        "id": "QpQ095XAs1bA",
        "outputId": "d97fda0e-2702-4217-8f1e-1b2b335279c8"
      },
      "source": [
        "x = [1, 2, 3, 4, 5, 6]\n",
        "t = torch.tensor(x)\n",
        "type(t)"
      ],
      "execution_count": 128,
      "outputs": [
        {
          "output_type": "execute_result",
          "data": {
            "text/plain": [
              "torch.Tensor"
            ]
          },
          "metadata": {
            "tags": []
          },
          "execution_count": 128
        }
      ]
    },
    {
      "cell_type": "markdown",
      "metadata": {
        "id": "TfbiAVYMoF3v"
      },
      "source": [
        "También se puede hacer el proceso contrario."
      ]
    },
    {
      "cell_type": "code",
      "metadata": {
        "colab": {
          "base_uri": "https://localhost:8080/"
        },
        "id": "LW1RCOnDoFPo",
        "outputId": "6d4a1219-b015-4777-b252-b3c7647f0d56"
      },
      "source": [
        "x = t.tolist()\n",
        "type(x)"
      ],
      "execution_count": 129,
      "outputs": [
        {
          "output_type": "execute_result",
          "data": {
            "text/plain": [
              "list"
            ]
          },
          "metadata": {
            "tags": []
          },
          "execution_count": 129
        }
      ]
    },
    {
      "cell_type": "markdown",
      "metadata": {
        "id": "MeNmDmU40SL_"
      },
      "source": [
        "Un tensor puede contner un solo número. En ese caso se puede acceder de la siguiente forma."
      ]
    },
    {
      "cell_type": "code",
      "metadata": {
        "colab": {
          "base_uri": "https://localhost:8080/"
        },
        "id": "TM6qi7uW0ZBX",
        "outputId": "c59e9932-e79c-4076-bc88-7710a455a6d5"
      },
      "source": [
        "x = torch.tensor([10])\n",
        "x.item()"
      ],
      "execution_count": 130,
      "outputs": [
        {
          "output_type": "execute_result",
          "data": {
            "text/plain": [
              "10"
            ]
          },
          "metadata": {
            "tags": []
          },
          "execution_count": 130
        }
      ]
    },
    {
      "cell_type": "markdown",
      "metadata": {
        "id": "ZCQQQvK5oVIr"
      },
      "source": [
        "## Creación a partir de NumPy"
      ]
    },
    {
      "cell_type": "code",
      "metadata": {
        "colab": {
          "base_uri": "https://localhost:8080/"
        },
        "id": "8UH2fkIGo20W",
        "outputId": "1e288584-4545-4ffa-bce4-a6024c793d24"
      },
      "source": [
        "import numpy as np\n",
        "y = np.array([1,2,3,4,5])\n",
        "type(y)"
      ],
      "execution_count": 131,
      "outputs": [
        {
          "output_type": "execute_result",
          "data": {
            "text/plain": [
              "numpy.ndarray"
            ]
          },
          "metadata": {
            "tags": []
          },
          "execution_count": 131
        }
      ]
    },
    {
      "cell_type": "code",
      "metadata": {
        "colab": {
          "base_uri": "https://localhost:8080/"
        },
        "id": "bJmSvltzz4jK",
        "outputId": "de377011-025d-47b5-a2b8-9079481fe3af"
      },
      "source": [
        "t = torch.tensor(y)\n",
        "t"
      ],
      "execution_count": 132,
      "outputs": [
        {
          "output_type": "execute_result",
          "data": {
            "text/plain": [
              "tensor([1, 2, 3, 4, 5])"
            ]
          },
          "metadata": {
            "tags": []
          },
          "execution_count": 132
        }
      ]
    },
    {
      "cell_type": "markdown",
      "metadata": {
        "id": "-7EkPr3D0x6b"
      },
      "source": [
        "La creación de un tensor realiza una copia de los datos. También es posible realizar una creación sin copia."
      ]
    },
    {
      "cell_type": "code",
      "metadata": {
        "colab": {
          "base_uri": "https://localhost:8080/"
        },
        "id": "GVOaH9Z20sJr",
        "outputId": "c23d1d66-e749-406b-b1d4-93453b4d7bb4"
      },
      "source": [
        "t = torch.from_numpy(y)\n",
        "type(t)"
      ],
      "execution_count": 133,
      "outputs": [
        {
          "output_type": "execute_result",
          "data": {
            "text/plain": [
              "torch.Tensor"
            ]
          },
          "metadata": {
            "tags": []
          },
          "execution_count": 133
        }
      ]
    },
    {
      "cell_type": "markdown",
      "metadata": {
        "id": "-oLI3PYV1AUw"
      },
      "source": [
        "En este caso, la modificación de los datos originales también modifican el tensor."
      ]
    },
    {
      "cell_type": "code",
      "metadata": {
        "colab": {
          "base_uri": "https://localhost:8080/"
        },
        "id": "OdwEte3B09R4",
        "outputId": "da7059fd-865c-4f4e-8a46-2c766911c120"
      },
      "source": [
        "y[0]=100\n",
        "t"
      ],
      "execution_count": 134,
      "outputs": [
        {
          "output_type": "execute_result",
          "data": {
            "text/plain": [
              "tensor([100,   2,   3,   4,   5])"
            ]
          },
          "metadata": {
            "tags": []
          },
          "execution_count": 134
        }
      ]
    },
    {
      "cell_type": "markdown",
      "metadata": {
        "id": "8Io9AXBEpLSj"
      },
      "source": [
        "En dirección contraria también es posible."
      ]
    },
    {
      "cell_type": "code",
      "metadata": {
        "colab": {
          "base_uri": "https://localhost:8080/"
        },
        "id": "Fahxrz1bpJ3T",
        "outputId": "e09ef325-260b-4272-bab3-95f410a60cc5"
      },
      "source": [
        "y = t.numpy()\n",
        "type(y)"
      ],
      "execution_count": 135,
      "outputs": [
        {
          "output_type": "execute_result",
          "data": {
            "text/plain": [
              "numpy.ndarray"
            ]
          },
          "metadata": {
            "tags": []
          },
          "execution_count": 135
        }
      ]
    },
    {
      "cell_type": "markdown",
      "metadata": {
        "id": "5sSQvmh0pW54"
      },
      "source": [
        "## Creación directa"
      ]
    },
    {
      "cell_type": "markdown",
      "metadata": {
        "id": "f7dtWUxfpZmw"
      },
      "source": [
        "Existen además muchas maneras de crearlos directamene. A continuación de muestran alugunos ejemplo."
      ]
    },
    {
      "cell_type": "code",
      "metadata": {
        "colab": {
          "base_uri": "https://localhost:8080/"
        },
        "id": "eGBjbSaapvlU",
        "outputId": "14a0799a-0aed-4e0a-c96c-ed75aa522b55"
      },
      "source": [
        "a = torch.ones(5)\n",
        "print(f'{a}')\n",
        "print(f'Shape: {a.shape}')"
      ],
      "execution_count": 136,
      "outputs": [
        {
          "output_type": "stream",
          "text": [
            "tensor([1., 1., 1., 1., 1.])\n",
            "Shape: torch.Size([5])\n"
          ],
          "name": "stdout"
        }
      ]
    },
    {
      "cell_type": "code",
      "metadata": {
        "id": "nREPbtahDAEF",
        "colab": {
          "base_uri": "https://localhost:8080/"
        },
        "outputId": "f42d5985-805b-4380-ab69-943f7af03e5b"
      },
      "source": [
        "a = torch.ones(3,3)\n",
        "print(f'{a}')\n",
        "print(f'Shape: {a.shape}')"
      ],
      "execution_count": 137,
      "outputs": [
        {
          "output_type": "stream",
          "text": [
            "tensor([[1., 1., 1.],\n",
            "        [1., 1., 1.],\n",
            "        [1., 1., 1.]])\n",
            "Shape: torch.Size([3, 3])\n"
          ],
          "name": "stdout"
        }
      ]
    },
    {
      "cell_type": "code",
      "metadata": {
        "colab": {
          "base_uri": "https://localhost:8080/"
        },
        "id": "TwaCAYYVpqFu",
        "outputId": "15e4c8c4-94fb-4feb-cc25-6d80f6b48a16"
      },
      "source": [
        "a = torch.zeros(3,4,5)\n",
        "print(f'{a}')\n",
        "print(f'Shape: {a.shape}')"
      ],
      "execution_count": 138,
      "outputs": [
        {
          "output_type": "stream",
          "text": [
            "tensor([[[0., 0., 0., 0., 0.],\n",
            "         [0., 0., 0., 0., 0.],\n",
            "         [0., 0., 0., 0., 0.],\n",
            "         [0., 0., 0., 0., 0.]],\n",
            "\n",
            "        [[0., 0., 0., 0., 0.],\n",
            "         [0., 0., 0., 0., 0.],\n",
            "         [0., 0., 0., 0., 0.],\n",
            "         [0., 0., 0., 0., 0.]],\n",
            "\n",
            "        [[0., 0., 0., 0., 0.],\n",
            "         [0., 0., 0., 0., 0.],\n",
            "         [0., 0., 0., 0., 0.],\n",
            "         [0., 0., 0., 0., 0.]]])\n",
            "Shape: torch.Size([3, 4, 5])\n"
          ],
          "name": "stdout"
        }
      ]
    },
    {
      "cell_type": "code",
      "metadata": {
        "colab": {
          "base_uri": "https://localhost:8080/"
        },
        "id": "83Uaslsnq3N5",
        "outputId": "7d87916c-37a1-485a-9c71-9cb6e1fdfce6"
      },
      "source": [
        "a = torch.linspace(10,20,5)\n",
        "print(f'{a}')\n",
        "print(f'Shape: {a.shape}')"
      ],
      "execution_count": 139,
      "outputs": [
        {
          "output_type": "stream",
          "text": [
            "tensor([10.0000, 12.5000, 15.0000, 17.5000, 20.0000])\n",
            "Shape: torch.Size([5])\n"
          ],
          "name": "stdout"
        }
      ]
    },
    {
      "cell_type": "markdown",
      "metadata": {
        "id": "LGEgXBtArUx1"
      },
      "source": [
        "# Indexado"
      ]
    },
    {
      "cell_type": "markdown",
      "metadata": {
        "id": "4Ll18AUbte6X"
      },
      "source": [
        "La forma de acceder a los elementos de un tensor es igual que en NumPy. A continuacón se muestran unos ejemplo."
      ]
    },
    {
      "cell_type": "code",
      "metadata": {
        "colab": {
          "base_uri": "https://localhost:8080/"
        },
        "id": "riAityQjskuP",
        "outputId": "2d7260ea-3fc4-4142-d4c4-a833a074d625"
      },
      "source": [
        "t = torch.tensor([[1, 2, 3], [4, 5, 6]])\n",
        "t"
      ],
      "execution_count": 140,
      "outputs": [
        {
          "output_type": "execute_result",
          "data": {
            "text/plain": [
              "tensor([[1, 2, 3],\n",
              "        [4, 5, 6]])"
            ]
          },
          "metadata": {
            "tags": []
          },
          "execution_count": 140
        }
      ]
    },
    {
      "cell_type": "markdown",
      "metadata": {
        "id": "kpF9Us9WtrJr"
      },
      "source": [
        "El primer elemento."
      ]
    },
    {
      "cell_type": "code",
      "metadata": {
        "colab": {
          "base_uri": "https://localhost:8080/"
        },
        "id": "Lj4BHmrXs0a-",
        "outputId": "da842a87-967c-4d73-8b9a-fba2e1a9de7e"
      },
      "source": [
        "t[0,0]"
      ],
      "execution_count": 141,
      "outputs": [
        {
          "output_type": "execute_result",
          "data": {
            "text/plain": [
              "tensor(1)"
            ]
          },
          "metadata": {
            "tags": []
          },
          "execution_count": 141
        }
      ]
    },
    {
      "cell_type": "markdown",
      "metadata": {
        "id": "9RXPjAwYttKE"
      },
      "source": [
        "El último elemento."
      ]
    },
    {
      "cell_type": "code",
      "metadata": {
        "colab": {
          "base_uri": "https://localhost:8080/"
        },
        "id": "yVd-u8Pbs4hE",
        "outputId": "f0246e36-23fd-441f-d772-b50fd71b6a48"
      },
      "source": [
        "t[-1,-1]"
      ],
      "execution_count": 142,
      "outputs": [
        {
          "output_type": "execute_result",
          "data": {
            "text/plain": [
              "tensor(6)"
            ]
          },
          "metadata": {
            "tags": []
          },
          "execution_count": 142
        }
      ]
    },
    {
      "cell_type": "markdown",
      "metadata": {
        "id": "SY3x79kCtvFc"
      },
      "source": [
        "Todos los elementos de la primera file."
      ]
    },
    {
      "cell_type": "code",
      "metadata": {
        "colab": {
          "base_uri": "https://localhost:8080/"
        },
        "id": "7C2dLZC5s7B8",
        "outputId": "d51a71c9-70dc-4f3a-eb8f-adf65048d980"
      },
      "source": [
        "t[0,:]"
      ],
      "execution_count": 143,
      "outputs": [
        {
          "output_type": "execute_result",
          "data": {
            "text/plain": [
              "tensor([1, 2, 3])"
            ]
          },
          "metadata": {
            "tags": []
          },
          "execution_count": 143
        }
      ]
    },
    {
      "cell_type": "markdown",
      "metadata": {
        "id": "zG8pjwKntzRS"
      },
      "source": [
        "Todos los elementos de la primera columna."
      ]
    },
    {
      "cell_type": "code",
      "metadata": {
        "colab": {
          "base_uri": "https://localhost:8080/"
        },
        "id": "xA45AUWBs-61",
        "outputId": "77c98a0b-e8c7-403f-f000-60b0fb9fc6c3"
      },
      "source": [
        "t[:,0]"
      ],
      "execution_count": 144,
      "outputs": [
        {
          "output_type": "execute_result",
          "data": {
            "text/plain": [
              "tensor([1, 4])"
            ]
          },
          "metadata": {
            "tags": []
          },
          "execution_count": 144
        }
      ]
    },
    {
      "cell_type": "markdown",
      "metadata": {
        "id": "ME63XtLat5fh"
      },
      "source": [
        "Elementos de todas las filas y de las dos primeras columnas."
      ]
    },
    {
      "cell_type": "code",
      "metadata": {
        "colab": {
          "base_uri": "https://localhost:8080/"
        },
        "id": "xwI1vC5GtTD4",
        "outputId": "38828601-7388-4c31-9d54-05caf84403e7"
      },
      "source": [
        "t[:,0:2]"
      ],
      "execution_count": 145,
      "outputs": [
        {
          "output_type": "execute_result",
          "data": {
            "text/plain": [
              "tensor([[1, 2],\n",
              "        [4, 5]])"
            ]
          },
          "metadata": {
            "tags": []
          },
          "execution_count": 145
        }
      ]
    },
    {
      "cell_type": "markdown",
      "metadata": {
        "id": "BTwYd9HJrZG8"
      },
      "source": [
        "# Tipos de datos"
      ]
    },
    {
      "cell_type": "markdown",
      "metadata": {
        "id": "mNK71fTtuCxw"
      },
      "source": [
        "Generalmente un tensor contiene datos reales. En concreto números reales representados en coma flotante con 32 bits. Sin embargo, existe la posibilidad de usar otro tipo de datos."
      ]
    },
    {
      "cell_type": "code",
      "metadata": {
        "colab": {
          "base_uri": "https://localhost:8080/"
        },
        "id": "7mRhgP73uQoh",
        "outputId": "f2cbc522-549c-4cd9-e571-dd63fa1f58ea"
      },
      "source": [
        "t = torch.rand(2,3)\n",
        "t"
      ],
      "execution_count": 146,
      "outputs": [
        {
          "output_type": "execute_result",
          "data": {
            "text/plain": [
              "tensor([[0.5416, 0.4163, 0.3884],\n",
              "        [0.6107, 0.9766, 0.2921]])"
            ]
          },
          "metadata": {
            "tags": []
          },
          "execution_count": 146
        }
      ]
    },
    {
      "cell_type": "code",
      "metadata": {
        "colab": {
          "base_uri": "https://localhost:8080/"
        },
        "id": "uTpTun_Ou2Vp",
        "outputId": "fe45427c-d09d-4336-f5d7-6abd22b845c0"
      },
      "source": [
        "t.dtype"
      ],
      "execution_count": 147,
      "outputs": [
        {
          "output_type": "execute_result",
          "data": {
            "text/plain": [
              "torch.float32"
            ]
          },
          "metadata": {
            "tags": []
          },
          "execution_count": 147
        }
      ]
    },
    {
      "cell_type": "markdown",
      "metadata": {
        "id": "Yd9FyLPRv1D-"
      },
      "source": [
        "Cuando se crea se puede especificar el tipo:\n"
      ]
    },
    {
      "cell_type": "code",
      "metadata": {
        "colab": {
          "base_uri": "https://localhost:8080/"
        },
        "id": "22nFog-qvffL",
        "outputId": "e467d933-b5f2-4e1b-c079-710650fecb13"
      },
      "source": [
        "t = torch.ones(10, 2, dtype=torch.int8)\n",
        "t"
      ],
      "execution_count": 148,
      "outputs": [
        {
          "output_type": "execute_result",
          "data": {
            "text/plain": [
              "tensor([[1, 1],\n",
              "        [1, 1],\n",
              "        [1, 1],\n",
              "        [1, 1],\n",
              "        [1, 1],\n",
              "        [1, 1],\n",
              "        [1, 1],\n",
              "        [1, 1],\n",
              "        [1, 1],\n",
              "        [1, 1]], dtype=torch.int8)"
            ]
          },
          "metadata": {
            "tags": []
          },
          "execution_count": 148
        }
      ]
    },
    {
      "cell_type": "code",
      "metadata": {
        "colab": {
          "base_uri": "https://localhost:8080/"
        },
        "id": "P4VYbbpzvyQN",
        "outputId": "839bc3aa-521c-46ff-8533-969891ecfa75"
      },
      "source": [
        "t.dtype"
      ],
      "execution_count": 149,
      "outputs": [
        {
          "output_type": "execute_result",
          "data": {
            "text/plain": [
              "torch.int8"
            ]
          },
          "metadata": {
            "tags": []
          },
          "execution_count": 149
        }
      ]
    },
    {
      "cell_type": "markdown",
      "metadata": {
        "id": "sa00CKJXwSlB"
      },
      "source": [
        "Como se puede observar en la [documentación](https://pytorch.org/docs/stable/tensors.html) hay muchos tipos de datos disponibles"
      ]
    },
    {
      "cell_type": "markdown",
      "metadata": {
        "id": "XM94u_gCrrFJ"
      },
      "source": [
        "# Operaciones con tensores"
      ]
    },
    {
      "cell_type": "markdown",
      "metadata": {
        "id": "qHjBrtMMwpI9"
      },
      "source": [
        "En PyTorch se puede realizar una gran cantidad de operaciones con los tensores. A continuación se muestran algunos ejemplos."
      ]
    },
    {
      "cell_type": "code",
      "metadata": {
        "colab": {
          "base_uri": "https://localhost:8080/"
        },
        "id": "UC3KGY2rwmiG",
        "outputId": "2dbbfff3-cd8c-497d-b5c7-ce8dd634a65a"
      },
      "source": [
        "t = torch.rand(10)\n",
        "t"
      ],
      "execution_count": 150,
      "outputs": [
        {
          "output_type": "execute_result",
          "data": {
            "text/plain": [
              "tensor([0.8566, 0.1504, 0.1294, 0.3061, 0.2601, 0.0952, 0.5310, 0.6571, 0.7005,\n",
              "        0.8668])"
            ]
          },
          "metadata": {
            "tags": []
          },
          "execution_count": 150
        }
      ]
    },
    {
      "cell_type": "markdown",
      "metadata": {
        "id": "zcEXV4N7w9EF"
      },
      "source": [
        "Cálculo del seno para cada elemento."
      ]
    },
    {
      "cell_type": "code",
      "metadata": {
        "colab": {
          "base_uri": "https://localhost:8080/"
        },
        "id": "nzUByE9yw5Uj",
        "outputId": "d5c54457-28c0-4c16-dbde-975908fcd6f3"
      },
      "source": [
        "torch.sin(t)"
      ],
      "execution_count": 151,
      "outputs": [
        {
          "output_type": "execute_result",
          "data": {
            "text/plain": [
              "tensor([0.7556, 0.1499, 0.1290, 0.3014, 0.2572, 0.0951, 0.5064, 0.6108, 0.6446,\n",
              "        0.7622])"
            ]
          },
          "metadata": {
            "tags": []
          },
          "execution_count": 151
        }
      ]
    },
    {
      "cell_type": "markdown",
      "metadata": {
        "id": "jsQ7dxZ9xZc1"
      },
      "source": [
        "Sería equivalente a realizar"
      ]
    },
    {
      "cell_type": "code",
      "metadata": {
        "colab": {
          "base_uri": "https://localhost:8080/"
        },
        "id": "Gstj05ApxRdT",
        "outputId": "13f62c6c-b123-4523-bd5a-a8c4fc888289"
      },
      "source": [
        "t.sin()"
      ],
      "execution_count": 152,
      "outputs": [
        {
          "output_type": "execute_result",
          "data": {
            "text/plain": [
              "tensor([0.7556, 0.1499, 0.1290, 0.3014, 0.2572, 0.0951, 0.5064, 0.6108, 0.6446,\n",
              "        0.7622])"
            ]
          },
          "metadata": {
            "tags": []
          },
          "execution_count": 152
        }
      ]
    },
    {
      "cell_type": "markdown",
      "metadata": {
        "id": "xs3ocq7_xl3F"
      },
      "source": [
        "De forma general las operaciones se pueden dividir en grupos:\n",
        "\n",
        "\n",
        "*   Creación\n",
        "*   Indexado\n",
        "* Operaciones matemáticas\n",
        "  *   Aplicadas a cada elemento (sin)\n",
        "  *   De reducción (mean)\n",
        "  *   Entre tensores\n",
        "* Muestreo\n",
        "* Serialización\n",
        "* Paralelismo\n",
        "\n"
      ]
    },
    {
      "cell_type": "markdown",
      "metadata": {
        "id": "34F30zyTy16H"
      },
      "source": [
        ""
      ]
    },
    {
      "cell_type": "code",
      "metadata": {
        "colab": {
          "base_uri": "https://localhost:8080/"
        },
        "id": "SayhWuhszATM",
        "outputId": "161456e1-0c44-41c6-fad7-1a54151aa2a1"
      },
      "source": [
        "t1 = torch.ones(2,2)\n",
        "t2 = torch.ones(2,2)\n",
        "t2 = t2*10\n",
        "t1 + t2"
      ],
      "execution_count": 153,
      "outputs": [
        {
          "output_type": "execute_result",
          "data": {
            "text/plain": [
              "tensor([[11., 11.],\n",
              "        [11., 11.]])"
            ]
          },
          "metadata": {
            "tags": []
          },
          "execution_count": 153
        }
      ]
    },
    {
      "cell_type": "markdown",
      "metadata": {
        "id": "gb6bg9PrzRcK"
      },
      "source": [
        "Que sería equivalente a"
      ]
    },
    {
      "cell_type": "code",
      "metadata": {
        "colab": {
          "base_uri": "https://localhost:8080/"
        },
        "id": "aORCNlVOzOUK",
        "outputId": "5d71e94e-18e0-431e-8419-12b39ee01b99"
      },
      "source": [
        "torch.add(t1, t2)"
      ],
      "execution_count": 154,
      "outputs": [
        {
          "output_type": "execute_result",
          "data": {
            "text/plain": [
              "tensor([[11., 11.],\n",
              "        [11., 11.]])"
            ]
          },
          "metadata": {
            "tags": []
          },
          "execution_count": 154
        }
      ]
    },
    {
      "cell_type": "markdown",
      "metadata": {
        "id": "XIMaC_Xvr9Dn"
      },
      "source": [
        "# Moviendo tensores a la GPU"
      ]
    },
    {
      "cell_type": "markdown",
      "metadata": {
        "id": "WlmG6nNvzWMa"
      },
      "source": [
        "Por defecto un tensor se almacena en la memoria principal y sus operaciones las realiza la CPU. Sin embargo, se pueden transferir a la GPU para que sus operaciones se realicen más rápido."
      ]
    },
    {
      "cell_type": "code",
      "metadata": {
        "colab": {
          "base_uri": "https://localhost:8080/"
        },
        "id": "4w_gJWUBzx99",
        "outputId": "6d1c7a0a-c687-4c91-8ad2-7fbf6a096a85"
      },
      "source": [
        "t = torch.tensor([1,2,3])\n",
        "t.device"
      ],
      "execution_count": 155,
      "outputs": [
        {
          "output_type": "execute_result",
          "data": {
            "text/plain": [
              "device(type='cpu')"
            ]
          },
          "metadata": {
            "tags": []
          },
          "execution_count": 155
        }
      ]
    },
    {
      "cell_type": "code",
      "metadata": {
        "colab": {
          "base_uri": "https://localhost:8080/"
        },
        "id": "xDq-MuVb1Wdl",
        "outputId": "bdc5881b-e799-437b-931b-82e855f34a67"
      },
      "source": [
        "t = t.to(device='cuda')\n",
        "t"
      ],
      "execution_count": 156,
      "outputs": [
        {
          "output_type": "execute_result",
          "data": {
            "text/plain": [
              "tensor([1, 2, 3], device='cuda:0')"
            ]
          },
          "metadata": {
            "tags": []
          },
          "execution_count": 156
        }
      ]
    },
    {
      "cell_type": "markdown",
      "metadata": {
        "id": "GUjM42uR1rYB"
      },
      "source": [
        "La forma de realizar las operaciones es transparente."
      ]
    },
    {
      "cell_type": "code",
      "metadata": {
        "colab": {
          "base_uri": "https://localhost:8080/"
        },
        "id": "FtoYVPLW1oTb",
        "outputId": "b7dfaa9b-e6aa-406a-b026-ea345bac9cfd"
      },
      "source": [
        "torch.sin(t)"
      ],
      "execution_count": 157,
      "outputs": [
        {
          "output_type": "execute_result",
          "data": {
            "text/plain": [
              "tensor([0.8415, 0.9093, 0.1411], device='cuda:0')"
            ]
          },
          "metadata": {
            "tags": []
          },
          "execution_count": 157
        }
      ]
    },
    {
      "cell_type": "markdown",
      "metadata": {
        "id": "0SWKLHbw1x8o"
      },
      "source": [
        "El tensor se puede mover a la CPU."
      ]
    },
    {
      "cell_type": "code",
      "metadata": {
        "colab": {
          "base_uri": "https://localhost:8080/"
        },
        "id": "HuceKxq51xiI",
        "outputId": "3596d125-0c03-4a57-c65b-e545675f99d4"
      },
      "source": [
        "t = t.to(device='cpu')\n",
        "t"
      ],
      "execution_count": 158,
      "outputs": [
        {
          "output_type": "execute_result",
          "data": {
            "text/plain": [
              "tensor([1, 2, 3])"
            ]
          },
          "metadata": {
            "tags": []
          },
          "execution_count": 158
        }
      ]
    },
    {
      "cell_type": "markdown",
      "metadata": {
        "id": "G-SokuK916fG"
      },
      "source": [
        "La única restricción que existe es que los tensores con los que se operan deben estar en el mismo dispositivo."
      ]
    },
    {
      "cell_type": "code",
      "metadata": {
        "colab": {
          "base_uri": "https://localhost:8080/"
        },
        "id": "-1WvbMyZ2DCV",
        "outputId": "ec4d7b7b-62d3-4f61-f5e5-8bb2ad20336e"
      },
      "source": [
        "t1 = torch.tensor([1,1,1], device='cuda')\n",
        "t2 = torch.tensor([2,2,2], device='cuda')\n",
        "t1 + t2"
      ],
      "execution_count": 159,
      "outputs": [
        {
          "output_type": "execute_result",
          "data": {
            "text/plain": [
              "tensor([3, 3, 3], device='cuda:0')"
            ]
          },
          "metadata": {
            "tags": []
          },
          "execution_count": 159
        }
      ]
    },
    {
      "cell_type": "code",
      "metadata": {
        "id": "Vrc7seKW2LPL"
      },
      "source": [
        "t3 = torch.tensor([3,3,3])\n",
        "# esta operación genera error\n",
        "# t2 + t3"
      ],
      "execution_count": 160,
      "outputs": []
    },
    {
      "cell_type": "markdown",
      "metadata": {
        "id": "sRLL-Qf6sOE8"
      },
      "source": [
        "# Serialización"
      ]
    },
    {
      "cell_type": "markdown",
      "metadata": {
        "id": "_F50D1K12bqx"
      },
      "source": [
        "Un tensor se puede guardar en disco para luego recuperar su valor."
      ]
    },
    {
      "cell_type": "code",
      "metadata": {
        "colab": {
          "base_uri": "https://localhost:8080/"
        },
        "id": "Fze_n5wU2gbQ",
        "outputId": "4284ad9d-c668-4c0f-f152-028f2b743770"
      },
      "source": [
        "t = torch.rand(4,4)\n",
        "t"
      ],
      "execution_count": 161,
      "outputs": [
        {
          "output_type": "execute_result",
          "data": {
            "text/plain": [
              "tensor([[0.9461, 0.1801, 0.1120, 0.2694],\n",
              "        [0.3877, 0.7532, 0.4498, 0.2154],\n",
              "        [0.8608, 0.8723, 0.7407, 0.8202],\n",
              "        [0.1026, 0.0345, 0.5671, 0.8251]])"
            ]
          },
          "metadata": {
            "tags": []
          },
          "execution_count": 161
        }
      ]
    },
    {
      "cell_type": "code",
      "metadata": {
        "id": "AzAwqKRa2lVQ"
      },
      "source": [
        "t[0,0] = -999\n",
        "torch.save(t, 't.pt')"
      ],
      "execution_count": 162,
      "outputs": []
    },
    {
      "cell_type": "code",
      "metadata": {
        "colab": {
          "base_uri": "https://localhost:8080/"
        },
        "id": "yv7iN2PJ3Ccq",
        "outputId": "144459b8-841a-4f08-b36e-1aa1c205beff"
      },
      "source": [
        "!ls *.pt"
      ],
      "execution_count": 163,
      "outputs": [
        {
          "output_type": "stream",
          "text": [
            "t.pt\n"
          ],
          "name": "stdout"
        }
      ]
    },
    {
      "cell_type": "code",
      "metadata": {
        "colab": {
          "base_uri": "https://localhost:8080/"
        },
        "id": "K03FUdD-3Iaj",
        "outputId": "60a25fb4-552a-45b3-c004-6d75b258416e"
      },
      "source": [
        "t2 = torch.load('t.pt')\n",
        "t2"
      ],
      "execution_count": 164,
      "outputs": [
        {
          "output_type": "execute_result",
          "data": {
            "text/plain": [
              "tensor([[-9.9900e+02,  1.8014e-01,  1.1198e-01,  2.6939e-01],\n",
              "        [ 3.8770e-01,  7.5325e-01,  4.4981e-01,  2.1542e-01],\n",
              "        [ 8.6077e-01,  8.7235e-01,  7.4067e-01,  8.2016e-01],\n",
              "        [ 1.0263e-01,  3.4521e-02,  5.6707e-01,  8.2506e-01]])"
            ]
          },
          "metadata": {
            "tags": []
          },
          "execution_count": 164
        }
      ]
    },
    {
      "cell_type": "markdown",
      "metadata": {
        "id": "x3DcPIoPsXlq"
      },
      "source": [
        "# Representación gráfica"
      ]
    },
    {
      "cell_type": "markdown",
      "metadata": {
        "id": "NWJSr8XZ3UPJ"
      },
      "source": [
        "El contenido de un tensor se puede representar gráficamente de forma directa."
      ]
    },
    {
      "cell_type": "code",
      "metadata": {
        "colab": {
          "base_uri": "https://localhost:8080/",
          "height": 283
        },
        "id": "snUr7KYF3Yx4",
        "outputId": "2aa6a63b-4a55-4105-8d19-3b2daabd02e1"
      },
      "source": [
        "import matplotlib.pyplot as plt\n",
        "import math\n",
        "x = torch.linspace(-4*math.pi, 4*math.pi, 100)\n",
        "y = torch.sin(x)\n",
        "plt.plot(x,y)"
      ],
      "execution_count": 165,
      "outputs": [
        {
          "output_type": "execute_result",
          "data": {
            "text/plain": [
              "[<matplotlib.lines.Line2D at 0x7fca70d24e50>]"
            ]
          },
          "metadata": {
            "tags": []
          },
          "execution_count": 165
        },
        {
          "output_type": "display_data",
          "data": {
            "image/png": "[encoded data removed]",
            "text/plain": [
              "<Figure size 432x288 with 1 Axes>"
            ]
          },
          "metadata": {
            "tags": [],
            "needs_background": "light"
          }
        }
      ]
    },
    {
      "cell_type": "markdown",
      "metadata": {
        "id": "Bn4U2dhX7SPX"
      },
      "source": [
        "Otro ejemplo."
      ]
    },
    {
      "cell_type": "code",
      "metadata": {
        "colab": {
          "base_uri": "https://localhost:8080/",
          "height": 283
        },
        "id": "KP_XhOEG7UCe",
        "outputId": "b82600ad-3d71-4f8b-bada-538ea2ca0a34"
      },
      "source": [
        "x = torch.tensor(range(100))\n",
        "y = 3*x + 14\n",
        "y = y + 100*(torch.rand(x.shape[0]) - 0.5)\n",
        "plt.plot(x,y)"
      ],
      "execution_count": 199,
      "outputs": [
        {
          "output_type": "execute_result",
          "data": {
            "text/plain": [
              "[<matplotlib.lines.Line2D at 0x7fca26752c90>]"
            ]
          },
          "metadata": {
            "tags": []
          },
          "execution_count": 199
        },
        {
          "output_type": "display_data",
          "data": {
            "image/png": "[encoded data removed]",
            "text/plain": [
              "<Figure size 432x288 with 1 Axes>"
            ]
          },
          "metadata": {
            "tags": [],
            "needs_background": "light"
          }
        }
      ]
    },
    {
      "cell_type": "markdown",
      "metadata": {
        "id": "iYWtE22T6pN-"
      },
      "source": [
        "También se pueden visualizar matrices como imágenes."
      ]
    },
    {
      "cell_type": "code",
      "metadata": {
        "colab": {
          "base_uri": "https://localhost:8080/",
          "height": 286
        },
        "id": "iwAMNuHG6nw_",
        "outputId": "607a29f9-480d-40bd-db72-fc14dd59c7b5"
      },
      "source": [
        "img = torch.rand(100,100)\n",
        "plt.imshow(img)\n",
        "plt.colorbar()"
      ],
      "execution_count": 192,
      "outputs": [
        {
          "output_type": "execute_result",
          "data": {
            "text/plain": [
              "<matplotlib.colorbar.Colorbar at 0x7fca70278dd0>"
            ]
          },
          "metadata": {
            "tags": []
          },
          "execution_count": 192
        },
        {
          "output_type": "display_data",
          "data": {
            "image/png": "[encoded data removed]",
            "text/plain": [
              "<Figure size 432x288 with 2 Axes>"
            ]
          },
          "metadata": {
            "tags": [],
            "needs_background": "light"
          }
        }
      ]
    },
    {
      "cell_type": "code",
      "metadata": {
        "colab": {
          "base_uri": "https://localhost:8080/",
          "height": 286
        },
        "id": "vKvuz2OE7FAh",
        "outputId": "91118cb2-da37-48a9-b6cb-2c9a0671a51c"
      },
      "source": [
        "img[10:20,:]=0\n",
        "plt.imshow(img)"
      ],
      "execution_count": 193,
      "outputs": [
        {
          "output_type": "execute_result",
          "data": {
            "text/plain": [
              "<matplotlib.image.AxesImage at 0x7fca701f36d0>"
            ]
          },
          "metadata": {
            "tags": []
          },
          "execution_count": 193
        },
        {
          "output_type": "display_data",
          "data": {
            "image/png": "[encoded data removed]",
            "text/plain": [
              "<Figure size 432x288 with 1 Axes>"
            ]
          },
          "metadata": {
            "tags": [],
            "needs_background": "light"
          }
        }
      ]
    },
    {
      "cell_type": "markdown",
      "metadata": {
        "id": "MS4sNk0a4aLu"
      },
      "source": [
        "# Operaciones en CPU vs GPU"
      ]
    },
    {
      "cell_type": "markdown",
      "metadata": {
        "id": "TBADhtjI4efk"
      },
      "source": [
        "Para entender la necesidad de Pytorch para añadir una nueva estructura de datos se va a realizar una comparación entre las operaciones realizadas por la CPU y por la GPU. "
      ]
    },
    {
      "cell_type": "markdown",
      "metadata": {
        "id": "HNqEluhO42OZ"
      },
      "source": [
        "Se declaran dos matrices y se multiplica (operador @), tanto en la CPU como en la GPU."
      ]
    },
    {
      "cell_type": "code",
      "metadata": {
        "id": "aTwdMP24ToNT"
      },
      "source": [
        "a = torch.rand(5, 5)\n",
        "b = torch.rand(5, 5)\n",
        "r_cpu = a @ b\n",
        "a = a.to('cuda')\n",
        "b = b.to('cuda')\n",
        "r_gpu = a @ b"
      ],
      "execution_count": 166,
      "outputs": []
    },
    {
      "cell_type": "markdown",
      "metadata": {
        "id": "V4ddibAc49T-"
      },
      "source": [
        "La diferencia es despreciable."
      ]
    },
    {
      "cell_type": "code",
      "metadata": {
        "colab": {
          "base_uri": "https://localhost:8080/"
        },
        "id": "crCev2_VT2ZN",
        "outputId": "af7fd2d6-6691-4d5c-f35c-7220e7c5f994"
      },
      "source": [
        "dif = r_cpu - r_gpu.to('cpu')\n",
        "dif.sum()"
      ],
      "execution_count": 167,
      "outputs": [
        {
          "output_type": "execute_result",
          "data": {
            "text/plain": [
              "tensor(-1.1921e-07)"
            ]
          },
          "metadata": {
            "tags": []
          },
          "execution_count": 167
        }
      ]
    },
    {
      "cell_type": "markdown",
      "metadata": {
        "id": "kf3dSHwq5C5u"
      },
      "source": [
        "Ahora se crean dos matrices de tamaño K. En este caso de 3000."
      ]
    },
    {
      "cell_type": "code",
      "metadata": {
        "id": "CWuAP0kBHYFW"
      },
      "source": [
        "K = 3000;\n",
        "m1 = torch.rand(K, K)\n",
        "m2 = torch.rand(K, K)"
      ],
      "execution_count": 168,
      "outputs": []
    },
    {
      "cell_type": "markdown",
      "metadata": {
        "id": "S3hlUXSx5Km0"
      },
      "source": [
        "Se mide cuanto tiempo se tarda en ejecutar la multiplicación."
      ]
    },
    {
      "cell_type": "code",
      "metadata": {
        "colab": {
          "base_uri": "https://localhost:8080/"
        },
        "id": "Cu27Gg6HHe4b",
        "outputId": "3a53c0f3-9441-47ec-caa5-d5d12edaa8c3"
      },
      "source": [
        "%timeit -n1 -o m1 @ m2"
      ],
      "execution_count": 169,
      "outputs": [
        {
          "output_type": "stream",
          "text": [
            "1 loop, best of 5: 606 ms per loop\n"
          ],
          "name": "stdout"
        },
        {
          "output_type": "execute_result",
          "data": {
            "text/plain": [
              "<TimeitResult : 1 loop, best of 5: 606 ms per loop>"
            ]
          },
          "metadata": {
            "tags": []
          },
          "execution_count": 169
        }
      ]
    },
    {
      "cell_type": "markdown",
      "metadata": {
        "id": "ZAfSv7Im5PkE"
      },
      "source": [
        "Se guarda en una variable."
      ]
    },
    {
      "cell_type": "code",
      "metadata": {
        "colab": {
          "base_uri": "https://localhost:8080/"
        },
        "id": "MfuqYDy5KfgB",
        "outputId": "92263da4-7cc5-4327-ca99-352c1f37f1a2"
      },
      "source": [
        "cpu_time = _\n",
        "cpu_time.all_runs"
      ],
      "execution_count": 170,
      "outputs": [
        {
          "output_type": "execute_result",
          "data": {
            "text/plain": [
              "[0.708844281999518,\n",
              " 0.6313305550002042,\n",
              " 0.6326349670007403,\n",
              " 0.6064583319994199,\n",
              " 0.6284858019998865]"
            ]
          },
          "metadata": {
            "tags": []
          },
          "execution_count": 170
        }
      ]
    },
    {
      "cell_type": "markdown",
      "metadata": {
        "id": "0VokQlXd5R0T"
      },
      "source": [
        "Ahora se realiza el mismo proceso en la GPU."
      ]
    },
    {
      "cell_type": "code",
      "metadata": {
        "id": "OogfuEfSHvpa"
      },
      "source": [
        "m1 = torch.rand(K, K)\n",
        "m2 = torch.rand(K, K)\n",
        "m1 = m1.to('cuda')\n",
        "m2 = m2.to('cuda')"
      ],
      "execution_count": 171,
      "outputs": []
    },
    {
      "cell_type": "code",
      "metadata": {
        "colab": {
          "base_uri": "https://localhost:8080/"
        },
        "id": "kzXVlHntHz9K",
        "outputId": "68bfd082-909c-4a49-e49c-e75ac1ca60ef"
      },
      "source": [
        "%timeit -n1 -o m1 @ m2"
      ],
      "execution_count": 172,
      "outputs": [
        {
          "output_type": "stream",
          "text": [
            "The slowest run took 35.08 times longer than the fastest. This could mean that an intermediate result is being cached.\n",
            "1 loop, best of 5: 12.9 µs per loop\n"
          ],
          "name": "stdout"
        },
        {
          "output_type": "execute_result",
          "data": {
            "text/plain": [
              "<TimeitResult : 1 loop, best of 5: 12.9 µs per loop>"
            ]
          },
          "metadata": {
            "tags": []
          },
          "execution_count": 172
        }
      ]
    },
    {
      "cell_type": "code",
      "metadata": {
        "id": "LK0aw_E9MZkA"
      },
      "source": [
        "gpu_time = _"
      ],
      "execution_count": 173,
      "outputs": []
    },
    {
      "cell_type": "markdown",
      "metadata": {
        "id": "fQCsH61y5ari"
      },
      "source": [
        "Se guarda el peor tiempo para evitar problemas de cacheos."
      ]
    },
    {
      "cell_type": "code",
      "metadata": {
        "id": "N4b9tEEmJvVK"
      },
      "source": [
        "cpu_time_tensor = torch.tensor(cpu_time.all_runs)\n",
        "cpu_time_max = cpu_time_tensor.max()\n",
        "gpu_time_tensor = torch.tensor(gpu_time.all_runs)\n",
        "gpu_time_max = gpu_time_tensor.max()"
      ],
      "execution_count": 200,
      "outputs": []
    },
    {
      "cell_type": "markdown",
      "metadata": {
        "id": "nIz24AqS5g9J"
      },
      "source": [
        "Se representa gráficamente."
      ]
    },
    {
      "cell_type": "code",
      "metadata": {
        "colab": {
          "base_uri": "https://localhost:8080/",
          "height": 318
        },
        "id": "VOMl_7T3OUU2",
        "outputId": "3ac6b447-0495-40d9-f502-09b70f183130"
      },
      "source": [
        "import matplotlib.pyplot as plt\n",
        "objects = ('CPU', 'GPU')\n",
        "pos = range(len(objects))\n",
        "performance = [cpu_time_max,gpu_time_max]\n",
        "\n",
        "y=plt.bar(pos, performance, align='center', alpha=0.5)\n",
        "plt.xticks(pos, objects)\n",
        "plt.ylabel('Time (s)')\n",
        "plt.title('Matrix multiplication performance')\n",
        "\n",
        "plt.show()\n",
        "\n",
        "print(f\"CPU: {cpu_time_max} seconds\")\n",
        "print(f\"GPU: {gpu_time_max} seconds\")"
      ],
      "execution_count": 175,
      "outputs": [
        {
          "output_type": "display_data",
          "data": {
            "image/png": "[encoded data removed]",
            "text/plain": [
              "<Figure size 432x288 with 1 Axes>"
            ]
          },
          "metadata": {
            "tags": [],
            "needs_background": "light"
          }
        },
        {
          "output_type": "stream",
          "text": [
            "CPU: 0.7088443040847778 seconds\n",
            "GPU: 0.00045234899153001606 seconds\n"
          ],
          "name": "stdout"
        }
      ]
    },
    {
      "cell_type": "markdown",
      "metadata": {
        "id": "U56X3vzs54RV"
      },
      "source": [
        "# Operaciones en NumPy vs PyTorch"
      ]
    },
    {
      "cell_type": "markdown",
      "metadata": {
        "id": "v9hgq7qF5_I0"
      },
      "source": [
        "Ahora se van a comparar los tiempos respecto a NumPy."
      ]
    },
    {
      "cell_type": "code",
      "metadata": {
        "id": "W_P1Q3TCTRod"
      },
      "source": [
        "import numpy as np\n",
        "rg = np.random.default_rng(1)\n",
        "m3 = rg.random((K,K))\n",
        "m4 = rg.random((K,K))\n"
      ],
      "execution_count": 176,
      "outputs": []
    },
    {
      "cell_type": "code",
      "metadata": {
        "colab": {
          "base_uri": "https://localhost:8080/"
        },
        "id": "Ve8kNnqKX0J1",
        "outputId": "f58d9f63-8403-42b6-ada8-cec17ebf7fb1"
      },
      "source": [
        "%timeit -n1 -o m3 @ m4"
      ],
      "execution_count": 177,
      "outputs": [
        {
          "output_type": "stream",
          "text": [
            "1 loop, best of 5: 1.26 s per loop\n"
          ],
          "name": "stdout"
        },
        {
          "output_type": "execute_result",
          "data": {
            "text/plain": [
              "<TimeitResult : 1 loop, best of 5: 1.26 s per loop>"
            ]
          },
          "metadata": {
            "tags": []
          },
          "execution_count": 177
        }
      ]
    },
    {
      "cell_type": "code",
      "metadata": {
        "id": "Bl0Jz-6iX5tS"
      },
      "source": [
        "np_time = _"
      ],
      "execution_count": 178,
      "outputs": []
    },
    {
      "cell_type": "code",
      "metadata": {
        "colab": {
          "base_uri": "https://localhost:8080/"
        },
        "id": "xxbS3wn-YPfY",
        "outputId": "7470a0e0-0dba-4370-cc9b-d8eb8b9ed56b"
      },
      "source": [
        "np_time_tensor = torch.tensor(np_time.all_runs)\n",
        "np_time_max = np_time_tensor.max()\n",
        "np_time_max"
      ],
      "execution_count": 179,
      "outputs": [
        {
          "output_type": "execute_result",
          "data": {
            "text/plain": [
              "tensor(1.3306)"
            ]
          },
          "metadata": {
            "tags": []
          },
          "execution_count": 179
        }
      ]
    },
    {
      "cell_type": "code",
      "metadata": {
        "id": "gVfw_VFCaXld"
      },
      "source": [
        "m1 = torch.from_numpy(m3)\n",
        "m2 = torch.from_numpy(m4)\n",
        "m1 = m1.to('cuda')\n",
        "m2 = m2.to('cuda')"
      ],
      "execution_count": 180,
      "outputs": []
    },
    {
      "cell_type": "code",
      "metadata": {
        "colab": {
          "base_uri": "https://localhost:8080/"
        },
        "id": "JTFuJ9woanFI",
        "outputId": "b3020ade-1343-4f6b-fdcf-01cae764d5bf"
      },
      "source": [
        "%timeit -n1 -o m1 @ m2"
      ],
      "execution_count": 181,
      "outputs": [
        {
          "output_type": "stream",
          "text": [
            "The slowest run took 53.82 times longer than the fastest. This could mean that an intermediate result is being cached.\n",
            "1 loop, best of 5: 11 µs per loop\n"
          ],
          "name": "stdout"
        },
        {
          "output_type": "execute_result",
          "data": {
            "text/plain": [
              "<TimeitResult : 1 loop, best of 5: 11 µs per loop>"
            ]
          },
          "metadata": {
            "tags": []
          },
          "execution_count": 181
        }
      ]
    },
    {
      "cell_type": "code",
      "metadata": {
        "colab": {
          "base_uri": "https://localhost:8080/"
        },
        "id": "2pLlgsTMaveP",
        "outputId": "9c6e7d0a-4e4e-401f-d63e-daf1c2309ec5"
      },
      "source": [
        "gpu_time = _\n",
        "gpu_time.all_runs"
      ],
      "execution_count": 182,
      "outputs": [
        {
          "output_type": "execute_result",
          "data": {
            "text/plain": [
              "[0.0005922430000282475,\n",
              " 4.1926999983843416e-05,\n",
              " 1.480999981140485e-05,\n",
              " 1.1004999578290153e-05,\n",
              " 2.848799977073213e-05]"
            ]
          },
          "metadata": {
            "tags": []
          },
          "execution_count": 182
        }
      ]
    },
    {
      "cell_type": "code",
      "metadata": {
        "id": "d2P9FM34atWh"
      },
      "source": [
        "gpu_time_tensor = torch.tensor(gpu_time.all_runs)\n",
        "gpu_time_max = gpu_time_tensor.max()"
      ],
      "execution_count": 183,
      "outputs": []
    },
    {
      "cell_type": "code",
      "metadata": {
        "colab": {
          "base_uri": "https://localhost:8080/",
          "height": 336
        },
        "id": "yAaxJviKX8gT",
        "outputId": "fe5b2a0d-e254-484e-8cbe-e6b2b2b250aa"
      },
      "source": [
        "objects = ('NumPy', 'PyTorch CPU', 'PyTorch GPU')\n",
        "pos = range(len(objects))\n",
        "performance = [np_time_max,cpu_time_max,gpu_time_max]\n",
        "\n",
        "y=plt.bar(pos, performance, align='center', alpha=0.5)\n",
        "plt.xticks(pos, objects)\n",
        "plt.ylabel('Time (s)')\n",
        "plt.title('Matrix multiplication performance')\n",
        "\n",
        "plt.show()\n",
        "\n",
        "print(f\"NumPy CPU: {np_time_max} seconds\")\n",
        "print(f\"PyTorch CPU: {cpu_time_max} seconds\")\n",
        "print(f\"PyTorch GPU: {gpu_time_max} seconds\")"
      ],
      "execution_count": 205,
      "outputs": [
        {
          "output_type": "display_data",
          "data": {
            "image/png": "[encoded data removed]",
            "text/plain": [
              "<Figure size 432x288 with 1 Axes>"
            ]
          },
          "metadata": {
            "tags": [],
            "needs_background": "light"
          }
        },
        {
          "output_type": "stream",
          "text": [
            "NumPy CPU: 1.330561876296997 seconds\n",
            "PyTorch CPU: 0.7088443040847778 seconds\n",
            "PyTorch GPU: 0.0005922429845668375 seconds\n"
          ],
          "name": "stdout"
        }
      ]
    }
  ]
}