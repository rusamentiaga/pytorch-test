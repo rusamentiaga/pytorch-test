{
  "nbformat": 4,
  "nbformat_minor": 0,
  "metadata": {
    "kernelspec": {
      "display_name": "Python 3",
      "language": "python",
      "name": "python3"
    },
    "language_info": {
      "codemirror_mode": {
        "name": "ipython",
        "version": 3
      },
      "file_extension": ".py",
      "mimetype": "text/x-python",
      "name": "python",
      "nbconvert_exporter": "python",
      "pygments_lexer": "ipython3",
      "version": "3.6.6"
    },
    "colab": {
      "name": "1_tensors.ipynb",
      "provenance": [],
      "toc_visible": true
    },
    "accelerator": "GPU"
  },
  "cells": [
    {
      "cell_type": "markdown",
      "metadata": {
        "id": "aY5-q3bYjtip"
      },
      "source": [
        "# Introducción a PyTorch\n",
        "\n",
        "<center><img src=\"https://upload.wikimedia.org/wikipedia/commons/c/c6/PyTorch_logo_black.svg\"></center>\n",
        "\n",
        "[PyTorch](https://pytorch.org/) es una biblioteca de computación científica. Está desarrollada en C++ y Python, pero está diseñada para ser usada en Python.\n",
        "\n",
        "Fundamentalmente PyTorch se basa en dos pilares fundamentales:\n",
        "\n",
        "* Los tensores: una estructura de datos similar al array de NumPy.\n",
        "* El cálculo de derivadas automatizado. Este aspecto es fundamental para la optimiaación de modelos.\n",
        "\n"
      ]
    },
    {
      "cell_type": "markdown",
      "metadata": {
        "id": "KJcEGx5Rm2El"
      },
      "source": [
        "# Inicialización de PyTorch\n",
        "\n",
        "Para empezar es necesario importar el paquete. Luego se puede verificar qué versión está instalada"
      ]
    },
    {
      "cell_type": "code",
      "metadata": {
        "id": "i2vbKDstDAD9",
        "colab": {
          "base_uri": "https://localhost:8080/",
          "height": 36
        },
        "outputId": "62b3922b-98a4-4432-b8e2-e23bb59628bb"
      },
      "source": [
        "import torch\n",
        "torch.version.__version__"
      ],
      "execution_count": 2,
      "outputs": [
        {
          "output_type": "execute_result",
          "data": {
            "application/vnd.google.colaboratory.intrinsic+json": {
              "type": "string"
            },
            "text/plain": [
              "'1.8.0+cu101'"
            ]
          },
          "metadata": {
            "tags": []
          },
          "execution_count": 2
        }
      ]
    },
    {
      "cell_type": "markdown",
      "metadata": {
        "id": "lspv9Ut-laWW"
      },
      "source": [
        "Pytorch permite la ejecución de la mayoría de las operaciones directamente sobre la GPU. Por tanto, es importante verificar si se dispone de soporte para la GPU. En caso de que no aparezca que Cuda está disponible se deberá cambiar el tipo del runtime del notebook."
      ]
    },
    {
      "cell_type": "code",
      "metadata": {
        "colab": {
          "base_uri": "https://localhost:8080/"
        },
        "id": "DHrZ7hrmRhlI",
        "outputId": "dfed1f02-171a-4cd0-b274-43ae464fcaf3"
      },
      "source": [
        "torch.cuda.is_available()"
      ],
      "execution_count": 3,
      "outputs": [
        {
          "output_type": "execute_result",
          "data": {
            "text/plain": [
              "True"
            ]
          },
          "metadata": {
            "tags": []
          },
          "execution_count": 3
        }
      ]
    },
    {
      "cell_type": "markdown",
      "metadata": {
        "id": "jvsfAHbEl0UP"
      },
      "source": [
        "Un tensor no es más que un conjunto de números organizados en varias dimensiones. Un tensor puede ser:\n",
        "\n",
        "* Un escalar: un único número.\n",
        "* Un array: una lista de números consecutivos que se pueden acceder mediante un índice que indica la posición que ocupan.\n",
        "* Una matriz. Lo mismo que antes pero en dos dimensiones.\n",
        "* Un array multidimensional. La extensión del caso anterior a n dimensiones."
      ]
    },
    {
      "cell_type": "markdown",
      "metadata": {
        "id": "JrGf0UTMs2aw"
      },
      "source": [
        "# Creación de un tensor\n",
        "\n"
      ]
    },
    {
      "cell_type": "markdown",
      "metadata": {
        "id": "tSqHoQrvrNRN"
      },
      "source": [
        "## Creación a partir de listas "
      ]
    },
    {
      "cell_type": "code",
      "metadata": {
        "colab": {
          "base_uri": "https://localhost:8080/"
        },
        "id": "QpQ095XAs1bA",
        "outputId": "2607dbff-4a4a-4e12-c565-cde649ac4de8"
      },
      "source": [
        "x = [1, 2, 3, 4, 5, 6]\n",
        "t = torch.tensor(x)\n",
        "type(t)"
      ],
      "execution_count": 4,
      "outputs": [
        {
          "output_type": "execute_result",
          "data": {
            "text/plain": [
              "torch.Tensor"
            ]
          },
          "metadata": {
            "tags": []
          },
          "execution_count": 4
        }
      ]
    },
    {
      "cell_type": "markdown",
      "metadata": {
        "id": "TfbiAVYMoF3v"
      },
      "source": [
        "También se puede hacer el proceso contrario."
      ]
    },
    {
      "cell_type": "code",
      "metadata": {
        "colab": {
          "base_uri": "https://localhost:8080/"
        },
        "id": "LW1RCOnDoFPo",
        "outputId": "8356f3b6-4a53-488f-bb2a-a644fc37e205"
      },
      "source": [
        "x = t.tolist()\n",
        "type(x)"
      ],
      "execution_count": 5,
      "outputs": [
        {
          "output_type": "execute_result",
          "data": {
            "text/plain": [
              "list"
            ]
          },
          "metadata": {
            "tags": []
          },
          "execution_count": 5
        }
      ]
    },
    {
      "cell_type": "markdown",
      "metadata": {
        "id": "MeNmDmU40SL_"
      },
      "source": [
        "Un tensor puede contner un solo número. En ese caso se puede acceder de la siguiente forma."
      ]
    },
    {
      "cell_type": "code",
      "metadata": {
        "colab": {
          "base_uri": "https://localhost:8080/"
        },
        "id": "TM6qi7uW0ZBX",
        "outputId": "756082ea-276b-4a4e-bdac-32a35879652b"
      },
      "source": [
        "x = torch.tensor([10])\n",
        "x.item()"
      ],
      "execution_count": 6,
      "outputs": [
        {
          "output_type": "execute_result",
          "data": {
            "text/plain": [
              "10"
            ]
          },
          "metadata": {
            "tags": []
          },
          "execution_count": 6
        }
      ]
    },
    {
      "cell_type": "markdown",
      "metadata": {
        "id": "ZCQQQvK5oVIr"
      },
      "source": [
        "## Creación a partir de NumPy"
      ]
    },
    {
      "cell_type": "code",
      "metadata": {
        "colab": {
          "base_uri": "https://localhost:8080/"
        },
        "id": "8UH2fkIGo20W",
        "outputId": "f77f624d-268d-4ffe-8ab2-d7ae8dec09d5"
      },
      "source": [
        "import numpy as np\n",
        "y = np.array([1,2,3,4,5])\n",
        "type(y)"
      ],
      "execution_count": 7,
      "outputs": [
        {
          "output_type": "execute_result",
          "data": {
            "text/plain": [
              "numpy.ndarray"
            ]
          },
          "metadata": {
            "tags": []
          },
          "execution_count": 7
        }
      ]
    },
    {
      "cell_type": "code",
      "metadata": {
        "colab": {
          "base_uri": "https://localhost:8080/"
        },
        "id": "bJmSvltzz4jK",
        "outputId": "c03f83a8-73cb-458e-8dac-adab253f6f24"
      },
      "source": [
        "t = torch.tensor(y)\n",
        "t"
      ],
      "execution_count": 8,
      "outputs": [
        {
          "output_type": "execute_result",
          "data": {
            "text/plain": [
              "tensor([1, 2, 3, 4, 5])"
            ]
          },
          "metadata": {
            "tags": []
          },
          "execution_count": 8
        }
      ]
    },
    {
      "cell_type": "markdown",
      "metadata": {
        "id": "-7EkPr3D0x6b"
      },
      "source": [
        "La creación de un tensor realiza una copia de los datos. También es posible realizar una creación sin copia."
      ]
    },
    {
      "cell_type": "code",
      "metadata": {
        "colab": {
          "base_uri": "https://localhost:8080/"
        },
        "id": "GVOaH9Z20sJr",
        "outputId": "c3d59424-fd0c-4360-b944-a1c4b4394bbf"
      },
      "source": [
        "t = torch.from_numpy(y)\n",
        "type(t)"
      ],
      "execution_count": 9,
      "outputs": [
        {
          "output_type": "execute_result",
          "data": {
            "text/plain": [
              "torch.Tensor"
            ]
          },
          "metadata": {
            "tags": []
          },
          "execution_count": 9
        }
      ]
    },
    {
      "cell_type": "markdown",
      "metadata": {
        "id": "-oLI3PYV1AUw"
      },
      "source": [
        "En este caso, la modificación de los datos originales también modifican el tensor."
      ]
    },
    {
      "cell_type": "code",
      "metadata": {
        "colab": {
          "base_uri": "https://localhost:8080/"
        },
        "id": "OdwEte3B09R4",
        "outputId": "71b89e48-7fa1-489b-fc9c-c4ab71a39bb7"
      },
      "source": [
        "y[0]=100\n",
        "t"
      ],
      "execution_count": 10,
      "outputs": [
        {
          "output_type": "execute_result",
          "data": {
            "text/plain": [
              "tensor([100,   2,   3,   4,   5])"
            ]
          },
          "metadata": {
            "tags": []
          },
          "execution_count": 10
        }
      ]
    },
    {
      "cell_type": "markdown",
      "metadata": {
        "id": "8Io9AXBEpLSj"
      },
      "source": [
        "En dirección contraria también es posible."
      ]
    },
    {
      "cell_type": "code",
      "metadata": {
        "colab": {
          "base_uri": "https://localhost:8080/"
        },
        "id": "Fahxrz1bpJ3T",
        "outputId": "2f15eec0-162d-4136-9028-e8937ebfd72d"
      },
      "source": [
        "y = t.numpy()\n",
        "type(y)"
      ],
      "execution_count": 11,
      "outputs": [
        {
          "output_type": "execute_result",
          "data": {
            "text/plain": [
              "numpy.ndarray"
            ]
          },
          "metadata": {
            "tags": []
          },
          "execution_count": 11
        }
      ]
    },
    {
      "cell_type": "markdown",
      "metadata": {
        "id": "5sSQvmh0pW54"
      },
      "source": [
        "## Creación directa"
      ]
    },
    {
      "cell_type": "markdown",
      "metadata": {
        "id": "f7dtWUxfpZmw"
      },
      "source": [
        "Existen además muchas maneras de crearlos directamene. A continuación de muestran alugunos ejemplo."
      ]
    },
    {
      "cell_type": "code",
      "metadata": {
        "colab": {
          "base_uri": "https://localhost:8080/"
        },
        "id": "eGBjbSaapvlU",
        "outputId": "bdcb72a3-2a07-47a0-cb06-20c80bda4856"
      },
      "source": [
        "a = torch.ones(5)\n",
        "print(f'{a}')\n",
        "print(f'Shape: {a.shape}')"
      ],
      "execution_count": 12,
      "outputs": [
        {
          "output_type": "stream",
          "text": [
            "tensor([1., 1., 1., 1., 1.])\n",
            "Shape: torch.Size([5])\n"
          ],
          "name": "stdout"
        }
      ]
    },
    {
      "cell_type": "code",
      "metadata": {
        "id": "nREPbtahDAEF",
        "colab": {
          "base_uri": "https://localhost:8080/"
        },
        "outputId": "61a52dc8-dd6a-4cf4-86fd-8a72464eca91"
      },
      "source": [
        "a = torch.ones(3,3)\n",
        "print(f'{a}')\n",
        "print(f'Shape: {a.shape}')"
      ],
      "execution_count": 13,
      "outputs": [
        {
          "output_type": "stream",
          "text": [
            "tensor([[1., 1., 1.],\n",
            "        [1., 1., 1.],\n",
            "        [1., 1., 1.]])\n",
            "Shape: torch.Size([3, 3])\n"
          ],
          "name": "stdout"
        }
      ]
    },
    {
      "cell_type": "code",
      "metadata": {
        "colab": {
          "base_uri": "https://localhost:8080/"
        },
        "id": "TwaCAYYVpqFu",
        "outputId": "749e32e2-6887-41e9-8873-456756418ae3"
      },
      "source": [
        "a = torch.zeros(3,4,5)\n",
        "print(f'{a}')\n",
        "print(f'Shape: {a.shape}')"
      ],
      "execution_count": 14,
      "outputs": [
        {
          "output_type": "stream",
          "text": [
            "tensor([[[0., 0., 0., 0., 0.],\n",
            "         [0., 0., 0., 0., 0.],\n",
            "         [0., 0., 0., 0., 0.],\n",
            "         [0., 0., 0., 0., 0.]],\n",
            "\n",
            "        [[0., 0., 0., 0., 0.],\n",
            "         [0., 0., 0., 0., 0.],\n",
            "         [0., 0., 0., 0., 0.],\n",
            "         [0., 0., 0., 0., 0.]],\n",
            "\n",
            "        [[0., 0., 0., 0., 0.],\n",
            "         [0., 0., 0., 0., 0.],\n",
            "         [0., 0., 0., 0., 0.],\n",
            "         [0., 0., 0., 0., 0.]]])\n",
            "Shape: torch.Size([3, 4, 5])\n"
          ],
          "name": "stdout"
        }
      ]
    },
    {
      "cell_type": "code",
      "metadata": {
        "colab": {
          "base_uri": "https://localhost:8080/"
        },
        "id": "83Uaslsnq3N5",
        "outputId": "2e8cc729-aa8d-4418-e358-64e728dc5afc"
      },
      "source": [
        "a = torch.linspace(10,20,5)\n",
        "print(f'{a}')\n",
        "print(f'Shape: {a.shape}')"
      ],
      "execution_count": 15,
      "outputs": [
        {
          "output_type": "stream",
          "text": [
            "tensor([10.0000, 12.5000, 15.0000, 17.5000, 20.0000])\n",
            "Shape: torch.Size([5])\n"
          ],
          "name": "stdout"
        }
      ]
    },
    {
      "cell_type": "markdown",
      "metadata": {
        "id": "LGEgXBtArUx1"
      },
      "source": [
        "# Indexado"
      ]
    },
    {
      "cell_type": "markdown",
      "metadata": {
        "id": "4Ll18AUbte6X"
      },
      "source": [
        "La forma de acceder a los elementos de un tensor es igual que en NumPy. A continuacón se muestran unos ejemplo."
      ]
    },
    {
      "cell_type": "code",
      "metadata": {
        "colab": {
          "base_uri": "https://localhost:8080/"
        },
        "id": "riAityQjskuP",
        "outputId": "4095bb18-ec97-4fec-d2a7-df6e78d2d85f"
      },
      "source": [
        "t = torch.tensor([[1, 2, 3], [4, 5, 6]])\n",
        "t"
      ],
      "execution_count": 64,
      "outputs": [
        {
          "output_type": "execute_result",
          "data": {
            "text/plain": [
              "tensor([[1, 2, 3],\n",
              "        [4, 5, 6]])"
            ]
          },
          "metadata": {
            "tags": []
          },
          "execution_count": 64
        }
      ]
    },
    {
      "cell_type": "markdown",
      "metadata": {
        "id": "kpF9Us9WtrJr"
      },
      "source": [
        "El primer elemento."
      ]
    },
    {
      "cell_type": "code",
      "metadata": {
        "colab": {
          "base_uri": "https://localhost:8080/"
        },
        "id": "Lj4BHmrXs0a-",
        "outputId": "4407937c-5069-42ca-b9c7-65ec9abadad9"
      },
      "source": [
        "t[0,0]"
      ],
      "execution_count": 65,
      "outputs": [
        {
          "output_type": "execute_result",
          "data": {
            "text/plain": [
              "tensor(1)"
            ]
          },
          "metadata": {
            "tags": []
          },
          "execution_count": 65
        }
      ]
    },
    {
      "cell_type": "markdown",
      "metadata": {
        "id": "9RXPjAwYttKE"
      },
      "source": [
        "El último elemento."
      ]
    },
    {
      "cell_type": "code",
      "metadata": {
        "colab": {
          "base_uri": "https://localhost:8080/"
        },
        "id": "yVd-u8Pbs4hE",
        "outputId": "7ba72d0c-746a-48e1-d5db-ca77f6f1819c"
      },
      "source": [
        "t[-1,-1]"
      ],
      "execution_count": 66,
      "outputs": [
        {
          "output_type": "execute_result",
          "data": {
            "text/plain": [
              "tensor(6)"
            ]
          },
          "metadata": {
            "tags": []
          },
          "execution_count": 66
        }
      ]
    },
    {
      "cell_type": "markdown",
      "metadata": {
        "id": "SY3x79kCtvFc"
      },
      "source": [
        "Todos los elementos de la primera file."
      ]
    },
    {
      "cell_type": "code",
      "metadata": {
        "colab": {
          "base_uri": "https://localhost:8080/"
        },
        "id": "7C2dLZC5s7B8",
        "outputId": "969222dc-7fb4-4a65-c853-6e04fd464ed8"
      },
      "source": [
        "t[0,:]"
      ],
      "execution_count": 67,
      "outputs": [
        {
          "output_type": "execute_result",
          "data": {
            "text/plain": [
              "tensor([1, 2, 3])"
            ]
          },
          "metadata": {
            "tags": []
          },
          "execution_count": 67
        }
      ]
    },
    {
      "cell_type": "markdown",
      "metadata": {
        "id": "zG8pjwKntzRS"
      },
      "source": [
        "Todos los elementos de la primera columna."
      ]
    },
    {
      "cell_type": "code",
      "metadata": {
        "colab": {
          "base_uri": "https://localhost:8080/"
        },
        "id": "xA45AUWBs-61",
        "outputId": "f1fab8ca-4e57-454e-89b9-bcb683b7f10f"
      },
      "source": [
        "t[:,0]"
      ],
      "execution_count": 68,
      "outputs": [
        {
          "output_type": "execute_result",
          "data": {
            "text/plain": [
              "tensor([1, 4])"
            ]
          },
          "metadata": {
            "tags": []
          },
          "execution_count": 68
        }
      ]
    },
    {
      "cell_type": "markdown",
      "metadata": {
        "id": "ME63XtLat5fh"
      },
      "source": [
        "Elementos de todas las filas y de las dos primeras columnas."
      ]
    },
    {
      "cell_type": "code",
      "metadata": {
        "colab": {
          "base_uri": "https://localhost:8080/"
        },
        "id": "xwI1vC5GtTD4",
        "outputId": "0b5b9ab5-000e-4a07-f337-9e8a00a12ed9"
      },
      "source": [
        "t[:,0:2]"
      ],
      "execution_count": 69,
      "outputs": [
        {
          "output_type": "execute_result",
          "data": {
            "text/plain": [
              "tensor([[1, 2],\n",
              "        [4, 5]])"
            ]
          },
          "metadata": {
            "tags": []
          },
          "execution_count": 69
        }
      ]
    },
    {
      "cell_type": "markdown",
      "metadata": {
        "id": "BTwYd9HJrZG8"
      },
      "source": [
        "# Tipos de datos"
      ]
    },
    {
      "cell_type": "markdown",
      "metadata": {
        "id": "mNK71fTtuCxw"
      },
      "source": [
        "Generalmente un tensor contiene datos reales. En concreto números reales representados en coma flotante con 32 bits. Sin embargo, existe la posibilidad de usar otro tipo de datos."
      ]
    },
    {
      "cell_type": "code",
      "metadata": {
        "colab": {
          "base_uri": "https://localhost:8080/"
        },
        "id": "7mRhgP73uQoh",
        "outputId": "d1a3eb22-ee4b-4b6b-81d1-df0e182e938e"
      },
      "source": [
        "t = torch.rand(2,3)\n",
        "t"
      ],
      "execution_count": 22,
      "outputs": [
        {
          "output_type": "execute_result",
          "data": {
            "text/plain": [
              "tensor([[0.5179, 0.7907, 0.3180],\n",
              "        [0.6458, 0.8915, 0.8837]])"
            ]
          },
          "metadata": {
            "tags": []
          },
          "execution_count": 22
        }
      ]
    },
    {
      "cell_type": "code",
      "metadata": {
        "colab": {
          "base_uri": "https://localhost:8080/"
        },
        "id": "uTpTun_Ou2Vp",
        "outputId": "77ee38bb-5823-4bd7-a11d-55aaa676d5ba"
      },
      "source": [
        "t.dtype"
      ],
      "execution_count": 23,
      "outputs": [
        {
          "output_type": "execute_result",
          "data": {
            "text/plain": [
              "torch.float32"
            ]
          },
          "metadata": {
            "tags": []
          },
          "execution_count": 23
        }
      ]
    },
    {
      "cell_type": "markdown",
      "metadata": {
        "id": "Yd9FyLPRv1D-"
      },
      "source": [
        "Cuando se crea se puede especificar el tipo:\n"
      ]
    },
    {
      "cell_type": "code",
      "metadata": {
        "colab": {
          "base_uri": "https://localhost:8080/"
        },
        "id": "22nFog-qvffL",
        "outputId": "daa83f75-9707-4699-c935-07404b9db256"
      },
      "source": [
        "t = torch.ones(10, 2, dtype=torch.int8)\n",
        "t"
      ],
      "execution_count": 24,
      "outputs": [
        {
          "output_type": "execute_result",
          "data": {
            "text/plain": [
              "tensor([[1, 1],\n",
              "        [1, 1],\n",
              "        [1, 1],\n",
              "        [1, 1],\n",
              "        [1, 1],\n",
              "        [1, 1],\n",
              "        [1, 1],\n",
              "        [1, 1],\n",
              "        [1, 1],\n",
              "        [1, 1]], dtype=torch.int8)"
            ]
          },
          "metadata": {
            "tags": []
          },
          "execution_count": 24
        }
      ]
    },
    {
      "cell_type": "code",
      "metadata": {
        "colab": {
          "base_uri": "https://localhost:8080/"
        },
        "id": "P4VYbbpzvyQN",
        "outputId": "a6b08c26-b6ff-4e9d-efd1-0f309c958f4d"
      },
      "source": [
        "t.dtype"
      ],
      "execution_count": 25,
      "outputs": [
        {
          "output_type": "execute_result",
          "data": {
            "text/plain": [
              "torch.int8"
            ]
          },
          "metadata": {
            "tags": []
          },
          "execution_count": 25
        }
      ]
    },
    {
      "cell_type": "markdown",
      "metadata": {
        "id": "sa00CKJXwSlB"
      },
      "source": [
        "Como se puede observar en la [documentación](https://pytorch.org/docs/stable/tensors.html) hay muchos tipos de datos disponibles"
      ]
    },
    {
      "cell_type": "markdown",
      "metadata": {
        "id": "XM94u_gCrrFJ"
      },
      "source": [
        "# Operaciones con tensores"
      ]
    },
    {
      "cell_type": "markdown",
      "metadata": {
        "id": "qHjBrtMMwpI9"
      },
      "source": [
        "En PyTorch se puede realizar una gran cantidad de operaciones con los tensores. A continuación se muestran algunos ejemplos."
      ]
    },
    {
      "cell_type": "code",
      "metadata": {
        "colab": {
          "base_uri": "https://localhost:8080/"
        },
        "id": "UC3KGY2rwmiG",
        "outputId": "c8565000-aa54-45f6-dbcc-a780e976880e"
      },
      "source": [
        "t = torch.rand(10)\n",
        "t"
      ],
      "execution_count": 26,
      "outputs": [
        {
          "output_type": "execute_result",
          "data": {
            "text/plain": [
              "tensor([0.6056, 0.1823, 0.2101, 0.2050, 0.8614, 0.8762, 0.0360, 0.0866, 0.4820,\n",
              "        0.8779])"
            ]
          },
          "metadata": {
            "tags": []
          },
          "execution_count": 26
        }
      ]
    },
    {
      "cell_type": "markdown",
      "metadata": {
        "id": "zcEXV4N7w9EF"
      },
      "source": [
        "Cálculo del seno para cada elemento."
      ]
    },
    {
      "cell_type": "code",
      "metadata": {
        "colab": {
          "base_uri": "https://localhost:8080/"
        },
        "id": "nzUByE9yw5Uj",
        "outputId": "9fa853d0-57ab-41b1-e516-76ffd717f9ef"
      },
      "source": [
        "torch.sin(t)"
      ],
      "execution_count": 27,
      "outputs": [
        {
          "output_type": "execute_result",
          "data": {
            "text/plain": [
              "tensor([0.5693, 0.1812, 0.2085, 0.2036, 0.7588, 0.7683, 0.0360, 0.0865, 0.4635,\n",
              "        0.7694])"
            ]
          },
          "metadata": {
            "tags": []
          },
          "execution_count": 27
        }
      ]
    },
    {
      "cell_type": "markdown",
      "metadata": {
        "id": "jsQ7dxZ9xZc1"
      },
      "source": [
        "Sería equivalente a realizar"
      ]
    },
    {
      "cell_type": "code",
      "metadata": {
        "colab": {
          "base_uri": "https://localhost:8080/"
        },
        "id": "Gstj05ApxRdT",
        "outputId": "bb7bfe9d-77e9-4dfb-aeec-facacc703b8a"
      },
      "source": [
        "t.sin()"
      ],
      "execution_count": 28,
      "outputs": [
        {
          "output_type": "execute_result",
          "data": {
            "text/plain": [
              "tensor([0.5693, 0.1812, 0.2085, 0.2036, 0.7588, 0.7683, 0.0360, 0.0865, 0.4635,\n",
              "        0.7694])"
            ]
          },
          "metadata": {
            "tags": []
          },
          "execution_count": 28
        }
      ]
    },
    {
      "cell_type": "markdown",
      "metadata": {
        "id": "xs3ocq7_xl3F"
      },
      "source": [
        "De forma general las operaciones se pueden dividir en grupos:\n",
        "\n",
        "\n",
        "*   Creación\n",
        "*   Indexado\n",
        "* Operaciones matemáticas\n",
        "  *   Aplicadas a cada elemento (sin)\n",
        "  *   De reducción (mean)\n",
        "  *   Entre tensores\n",
        "* Muestreo\n",
        "* Serialización\n",
        "* Paralelismo\n",
        "\n"
      ]
    },
    {
      "cell_type": "markdown",
      "metadata": {
        "id": "34F30zyTy16H"
      },
      "source": [
        ""
      ]
    },
    {
      "cell_type": "code",
      "metadata": {
        "colab": {
          "base_uri": "https://localhost:8080/"
        },
        "id": "SayhWuhszATM",
        "outputId": "1b729f31-4c5e-4832-f0ab-c54219fff2e5"
      },
      "source": [
        "t1 = torch.ones(2,2)\n",
        "t2 = torch.ones(2,2)\n",
        "t2 = t2*10\n",
        "t1 + t2"
      ],
      "execution_count": 29,
      "outputs": [
        {
          "output_type": "execute_result",
          "data": {
            "text/plain": [
              "tensor([[11., 11.],\n",
              "        [11., 11.]])"
            ]
          },
          "metadata": {
            "tags": []
          },
          "execution_count": 29
        }
      ]
    },
    {
      "cell_type": "markdown",
      "metadata": {
        "id": "gb6bg9PrzRcK"
      },
      "source": [
        "Que sería equivalente a"
      ]
    },
    {
      "cell_type": "code",
      "metadata": {
        "colab": {
          "base_uri": "https://localhost:8080/"
        },
        "id": "aORCNlVOzOUK",
        "outputId": "a0d1d194-9105-4f5d-c2c4-752ad0f1cef2"
      },
      "source": [
        "torch.add(t1, t2)"
      ],
      "execution_count": 30,
      "outputs": [
        {
          "output_type": "execute_result",
          "data": {
            "text/plain": [
              "tensor([[11., 11.],\n",
              "        [11., 11.]])"
            ]
          },
          "metadata": {
            "tags": []
          },
          "execution_count": 30
        }
      ]
    },
    {
      "cell_type": "markdown",
      "metadata": {
        "id": "RIm_GxtAwSJh"
      },
      "source": [
        "# Reorganizar"
      ]
    },
    {
      "cell_type": "markdown",
      "metadata": {
        "id": "j8rbBxcIwU1_"
      },
      "source": [
        "Un tensor tiene una estructura organizada en dimensiones. Existen formas de realizar cambios."
      ]
    },
    {
      "cell_type": "code",
      "metadata": {
        "id": "H9LikEJDwcLW",
        "outputId": "e0ab3927-e6f5-4d29-8de8-17cd54f960f5",
        "colab": {
          "base_uri": "https://localhost:8080/"
        }
      },
      "source": [
        "t = torch.ones(4,4)\n",
        "t[2,2] = 99\n",
        "t"
      ],
      "execution_count": 93,
      "outputs": [
        {
          "output_type": "execute_result",
          "data": {
            "text/plain": [
              "tensor([[ 1.,  1.,  1.,  1.],\n",
              "        [ 1.,  1.,  1.,  1.],\n",
              "        [ 1.,  1., 99.,  1.],\n",
              "        [ 1.,  1.,  1.,  1.]])"
            ]
          },
          "metadata": {
            "tags": []
          },
          "execution_count": 93
        }
      ]
    },
    {
      "cell_type": "code",
      "metadata": {
        "id": "-nRxTA9Mwwoa",
        "outputId": "897f69d6-b979-4454-a04f-061216b94c0d",
        "colab": {
          "base_uri": "https://localhost:8080/"
        }
      },
      "source": [
        "t = torch.reshape(t, (2, 8))\n",
        "t"
      ],
      "execution_count": 94,
      "outputs": [
        {
          "output_type": "execute_result",
          "data": {
            "text/plain": [
              "tensor([[ 1.,  1.,  1.,  1.,  1.,  1.,  1.,  1.],\n",
              "        [ 1.,  1., 99.,  1.,  1.,  1.,  1.,  1.]])"
            ]
          },
          "metadata": {
            "tags": []
          },
          "execution_count": 94
        }
      ]
    },
    {
      "cell_type": "code",
      "metadata": {
        "id": "QfgNcR7ow8Og",
        "outputId": "b07f0ee4-19a9-464a-9c8b-5be2ae824553",
        "colab": {
          "base_uri": "https://localhost:8080/"
        }
      },
      "source": [
        "t = torch.reshape(t, (2, 2, 4))\n",
        "t"
      ],
      "execution_count": 95,
      "outputs": [
        {
          "output_type": "execute_result",
          "data": {
            "text/plain": [
              "tensor([[[ 1.,  1.,  1.,  1.],\n",
              "         [ 1.,  1.,  1.,  1.]],\n",
              "\n",
              "        [[ 1.,  1., 99.,  1.],\n",
              "         [ 1.,  1.,  1.,  1.]]])"
            ]
          },
          "metadata": {
            "tags": []
          },
          "execution_count": 95
        }
      ]
    },
    {
      "cell_type": "markdown",
      "metadata": {
        "id": "kY5vAZIy1OP8"
      },
      "source": [
        "Se puede observar que los datos se mantiene, solo cambia la organización"
      ]
    },
    {
      "cell_type": "markdown",
      "metadata": {
        "id": "pC7JU0st2BSj"
      },
      "source": [
        "Una opción rápida para convertir en un vector"
      ]
    },
    {
      "cell_type": "code",
      "metadata": {
        "id": "AenM4h2P1H8-",
        "outputId": "fbbcb796-e3d8-4147-803b-40b64bd97d77",
        "colab": {
          "base_uri": "https://localhost:8080/"
        }
      },
      "source": [
        "t = t.flatten()\n",
        "t"
      ],
      "execution_count": 116,
      "outputs": [
        {
          "output_type": "execute_result",
          "data": {
            "text/plain": [
              "tensor([ 1.,  1.,  1.,  1.,  1.,  1.,  1.,  1.,  1.,  1., 99.,  1.,  1.,  1.,\n",
              "         1.,  1.])"
            ]
          },
          "metadata": {
            "tags": []
          },
          "execution_count": 116
        }
      ]
    },
    {
      "cell_type": "markdown",
      "metadata": {
        "id": "4isyyIl42GWb"
      },
      "source": [
        "Para añadir dimensiones"
      ]
    },
    {
      "cell_type": "code",
      "metadata": {
        "id": "imkwoqd81ggJ",
        "outputId": "77d91909-0dc2-4643-c60b-b120a99eb012",
        "colab": {
          "base_uri": "https://localhost:8080/"
        }
      },
      "source": [
        "t=torch.unsqueeze(t,0)\n",
        "print(t)\n",
        "print(t.shape)\n",
        "t=torch.unsqueeze(t,0)\n",
        "print(t)\n",
        "print(t.shape)"
      ],
      "execution_count": 120,
      "outputs": [
        {
          "output_type": "stream",
          "text": [
            "tensor([[ 1.,  1.,  1.,  1.,  1.,  1.,  1.,  1.,  1.,  1., 99.,  1.,  1.,  1.,\n",
            "          1.,  1.]])\n",
            "torch.Size([1, 16])\n",
            "tensor([[[ 1.,  1.,  1.,  1.,  1.,  1.,  1.,  1.,  1.,  1., 99.,  1.,  1.,  1.,\n",
            "           1.,  1.]]])\n",
            "torch.Size([1, 1, 16])\n"
          ],
          "name": "stdout"
        }
      ]
    },
    {
      "cell_type": "markdown",
      "metadata": {
        "id": "to1MPXuS2YWQ"
      },
      "source": [
        "Para quitar dimensiones de tamaño 1"
      ]
    },
    {
      "cell_type": "code",
      "metadata": {
        "id": "qc8qkU8q2dWX",
        "outputId": "38971594-d5e8-42cb-9df1-146292fbd40d",
        "colab": {
          "base_uri": "https://localhost:8080/"
        }
      },
      "source": [
        "t = t.squeeze()\n",
        "print(t)\n",
        "print(t.shape)\n",
        "?torch.squeeze"
      ],
      "execution_count": 121,
      "outputs": [
        {
          "output_type": "stream",
          "text": [
            "tensor([ 1.,  1.,  1.,  1.,  1.,  1.,  1.,  1.,  1.,  1., 99.,  1.,  1.,  1.,\n",
            "         1.,  1.])\n",
            "torch.Size([16])\n"
          ],
          "name": "stdout"
        }
      ]
    },
    {
      "cell_type": "markdown",
      "metadata": {
        "id": "Xx5wFUut3eMm"
      },
      "source": [
        "Otro ejemplo para cambiar filas por columnas"
      ]
    },
    {
      "cell_type": "code",
      "metadata": {
        "id": "oJqUscnt3MYw",
        "outputId": "84f48be9-df4d-4151-ee61-78eaad9052b7",
        "colab": {
          "base_uri": "https://localhost:8080/"
        }
      },
      "source": [
        "t = torch.arange(0,10)\n",
        "t = torch.reshape(t, (2,5))\n",
        "print(t)\n",
        "t = t.t()\n",
        "print(t)"
      ],
      "execution_count": 134,
      "outputs": [
        {
          "output_type": "stream",
          "text": [
            "tensor([[0, 1, 2, 3, 4],\n",
            "        [5, 6, 7, 8, 9]])\n",
            "tensor([[0, 5],\n",
            "        [1, 6],\n",
            "        [2, 7],\n",
            "        [3, 8],\n",
            "        [4, 9]])\n"
          ],
          "name": "stdout"
        }
      ]
    },
    {
      "cell_type": "markdown",
      "metadata": {
        "id": "PG1vEXrk3y-J"
      },
      "source": [
        "Para cambiar las dimensiones"
      ]
    },
    {
      "cell_type": "code",
      "metadata": {
        "id": "nVY8pRp-34qg",
        "outputId": "d8ec93ac-57f5-490c-8741-9a52bc995cf8",
        "colab": {
          "base_uri": "https://localhost:8080/"
        }
      },
      "source": [
        "t = torch.arange(0,24).reshape(4,3,2)\n",
        "print(t)\n",
        "print(t.shape)\n",
        "t = t.permute(2,1,0)\n",
        "print(t)\n",
        "print(t.shape)"
      ],
      "execution_count": 145,
      "outputs": [
        {
          "output_type": "stream",
          "text": [
            "tensor([[[ 0,  1],\n",
            "         [ 2,  3],\n",
            "         [ 4,  5]],\n",
            "\n",
            "        [[ 6,  7],\n",
            "         [ 8,  9],\n",
            "         [10, 11]],\n",
            "\n",
            "        [[12, 13],\n",
            "         [14, 15],\n",
            "         [16, 17]],\n",
            "\n",
            "        [[18, 19],\n",
            "         [20, 21],\n",
            "         [22, 23]]])\n",
            "torch.Size([4, 3, 2])\n",
            "tensor([[[ 0,  6, 12, 18],\n",
            "         [ 2,  8, 14, 20],\n",
            "         [ 4, 10, 16, 22]],\n",
            "\n",
            "        [[ 1,  7, 13, 19],\n",
            "         [ 3,  9, 15, 21],\n",
            "         [ 5, 11, 17, 23]]])\n",
            "torch.Size([2, 3, 4])\n"
          ],
          "name": "stdout"
        }
      ]
    },
    {
      "cell_type": "markdown",
      "metadata": {
        "id": "XIMaC_Xvr9Dn"
      },
      "source": [
        "# Moviendo tensores a la GPU"
      ]
    },
    {
      "cell_type": "markdown",
      "metadata": {
        "id": "WlmG6nNvzWMa"
      },
      "source": [
        "Por defecto un tensor se almacena en la memoria principal y sus operaciones las realiza la CPU. Sin embargo, se pueden transferir a la GPU para que sus operaciones se realicen más rápido."
      ]
    },
    {
      "cell_type": "code",
      "metadata": {
        "colab": {
          "base_uri": "https://localhost:8080/"
        },
        "id": "4w_gJWUBzx99",
        "outputId": "0df11f5b-adc0-46bf-8384-93d35ec1d2f5"
      },
      "source": [
        "t = torch.tensor([1,2,3])\n",
        "t.device"
      ],
      "execution_count": 31,
      "outputs": [
        {
          "output_type": "execute_result",
          "data": {
            "text/plain": [
              "device(type='cpu')"
            ]
          },
          "metadata": {
            "tags": []
          },
          "execution_count": 31
        }
      ]
    },
    {
      "cell_type": "code",
      "metadata": {
        "colab": {
          "base_uri": "https://localhost:8080/"
        },
        "id": "xDq-MuVb1Wdl",
        "outputId": "9ff9773e-f60e-49a3-c3de-db8dda89ff36"
      },
      "source": [
        "t = t.to(device='cuda')\n",
        "t"
      ],
      "execution_count": 32,
      "outputs": [
        {
          "output_type": "execute_result",
          "data": {
            "text/plain": [
              "tensor([1, 2, 3], device='cuda:0')"
            ]
          },
          "metadata": {
            "tags": []
          },
          "execution_count": 32
        }
      ]
    },
    {
      "cell_type": "markdown",
      "metadata": {
        "id": "GUjM42uR1rYB"
      },
      "source": [
        "La forma de realizar las operaciones es transparente."
      ]
    },
    {
      "cell_type": "code",
      "metadata": {
        "colab": {
          "base_uri": "https://localhost:8080/"
        },
        "id": "FtoYVPLW1oTb",
        "outputId": "c171b9ac-8f6c-4116-9d42-a1ad8b3d1a42"
      },
      "source": [
        "torch.sin(t)"
      ],
      "execution_count": 33,
      "outputs": [
        {
          "output_type": "execute_result",
          "data": {
            "text/plain": [
              "tensor([0.8415, 0.9093, 0.1411], device='cuda:0')"
            ]
          },
          "metadata": {
            "tags": []
          },
          "execution_count": 33
        }
      ]
    },
    {
      "cell_type": "markdown",
      "metadata": {
        "id": "0SWKLHbw1x8o"
      },
      "source": [
        "El tensor se puede mover a la CPU."
      ]
    },
    {
      "cell_type": "code",
      "metadata": {
        "colab": {
          "base_uri": "https://localhost:8080/"
        },
        "id": "HuceKxq51xiI",
        "outputId": "7abe4741-c04d-47ea-f509-3530088bf435"
      },
      "source": [
        "t = t.to(device='cpu')\n",
        "t"
      ],
      "execution_count": 34,
      "outputs": [
        {
          "output_type": "execute_result",
          "data": {
            "text/plain": [
              "tensor([1, 2, 3])"
            ]
          },
          "metadata": {
            "tags": []
          },
          "execution_count": 34
        }
      ]
    },
    {
      "cell_type": "markdown",
      "metadata": {
        "id": "G-SokuK916fG"
      },
      "source": [
        "La única restricción que existe es que los tensores con los que se operan deben estar en el mismo dispositivo."
      ]
    },
    {
      "cell_type": "code",
      "metadata": {
        "colab": {
          "base_uri": "https://localhost:8080/"
        },
        "id": "-1WvbMyZ2DCV",
        "outputId": "ea535aa8-d16c-42ee-aba8-0d02b9f5ee11"
      },
      "source": [
        "t1 = torch.tensor([1,1,1], device='cuda')\n",
        "t2 = torch.tensor([2,2,2], device='cuda')\n",
        "t1 + t2"
      ],
      "execution_count": 35,
      "outputs": [
        {
          "output_type": "execute_result",
          "data": {
            "text/plain": [
              "tensor([3, 3, 3], device='cuda:0')"
            ]
          },
          "metadata": {
            "tags": []
          },
          "execution_count": 35
        }
      ]
    },
    {
      "cell_type": "code",
      "metadata": {
        "id": "Vrc7seKW2LPL"
      },
      "source": [
        "t3 = torch.tensor([3,3,3])\n",
        "# esta operación genera error\n",
        "# t2 + t3"
      ],
      "execution_count": 36,
      "outputs": []
    },
    {
      "cell_type": "markdown",
      "metadata": {
        "id": "sRLL-Qf6sOE8"
      },
      "source": [
        "# Serialización"
      ]
    },
    {
      "cell_type": "markdown",
      "metadata": {
        "id": "_F50D1K12bqx"
      },
      "source": [
        "Un tensor se puede guardar en disco para luego recuperar su valor."
      ]
    },
    {
      "cell_type": "code",
      "metadata": {
        "colab": {
          "base_uri": "https://localhost:8080/"
        },
        "id": "Fze_n5wU2gbQ",
        "outputId": "384553d8-48c4-40c4-ea18-02ebf71537b2"
      },
      "source": [
        "t = torch.rand(4,4)\n",
        "t"
      ],
      "execution_count": 37,
      "outputs": [
        {
          "output_type": "execute_result",
          "data": {
            "text/plain": [
              "tensor([[0.7836, 0.5820, 0.7898, 0.9595],\n",
              "        [0.5187, 0.5078, 0.9829, 0.0546],\n",
              "        [0.4621, 0.0908, 0.3436, 0.2260],\n",
              "        [0.6735, 0.4918, 0.9622, 0.8023]])"
            ]
          },
          "metadata": {
            "tags": []
          },
          "execution_count": 37
        }
      ]
    },
    {
      "cell_type": "code",
      "metadata": {
        "id": "AzAwqKRa2lVQ"
      },
      "source": [
        "t[0,0] = -999\n",
        "torch.save(t, 't.pt')"
      ],
      "execution_count": 38,
      "outputs": []
    },
    {
      "cell_type": "code",
      "metadata": {
        "colab": {
          "base_uri": "https://localhost:8080/"
        },
        "id": "yv7iN2PJ3Ccq",
        "outputId": "af8b9f3b-ca6f-429e-92b1-aea3252eca8c"
      },
      "source": [
        "!ls *.pt"
      ],
      "execution_count": 39,
      "outputs": [
        {
          "output_type": "stream",
          "text": [
            "t.pt\n"
          ],
          "name": "stdout"
        }
      ]
    },
    {
      "cell_type": "code",
      "metadata": {
        "colab": {
          "base_uri": "https://localhost:8080/"
        },
        "id": "K03FUdD-3Iaj",
        "outputId": "7c561c8a-f2dd-4b03-dc62-18586a96359c"
      },
      "source": [
        "t2 = torch.load('t.pt')\n",
        "t2"
      ],
      "execution_count": 40,
      "outputs": [
        {
          "output_type": "execute_result",
          "data": {
            "text/plain": [
              "tensor([[-9.9900e+02,  5.8205e-01,  7.8976e-01,  9.5950e-01],\n",
              "        [ 5.1873e-01,  5.0779e-01,  9.8291e-01,  5.4577e-02],\n",
              "        [ 4.6208e-01,  9.0809e-02,  3.4362e-01,  2.2603e-01],\n",
              "        [ 6.7353e-01,  4.9180e-01,  9.6220e-01,  8.0235e-01]])"
            ]
          },
          "metadata": {
            "tags": []
          },
          "execution_count": 40
        }
      ]
    },
    {
      "cell_type": "markdown",
      "metadata": {
        "id": "x3DcPIoPsXlq"
      },
      "source": [
        "# Representación gráfica"
      ]
    },
    {
      "cell_type": "markdown",
      "metadata": {
        "id": "NWJSr8XZ3UPJ"
      },
      "source": [
        "El contenido de un tensor se puede representar gráficamente de forma directa."
      ]
    },
    {
      "cell_type": "code",
      "metadata": {
        "colab": {
          "base_uri": "https://localhost:8080/",
          "height": 283
        },
        "id": "snUr7KYF3Yx4",
        "outputId": "ee3f7969-d490-4f16-a0cb-e9870f829bfe"
      },
      "source": [
        "import matplotlib.pyplot as plt\n",
        "import math\n",
        "x = torch.linspace(-4*math.pi, 4*math.pi, 100)\n",
        "y = torch.sin(x)\n",
        "plt.plot(x,y)"
      ],
      "execution_count": 41,
      "outputs": [
        {
          "output_type": "execute_result",
          "data": {
            "text/plain": [
              "[<matplotlib.lines.Line2D at 0x7fb7ed157190>]"
            ]
          },
          "metadata": {
            "tags": []
          },
          "execution_count": 41
        },
        {
          "output_type": "display_data",
          "data": {
            "image/png": "[encoded data removed]",
            "text/plain": [
              "<Figure size 432x288 with 1 Axes>"
            ]
          },
          "metadata": {
            "tags": [],
            "needs_background": "light"
          }
        }
      ]
    },
    {
      "cell_type": "markdown",
      "metadata": {
        "id": "Bn4U2dhX7SPX"
      },
      "source": [
        "Otro ejemplo."
      ]
    },
    {
      "cell_type": "code",
      "metadata": {
        "colab": {
          "base_uri": "https://localhost:8080/",
          "height": 283
        },
        "id": "KP_XhOEG7UCe",
        "outputId": "ed43e4a7-c301-4bb6-a7c9-364a55e38347"
      },
      "source": [
        "x = torch.tensor(range(100))\n",
        "y = 3*x + 14\n",
        "y = y + 100*(torch.rand(x.shape[0]) - 0.5)\n",
        "plt.plot(x,y)"
      ],
      "execution_count": 42,
      "outputs": [
        {
          "output_type": "execute_result",
          "data": {
            "text/plain": [
              "[<matplotlib.lines.Line2D at 0x7fb7ec3bd690>]"
            ]
          },
          "metadata": {
            "tags": []
          },
          "execution_count": 42
        },
        {
          "output_type": "display_data",
          "data": {
            "image/png": "[encoded data removed]",
            "text/plain": [
              "<Figure size 432x288 with 1 Axes>"
            ]
          },
          "metadata": {
            "tags": [],
            "needs_background": "light"
          }
        }
      ]
    },
    {
      "cell_type": "markdown",
      "metadata": {
        "id": "iYWtE22T6pN-"
      },
      "source": [
        "También se pueden visualizar matrices como imágenes."
      ]
    },
    {
      "cell_type": "code",
      "metadata": {
        "colab": {
          "base_uri": "https://localhost:8080/",
          "height": 286
        },
        "id": "iwAMNuHG6nw_",
        "outputId": "67c69486-8704-44d9-c7e7-a320caa17752"
      },
      "source": [
        "img = torch.rand(100,100)\n",
        "plt.imshow(img)\n",
        "plt.colorbar()"
      ],
      "execution_count": 43,
      "outputs": [
        {
          "output_type": "execute_result",
          "data": {
            "text/plain": [
              "<matplotlib.colorbar.Colorbar at 0x7fb7ec370810>"
            ]
          },
          "metadata": {
            "tags": []
          },
          "execution_count": 43
        },
        {
          "output_type": "display_data",
          "data": {
            "image/png": "[encoded data removed]",
            "text/plain": [
              "<Figure size 432x288 with 2 Axes>"
            ]
          },
          "metadata": {
            "tags": [],
            "needs_background": "light"
          }
        }
      ]
    },
    {
      "cell_type": "code",
      "metadata": {
        "colab": {
          "base_uri": "https://localhost:8080/",
          "height": 286
        },
        "id": "vKvuz2OE7FAh",
        "outputId": "af03ef07-c358-4d8a-ea39-07b05401a929"
      },
      "source": [
        "img[10:20,:]=0\n",
        "plt.imshow(img)"
      ],
      "execution_count": 44,
      "outputs": [
        {
          "output_type": "execute_result",
          "data": {
            "text/plain": [
              "<matplotlib.image.AxesImage at 0x7fb7ec288cd0>"
            ]
          },
          "metadata": {
            "tags": []
          },
          "execution_count": 44
        },
        {
          "output_type": "display_data",
          "data": {
            "image/png": "[encoded data removed]",
            "text/plain": [
              "<Figure size 432x288 with 1 Axes>"
            ]
          },
          "metadata": {
            "tags": [],
            "needs_background": "light"
          }
        }
      ]
    },
    {
      "cell_type": "markdown",
      "metadata": {
        "id": "MS4sNk0a4aLu"
      },
      "source": [
        "# Comparación de cálculos entre CPU y GPU"
      ]
    },
    {
      "cell_type": "markdown",
      "metadata": {
        "id": "TBADhtjI4efk"
      },
      "source": [
        "Para entender la necesidad de Pytorch para añadir una nueva estructura de datos se va a realizar una comparación entre las operaciones realizadas por la CPU y por la GPU. "
      ]
    },
    {
      "cell_type": "markdown",
      "metadata": {
        "id": "HNqEluhO42OZ"
      },
      "source": [
        "Se declaran dos matrices y se multiplica (operador @), tanto en la CPU como en la GPU."
      ]
    },
    {
      "cell_type": "code",
      "metadata": {
        "id": "aTwdMP24ToNT"
      },
      "source": [
        "a = torch.rand(5, 5)\n",
        "b = torch.rand(5, 5)\n",
        "r_cpu = a @ b\n",
        "a = a.to('cuda')\n",
        "b = b.to('cuda')\n",
        "r_gpu = a @ b"
      ],
      "execution_count": 45,
      "outputs": []
    },
    {
      "cell_type": "markdown",
      "metadata": {
        "id": "V4ddibAc49T-"
      },
      "source": [
        "La diferencia es despreciable."
      ]
    },
    {
      "cell_type": "code",
      "metadata": {
        "colab": {
          "base_uri": "https://localhost:8080/"
        },
        "id": "crCev2_VT2ZN",
        "outputId": "adc5fa95-79a3-4456-b773-fdcc57f47edb"
      },
      "source": [
        "dif = r_cpu - r_gpu.to('cpu')\n",
        "dif.sum()"
      ],
      "execution_count": 46,
      "outputs": [
        {
          "output_type": "execute_result",
          "data": {
            "text/plain": [
              "tensor(-2.9802e-07)"
            ]
          },
          "metadata": {
            "tags": []
          },
          "execution_count": 46
        }
      ]
    },
    {
      "cell_type": "markdown",
      "metadata": {
        "id": "kf3dSHwq5C5u"
      },
      "source": [
        "Ahora se crean dos matrices de tamaño K. En este caso de 3000."
      ]
    },
    {
      "cell_type": "code",
      "metadata": {
        "id": "CWuAP0kBHYFW"
      },
      "source": [
        "K = 3000;\n",
        "m1 = torch.rand(K, K)\n",
        "m2 = torch.rand(K, K)"
      ],
      "execution_count": 47,
      "outputs": []
    },
    {
      "cell_type": "markdown",
      "metadata": {
        "id": "S3hlUXSx5Km0"
      },
      "source": [
        "Se mide cuanto tiempo se tarda en ejecutar la multiplicación."
      ]
    },
    {
      "cell_type": "code",
      "metadata": {
        "colab": {
          "base_uri": "https://localhost:8080/"
        },
        "id": "Cu27Gg6HHe4b",
        "outputId": "7f12440b-15c2-4325-9062-2c4065f79a5d"
      },
      "source": [
        "%timeit -n1 -o m1 @ m2"
      ],
      "execution_count": 48,
      "outputs": [
        {
          "output_type": "stream",
          "text": [
            "1 loop, best of 5: 673 ms per loop\n"
          ],
          "name": "stdout"
        },
        {
          "output_type": "execute_result",
          "data": {
            "text/plain": [
              "<TimeitResult : 1 loop, best of 5: 673 ms per loop>"
            ]
          },
          "metadata": {
            "tags": []
          },
          "execution_count": 48
        }
      ]
    },
    {
      "cell_type": "markdown",
      "metadata": {
        "id": "ZAfSv7Im5PkE"
      },
      "source": [
        "Se guarda en una variable."
      ]
    },
    {
      "cell_type": "code",
      "metadata": {
        "colab": {
          "base_uri": "https://localhost:8080/"
        },
        "id": "MfuqYDy5KfgB",
        "outputId": "8514b677-1663-4035-967b-9eb56501356c"
      },
      "source": [
        "cpu_time = _\n",
        "cpu_time.all_runs"
      ],
      "execution_count": 49,
      "outputs": [
        {
          "output_type": "execute_result",
          "data": {
            "text/plain": [
              "[0.7453809619999987,\n",
              " 0.706482168000008,\n",
              " 0.672704189000001,\n",
              " 0.6739430890000051,\n",
              " 0.6935457430000014]"
            ]
          },
          "metadata": {
            "tags": []
          },
          "execution_count": 49
        }
      ]
    },
    {
      "cell_type": "markdown",
      "metadata": {
        "id": "0VokQlXd5R0T"
      },
      "source": [
        "Ahora se realiza el mismo proceso en la GPU."
      ]
    },
    {
      "cell_type": "code",
      "metadata": {
        "id": "OogfuEfSHvpa"
      },
      "source": [
        "m1 = torch.rand(K, K)\n",
        "m2 = torch.rand(K, K)\n",
        "m1 = m1.to('cuda')\n",
        "m2 = m2.to('cuda')"
      ],
      "execution_count": 50,
      "outputs": []
    },
    {
      "cell_type": "code",
      "metadata": {
        "colab": {
          "base_uri": "https://localhost:8080/"
        },
        "id": "kzXVlHntHz9K",
        "outputId": "31c64c32-881c-4bfc-c591-65e28b3af85e"
      },
      "source": [
        "%timeit -n1 -o m1 @ m2"
      ],
      "execution_count": 51,
      "outputs": [
        {
          "output_type": "stream",
          "text": [
            "The slowest run took 32.00 times longer than the fastest. This could mean that an intermediate result is being cached.\n",
            "1 loop, best of 5: 18 µs per loop\n"
          ],
          "name": "stdout"
        },
        {
          "output_type": "execute_result",
          "data": {
            "text/plain": [
              "<TimeitResult : 1 loop, best of 5: 18 µs per loop>"
            ]
          },
          "metadata": {
            "tags": []
          },
          "execution_count": 51
        }
      ]
    },
    {
      "cell_type": "code",
      "metadata": {
        "id": "LK0aw_E9MZkA"
      },
      "source": [
        "gpu_time = _"
      ],
      "execution_count": 52,
      "outputs": []
    },
    {
      "cell_type": "markdown",
      "metadata": {
        "id": "fQCsH61y5ari"
      },
      "source": [
        "Se guarda el peor tiempo para evitar problemas de cacheos."
      ]
    },
    {
      "cell_type": "code",
      "metadata": {
        "id": "N4b9tEEmJvVK"
      },
      "source": [
        "cpu_time_tensor = torch.tensor(cpu_time.all_runs)\n",
        "cpu_time_max = cpu_time_tensor.max()\n",
        "gpu_time_tensor = torch.tensor(gpu_time.all_runs)\n",
        "gpu_time_max = gpu_time_tensor.max()"
      ],
      "execution_count": 53,
      "outputs": []
    },
    {
      "cell_type": "markdown",
      "metadata": {
        "id": "nIz24AqS5g9J"
      },
      "source": [
        "Se representa gráficamente."
      ]
    },
    {
      "cell_type": "code",
      "metadata": {
        "colab": {
          "base_uri": "https://localhost:8080/",
          "height": 318
        },
        "id": "VOMl_7T3OUU2",
        "outputId": "3a7fbc4d-4101-4dee-da56-127e12d9583e"
      },
      "source": [
        "import matplotlib.pyplot as plt\n",
        "objects = ('CPU', 'GPU')\n",
        "pos = range(len(objects))\n",
        "performance = [cpu_time_max,gpu_time_max]\n",
        "\n",
        "y=plt.bar(pos, performance, align='center', alpha=0.5)\n",
        "plt.xticks(pos, objects)\n",
        "plt.ylabel('Time (s)')\n",
        "plt.title('Matrix multiplication performance')\n",
        "\n",
        "plt.show()\n",
        "\n",
        "print(f\"CPU: {cpu_time_max} seconds\")\n",
        "print(f\"GPU: {gpu_time_max} seconds\")"
      ],
      "execution_count": 54,
      "outputs": [
        {
          "output_type": "display_data",
          "data": {
            "image/png": "[encoded data removed]",
            "text/plain": [
              "<Figure size 432x288 with 1 Axes>"
            ]
          },
          "metadata": {
            "tags": [],
            "needs_background": "light"
          }
        },
        {
          "output_type": "stream",
          "text": [
            "CPU: 0.7453809380531311 seconds\n",
            "GPU: 0.0005773709854111075 seconds\n"
          ],
          "name": "stdout"
        }
      ]
    },
    {
      "cell_type": "markdown",
      "metadata": {
        "id": "U56X3vzs54RV"
      },
      "source": [
        "# Comparación de cálculos entre NumPy y PyTorch"
      ]
    },
    {
      "cell_type": "markdown",
      "metadata": {
        "id": "v9hgq7qF5_I0"
      },
      "source": [
        "Ahora se van a comparar los tiempos respecto a NumPy."
      ]
    },
    {
      "cell_type": "code",
      "metadata": {
        "id": "W_P1Q3TCTRod"
      },
      "source": [
        "import numpy as np\n",
        "rg = np.random.default_rng(1)\n",
        "m3 = rg.random((K,K))\n",
        "m4 = rg.random((K,K))\n"
      ],
      "execution_count": 55,
      "outputs": []
    },
    {
      "cell_type": "code",
      "metadata": {
        "colab": {
          "base_uri": "https://localhost:8080/"
        },
        "id": "Ve8kNnqKX0J1",
        "outputId": "915809f3-886b-4967-cd15-afded4529fd4"
      },
      "source": [
        "%timeit -n1 -o m3 @ m4"
      ],
      "execution_count": 56,
      "outputs": [
        {
          "output_type": "stream",
          "text": [
            "1 loop, best of 5: 1.38 s per loop\n"
          ],
          "name": "stdout"
        },
        {
          "output_type": "execute_result",
          "data": {
            "text/plain": [
              "<TimeitResult : 1 loop, best of 5: 1.38 s per loop>"
            ]
          },
          "metadata": {
            "tags": []
          },
          "execution_count": 56
        }
      ]
    },
    {
      "cell_type": "code",
      "metadata": {
        "id": "Bl0Jz-6iX5tS"
      },
      "source": [
        "np_time = _"
      ],
      "execution_count": 57,
      "outputs": []
    },
    {
      "cell_type": "code",
      "metadata": {
        "colab": {
          "base_uri": "https://localhost:8080/"
        },
        "id": "xxbS3wn-YPfY",
        "outputId": "4ad98425-d95c-4ca5-f43e-177236cdad17"
      },
      "source": [
        "np_time_tensor = torch.tensor(np_time.all_runs)\n",
        "np_time_max = np_time_tensor.max()\n",
        "np_time_max"
      ],
      "execution_count": 58,
      "outputs": [
        {
          "output_type": "execute_result",
          "data": {
            "text/plain": [
              "tensor(1.4713)"
            ]
          },
          "metadata": {
            "tags": []
          },
          "execution_count": 58
        }
      ]
    },
    {
      "cell_type": "code",
      "metadata": {
        "id": "gVfw_VFCaXld"
      },
      "source": [
        "m1 = torch.from_numpy(m3)\n",
        "m2 = torch.from_numpy(m4)\n",
        "m1 = m1.to('cuda')\n",
        "m2 = m2.to('cuda')"
      ],
      "execution_count": 59,
      "outputs": []
    },
    {
      "cell_type": "code",
      "metadata": {
        "colab": {
          "base_uri": "https://localhost:8080/"
        },
        "id": "JTFuJ9woanFI",
        "outputId": "ba83173d-d7f3-4054-ef91-cc1a0157a6e0"
      },
      "source": [
        "%timeit -n1 -o m1 @ m2"
      ],
      "execution_count": 60,
      "outputs": [
        {
          "output_type": "stream",
          "text": [
            "The slowest run took 46.84 times longer than the fastest. This could mean that an intermediate result is being cached.\n",
            "1 loop, best of 5: 11.6 µs per loop\n"
          ],
          "name": "stdout"
        },
        {
          "output_type": "execute_result",
          "data": {
            "text/plain": [
              "<TimeitResult : 1 loop, best of 5: 11.6 µs per loop>"
            ]
          },
          "metadata": {
            "tags": []
          },
          "execution_count": 60
        }
      ]
    },
    {
      "cell_type": "code",
      "metadata": {
        "colab": {
          "base_uri": "https://localhost:8080/"
        },
        "id": "2pLlgsTMaveP",
        "outputId": "db199626-1475-480b-ca18-af6239d32972"
      },
      "source": [
        "gpu_time = _\n",
        "gpu_time.all_runs"
      ],
      "execution_count": 61,
      "outputs": [
        {
          "output_type": "execute_result",
          "data": {
            "text/plain": [
              "[0.0005423550000074329,\n",
              " 4.7793000007345654e-05,\n",
              " 1.4637000006700873e-05,\n",
              " 1.1579999991795376e-05,\n",
              " 1.1614000001713976e-05]"
            ]
          },
          "metadata": {
            "tags": []
          },
          "execution_count": 61
        }
      ]
    },
    {
      "cell_type": "code",
      "metadata": {
        "id": "d2P9FM34atWh"
      },
      "source": [
        "gpu_time_tensor = torch.tensor(gpu_time.all_runs)\n",
        "gpu_time_max = gpu_time_tensor.max()"
      ],
      "execution_count": 62,
      "outputs": []
    },
    {
      "cell_type": "code",
      "metadata": {
        "colab": {
          "base_uri": "https://localhost:8080/",
          "height": 336
        },
        "id": "yAaxJviKX8gT",
        "outputId": "ab26c761-efb9-4bed-a072-fd6e26120994"
      },
      "source": [
        "objects = ('NumPy', 'PyTorch CPU', 'PyTorch GPU')\n",
        "pos = range(len(objects))\n",
        "performance = [np_time_max,cpu_time_max,gpu_time_max]\n",
        "\n",
        "y=plt.bar(pos, performance, align='center', alpha=0.5)\n",
        "plt.xticks(pos, objects)\n",
        "plt.ylabel('Time (s)')\n",
        "plt.title('Matrix multiplication performance')\n",
        "\n",
        "plt.show()\n",
        "\n",
        "print(f\"NumPy CPU: {np_time_max} seconds\")\n",
        "print(f\"PyTorch CPU: {cpu_time_max} seconds\")\n",
        "print(f\"PyTorch GPU: {gpu_time_max} seconds\")"
      ],
      "execution_count": 63,
      "outputs": [
        {
          "output_type": "display_data",
          "data": {
            "image/png": "[encoded data removed]",
            "text/plain": [
              "<Figure size 432x288 with 1 Axes>"
            ]
          },
          "metadata": {
            "tags": [],
            "needs_background": "light"
          }
        },
        {
          "output_type": "stream",
          "text": [
            "NumPy CPU: 1.4712892770767212 seconds\n",
            "PyTorch CPU: 0.7453809380531311 seconds\n",
            "PyTorch GPU: 0.000542355002835393 seconds\n"
          ],
          "name": "stdout"
        }
      ]
    }
  ]
}