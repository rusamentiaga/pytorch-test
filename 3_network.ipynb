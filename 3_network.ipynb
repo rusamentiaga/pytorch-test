{
  "nbformat": 4,
  "nbformat_minor": 0,
  "metadata": {
    "colab": {
      "name": "3_network.ipynb",
      "provenance": [],
      "authorship_tag": "ABX9TyN3r0g+h6R2r9XnNC7UHGvh",
      "include_colab_link": true
    },
    "kernelspec": {
      "name": "python3",
      "display_name": "Python 3"
    },
    "language_info": {
      "name": "python"
    },
    "accelerator": "GPU",
    "widgets": {
      "application/vnd.jupyter.widget-state+json": {
        "d405b0e1951a4c34b10b0488c4713a04": {
          "model_module": "@jupyter-widgets/controls",
          "model_name": "HBoxModel",
          "state": {
            "_view_name": "HBoxView",
            "_dom_classes": [],
            "_model_name": "HBoxModel",
            "_view_module": "@jupyter-widgets/controls",
            "_model_module_version": "1.5.0",
            "_view_count": null,
            "_view_module_version": "1.5.0",
            "box_style": "",
            "layout": "IPY_MODEL_147bf4e541c64d2399cae36155c8fb67",
            "_model_module": "@jupyter-widgets/controls",
            "children": [
              "IPY_MODEL_fe73391dcb544656a4f25efe8e913037",
              "IPY_MODEL_7a7c4514e21e4135832adba2a25db1e0"
            ]
          }
        },
        "147bf4e541c64d2399cae36155c8fb67": {
          "model_module": "@jupyter-widgets/base",
          "model_name": "LayoutModel",
          "state": {
            "_view_name": "LayoutView",
            "grid_template_rows": null,
            "right": null,
            "justify_content": null,
            "_view_module": "@jupyter-widgets/base",
            "overflow": null,
            "_model_module_version": "1.2.0",
            "_view_count": null,
            "flex_flow": null,
            "width": null,
            "min_width": null,
            "border": null,
            "align_items": null,
            "bottom": null,
            "_model_module": "@jupyter-widgets/base",
            "top": null,
            "grid_column": null,
            "overflow_y": null,
            "overflow_x": null,
            "grid_auto_flow": null,
            "grid_area": null,
            "grid_template_columns": null,
            "flex": null,
            "_model_name": "LayoutModel",
            "justify_items": null,
            "grid_row": null,
            "max_height": null,
            "align_content": null,
            "visibility": null,
            "align_self": null,
            "height": null,
            "min_height": null,
            "padding": null,
            "grid_auto_rows": null,
            "grid_gap": null,
            "max_width": null,
            "order": null,
            "_view_module_version": "1.2.0",
            "grid_template_areas": null,
            "object_position": null,
            "object_fit": null,
            "grid_auto_columns": null,
            "margin": null,
            "display": null,
            "left": null
          }
        },
        "fe73391dcb544656a4f25efe8e913037": {
          "model_module": "@jupyter-widgets/controls",
          "model_name": "FloatProgressModel",
          "state": {
            "_view_name": "ProgressView",
            "style": "IPY_MODEL_c026db89c1604d748fe08e136757d81c",
            "_dom_classes": [],
            "description": "",
            "_model_name": "FloatProgressModel",
            "bar_style": "success",
            "max": 1648877,
            "_view_module": "@jupyter-widgets/controls",
            "_model_module_version": "1.5.0",
            "value": 1648877,
            "_view_count": null,
            "_view_module_version": "1.5.0",
            "orientation": "horizontal",
            "min": 0,
            "description_tooltip": null,
            "_model_module": "@jupyter-widgets/controls",
            "layout": "IPY_MODEL_a2c81ae965e5449bbd09fd9d7ddc063f"
          }
        },
        "7a7c4514e21e4135832adba2a25db1e0": {
          "model_module": "@jupyter-widgets/controls",
          "model_name": "HTMLModel",
          "state": {
            "_view_name": "HTMLView",
            "style": "IPY_MODEL_4bde4cbfce1c464e9b5f960728d30fb9",
            "_dom_classes": [],
            "description": "",
            "_model_name": "HTMLModel",
            "placeholder": "​",
            "_view_module": "@jupyter-widgets/controls",
            "_model_module_version": "1.5.0",
            "value": " 1649664/? [01:23&lt;00:00, 19641.52it/s]",
            "_view_count": null,
            "_view_module_version": "1.5.0",
            "description_tooltip": null,
            "_model_module": "@jupyter-widgets/controls",
            "layout": "IPY_MODEL_8f12d36a3b5b4c539c1ac454e77241bb"
          }
        },
        "c026db89c1604d748fe08e136757d81c": {
          "model_module": "@jupyter-widgets/controls",
          "model_name": "ProgressStyleModel",
          "state": {
            "_view_name": "StyleView",
            "_model_name": "ProgressStyleModel",
            "description_width": "initial",
            "_view_module": "@jupyter-widgets/base",
            "_model_module_version": "1.5.0",
            "_view_count": null,
            "_view_module_version": "1.2.0",
            "bar_color": null,
            "_model_module": "@jupyter-widgets/controls"
          }
        },
        "a2c81ae965e5449bbd09fd9d7ddc063f": {
          "model_module": "@jupyter-widgets/base",
          "model_name": "LayoutModel",
          "state": {
            "_view_name": "LayoutView",
            "grid_template_rows": null,
            "right": null,
            "justify_content": null,
            "_view_module": "@jupyter-widgets/base",
            "overflow": null,
            "_model_module_version": "1.2.0",
            "_view_count": null,
            "flex_flow": null,
            "width": null,
            "min_width": null,
            "border": null,
            "align_items": null,
            "bottom": null,
            "_model_module": "@jupyter-widgets/base",
            "top": null,
            "grid_column": null,
            "overflow_y": null,
            "overflow_x": null,
            "grid_auto_flow": null,
            "grid_area": null,
            "grid_template_columns": null,
            "flex": null,
            "_model_name": "LayoutModel",
            "justify_items": null,
            "grid_row": null,
            "max_height": null,
            "align_content": null,
            "visibility": null,
            "align_self": null,
            "height": null,
            "min_height": null,
            "padding": null,
            "grid_auto_rows": null,
            "grid_gap": null,
            "max_width": null,
            "order": null,
            "_view_module_version": "1.2.0",
            "grid_template_areas": null,
            "object_position": null,
            "object_fit": null,
            "grid_auto_columns": null,
            "margin": null,
            "display": null,
            "left": null
          }
        },
        "4bde4cbfce1c464e9b5f960728d30fb9": {
          "model_module": "@jupyter-widgets/controls",
          "model_name": "DescriptionStyleModel",
          "state": {
            "_view_name": "StyleView",
            "_model_name": "DescriptionStyleModel",
            "description_width": "",
            "_view_module": "@jupyter-widgets/base",
            "_model_module_version": "1.5.0",
            "_view_count": null,
            "_view_module_version": "1.2.0",
            "_model_module": "@jupyter-widgets/controls"
          }
        },
        "8f12d36a3b5b4c539c1ac454e77241bb": {
          "model_module": "@jupyter-widgets/base",
          "model_name": "LayoutModel",
          "state": {
            "_view_name": "LayoutView",
            "grid_template_rows": null,
            "right": null,
            "justify_content": null,
            "_view_module": "@jupyter-widgets/base",
            "overflow": null,
            "_model_module_version": "1.2.0",
            "_view_count": null,
            "flex_flow": null,
            "width": null,
            "min_width": null,
            "border": null,
            "align_items": null,
            "bottom": null,
            "_model_module": "@jupyter-widgets/base",
            "top": null,
            "grid_column": null,
            "overflow_y": null,
            "overflow_x": null,
            "grid_auto_flow": null,
            "grid_area": null,
            "grid_template_columns": null,
            "flex": null,
            "_model_name": "LayoutModel",
            "justify_items": null,
            "grid_row": null,
            "max_height": null,
            "align_content": null,
            "visibility": null,
            "align_self": null,
            "height": null,
            "min_height": null,
            "padding": null,
            "grid_auto_rows": null,
            "grid_gap": null,
            "max_width": null,
            "order": null,
            "_view_module_version": "1.2.0",
            "grid_template_areas": null,
            "object_position": null,
            "object_fit": null,
            "grid_auto_columns": null,
            "margin": null,
            "display": null,
            "left": null
          }
        },
        "b76499ae11f549dfb7358338b71db908": {
          "model_module": "@jupyter-widgets/controls",
          "model_name": "HBoxModel",
          "state": {
            "_view_name": "HBoxView",
            "_dom_classes": [],
            "_model_name": "HBoxModel",
            "_view_module": "@jupyter-widgets/controls",
            "_model_module_version": "1.5.0",
            "_view_count": null,
            "_view_module_version": "1.5.0",
            "box_style": "",
            "layout": "IPY_MODEL_cacafbdafa9545c991038ab27cb6735d",
            "_model_module": "@jupyter-widgets/controls",
            "children": [
              "IPY_MODEL_a170a15b7cec4fb6954be50b2c848839",
              "IPY_MODEL_14de75b4b70744bcb9963b2f33f4fc12"
            ]
          }
        },
        "cacafbdafa9545c991038ab27cb6735d": {
          "model_module": "@jupyter-widgets/base",
          "model_name": "LayoutModel",
          "state": {
            "_view_name": "LayoutView",
            "grid_template_rows": null,
            "right": null,
            "justify_content": null,
            "_view_module": "@jupyter-widgets/base",
            "overflow": null,
            "_model_module_version": "1.2.0",
            "_view_count": null,
            "flex_flow": null,
            "width": null,
            "min_width": null,
            "border": null,
            "align_items": null,
            "bottom": null,
            "_model_module": "@jupyter-widgets/base",
            "top": null,
            "grid_column": null,
            "overflow_y": null,
            "overflow_x": null,
            "grid_auto_flow": null,
            "grid_area": null,
            "grid_template_columns": null,
            "flex": null,
            "_model_name": "LayoutModel",
            "justify_items": null,
            "grid_row": null,
            "max_height": null,
            "align_content": null,
            "visibility": null,
            "align_self": null,
            "height": null,
            "min_height": null,
            "padding": null,
            "grid_auto_rows": null,
            "grid_gap": null,
            "max_width": null,
            "order": null,
            "_view_module_version": "1.2.0",
            "grid_template_areas": null,
            "object_position": null,
            "object_fit": null,
            "grid_auto_columns": null,
            "margin": null,
            "display": null,
            "left": null
          }
        },
        "a170a15b7cec4fb6954be50b2c848839": {
          "model_module": "@jupyter-widgets/controls",
          "model_name": "FloatProgressModel",
          "state": {
            "_view_name": "ProgressView",
            "style": "IPY_MODEL_fc674b0b79334d6da8cb818cae5eb565",
            "_dom_classes": [],
            "description": "",
            "_model_name": "FloatProgressModel",
            "bar_style": "success",
            "max": 4542,
            "_view_module": "@jupyter-widgets/controls",
            "_model_module_version": "1.5.0",
            "value": 4542,
            "_view_count": null,
            "_view_module_version": "1.5.0",
            "orientation": "horizontal",
            "min": 0,
            "description_tooltip": null,
            "_model_module": "@jupyter-widgets/controls",
            "layout": "IPY_MODEL_9f42fdeeb79d494f9e35cff0036f6236"
          }
        },
        "14de75b4b70744bcb9963b2f33f4fc12": {
          "model_module": "@jupyter-widgets/controls",
          "model_name": "HTMLModel",
          "state": {
            "_view_name": "HTMLView",
            "style": "IPY_MODEL_e2c1ef1e20d24fd78e800447c64ef662",
            "_dom_classes": [],
            "description": "",
            "_model_name": "HTMLModel",
            "placeholder": "​",
            "_view_module": "@jupyter-widgets/controls",
            "_model_module_version": "1.5.0",
            "value": " 5120/? [00:31&lt;00:00, 160.43it/s]",
            "_view_count": null,
            "_view_module_version": "1.5.0",
            "description_tooltip": null,
            "_model_module": "@jupyter-widgets/controls",
            "layout": "IPY_MODEL_1eb65335684f4c02baf4bbdbb7232e20"
          }
        },
        "fc674b0b79334d6da8cb818cae5eb565": {
          "model_module": "@jupyter-widgets/controls",
          "model_name": "ProgressStyleModel",
          "state": {
            "_view_name": "StyleView",
            "_model_name": "ProgressStyleModel",
            "description_width": "initial",
            "_view_module": "@jupyter-widgets/base",
            "_model_module_version": "1.5.0",
            "_view_count": null,
            "_view_module_version": "1.2.0",
            "bar_color": null,
            "_model_module": "@jupyter-widgets/controls"
          }
        },
        "9f42fdeeb79d494f9e35cff0036f6236": {
          "model_module": "@jupyter-widgets/base",
          "model_name": "LayoutModel",
          "state": {
            "_view_name": "LayoutView",
            "grid_template_rows": null,
            "right": null,
            "justify_content": null,
            "_view_module": "@jupyter-widgets/base",
            "overflow": null,
            "_model_module_version": "1.2.0",
            "_view_count": null,
            "flex_flow": null,
            "width": null,
            "min_width": null,
            "border": null,
            "align_items": null,
            "bottom": null,
            "_model_module": "@jupyter-widgets/base",
            "top": null,
            "grid_column": null,
            "overflow_y": null,
            "overflow_x": null,
            "grid_auto_flow": null,
            "grid_area": null,
            "grid_template_columns": null,
            "flex": null,
            "_model_name": "LayoutModel",
            "justify_items": null,
            "grid_row": null,
            "max_height": null,
            "align_content": null,
            "visibility": null,
            "align_self": null,
            "height": null,
            "min_height": null,
            "padding": null,
            "grid_auto_rows": null,
            "grid_gap": null,
            "max_width": null,
            "order": null,
            "_view_module_version": "1.2.0",
            "grid_template_areas": null,
            "object_position": null,
            "object_fit": null,
            "grid_auto_columns": null,
            "margin": null,
            "display": null,
            "left": null
          }
        },
        "e2c1ef1e20d24fd78e800447c64ef662": {
          "model_module": "@jupyter-widgets/controls",
          "model_name": "DescriptionStyleModel",
          "state": {
            "_view_name": "StyleView",
            "_model_name": "DescriptionStyleModel",
            "description_width": "",
            "_view_module": "@jupyter-widgets/base",
            "_model_module_version": "1.5.0",
            "_view_count": null,
            "_view_module_version": "1.2.0",
            "_model_module": "@jupyter-widgets/controls"
          }
        },
        "1eb65335684f4c02baf4bbdbb7232e20": {
          "model_module": "@jupyter-widgets/base",
          "model_name": "LayoutModel",
          "state": {
            "_view_name": "LayoutView",
            "grid_template_rows": null,
            "right": null,
            "justify_content": null,
            "_view_module": "@jupyter-widgets/base",
            "overflow": null,
            "_model_module_version": "1.2.0",
            "_view_count": null,
            "flex_flow": null,
            "width": null,
            "min_width": null,
            "border": null,
            "align_items": null,
            "bottom": null,
            "_model_module": "@jupyter-widgets/base",
            "top": null,
            "grid_column": null,
            "overflow_y": null,
            "overflow_x": null,
            "grid_auto_flow": null,
            "grid_area": null,
            "grid_template_columns": null,
            "flex": null,
            "_model_name": "LayoutModel",
            "justify_items": null,
            "grid_row": null,
            "max_height": null,
            "align_content": null,
            "visibility": null,
            "align_self": null,
            "height": null,
            "min_height": null,
            "padding": null,
            "grid_auto_rows": null,
            "grid_gap": null,
            "max_width": null,
            "order": null,
            "_view_module_version": "1.2.0",
            "grid_template_areas": null,
            "object_position": null,
            "object_fit": null,
            "grid_auto_columns": null,
            "margin": null,
            "display": null,
            "left": null
          }
        },
        "3a87753124ed444aac0acaec5864b146": {
          "model_module": "@jupyter-widgets/controls",
          "model_name": "VBoxModel",
          "state": {
            "_view_name": "VBoxView",
            "_dom_classes": [
              "widget-interact"
            ],
            "_model_name": "VBoxModel",
            "_view_module": "@jupyter-widgets/controls",
            "_model_module_version": "1.5.0",
            "_view_count": null,
            "_view_module_version": "1.5.0",
            "box_style": "",
            "layout": "IPY_MODEL_1a491b769ea44c07806046dff5e6be3d",
            "_model_module": "@jupyter-widgets/controls",
            "children": [
              "IPY_MODEL_e4d1118274b448abbc4a1407195abc07",
              "IPY_MODEL_57fd36edb6aa49d29df878f2cd7bf29a"
            ]
          }
        },
        "1a491b769ea44c07806046dff5e6be3d": {
          "model_module": "@jupyter-widgets/base",
          "model_name": "LayoutModel",
          "state": {
            "_view_name": "LayoutView",
            "grid_template_rows": null,
            "right": null,
            "justify_content": null,
            "_view_module": "@jupyter-widgets/base",
            "overflow": null,
            "_model_module_version": "1.2.0",
            "_view_count": null,
            "flex_flow": null,
            "width": null,
            "min_width": null,
            "border": null,
            "align_items": null,
            "bottom": null,
            "_model_module": "@jupyter-widgets/base",
            "top": null,
            "grid_column": null,
            "overflow_y": null,
            "overflow_x": null,
            "grid_auto_flow": null,
            "grid_area": null,
            "grid_template_columns": null,
            "flex": null,
            "_model_name": "LayoutModel",
            "justify_items": null,
            "grid_row": null,
            "max_height": null,
            "align_content": null,
            "visibility": null,
            "align_self": null,
            "height": null,
            "min_height": null,
            "padding": null,
            "grid_auto_rows": null,
            "grid_gap": null,
            "max_width": null,
            "order": null,
            "_view_module_version": "1.2.0",
            "grid_template_areas": null,
            "object_position": null,
            "object_fit": null,
            "grid_auto_columns": null,
            "margin": null,
            "display": null,
            "left": null
          }
        },
        "e4d1118274b448abbc4a1407195abc07": {
          "model_module": "@jupyter-widgets/controls",
          "model_name": "IntSliderModel",
          "state": {
            "_view_name": "IntSliderView",
            "style": "IPY_MODEL_868b6ae3fca143158a2e0dd14cd862e5",
            "_dom_classes": [],
            "description": "i",
            "step": 1,
            "_model_name": "IntSliderModel",
            "orientation": "horizontal",
            "max": 59999,
            "_view_module": "@jupyter-widgets/controls",
            "_model_module_version": "1.5.0",
            "value": 31104,
            "_view_count": null,
            "disabled": false,
            "_view_module_version": "1.5.0",
            "min": 0,
            "continuous_update": true,
            "readout_format": "d",
            "description_tooltip": null,
            "readout": true,
            "_model_module": "@jupyter-widgets/controls",
            "layout": "IPY_MODEL_36f8b8696fae47fea38089a4007a8858"
          }
        },
        "57fd36edb6aa49d29df878f2cd7bf29a": {
          "model_module": "@jupyter-widgets/output",
          "model_name": "OutputModel",
          "state": {
            "_view_name": "OutputView",
            "msg_id": "",
            "_dom_classes": [],
            "_model_name": "OutputModel",
            "outputs": [
              {
                "output_type": "display_data",
                "metadata": {
                  "tags": [],
                  "needs_background": "light"
                },
                "image/png": "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\n",
                "text/plain": "<Figure size 432x288 with 1 Axes>"
              }
            ],
            "_view_module": "@jupyter-widgets/output",
            "_model_module_version": "1.0.0",
            "_view_count": null,
            "_view_module_version": "1.0.0",
            "layout": "IPY_MODEL_1b749bf0908642249a85b7d8f77f97d7",
            "_model_module": "@jupyter-widgets/output"
          }
        },
        "868b6ae3fca143158a2e0dd14cd862e5": {
          "model_module": "@jupyter-widgets/controls",
          "model_name": "SliderStyleModel",
          "state": {
            "_view_name": "StyleView",
            "handle_color": null,
            "_model_name": "SliderStyleModel",
            "description_width": "",
            "_view_module": "@jupyter-widgets/base",
            "_model_module_version": "1.5.0",
            "_view_count": null,
            "_view_module_version": "1.2.0",
            "_model_module": "@jupyter-widgets/controls"
          }
        },
        "36f8b8696fae47fea38089a4007a8858": {
          "model_module": "@jupyter-widgets/base",
          "model_name": "LayoutModel",
          "state": {
            "_view_name": "LayoutView",
            "grid_template_rows": null,
            "right": null,
            "justify_content": null,
            "_view_module": "@jupyter-widgets/base",
            "overflow": null,
            "_model_module_version": "1.2.0",
            "_view_count": null,
            "flex_flow": null,
            "width": null,
            "min_width": null,
            "border": null,
            "align_items": null,
            "bottom": null,
            "_model_module": "@jupyter-widgets/base",
            "top": null,
            "grid_column": null,
            "overflow_y": null,
            "overflow_x": null,
            "grid_auto_flow": null,
            "grid_area": null,
            "grid_template_columns": null,
            "flex": null,
            "_model_name": "LayoutModel",
            "justify_items": null,
            "grid_row": null,
            "max_height": null,
            "align_content": null,
            "visibility": null,
            "align_self": null,
            "height": null,
            "min_height": null,
            "padding": null,
            "grid_auto_rows": null,
            "grid_gap": null,
            "max_width": null,
            "order": null,
            "_view_module_version": "1.2.0",
            "grid_template_areas": null,
            "object_position": null,
            "object_fit": null,
            "grid_auto_columns": null,
            "margin": null,
            "display": null,
            "left": null
          }
        },
        "1b749bf0908642249a85b7d8f77f97d7": {
          "model_module": "@jupyter-widgets/base",
          "model_name": "LayoutModel",
          "state": {
            "_view_name": "LayoutView",
            "grid_template_rows": null,
            "right": null,
            "justify_content": null,
            "_view_module": "@jupyter-widgets/base",
            "overflow": null,
            "_model_module_version": "1.2.0",
            "_view_count": null,
            "flex_flow": null,
            "width": null,
            "min_width": null,
            "border": null,
            "align_items": null,
            "bottom": null,
            "_model_module": "@jupyter-widgets/base",
            "top": null,
            "grid_column": null,
            "overflow_y": null,
            "overflow_x": null,
            "grid_auto_flow": null,
            "grid_area": null,
            "grid_template_columns": null,
            "flex": null,
            "_model_name": "LayoutModel",
            "justify_items": null,
            "grid_row": null,
            "max_height": null,
            "align_content": null,
            "visibility": null,
            "align_self": null,
            "height": null,
            "min_height": null,
            "padding": null,
            "grid_auto_rows": null,
            "grid_gap": null,
            "max_width": null,
            "order": null,
            "_view_module_version": "1.2.0",
            "grid_template_areas": null,
            "object_position": null,
            "object_fit": null,
            "grid_auto_columns": null,
            "margin": null,
            "display": null,
            "left": null
          }
        }
      }
    }
  },
  "cells": [
    {
      "cell_type": "markdown",
      "metadata": {
        "id": "view-in-github",
        "colab_type": "text"
      },
      "source": [
        "<a href=\"https://colab.research.google.com/github/rusamentiaga/pytorch-test/blob/main/3_network.ipynb\" target=\"_parent\"><img src=\"https://colab.research.google.com/assets/colab-badge.svg\" alt=\"Open In Colab\"/></a>"
      ]
    },
    {
      "cell_type": "code",
      "metadata": {
        "id": "jUGxYfzVf7qC"
      },
      "source": [
        "import torch\n",
        "import torch.nn as nn\n",
        "import torchvision\n",
        "import torchvision.transforms as transforms\n",
        "\n",
        "\n",
        "# Device configuration\n",
        "device = torch.device('cuda' if torch.cuda.is_available() else 'cpu')\n",
        "\n",
        "# Hyper-parameters \n",
        "input_size = 784\n",
        "hidden_size = 500\n",
        "num_classes = 10\n",
        "num_epochs = 5\n",
        "batch_size = 100\n",
        "learning_rate = 0.001"
      ],
      "execution_count": 1,
      "outputs": []
    },
    {
      "cell_type": "code",
      "metadata": {
        "colab": {
          "base_uri": "https://localhost:8080/",
          "height": 360,
          "referenced_widgets": [
            "d405b0e1951a4c34b10b0488c4713a04",
            "147bf4e541c64d2399cae36155c8fb67",
            "fe73391dcb544656a4f25efe8e913037",
            "7a7c4514e21e4135832adba2a25db1e0",
            "c026db89c1604d748fe08e136757d81c",
            "a2c81ae965e5449bbd09fd9d7ddc063f",
            "4bde4cbfce1c464e9b5f960728d30fb9",
            "8f12d36a3b5b4c539c1ac454e77241bb",
            "b76499ae11f549dfb7358338b71db908",
            "cacafbdafa9545c991038ab27cb6735d",
            "a170a15b7cec4fb6954be50b2c848839",
            "14de75b4b70744bcb9963b2f33f4fc12",
            "fc674b0b79334d6da8cb818cae5eb565",
            "9f42fdeeb79d494f9e35cff0036f6236",
            "e2c1ef1e20d24fd78e800447c64ef662",
            "1eb65335684f4c02baf4bbdbb7232e20"
          ]
        },
        "id": "fgIZPtEygC8h",
        "outputId": "f83ca1c9-7acd-4991-ea1d-c6190596b0b1"
      },
      "source": [
        "# MNIST dataset \n",
        "train_dataset = torchvision.datasets.MNIST(root='./data', \n",
        "                                           train=True, \n",
        "                                           transform=transforms.ToTensor(),  \n",
        "                                           download=True)\n",
        "\n",
        "test_dataset = torchvision.datasets.MNIST(root='./data', \n",
        "                                          train=False, \n",
        "                                          transform=transforms.ToTensor())\n",
        "\n",
        "# Data loader\n",
        "train_loader = torch.utils.data.DataLoader(dataset=train_dataset, \n",
        "                                           batch_size=batch_size, \n",
        "                                           shuffle=True)\n",
        "\n",
        "test_loader = torch.utils.data.DataLoader(dataset=test_dataset, \n",
        "                                          batch_size=batch_size, \n",
        "                                          shuffle=False)"
      ],
      "execution_count": 23,
      "outputs": [
        {
          "output_type": "stream",
          "text": [
            "Using downloaded and verified file: ./data/MNIST/raw/train-images-idx3-ubyte.gz\n",
            "Extracting ./data/MNIST/raw/train-images-idx3-ubyte.gz to ./data/MNIST/raw\n",
            "Using downloaded and verified file: ./data/MNIST/raw/train-labels-idx1-ubyte.gz\n",
            "Extracting ./data/MNIST/raw/train-labels-idx1-ubyte.gz to ./data/MNIST/raw\n",
            "Downloading http://yann.lecun.com/exdb/mnist/t10k-images-idx3-ubyte.gz to ./data/MNIST/raw/t10k-images-idx3-ubyte.gz\n"
          ],
          "name": "stdout"
        },
        {
          "output_type": "display_data",
          "data": {
            "application/vnd.jupyter.widget-view+json": {
              "model_id": "d405b0e1951a4c34b10b0488c4713a04",
              "version_minor": 0,
              "version_major": 2
            },
            "text/plain": [
              "HBox(children=(FloatProgress(value=0.0, max=1648877.0), HTML(value='')))"
            ]
          },
          "metadata": {
            "tags": []
          }
        },
        {
          "output_type": "stream",
          "text": [
            "\n",
            "Extracting ./data/MNIST/raw/t10k-images-idx3-ubyte.gz to ./data/MNIST/raw\n",
            "Downloading http://yann.lecun.com/exdb/mnist/t10k-labels-idx1-ubyte.gz to ./data/MNIST/raw/t10k-labels-idx1-ubyte.gz\n"
          ],
          "name": "stdout"
        },
        {
          "output_type": "display_data",
          "data": {
            "application/vnd.jupyter.widget-view+json": {
              "model_id": "b76499ae11f549dfb7358338b71db908",
              "version_minor": 0,
              "version_major": 2
            },
            "text/plain": [
              "HBox(children=(FloatProgress(value=0.0, max=4542.0), HTML(value='')))"
            ]
          },
          "metadata": {
            "tags": []
          }
        },
        {
          "output_type": "stream",
          "text": [
            "\n",
            "Extracting ./data/MNIST/raw/t10k-labels-idx1-ubyte.gz to ./data/MNIST/raw\n",
            "Processing...\n",
            "Done!\n"
          ],
          "name": "stdout"
        },
        {
          "output_type": "stream",
          "text": [
            "/usr/local/lib/python3.7/dist-packages/torchvision/datasets/mnist.py:479: UserWarning: The given NumPy array is not writeable, and PyTorch does not support non-writeable tensors. This means you can write to the underlying (supposedly non-writeable) NumPy array using the tensor. You may want to copy the array to protect its data or make it writeable before converting it to a tensor. This type of warning will be suppressed for the rest of this program. (Triggered internally at  /pytorch/torch/csrc/utils/tensor_numpy.cpp:143.)\n",
            "  return torch.from_numpy(parsed.astype(m[2], copy=False)).view(*s)\n"
          ],
          "name": "stderr"
        }
      ]
    },
    {
      "cell_type": "code",
      "metadata": {
        "colab": {
          "base_uri": "https://localhost:8080/"
        },
        "id": "ajErI-AhirYt",
        "outputId": "444df86b-4afd-4a64-9048-526eccc5fe3e"
      },
      "source": [
        "!ls data/MNIST/processed/"
      ],
      "execution_count": 24,
      "outputs": [
        {
          "output_type": "stream",
          "text": [
            "test.pt  training.pt\n"
          ],
          "name": "stdout"
        }
      ]
    },
    {
      "cell_type": "code",
      "metadata": {
        "colab": {
          "base_uri": "https://localhost:8080/",
          "height": 313,
          "referenced_widgets": [
            "3a87753124ed444aac0acaec5864b146",
            "1a491b769ea44c07806046dff5e6be3d",
            "e4d1118274b448abbc4a1407195abc07",
            "57fd36edb6aa49d29df878f2cd7bf29a",
            "868b6ae3fca143158a2e0dd14cd862e5",
            "36f8b8696fae47fea38089a4007a8858",
            "1b749bf0908642249a85b7d8f77f97d7"
          ]
        },
        "id": "9316dFjj9fmR",
        "outputId": "a676ed69-8381-47f1-ca58-4c5d60d9b3a2"
      },
      "source": [
        "import matplotlib.pyplot as plt\n",
        "from ipywidgets import interact\n",
        "\n",
        "def ShowSample(i):\n",
        "  sample=train_dataset[i]\n",
        "  img = sample[0]\n",
        "  label = sample[1]\n",
        "  img = img.squeeze()\n",
        "  img.shape\n",
        "  plt.imshow(img)\n",
        "  plt.gray()\n",
        "  plt.title(f'Label: {label}')\n",
        "\n",
        "interact(ShowSample, i=(0,len(train_dataset)-1));"
      ],
      "execution_count": 61,
      "outputs": [
        {
          "output_type": "display_data",
          "data": {
            "application/vnd.jupyter.widget-view+json": {
              "model_id": "3a87753124ed444aac0acaec5864b146",
              "version_minor": 0,
              "version_major": 2
            },
            "text/plain": [
              "interactive(children=(IntSlider(value=29999, description='i', max=59999), Output()), _dom_classes=('widget-int…"
            ]
          },
          "metadata": {
            "tags": []
          }
        }
      ]
    },
    {
      "cell_type": "code",
      "metadata": {
        "colab": {
          "base_uri": "https://localhost:8080/",
          "height": 244
        },
        "id": "KClWoRDMjkiV",
        "outputId": "064fcf34-ad30-4f59-ce15-feb2dd286fea"
      },
      "source": [
        "rows = 10\n",
        "cols = 20\n",
        "\n",
        "for i in range(rows):\n",
        "  for j in range(cols):\n",
        "    plt.subplot(rows,cols,1 + i*cols + j)\n",
        "    sample=train_dataset[i*cols + j]\n",
        "    img = sample[0]\n",
        "    img = img.squeeze()\n",
        "    plt.imshow(img)\n",
        "    plt.gray()\n",
        "    plt.axis('off')\n"
      ],
      "execution_count": 94,
      "outputs": [
        {
          "output_type": "display_data",
          "data": {
            "image/png": "[encoded data removed]",
            "text/plain": [
              "<Figure size 432x288 with 200 Axes>"
            ]
          },
          "metadata": {
            "tags": [],
            "needs_background": "light"
          }
        }
      ]
    },
    {
      "cell_type": "code",
      "metadata": {
        "colab": {
          "base_uri": "https://localhost:8080/",
          "height": 283
        },
        "id": "vx4CleuKo3D3",
        "outputId": "c9e970cf-6b56-4cd1-bc0b-021ef5c1b7cd"
      },
      "source": [
        "import matplotlib.pyplot as plt\n",
        "\n",
        "for i, (images, labels) in enumerate(train_loader): \n",
        "  if i == 3:\n",
        "    plt.figure()\n",
        "    plt.imshow(images[0,0,:,:])\n",
        "    break\n",
        "images.shape"
      ],
      "execution_count": 95,
      "outputs": [
        {
          "output_type": "execute_result",
          "data": {
            "text/plain": [
              "torch.Size([100, 1, 28, 28])"
            ]
          },
          "metadata": {
            "tags": []
          },
          "execution_count": 95
        },
        {
          "output_type": "display_data",
          "data": {
            "image/png": "[encoded data removed]",
            "text/plain": [
              "<Figure size 432x288 with 1 Axes>"
            ]
          },
          "metadata": {
            "tags": [],
            "needs_background": "light"
          }
        }
      ]
    },
    {
      "cell_type": "code",
      "metadata": {
        "colab": {
          "base_uri": "https://localhost:8080/"
        },
        "id": "XIvULeUAfQyb",
        "outputId": "791116a0-1a73-41e0-fa9c-12004401510d"
      },
      "source": [
        "\n",
        "\n",
        "# Fully connected neural network with one hidden layer\n",
        "class NeuralNet(nn.Module):\n",
        "    def __init__(self, input_size, hidden_size, num_classes):\n",
        "        super(NeuralNet, self).__init__()\n",
        "        self.fc1 = nn.Linear(input_size, hidden_size) \n",
        "        self.relu = nn.ReLU()\n",
        "        self.fc2 = nn.Linear(hidden_size, num_classes)  \n",
        "    \n",
        "    def forward(self, x):\n",
        "        out = self.fc1(x)\n",
        "        out = self.relu(out)\n",
        "        out = self.fc2(out)\n",
        "        return out\n",
        "\n",
        "model = NeuralNet(input_size, hidden_size, num_classes).to(device)\n",
        "\n",
        "# Loss and optimizer\n",
        "criterion = nn.CrossEntropyLoss()\n",
        "optimizer = torch.optim.Adam(model.parameters(), lr=learning_rate)  \n",
        "\n",
        "# Train the model\n",
        "total_step = len(train_loader)\n",
        "for epoch in range(num_epochs):\n",
        "    for i, (images, labels) in enumerate(train_loader):  \n",
        "        # Move tensors to the configured device\n",
        "        images = images.reshape(-1, 28*28).to(device)\n",
        "        labels = labels.to(device)\n",
        "        \n",
        "        # Forward pass\n",
        "        outputs = model(images)\n",
        "        loss = criterion(outputs, labels)\n",
        "        \n",
        "        # Backward and optimize\n",
        "        optimizer.zero_grad()\n",
        "        loss.backward()\n",
        "        optimizer.step()\n",
        "        \n",
        "        if (i+1) % 100 == 0:\n",
        "            print ('Epoch [{}/{}], Step [{}/{}], Loss: {:.4f}' \n",
        "                   .format(epoch+1, num_epochs, i+1, total_step, loss.item()))\n",
        "\n",
        "# Test the model\n",
        "# In test phase, we don't need to compute gradients (for memory efficiency)\n",
        "with torch.no_grad():\n",
        "    correct = 0\n",
        "    total = 0\n",
        "    for images, labels in test_loader:\n",
        "        images = images.reshape(-1, 28*28).to(device)\n",
        "        labels = labels.to(device)\n",
        "        outputs = model(images)\n",
        "        _, predicted = torch.max(outputs.data, 1)\n",
        "        total += labels.size(0)\n",
        "        correct += (predicted == labels).sum().item()\n",
        "\n",
        "    print('Accuracy of the network on the 10000 test images: {} %'.format(100 * correct / total))"
      ],
      "execution_count": 96,
      "outputs": [
        {
          "output_type": "stream",
          "text": [
            "Epoch [1/5], Step [100/600], Loss: 0.4335\n",
            "Epoch [1/5], Step [200/600], Loss: 0.1857\n",
            "Epoch [1/5], Step [300/600], Loss: 0.2063\n",
            "Epoch [1/5], Step [400/600], Loss: 0.2440\n",
            "Epoch [1/5], Step [500/600], Loss: 0.2081\n",
            "Epoch [1/5], Step [600/600], Loss: 0.1461\n",
            "Epoch [2/5], Step [100/600], Loss: 0.1465\n",
            "Epoch [2/5], Step [200/600], Loss: 0.2065\n",
            "Epoch [2/5], Step [300/600], Loss: 0.0659\n",
            "Epoch [2/5], Step [400/600], Loss: 0.0548\n",
            "Epoch [2/5], Step [500/600], Loss: 0.1006\n",
            "Epoch [2/5], Step [600/600], Loss: 0.1703\n",
            "Epoch [3/5], Step [100/600], Loss: 0.0513\n",
            "Epoch [3/5], Step [200/600], Loss: 0.0799\n",
            "Epoch [3/5], Step [300/600], Loss: 0.0260\n",
            "Epoch [3/5], Step [400/600], Loss: 0.0893\n",
            "Epoch [3/5], Step [500/600], Loss: 0.0386\n",
            "Epoch [3/5], Step [600/600], Loss: 0.0572\n",
            "Epoch [4/5], Step [100/600], Loss: 0.0344\n",
            "Epoch [4/5], Step [200/600], Loss: 0.1361\n",
            "Epoch [4/5], Step [300/600], Loss: 0.0495\n",
            "Epoch [4/5], Step [400/600], Loss: 0.0510\n",
            "Epoch [4/5], Step [500/600], Loss: 0.0497\n",
            "Epoch [4/5], Step [600/600], Loss: 0.0522\n",
            "Epoch [5/5], Step [100/600], Loss: 0.0658\n",
            "Epoch [5/5], Step [200/600], Loss: 0.0232\n",
            "Epoch [5/5], Step [300/600], Loss: 0.0176\n",
            "Epoch [5/5], Step [400/600], Loss: 0.0373\n",
            "Epoch [5/5], Step [500/600], Loss: 0.0214\n",
            "Epoch [5/5], Step [600/600], Loss: 0.0172\n",
            "Accuracy of the network on the 10000 test images: 98.02 %\n"
          ],
          "name": "stdout"
        }
      ]
    },
    {
      "cell_type": "code",
      "metadata": {
        "colab": {
          "base_uri": "https://localhost:8080/"
        },
        "id": "a_mTHKuzf6CF",
        "outputId": "8bded56f-ef9c-4f00-cb4a-123e0ef4330b"
      },
      "source": [
        "class ConvNet(nn.Module):\n",
        "    def __init__(self, num_classes=10):\n",
        "        super(ConvNet, self).__init__()\n",
        "        self.layer1 = nn.Sequential(\n",
        "            nn.Conv2d(1, 16, kernel_size=5, stride=1, padding=2),\n",
        "            nn.BatchNorm2d(16),\n",
        "            nn.ReLU(),\n",
        "            nn.MaxPool2d(kernel_size=2, stride=2))\n",
        "        self.layer2 = nn.Sequential(\n",
        "            nn.Conv2d(16, 32, kernel_size=5, stride=1, padding=2),\n",
        "            nn.BatchNorm2d(32),\n",
        "            nn.ReLU(),\n",
        "            nn.MaxPool2d(kernel_size=2, stride=2))\n",
        "        self.fc = nn.Linear(7*7*32, num_classes)\n",
        "        \n",
        "    def forward(self, x):\n",
        "        out = self.layer1(x)\n",
        "        out = self.layer2(out)\n",
        "        out = out.reshape(out.size(0), -1)\n",
        "        out = self.fc(out)\n",
        "        return out\n",
        "\n",
        "model = ConvNet(num_classes).to(device)\n",
        "\n",
        "# Loss and optimizer\n",
        "criterion = nn.CrossEntropyLoss()\n",
        "optimizer = torch.optim.Adam(model.parameters(), lr=learning_rate)\n",
        "\n",
        "# Train the model\n",
        "total_step = len(train_loader)\n",
        "for epoch in range(num_epochs):\n",
        "    for i, (images, labels) in enumerate(train_loader):\n",
        "        images = images.to(device)\n",
        "        labels = labels.to(device)\n",
        "        \n",
        "        # Forward pass\n",
        "        outputs = model(images)\n",
        "        loss = criterion(outputs, labels)\n",
        "        \n",
        "        # Backward and optimize\n",
        "        optimizer.zero_grad()\n",
        "        loss.backward()\n",
        "        optimizer.step()\n",
        "        \n",
        "        if (i+1) % 100 == 0:\n",
        "            print ('Epoch [{}/{}], Step [{}/{}], Loss: {:.4f}' \n",
        "                   .format(epoch+1, num_epochs, i+1, total_step, loss.item()))\n",
        "\n",
        "# Test the model\n",
        "model.eval()  # eval mode (batchnorm uses moving mean/variance instead of mini-batch mean/variance)\n",
        "with torch.no_grad():\n",
        "    correct = 0\n",
        "    total = 0\n",
        "    for images, labels in test_loader:\n",
        "        images = images.to(device)\n",
        "        labels = labels.to(device)\n",
        "        outputs = model(images)\n",
        "        _, predicted = torch.max(outputs.data, 1)\n",
        "        total += labels.size(0)\n",
        "        correct += (predicted == labels).sum().item()\n",
        "\n",
        "    print('Test Accuracy of the model on the 10000 test images: {} %'.format(100 * correct / total))\n",
        "    "
      ],
      "execution_count": 13,
      "outputs": [
        {
          "output_type": "stream",
          "text": [
            "Epoch [1/5], Step [100/600], Loss: 0.1427\n",
            "Epoch [1/5], Step [200/600], Loss: 0.0750\n",
            "Epoch [1/5], Step [300/600], Loss: 0.0699\n",
            "Epoch [1/5], Step [400/600], Loss: 0.1148\n",
            "Epoch [1/5], Step [500/600], Loss: 0.0645\n",
            "Epoch [1/5], Step [600/600], Loss: 0.1749\n",
            "Epoch [2/5], Step [100/600], Loss: 0.0117\n",
            "Epoch [2/5], Step [200/600], Loss: 0.0344\n",
            "Epoch [2/5], Step [300/600], Loss: 0.0134\n",
            "Epoch [2/5], Step [400/600], Loss: 0.0494\n",
            "Epoch [2/5], Step [500/600], Loss: 0.0379\n",
            "Epoch [2/5], Step [600/600], Loss: 0.1414\n",
            "Epoch [3/5], Step [100/600], Loss: 0.1201\n",
            "Epoch [3/5], Step [200/600], Loss: 0.0426\n",
            "Epoch [3/5], Step [300/600], Loss: 0.0664\n",
            "Epoch [3/5], Step [400/600], Loss: 0.0194\n",
            "Epoch [3/5], Step [500/600], Loss: 0.0283\n",
            "Epoch [3/5], Step [600/600], Loss: 0.0327\n",
            "Epoch [4/5], Step [100/600], Loss: 0.0460\n",
            "Epoch [4/5], Step [200/600], Loss: 0.0803\n",
            "Epoch [4/5], Step [300/600], Loss: 0.0051\n",
            "Epoch [4/5], Step [400/600], Loss: 0.0250\n",
            "Epoch [4/5], Step [500/600], Loss: 0.0528\n",
            "Epoch [4/5], Step [600/600], Loss: 0.0131\n",
            "Epoch [5/5], Step [100/600], Loss: 0.0342\n",
            "Epoch [5/5], Step [200/600], Loss: 0.1190\n",
            "Epoch [5/5], Step [300/600], Loss: 0.0296\n",
            "Epoch [5/5], Step [400/600], Loss: 0.0204\n",
            "Epoch [5/5], Step [500/600], Loss: 0.0508\n",
            "Epoch [5/5], Step [600/600], Loss: 0.0038\n",
            "Test Accuracy of the model on the 10000 test images: 99.05 %\n"
          ],
          "name": "stdout"
        }
      ]
    }
  ]
}