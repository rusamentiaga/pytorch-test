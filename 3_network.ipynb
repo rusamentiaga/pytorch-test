{
  "nbformat": 4,
  "nbformat_minor": 0,
  "metadata": {
    "colab": {
      "name": "3_network.ipynb",
      "provenance": [],
      "authorship_tag": "ABX9TyMy0A+yH8fUvJFYKQTbgOIG",
      "include_colab_link": true
    },
    "kernelspec": {
      "name": "python3",
      "display_name": "Python 3"
    },
    "language_info": {
      "name": "python"
    },
    "accelerator": "GPU"
  },
  "cells": [
    {
      "cell_type": "markdown",
      "metadata": {
        "id": "view-in-github",
        "colab_type": "text"
      },
      "source": [
        "<a href=\"https://colab.research.google.com/github/rusamentiaga/pytorch-test/blob/main/3_network.ipynb\" target=\"_parent\"><img src=\"https://colab.research.google.com/assets/colab-badge.svg\" alt=\"Open In Colab\"/></a>"
      ]
    },
    {
      "cell_type": "code",
      "metadata": {
        "id": "jUGxYfzVf7qC"
      },
      "source": [
        "import torch\n",
        "import torch.nn as nn\n",
        "import torchvision\n",
        "import torchvision.transforms as transforms\n",
        "\n",
        "\n",
        "# Device configuration\n",
        "device = torch.device('cuda' if torch.cuda.is_available() else 'cpu')\n",
        "\n",
        "# Hyper-parameters \n",
        "input_size = 784\n",
        "hidden_size = 500\n",
        "num_classes = 10\n",
        "num_epochs = 5\n",
        "batch_size = 100\n",
        "learning_rate = 0.001"
      ],
      "execution_count": 8,
      "outputs": []
    },
    {
      "cell_type": "code",
      "metadata": {
        "colab": {
          "base_uri": "https://localhost:8080/"
        },
        "id": "KClWoRDMjkiV",
        "outputId": "3d61fcf9-f4d4-4612-ec88-5c031ea80680"
      },
      "source": [
        "device"
      ],
      "execution_count": 9,
      "outputs": [
        {
          "output_type": "execute_result",
          "data": {
            "text/plain": [
              "device(type='cuda')"
            ]
          },
          "metadata": {
            "tags": []
          },
          "execution_count": 9
        }
      ]
    },
    {
      "cell_type": "code",
      "metadata": {
        "id": "fgIZPtEygC8h"
      },
      "source": [
        "# MNIST dataset \n",
        "train_dataset = torchvision.datasets.MNIST(root='./data', \n",
        "                                           train=True, \n",
        "                                           transform=transforms.ToTensor(),  \n",
        "                                           download=True)\n",
        "\n",
        "test_dataset = torchvision.datasets.MNIST(root='./data', \n",
        "                                          train=False, \n",
        "                                          transform=transforms.ToTensor())\n",
        "\n",
        "# Data loader\n",
        "train_loader = torch.utils.data.DataLoader(dataset=train_dataset, \n",
        "                                           batch_size=batch_size, \n",
        "                                           shuffle=True)\n",
        "\n",
        "test_loader = torch.utils.data.DataLoader(dataset=test_dataset, \n",
        "                                          batch_size=batch_size, \n",
        "                                          shuffle=False)"
      ],
      "execution_count": 10,
      "outputs": []
    },
    {
      "cell_type": "code",
      "metadata": {
        "colab": {
          "base_uri": "https://localhost:8080/"
        },
        "id": "ajErI-AhirYt",
        "outputId": "791a9e13-8323-4c89-8532-64ec2529c262"
      },
      "source": [
        "!ls data/MNIST/processed/"
      ],
      "execution_count": 14,
      "outputs": [
        {
          "output_type": "stream",
          "text": [
            "test.pt  training.pt\n"
          ],
          "name": "stdout"
        }
      ]
    },
    {
      "cell_type": "code",
      "metadata": {
        "colab": {
          "base_uri": "https://localhost:8080/",
          "height": 265
        },
        "id": "vx4CleuKo3D3",
        "outputId": "d9b42ce1-5c3c-4e5c-8aa1-5e5418226493"
      },
      "source": [
        "import matplotlib.pyplot as plt\n",
        "\n",
        "for i, (images, labels) in enumerate(train_loader): \n",
        "  if i == 3:\n",
        "    plt.figure()\n",
        "    plt.imshow(images[0,0,:,:])\n",
        "    break\n"
      ],
      "execution_count": 35,
      "outputs": [
        {
          "output_type": "display_data",
          "data": {
            "image/png": "[encoded data removed]",
            "text/plain": [
              "<Figure size 432x288 with 1 Axes>"
            ]
          },
          "metadata": {
            "tags": [],
            "needs_background": "light"
          }
        }
      ]
    },
    {
      "cell_type": "code",
      "metadata": {
        "colab": {
          "base_uri": "https://localhost:8080/"
        },
        "id": "XIvULeUAfQyb",
        "outputId": "8d177890-b61e-4d61-fc5d-77ceb6302d66"
      },
      "source": [
        "\n",
        "\n",
        "# Fully connected neural network with one hidden layer\n",
        "class NeuralNet(nn.Module):\n",
        "    def __init__(self, input_size, hidden_size, num_classes):\n",
        "        super(NeuralNet, self).__init__()\n",
        "        self.fc1 = nn.Linear(input_size, hidden_size) \n",
        "        self.relu = nn.ReLU()\n",
        "        self.fc2 = nn.Linear(hidden_size, num_classes)  \n",
        "    \n",
        "    def forward(self, x):\n",
        "        out = self.fc1(x)\n",
        "        out = self.relu(out)\n",
        "        out = self.fc2(out)\n",
        "        return out\n",
        "\n",
        "model = NeuralNet(input_size, hidden_size, num_classes).to(device)\n",
        "\n",
        "# Loss and optimizer\n",
        "criterion = nn.CrossEntropyLoss()\n",
        "optimizer = torch.optim.Adam(model.parameters(), lr=learning_rate)  \n",
        "\n",
        "# Train the model\n",
        "total_step = len(train_loader)\n",
        "for epoch in range(num_epochs):\n",
        "    for i, (images, labels) in enumerate(train_loader):  \n",
        "        # Move tensors to the configured device\n",
        "        images = images.reshape(-1, 28*28).to(device)\n",
        "        labels = labels.to(device)\n",
        "        \n",
        "        # Forward pass\n",
        "        outputs = model(images)\n",
        "        loss = criterion(outputs, labels)\n",
        "        \n",
        "        # Backward and optimize\n",
        "        optimizer.zero_grad()\n",
        "        loss.backward()\n",
        "        optimizer.step()\n",
        "        \n",
        "        if (i+1) % 100 == 0:\n",
        "            print ('Epoch [{}/{}], Step [{}/{}], Loss: {:.4f}' \n",
        "                   .format(epoch+1, num_epochs, i+1, total_step, loss.item()))\n",
        "\n",
        "# Test the model\n",
        "# In test phase, we don't need to compute gradients (for memory efficiency)\n",
        "with torch.no_grad():\n",
        "    correct = 0\n",
        "    total = 0\n",
        "    for images, labels in test_loader:\n",
        "        images = images.reshape(-1, 28*28).to(device)\n",
        "        labels = labels.to(device)\n",
        "        outputs = model(images)\n",
        "        _, predicted = torch.max(outputs.data, 1)\n",
        "        total += labels.size(0)\n",
        "        correct += (predicted == labels).sum().item()\n",
        "\n",
        "    print('Accuracy of the network on the 10000 test images: {} %'.format(100 * correct / total))"
      ],
      "execution_count": 12,
      "outputs": [
        {
          "output_type": "stream",
          "text": [
            "Epoch [1/5], Step [100/600], Loss: 0.2681\n",
            "Epoch [1/5], Step [200/600], Loss: 0.1744\n",
            "Epoch [1/5], Step [300/600], Loss: 0.2154\n",
            "Epoch [1/5], Step [400/600], Loss: 0.2220\n",
            "Epoch [1/5], Step [500/600], Loss: 0.1067\n",
            "Epoch [1/5], Step [600/600], Loss: 0.1851\n",
            "Epoch [2/5], Step [100/600], Loss: 0.1124\n",
            "Epoch [2/5], Step [200/600], Loss: 0.0518\n",
            "Epoch [2/5], Step [300/600], Loss: 0.1242\n",
            "Epoch [2/5], Step [400/600], Loss: 0.1344\n",
            "Epoch [2/5], Step [500/600], Loss: 0.0455\n",
            "Epoch [2/5], Step [600/600], Loss: 0.0456\n",
            "Epoch [3/5], Step [100/600], Loss: 0.0618\n",
            "Epoch [3/5], Step [200/600], Loss: 0.0628\n",
            "Epoch [3/5], Step [300/600], Loss: 0.0719\n",
            "Epoch [3/5], Step [400/600], Loss: 0.0981\n",
            "Epoch [3/5], Step [500/600], Loss: 0.0338\n",
            "Epoch [3/5], Step [600/600], Loss: 0.0751\n",
            "Epoch [4/5], Step [100/600], Loss: 0.0272\n",
            "Epoch [4/5], Step [200/600], Loss: 0.0155\n",
            "Epoch [4/5], Step [300/600], Loss: 0.0514\n",
            "Epoch [4/5], Step [400/600], Loss: 0.0644\n",
            "Epoch [4/5], Step [500/600], Loss: 0.0825\n",
            "Epoch [4/5], Step [600/600], Loss: 0.0900\n",
            "Epoch [5/5], Step [100/600], Loss: 0.0332\n",
            "Epoch [5/5], Step [200/600], Loss: 0.0371\n",
            "Epoch [5/5], Step [300/600], Loss: 0.0608\n",
            "Epoch [5/5], Step [400/600], Loss: 0.0392\n",
            "Epoch [5/5], Step [500/600], Loss: 0.0928\n",
            "Epoch [5/5], Step [600/600], Loss: 0.0392\n",
            "Accuracy of the network on the 10000 test images: 98.11 %\n"
          ],
          "name": "stdout"
        }
      ]
    },
    {
      "cell_type": "code",
      "metadata": {
        "colab": {
          "base_uri": "https://localhost:8080/"
        },
        "id": "a_mTHKuzf6CF",
        "outputId": "8bded56f-ef9c-4f00-cb4a-123e0ef4330b"
      },
      "source": [
        "class ConvNet(nn.Module):\n",
        "    def __init__(self, num_classes=10):\n",
        "        super(ConvNet, self).__init__()\n",
        "        self.layer1 = nn.Sequential(\n",
        "            nn.Conv2d(1, 16, kernel_size=5, stride=1, padding=2),\n",
        "            nn.BatchNorm2d(16),\n",
        "            nn.ReLU(),\n",
        "            nn.MaxPool2d(kernel_size=2, stride=2))\n",
        "        self.layer2 = nn.Sequential(\n",
        "            nn.Conv2d(16, 32, kernel_size=5, stride=1, padding=2),\n",
        "            nn.BatchNorm2d(32),\n",
        "            nn.ReLU(),\n",
        "            nn.MaxPool2d(kernel_size=2, stride=2))\n",
        "        self.fc = nn.Linear(7*7*32, num_classes)\n",
        "        \n",
        "    def forward(self, x):\n",
        "        out = self.layer1(x)\n",
        "        out = self.layer2(out)\n",
        "        out = out.reshape(out.size(0), -1)\n",
        "        out = self.fc(out)\n",
        "        return out\n",
        "\n",
        "model = ConvNet(num_classes).to(device)\n",
        "\n",
        "# Loss and optimizer\n",
        "criterion = nn.CrossEntropyLoss()\n",
        "optimizer = torch.optim.Adam(model.parameters(), lr=learning_rate)\n",
        "\n",
        "# Train the model\n",
        "total_step = len(train_loader)\n",
        "for epoch in range(num_epochs):\n",
        "    for i, (images, labels) in enumerate(train_loader):\n",
        "        images = images.to(device)\n",
        "        labels = labels.to(device)\n",
        "        \n",
        "        # Forward pass\n",
        "        outputs = model(images)\n",
        "        loss = criterion(outputs, labels)\n",
        "        \n",
        "        # Backward and optimize\n",
        "        optimizer.zero_grad()\n",
        "        loss.backward()\n",
        "        optimizer.step()\n",
        "        \n",
        "        if (i+1) % 100 == 0:\n",
        "            print ('Epoch [{}/{}], Step [{}/{}], Loss: {:.4f}' \n",
        "                   .format(epoch+1, num_epochs, i+1, total_step, loss.item()))\n",
        "\n",
        "# Test the model\n",
        "model.eval()  # eval mode (batchnorm uses moving mean/variance instead of mini-batch mean/variance)\n",
        "with torch.no_grad():\n",
        "    correct = 0\n",
        "    total = 0\n",
        "    for images, labels in test_loader:\n",
        "        images = images.to(device)\n",
        "        labels = labels.to(device)\n",
        "        outputs = model(images)\n",
        "        _, predicted = torch.max(outputs.data, 1)\n",
        "        total += labels.size(0)\n",
        "        correct += (predicted == labels).sum().item()\n",
        "\n",
        "    print('Test Accuracy of the model on the 10000 test images: {} %'.format(100 * correct / total))\n",
        "    "
      ],
      "execution_count": 13,
      "outputs": [
        {
          "output_type": "stream",
          "text": [
            "Epoch [1/5], Step [100/600], Loss: 0.1427\n",
            "Epoch [1/5], Step [200/600], Loss: 0.0750\n",
            "Epoch [1/5], Step [300/600], Loss: 0.0699\n",
            "Epoch [1/5], Step [400/600], Loss: 0.1148\n",
            "Epoch [1/5], Step [500/600], Loss: 0.0645\n",
            "Epoch [1/5], Step [600/600], Loss: 0.1749\n",
            "Epoch [2/5], Step [100/600], Loss: 0.0117\n",
            "Epoch [2/5], Step [200/600], Loss: 0.0344\n",
            "Epoch [2/5], Step [300/600], Loss: 0.0134\n",
            "Epoch [2/5], Step [400/600], Loss: 0.0494\n",
            "Epoch [2/5], Step [500/600], Loss: 0.0379\n",
            "Epoch [2/5], Step [600/600], Loss: 0.1414\n",
            "Epoch [3/5], Step [100/600], Loss: 0.1201\n",
            "Epoch [3/5], Step [200/600], Loss: 0.0426\n",
            "Epoch [3/5], Step [300/600], Loss: 0.0664\n",
            "Epoch [3/5], Step [400/600], Loss: 0.0194\n",
            "Epoch [3/5], Step [500/600], Loss: 0.0283\n",
            "Epoch [3/5], Step [600/600], Loss: 0.0327\n",
            "Epoch [4/5], Step [100/600], Loss: 0.0460\n",
            "Epoch [4/5], Step [200/600], Loss: 0.0803\n",
            "Epoch [4/5], Step [300/600], Loss: 0.0051\n",
            "Epoch [4/5], Step [400/600], Loss: 0.0250\n",
            "Epoch [4/5], Step [500/600], Loss: 0.0528\n",
            "Epoch [4/5], Step [600/600], Loss: 0.0131\n",
            "Epoch [5/5], Step [100/600], Loss: 0.0342\n",
            "Epoch [5/5], Step [200/600], Loss: 0.1190\n",
            "Epoch [5/5], Step [300/600], Loss: 0.0296\n",
            "Epoch [5/5], Step [400/600], Loss: 0.0204\n",
            "Epoch [5/5], Step [500/600], Loss: 0.0508\n",
            "Epoch [5/5], Step [600/600], Loss: 0.0038\n",
            "Test Accuracy of the model on the 10000 test images: 99.05 %\n"
          ],
          "name": "stdout"
        }
      ]
    }
  ]
}